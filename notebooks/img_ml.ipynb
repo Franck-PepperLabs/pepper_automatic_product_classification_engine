{
 "cells": [
  {
   "attachments": {},
   "cell_type": "markdown",
   "metadata": {},
   "source": [
    "# Partie ML sur les images\n",
    "\n",
    "On démarre sur les échantillons à 8 et 100, et avec les descripteurs OCV ORB (les plus lights).\n",
    "\n",
    "Puis on passe à l'échelle."
   ]
  },
  {
   "attachments": {},
   "cell_type": "markdown",
   "metadata": {},
   "source": [
    "## Chargement des caractéristiques"
   ]
  },
  {
   "cell_type": "code",
   "execution_count": 1,
   "metadata": {},
   "outputs": [
    {
     "data": {
      "text/html": [
       "<div>\n",
       "<style scoped>\n",
       "    .dataframe tbody tr th:only-of-type {\n",
       "        vertical-align: middle;\n",
       "    }\n",
       "\n",
       "    .dataframe tbody tr th {\n",
       "        vertical-align: top;\n",
       "    }\n",
       "\n",
       "    .dataframe thead th {\n",
       "        text-align: right;\n",
       "    }\n",
       "</style>\n",
       "<table border=\"1\" class=\"dataframe\">\n",
       "  <thead>\n",
       "    <tr style=\"text-align: right;\">\n",
       "      <th></th>\n",
       "      <th>y</th>\n",
       "      <th>x</th>\n",
       "      <th>0</th>\n",
       "      <th>1</th>\n",
       "      <th>2</th>\n",
       "      <th>3</th>\n",
       "      <th>4</th>\n",
       "      <th>5</th>\n",
       "      <th>6</th>\n",
       "      <th>7</th>\n",
       "      <th>...</th>\n",
       "      <th>118</th>\n",
       "      <th>119</th>\n",
       "      <th>120</th>\n",
       "      <th>121</th>\n",
       "      <th>122</th>\n",
       "      <th>123</th>\n",
       "      <th>124</th>\n",
       "      <th>125</th>\n",
       "      <th>126</th>\n",
       "      <th>127</th>\n",
       "    </tr>\n",
       "    <tr>\n",
       "      <th>id</th>\n",
       "      <th></th>\n",
       "      <th></th>\n",
       "      <th></th>\n",
       "      <th></th>\n",
       "      <th></th>\n",
       "      <th></th>\n",
       "      <th></th>\n",
       "      <th></th>\n",
       "      <th></th>\n",
       "      <th></th>\n",
       "      <th></th>\n",
       "      <th></th>\n",
       "      <th></th>\n",
       "      <th></th>\n",
       "      <th></th>\n",
       "      <th></th>\n",
       "      <th></th>\n",
       "      <th></th>\n",
       "      <th></th>\n",
       "      <th></th>\n",
       "      <th></th>\n",
       "    </tr>\n",
       "  </thead>\n",
       "  <tbody>\n",
       "    <tr>\n",
       "      <th>216c6c3527984be3d7ad9023d5cd9bd1</th>\n",
       "      <td>5</td>\n",
       "      <td>539</td>\n",
       "      <td>84</td>\n",
       "      <td>18</td>\n",
       "      <td>4</td>\n",
       "      <td>0</td>\n",
       "      <td>0</td>\n",
       "      <td>0</td>\n",
       "      <td>0</td>\n",
       "      <td>158</td>\n",
       "      <td>...</td>\n",
       "      <td>1</td>\n",
       "      <td>3</td>\n",
       "      <td>1</td>\n",
       "      <td>0</td>\n",
       "      <td>0</td>\n",
       "      <td>0</td>\n",
       "      <td>0</td>\n",
       "      <td>0</td>\n",
       "      <td>0</td>\n",
       "      <td>0</td>\n",
       "    </tr>\n",
       "    <tr>\n",
       "      <th>216c6c3527984be3d7ad9023d5cd9bd1</th>\n",
       "      <td>12</td>\n",
       "      <td>537</td>\n",
       "      <td>8</td>\n",
       "      <td>17</td>\n",
       "      <td>45</td>\n",
       "      <td>3</td>\n",
       "      <td>0</td>\n",
       "      <td>0</td>\n",
       "      <td>0</td>\n",
       "      <td>1</td>\n",
       "      <td>...</td>\n",
       "      <td>0</td>\n",
       "      <td>8</td>\n",
       "      <td>39</td>\n",
       "      <td>10</td>\n",
       "      <td>0</td>\n",
       "      <td>0</td>\n",
       "      <td>0</td>\n",
       "      <td>0</td>\n",
       "      <td>0</td>\n",
       "      <td>1</td>\n",
       "    </tr>\n",
       "    <tr>\n",
       "      <th>216c6c3527984be3d7ad9023d5cd9bd1</th>\n",
       "      <td>22</td>\n",
       "      <td>480</td>\n",
       "      <td>30</td>\n",
       "      <td>0</td>\n",
       "      <td>0</td>\n",
       "      <td>0</td>\n",
       "      <td>0</td>\n",
       "      <td>0</td>\n",
       "      <td>0</td>\n",
       "      <td>19</td>\n",
       "      <td>...</td>\n",
       "      <td>0</td>\n",
       "      <td>13</td>\n",
       "      <td>82</td>\n",
       "      <td>1</td>\n",
       "      <td>0</td>\n",
       "      <td>0</td>\n",
       "      <td>0</td>\n",
       "      <td>0</td>\n",
       "      <td>0</td>\n",
       "      <td>5</td>\n",
       "    </tr>\n",
       "    <tr>\n",
       "      <th>216c6c3527984be3d7ad9023d5cd9bd1</th>\n",
       "      <td>26</td>\n",
       "      <td>540</td>\n",
       "      <td>106</td>\n",
       "      <td>1</td>\n",
       "      <td>0</td>\n",
       "      <td>0</td>\n",
       "      <td>0</td>\n",
       "      <td>0</td>\n",
       "      <td>0</td>\n",
       "      <td>18</td>\n",
       "      <td>...</td>\n",
       "      <td>0</td>\n",
       "      <td>0</td>\n",
       "      <td>1</td>\n",
       "      <td>0</td>\n",
       "      <td>0</td>\n",
       "      <td>0</td>\n",
       "      <td>0</td>\n",
       "      <td>0</td>\n",
       "      <td>0</td>\n",
       "      <td>0</td>\n",
       "    </tr>\n",
       "    <tr>\n",
       "      <th>216c6c3527984be3d7ad9023d5cd9bd1</th>\n",
       "      <td>32</td>\n",
       "      <td>300</td>\n",
       "      <td>111</td>\n",
       "      <td>1</td>\n",
       "      <td>0</td>\n",
       "      <td>1</td>\n",
       "      <td>0</td>\n",
       "      <td>0</td>\n",
       "      <td>0</td>\n",
       "      <td>40</td>\n",
       "      <td>...</td>\n",
       "      <td>0</td>\n",
       "      <td>1</td>\n",
       "      <td>3</td>\n",
       "      <td>0</td>\n",
       "      <td>0</td>\n",
       "      <td>0</td>\n",
       "      <td>0</td>\n",
       "      <td>0</td>\n",
       "      <td>0</td>\n",
       "      <td>1</td>\n",
       "    </tr>\n",
       "    <tr>\n",
       "      <th>...</th>\n",
       "      <td>...</td>\n",
       "      <td>...</td>\n",
       "      <td>...</td>\n",
       "      <td>...</td>\n",
       "      <td>...</td>\n",
       "      <td>...</td>\n",
       "      <td>...</td>\n",
       "      <td>...</td>\n",
       "      <td>...</td>\n",
       "      <td>...</td>\n",
       "      <td>...</td>\n",
       "      <td>...</td>\n",
       "      <td>...</td>\n",
       "      <td>...</td>\n",
       "      <td>...</td>\n",
       "      <td>...</td>\n",
       "      <td>...</td>\n",
       "      <td>...</td>\n",
       "      <td>...</td>\n",
       "      <td>...</td>\n",
       "      <td>...</td>\n",
       "    </tr>\n",
       "    <tr>\n",
       "      <th>c705a5735a94aeee547d1798e3e46ec4</th>\n",
       "      <td>832</td>\n",
       "      <td>559</td>\n",
       "      <td>0</td>\n",
       "      <td>0</td>\n",
       "      <td>0</td>\n",
       "      <td>4</td>\n",
       "      <td>25</td>\n",
       "      <td>29</td>\n",
       "      <td>5</td>\n",
       "      <td>0</td>\n",
       "      <td>...</td>\n",
       "      <td>122</td>\n",
       "      <td>86</td>\n",
       "      <td>0</td>\n",
       "      <td>0</td>\n",
       "      <td>14</td>\n",
       "      <td>4</td>\n",
       "      <td>0</td>\n",
       "      <td>1</td>\n",
       "      <td>104</td>\n",
       "      <td>74</td>\n",
       "    </tr>\n",
       "    <tr>\n",
       "      <th>c705a5735a94aeee547d1798e3e46ec4</th>\n",
       "      <td>903</td>\n",
       "      <td>505</td>\n",
       "      <td>1</td>\n",
       "      <td>0</td>\n",
       "      <td>0</td>\n",
       "      <td>0</td>\n",
       "      <td>7</td>\n",
       "      <td>127</td>\n",
       "      <td>87</td>\n",
       "      <td>2</td>\n",
       "      <td>...</td>\n",
       "      <td>8</td>\n",
       "      <td>20</td>\n",
       "      <td>39</td>\n",
       "      <td>18</td>\n",
       "      <td>11</td>\n",
       "      <td>0</td>\n",
       "      <td>0</td>\n",
       "      <td>0</td>\n",
       "      <td>5</td>\n",
       "      <td>29</td>\n",
       "    </tr>\n",
       "    <tr>\n",
       "      <th>c705a5735a94aeee547d1798e3e46ec4</th>\n",
       "      <td>903</td>\n",
       "      <td>505</td>\n",
       "      <td>1</td>\n",
       "      <td>0</td>\n",
       "      <td>0</td>\n",
       "      <td>0</td>\n",
       "      <td>7</td>\n",
       "      <td>127</td>\n",
       "      <td>87</td>\n",
       "      <td>2</td>\n",
       "      <td>...</td>\n",
       "      <td>8</td>\n",
       "      <td>20</td>\n",
       "      <td>39</td>\n",
       "      <td>18</td>\n",
       "      <td>11</td>\n",
       "      <td>0</td>\n",
       "      <td>0</td>\n",
       "      <td>0</td>\n",
       "      <td>5</td>\n",
       "      <td>29</td>\n",
       "    </tr>\n",
       "    <tr>\n",
       "      <th>c705a5735a94aeee547d1798e3e46ec4</th>\n",
       "      <td>792</td>\n",
       "      <td>222</td>\n",
       "      <td>55</td>\n",
       "      <td>2</td>\n",
       "      <td>6</td>\n",
       "      <td>7</td>\n",
       "      <td>4</td>\n",
       "      <td>3</td>\n",
       "      <td>5</td>\n",
       "      <td>27</td>\n",
       "      <td>...</td>\n",
       "      <td>44</td>\n",
       "      <td>133</td>\n",
       "      <td>133</td>\n",
       "      <td>26</td>\n",
       "      <td>0</td>\n",
       "      <td>0</td>\n",
       "      <td>0</td>\n",
       "      <td>8</td>\n",
       "      <td>21</td>\n",
       "      <td>81</td>\n",
       "    </tr>\n",
       "    <tr>\n",
       "      <th>c705a5735a94aeee547d1798e3e46ec4</th>\n",
       "      <td>951</td>\n",
       "      <td>444</td>\n",
       "      <td>0</td>\n",
       "      <td>0</td>\n",
       "      <td>0</td>\n",
       "      <td>0</td>\n",
       "      <td>0</td>\n",
       "      <td>0</td>\n",
       "      <td>0</td>\n",
       "      <td>0</td>\n",
       "      <td>...</td>\n",
       "      <td>0</td>\n",
       "      <td>1</td>\n",
       "      <td>3</td>\n",
       "      <td>15</td>\n",
       "      <td>31</td>\n",
       "      <td>44</td>\n",
       "      <td>3</td>\n",
       "      <td>0</td>\n",
       "      <td>0</td>\n",
       "      <td>0</td>\n",
       "    </tr>\n",
       "  </tbody>\n",
       "</table>\n",
       "<p>15547 rows × 130 columns</p>\n",
       "</div>"
      ],
      "text/plain": [
       "                                    y    x    0   1   2  3   4    5   6    7  \\\n",
       "id                                                                             \n",
       "216c6c3527984be3d7ad9023d5cd9bd1    5  539   84  18   4  0   0    0   0  158   \n",
       "216c6c3527984be3d7ad9023d5cd9bd1   12  537    8  17  45  3   0    0   0    1   \n",
       "216c6c3527984be3d7ad9023d5cd9bd1   22  480   30   0   0  0   0    0   0   19   \n",
       "216c6c3527984be3d7ad9023d5cd9bd1   26  540  106   1   0  0   0    0   0   18   \n",
       "216c6c3527984be3d7ad9023d5cd9bd1   32  300  111   1   0  1   0    0   0   40   \n",
       "...                               ...  ...  ...  ..  .. ..  ..  ...  ..  ...   \n",
       "c705a5735a94aeee547d1798e3e46ec4  832  559    0   0   0  4  25   29   5    0   \n",
       "c705a5735a94aeee547d1798e3e46ec4  903  505    1   0   0  0   7  127  87    2   \n",
       "c705a5735a94aeee547d1798e3e46ec4  903  505    1   0   0  0   7  127  87    2   \n",
       "c705a5735a94aeee547d1798e3e46ec4  792  222   55   2   6  7   4    3   5   27   \n",
       "c705a5735a94aeee547d1798e3e46ec4  951  444    0   0   0  0   0    0   0    0   \n",
       "\n",
       "                                  ...  118  119  120 121 122 123 124 125  126  \\\n",
       "id                                ...                                           \n",
       "216c6c3527984be3d7ad9023d5cd9bd1  ...    1    3    1   0   0   0   0   0    0   \n",
       "216c6c3527984be3d7ad9023d5cd9bd1  ...    0    8   39  10   0   0   0   0    0   \n",
       "216c6c3527984be3d7ad9023d5cd9bd1  ...    0   13   82   1   0   0   0   0    0   \n",
       "216c6c3527984be3d7ad9023d5cd9bd1  ...    0    0    1   0   0   0   0   0    0   \n",
       "216c6c3527984be3d7ad9023d5cd9bd1  ...    0    1    3   0   0   0   0   0    0   \n",
       "...                               ...  ...  ...  ...  ..  ..  ..  ..  ..  ...   \n",
       "c705a5735a94aeee547d1798e3e46ec4  ...  122   86    0   0  14   4   0   1  104   \n",
       "c705a5735a94aeee547d1798e3e46ec4  ...    8   20   39  18  11   0   0   0    5   \n",
       "c705a5735a94aeee547d1798e3e46ec4  ...    8   20   39  18  11   0   0   0    5   \n",
       "c705a5735a94aeee547d1798e3e46ec4  ...   44  133  133  26   0   0   0   8   21   \n",
       "c705a5735a94aeee547d1798e3e46ec4  ...    0    1    3  15  31  44   3   0    0   \n",
       "\n",
       "                                 127  \n",
       "id                                    \n",
       "216c6c3527984be3d7ad9023d5cd9bd1   0  \n",
       "216c6c3527984be3d7ad9023d5cd9bd1   1  \n",
       "216c6c3527984be3d7ad9023d5cd9bd1   5  \n",
       "216c6c3527984be3d7ad9023d5cd9bd1   0  \n",
       "216c6c3527984be3d7ad9023d5cd9bd1   1  \n",
       "...                               ..  \n",
       "c705a5735a94aeee547d1798e3e46ec4  74  \n",
       "c705a5735a94aeee547d1798e3e46ec4  29  \n",
       "c705a5735a94aeee547d1798e3e46ec4  29  \n",
       "c705a5735a94aeee547d1798e3e46ec4  81  \n",
       "c705a5735a94aeee547d1798e3e46ec4   0  \n",
       "\n",
       "[15547 rows x 130 columns]"
      ]
     },
     "metadata": {},
     "output_type": "display_data"
    }
   ],
   "source": [
    "# Chargement du fichier parquet\n",
    "from img_processing import load_desc_data, get_sample_8_dir\n",
    "features_dir = get_sample_8_dir(\"_img_features/\")\n",
    "dataname = \"x_sift_descs\"  #\"equ_rsz_gray_ocv_orb_descs\"\n",
    "data = load_desc_data(dataname, features_dir)\n",
    "display(data)\n",
    "kpts = data.iloc[:, :2].values\n",
    "descs = data.iloc[:, 2:].values"
   ]
  },
  {
   "attachments": {},
   "cell_type": "markdown",
   "metadata": {},
   "source": [
    "## Création des clusters de descripteurs\n",
    "\n",
    "* Utilisation de `MiniBatchKMeans` pour obtenir des temps de traitement raisonnables"
   ]
  },
  {
   "attachments": {},
   "cell_type": "markdown",
   "metadata": {},
   "source": [
    "### Estimation du nombre de clusters"
   ]
  },
  {
   "attachments": {},
   "cell_type": "markdown",
   "metadata": {},
   "source": [
    "#### Selon le séminaire OC"
   ]
  },
  {
   "cell_type": "code",
   "execution_count": 2,
   "metadata": {},
   "outputs": [
    {
     "name": "stdout",
     "output_type": "stream",
     "text": [
      "Nombre de clusters estimés :  125\n"
     ]
    }
   ],
   "source": [
    "import numpy as np\n",
    "k = int(round(np.sqrt(data.shape[0]), 0))\n",
    "print(\"Nombre de clusters estimés : \", k)"
   ]
  },
  {
   "attachments": {},
   "cell_type": "markdown",
   "metadata": {},
   "source": [
    "#### Inertia"
   ]
  },
  {
   "cell_type": "code",
   "execution_count": 6,
   "metadata": {},
   "outputs": [
    {
     "data": {
      "image/png": "[encoded data removed]",
      "text/plain": [
       "<Figure size 640x480 with 1 Axes>"
      ]
     },
     "metadata": {},
     "output_type": "display_data"
    },
    {
     "data": {
      "image/png": "[encoded data removed]",
      "text/plain": [
       "<Figure size 640x480 with 1 Axes>"
      ]
     },
     "metadata": {},
     "output_type": "display_data"
    }
   ],
   "source": [
    "from img_ml import select_k_with_anova\n",
    "\n",
    "select_k_with_anova(data, k_min=2, k_max=150)\n",
    "select_k_with_anova(data, k_min=2, k_max=150, normalize=True)"
   ]
  },
  {
   "attachments": {},
   "cell_type": "markdown",
   "metadata": {},
   "source": [
    "#### Silhouette"
   ]
  },
  {
   "cell_type": "code",
   "execution_count": null,
   "metadata": {},
   "outputs": [],
   "source": [
    "from img_ml import select_k_with_anova\n",
    "select_k_with_anova(descs, k_min=2, k_max=150, metric='silhouette', color='green')\n",
    "select_k_with_anova(descs, k_min=2, k_max=150, metric='silhouette', color='green', normalize=True)"
   ]
  },
  {
   "attachments": {},
   "cell_type": "markdown",
   "metadata": {},
   "source": [
    "#### Davis-Bouldin"
   ]
  },
  {
   "cell_type": "code",
   "execution_count": 4,
   "metadata": {},
   "outputs": [
    {
     "ename": "MemoryError",
     "evalue": "Unable to allocate 15.2 MiB for an array with shape (15547, 128) and data type float64",
     "output_type": "error",
     "traceback": [
      "\u001b[1;31m---------------------------------------------------------------------------\u001b[0m",
      "\u001b[1;31mMemoryError\u001b[0m                               Traceback (most recent call last)",
      "Cell \u001b[1;32mIn[4], line 2\u001b[0m\n\u001b[0;32m      1\u001b[0m \u001b[39mfrom\u001b[39;00m \u001b[39mimg_ml\u001b[39;00m \u001b[39mimport\u001b[39;00m select_k_with_davies_bouldin\n\u001b[1;32m----> 2\u001b[0m select_k_with_davies_bouldin(descs, normalize\u001b[39m=\u001b[39;49m\u001b[39mTrue\u001b[39;49;00m, k_min\u001b[39m=\u001b[39;49m\u001b[39m2\u001b[39;49m, k_max\u001b[39m=\u001b[39;49m\u001b[39m1_000\u001b[39;49m)\n",
      "File \u001b[1;32mc:\\Users\\franc\\Projects\\pepper_automatic_product_classification_engine\\notebooks\\img_ml.py:160\u001b[0m, in \u001b[0;36mselect_k_with_davies_bouldin\u001b[1;34m(crfm, normalize, k_min, k_max)\u001b[0m\n\u001b[0;32m    158\u001b[0m \u001b[39mfor\u001b[39;00m k \u001b[39min\u001b[39;00m k_values:\n\u001b[0;32m    159\u001b[0m     kmeans \u001b[39m=\u001b[39m KMeans(n_clusters\u001b[39m=\u001b[39mk, n_init\u001b[39m=\u001b[39m\u001b[39m'\u001b[39m\u001b[39mauto\u001b[39m\u001b[39m'\u001b[39m, random_state\u001b[39m=\u001b[39m\u001b[39m42\u001b[39m)\n\u001b[1;32m--> 160\u001b[0m     kmeans\u001b[39m.\u001b[39;49mfit(crfm)\n\u001b[0;32m    161\u001b[0m     scores\u001b[39m.\u001b[39mappend(davies_bouldin_score(crfm, kmeans\u001b[39m.\u001b[39mlabels_))\n\u001b[0;32m    163\u001b[0m \u001b[39m# Sort the scores in descending order\u001b[39;00m\n",
      "File \u001b[1;32m~\\AppData\\Local\\Packages\\PythonSoftwareFoundation.Python.3.10_qbz5n2kfra8p0\\LocalCache\\local-packages\\Python310\\site-packages\\sklearn\\cluster\\_kmeans.py:1426\u001b[0m, in \u001b[0;36mKMeans.fit\u001b[1;34m(self, X, y, sample_weight)\u001b[0m\n\u001b[0;32m   1415\u001b[0m \u001b[39mself\u001b[39m\u001b[39m.\u001b[39m_validate_params()\n\u001b[0;32m   1417\u001b[0m X \u001b[39m=\u001b[39m \u001b[39mself\u001b[39m\u001b[39m.\u001b[39m_validate_data(\n\u001b[0;32m   1418\u001b[0m     X,\n\u001b[0;32m   1419\u001b[0m     accept_sparse\u001b[39m=\u001b[39m\u001b[39m\"\u001b[39m\u001b[39mcsr\u001b[39m\u001b[39m\"\u001b[39m,\n\u001b[1;32m   (...)\u001b[0m\n\u001b[0;32m   1423\u001b[0m     accept_large_sparse\u001b[39m=\u001b[39m\u001b[39mFalse\u001b[39;00m,\n\u001b[0;32m   1424\u001b[0m )\n\u001b[1;32m-> 1426\u001b[0m \u001b[39mself\u001b[39;49m\u001b[39m.\u001b[39;49m_check_params_vs_input(X)\n\u001b[0;32m   1428\u001b[0m random_state \u001b[39m=\u001b[39m check_random_state(\u001b[39mself\u001b[39m\u001b[39m.\u001b[39mrandom_state)\n\u001b[0;32m   1429\u001b[0m sample_weight \u001b[39m=\u001b[39m _check_sample_weight(sample_weight, X, dtype\u001b[39m=\u001b[39mX\u001b[39m.\u001b[39mdtype)\n",
      "File \u001b[1;32m~\\AppData\\Local\\Packages\\PythonSoftwareFoundation.Python.3.10_qbz5n2kfra8p0\\LocalCache\\local-packages\\Python310\\site-packages\\sklearn\\cluster\\_kmeans.py:1362\u001b[0m, in \u001b[0;36mKMeans._check_params_vs_input\u001b[1;34m(self, X)\u001b[0m\n\u001b[0;32m   1361\u001b[0m \u001b[39mdef\u001b[39;00m \u001b[39m_check_params_vs_input\u001b[39m(\u001b[39mself\u001b[39m, X):\n\u001b[1;32m-> 1362\u001b[0m     \u001b[39msuper\u001b[39;49m()\u001b[39m.\u001b[39;49m_check_params_vs_input(X, default_n_init\u001b[39m=\u001b[39;49m\u001b[39m10\u001b[39;49m)\n\u001b[0;32m   1364\u001b[0m     \u001b[39mself\u001b[39m\u001b[39m.\u001b[39m_algorithm \u001b[39m=\u001b[39m \u001b[39mself\u001b[39m\u001b[39m.\u001b[39malgorithm\n\u001b[0;32m   1365\u001b[0m     \u001b[39mif\u001b[39;00m \u001b[39mself\u001b[39m\u001b[39m.\u001b[39m_algorithm \u001b[39min\u001b[39;00m (\u001b[39m\"\u001b[39m\u001b[39mauto\u001b[39m\u001b[39m\"\u001b[39m, \u001b[39m\"\u001b[39m\u001b[39mfull\u001b[39m\u001b[39m\"\u001b[39m):\n",
      "File \u001b[1;32m~\\AppData\\Local\\Packages\\PythonSoftwareFoundation.Python.3.10_qbz5n2kfra8p0\\LocalCache\\local-packages\\Python310\\site-packages\\sklearn\\cluster\\_kmeans.py:864\u001b[0m, in \u001b[0;36m_BaseKMeans._check_params_vs_input\u001b[1;34m(self, X, default_n_init)\u001b[0m\n\u001b[0;32m    859\u001b[0m     \u001b[39mraise\u001b[39;00m \u001b[39mValueError\u001b[39;00m(\n\u001b[0;32m    860\u001b[0m         \u001b[39mf\u001b[39m\u001b[39m\"\u001b[39m\u001b[39mn_samples=\u001b[39m\u001b[39m{\u001b[39;00mX\u001b[39m.\u001b[39mshape[\u001b[39m0\u001b[39m]\u001b[39m}\u001b[39;00m\u001b[39m should be >= n_clusters=\u001b[39m\u001b[39m{\u001b[39;00m\u001b[39mself\u001b[39m\u001b[39m.\u001b[39mn_clusters\u001b[39m}\u001b[39;00m\u001b[39m.\u001b[39m\u001b[39m\"\u001b[39m\n\u001b[0;32m    861\u001b[0m     )\n\u001b[0;32m    863\u001b[0m \u001b[39m# tol\u001b[39;00m\n\u001b[1;32m--> 864\u001b[0m \u001b[39mself\u001b[39m\u001b[39m.\u001b[39m_tol \u001b[39m=\u001b[39m _tolerance(X, \u001b[39mself\u001b[39;49m\u001b[39m.\u001b[39;49mtol)\n\u001b[0;32m    866\u001b[0m \u001b[39m# n-init\u001b[39;00m\n\u001b[0;32m    867\u001b[0m \u001b[39m# TODO(1.4): Remove\u001b[39;00m\n\u001b[0;32m    868\u001b[0m \u001b[39mself\u001b[39m\u001b[39m.\u001b[39m_n_init \u001b[39m=\u001b[39m \u001b[39mself\u001b[39m\u001b[39m.\u001b[39mn_init\n",
      "File \u001b[1;32m~\\AppData\\Local\\Packages\\PythonSoftwareFoundation.Python.3.10_qbz5n2kfra8p0\\LocalCache\\local-packages\\Python310\\site-packages\\sklearn\\cluster\\_kmeans.py:269\u001b[0m, in \u001b[0;36m_tolerance\u001b[1;34m(X, tol)\u001b[0m\n\u001b[0;32m    267\u001b[0m     variances \u001b[39m=\u001b[39m mean_variance_axis(X, axis\u001b[39m=\u001b[39m\u001b[39m0\u001b[39m)[\u001b[39m1\u001b[39m]\n\u001b[0;32m    268\u001b[0m \u001b[39melse\u001b[39;00m:\n\u001b[1;32m--> 269\u001b[0m     variances \u001b[39m=\u001b[39m np\u001b[39m.\u001b[39;49mvar(X, axis\u001b[39m=\u001b[39;49m\u001b[39m0\u001b[39;49m)\n\u001b[0;32m    270\u001b[0m \u001b[39mreturn\u001b[39;00m np\u001b[39m.\u001b[39mmean(variances) \u001b[39m*\u001b[39m tol\n",
      "File \u001b[1;32m<__array_function__ internals>:180\u001b[0m, in \u001b[0;36mvar\u001b[1;34m(*args, **kwargs)\u001b[0m\n",
      "File \u001b[1;32m~\\AppData\\Local\\Packages\\PythonSoftwareFoundation.Python.3.10_qbz5n2kfra8p0\\LocalCache\\local-packages\\Python310\\site-packages\\numpy\\core\\fromnumeric.py:3715\u001b[0m, in \u001b[0;36mvar\u001b[1;34m(a, axis, dtype, out, ddof, keepdims, where)\u001b[0m\n\u001b[0;32m   3712\u001b[0m     \u001b[39melse\u001b[39;00m:\n\u001b[0;32m   3713\u001b[0m         \u001b[39mreturn\u001b[39;00m var(axis\u001b[39m=\u001b[39maxis, dtype\u001b[39m=\u001b[39mdtype, out\u001b[39m=\u001b[39mout, ddof\u001b[39m=\u001b[39mddof, \u001b[39m*\u001b[39m\u001b[39m*\u001b[39mkwargs)\n\u001b[1;32m-> 3715\u001b[0m \u001b[39mreturn\u001b[39;00m _methods\u001b[39m.\u001b[39m_var(a, axis\u001b[39m=\u001b[39maxis, dtype\u001b[39m=\u001b[39mdtype, out\u001b[39m=\u001b[39mout, ddof\u001b[39m=\u001b[39mddof,\n\u001b[0;32m   3716\u001b[0m                      \u001b[39m*\u001b[39m\u001b[39m*\u001b[39mkwargs)\n",
      "File \u001b[1;32m~\\AppData\\Local\\Packages\\PythonSoftwareFoundation.Python.3.10_qbz5n2kfra8p0\\LocalCache\\local-packages\\Python310\\site-packages\\numpy\\core\\_methods.py:233\u001b[0m, in \u001b[0;36m_var\u001b[1;34m(a, axis, dtype, out, ddof, keepdims, where)\u001b[0m\n\u001b[0;32m    228\u001b[0m     arrmean \u001b[39m=\u001b[39m arrmean \u001b[39m/\u001b[39m rcount\n\u001b[0;32m    230\u001b[0m \u001b[39m# Compute sum of squared deviations from mean\u001b[39;00m\n\u001b[0;32m    231\u001b[0m \u001b[39m# Note that x may not be inexact and that we need it to be an array,\u001b[39;00m\n\u001b[0;32m    232\u001b[0m \u001b[39m# not a scalar.\u001b[39;00m\n\u001b[1;32m--> 233\u001b[0m x \u001b[39m=\u001b[39m asanyarray(arr \u001b[39m-\u001b[39;49m arrmean)\n\u001b[0;32m    235\u001b[0m \u001b[39mif\u001b[39;00m \u001b[39missubclass\u001b[39m(arr\u001b[39m.\u001b[39mdtype\u001b[39m.\u001b[39mtype, (nt\u001b[39m.\u001b[39mfloating, nt\u001b[39m.\u001b[39minteger)):\n\u001b[0;32m    236\u001b[0m     x \u001b[39m=\u001b[39m um\u001b[39m.\u001b[39mmultiply(x, x, out\u001b[39m=\u001b[39mx)\n",
      "\u001b[1;31mMemoryError\u001b[0m: Unable to allocate 15.2 MiB for an array with shape (15547, 128) and data type float64"
     ]
    }
   ],
   "source": [
    "from img_ml import select_k_with_davies_bouldin\n",
    "select_k_with_davies_bouldin(descs, normalize=True, k_min=2, k_max=1_000)"
   ]
  },
  {
   "attachments": {},
   "cell_type": "markdown",
   "metadata": {},
   "source": [
    "### Clusters de descripteurs"
   ]
  },
  {
   "cell_type": "code",
   "execution_count": 6,
   "metadata": {},
   "outputs": [
    {
     "name": "stdout",
     "output_type": "stream",
     "text": [
      "Nombre de clusters estimés :  125\n",
      "Création de 125 clusters de descripteurs ...\n"
     ]
    },
    {
     "data": {
      "text/plain": [
       "'# Clustering\\nkmeans = cluster.MiniBatchKMeans(n_clusters=k, init_size=3*k, random_state=0)\\nkmeans.fit(sift_keypoints_all)\\n\\ndt = time.time() - t\\nprint(\"temps de traitement kmeans : {dt:15.2f} secondes\")'"
      ]
     },
     "execution_count": 6,
     "metadata": {},
     "output_type": "execute_result"
    }
   ],
   "source": [
    "import time\n",
    "from sklearn import cluster, metrics\n",
    "\n",
    "# Determination number of clusters\n",
    "t = time.time()\n",
    "\n",
    "print(f\"Création de {k} clusters de descripteurs ...\")\n",
    "\n",
    "# Clustering\n",
    "kmeans = cluster.MiniBatchKMeans(n_clusters=k, init_size=3*k, n_init='auto', random_state=42)\n",
    "kmeans.fit(descs)\n",
    "\n",
    "dt = time.time() - t\n",
    "print(f\"temps de traitement kmeans : {dt:15.2f} secondes\")"
   ]
  },
  {
   "cell_type": "markdown",
   "metadata": {},
   "source": [
    "### Création des features des images\n",
    "\n",
    "* Pour chaque image : \n",
    "   - prédiction des numéros de cluster de chaque descripteur\n",
    "   - création d'un histogramme = comptage pour chaque numéro de cluster du nombre de descripteurs de l'image"
   ]
  },
  {
   "cell_type": "markdown",
   "metadata": {},
   "source": [
    "Features d'une image = Histogramme d'une image = Comptage pour une image du nombre de descripteurs par cluster"
   ]
  },
  {
   "cell_type": "markdown",
   "metadata": {},
   "source": [
    "Je ne suis pas bien certain d'avoir compris, par manque de commentaires et cf. la logique..\n",
    "\n",
    "D'abord, on fait de la prédiction partant de la base d'apprentissage... hum.. discutable. On aurait pu conserver l'association image / descripteurs, et disposer directement du mappage et s'éviter de refaire des prédictions inutiles."
   ]
  },
  {
   "cell_type": "code",
   "execution_count": null,
   "metadata": {},
   "outputs": [
    {
     "name": "stdout",
     "output_type": "stream",
     "text": [
      "0\n",
      "100\n",
      "200\n",
      "300\n",
      "temps de création histogrammes :             0.95 secondes\n"
     ]
    }
   ],
   "source": [
    "# Creation of histograms (features)\n",
    "temps1 = time.time()\n",
    "\n",
    "def build_histogram(kmeans, des, image_num):\n",
    "    res = kmeans.predict(des)\n",
    "    hist = np.zeros(len(kmeans.cluster_centers_))\n",
    "    nb_des = len(des)\n",
    "    if nb_des == 0 :\n",
    "        print(\"problème histogramme image  : \", image_num)\n",
    "    for i in res:\n",
    "        hist[i] += 1.0 / nb_des\n",
    "    return hist\n",
    "\n",
    "\n",
    "# Creation of a matrix of histograms\n",
    "hist_vectors = []\n",
    "\n",
    "for i, image_desc in enumerate(sift_keypoints_by_img) :\n",
    "    if i % 100 == 0 :\n",
    "        print(i)  \n",
    "    hist = build_histogram(kmeans, image_desc, i)  # calculates the histogram\n",
    "    hist_vectors.append(hist)  # histogram is the feature vector\n",
    "\n",
    "im_features = np.asarray(hist_vectors)\n",
    "\n",
    "duration1 = time.time() - temps1\n",
    "print(\"temps de création histogrammes : \", \"%15.2f\" % duration1, \"secondes\")"
   ]
  },
  {
   "attachments": {},
   "cell_type": "markdown",
   "metadata": {},
   "source": [
    "## Réduction dimensionnelle\n",
    "\n"
   ]
  }
 ],
 "metadata": {
  "kernelspec": {
   "display_name": "Python 3",
   "language": "python",
   "name": "python3"
  },
  "language_info": {
   "codemirror_mode": {
    "name": "ipython",
    "version": 3
   },
   "file_extension": ".py",
   "mimetype": "text/x-python",
   "name": "python",
   "nbconvert_exporter": "python",
   "pygments_lexer": "ipython3",
   "version": "3.10.10"
  },
  "orig_nbformat": 4
 },
 "nbformat": 4,
 "nbformat_minor": 2
}
