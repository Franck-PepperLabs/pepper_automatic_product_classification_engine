{
 "cells": [
  {
   "attachments": {},
   "cell_type": "markdown",
   "metadata": {},
   "source": [
    "# Partie ML sur les images\n",
    "\n",
    "On démarre sur les échantillons à 8 et 100, et avec les descripteurs OCV ORB (les plus lights).\n",
    "\n",
    "Puis on passe à l'échelle."
   ]
  },
  {
   "attachments": {},
   "cell_type": "markdown",
   "metadata": {},
   "source": [
    "## Chargement des caractéristiques"
   ]
  },
  {
   "attachments": {},
   "cell_type": "markdown",
   "metadata": {},
   "source": [
    "### Echantillon de 8"
   ]
  },
  {
   "attachments": {},
   "cell_type": "markdown",
   "metadata": {},
   "source": [
    "#### SKI SIFT"
   ]
  },
  {
   "cell_type": "code",
   "execution_count": 3,
   "metadata": {},
   "outputs": [
    {
     "name": "stdout",
     "output_type": "stream",
     "text": [
      "rsz_gray_ski_sift_descs file size: 1.977 MiB\n",
      "rsz_gray_ski_sift_descs loaded\n",
      "from ../tmp/preproc_images/sample_8/_img_features/\n",
      "in 292 ms, 947 mus\n",
      "shape: (15547, 130)\n",
      "mem_usage : 15.538 MiB\n",
      "__sizeof__: 114.22 MiB\n"
     ]
    }
   ],
   "source": [
    "# Chargement du fichier parquet\n",
    "from img_processing import get_sample_8_dir\n",
    "from img_ml import ml_load_desc_data\n",
    "data_name = \"rsz_gray_ski_sift_descs\"\n",
    "sub_dir = \"_img_features/\"\n",
    "kpts, descs, data = ml_load_desc_data(get_sample_8_dir, sub_dir, data_name)"
   ]
  },
  {
   "attachments": {},
   "cell_type": "markdown",
   "metadata": {},
   "source": [
    "#### SKI ORB"
   ]
  },
  {
   "cell_type": "code",
   "execution_count": 4,
   "metadata": {},
   "outputs": [
    {
     "name": "stdout",
     "output_type": "stream",
     "text": [
      "rsz_gray_ski_orb_descs file size: 308.486 KiB\n",
      "rsz_gray_ski_orb_descs loaded\n",
      "from ../tmp/preproc_images/sample_8/_img_features/\n",
      "in 122 ms, 901 mus\n",
      "shape: (4000, 258)\n",
      "mem_usage : 7.904 MiB\n",
      "__sizeof__: 60.892 MiB\n"
     ]
    }
   ],
   "source": [
    "# Chargement du fichier parquet\n",
    "from img_processing import get_sample_8_dir\n",
    "from img_ml import ml_load_desc_data\n",
    "data_name = \"rsz_gray_ski_orb_descs\"\n",
    "sub_dir = \"_img_features/\"\n",
    "kpts, descs, data = ml_load_desc_data(get_sample_8_dir, sub_dir, data_name)"
   ]
  },
  {
   "attachments": {},
   "cell_type": "markdown",
   "metadata": {},
   "source": [
    "#### OCV SIFT"
   ]
  },
  {
   "cell_type": "code",
   "execution_count": 5,
   "metadata": {},
   "outputs": [
    {
     "name": "stdout",
     "output_type": "stream",
     "text": [
      "rsz_gray_ocv_sift_descs file size: 1.949 MiB\n",
      "rsz_gray_ocv_sift_descs loaded\n",
      "from ../tmp/preproc_images/sample_8/_img_features/\n",
      "in 67 ms, 692 mus\n",
      "shape: (13680, 130)\n",
      "mem_usage : 13.672 MiB\n",
      "__sizeof__: 14.729 MiB\n"
     ]
    }
   ],
   "source": [
    "# Chargement du fichier parquet\n",
    "from img_processing import get_sample_8_dir\n",
    "from img_ml import ml_load_desc_data\n",
    "data_name = \"rsz_gray_ocv_sift_descs\"\n",
    "sub_dir = \"_img_features/\"\n",
    "kpts, descs, data = ml_load_desc_data(get_sample_8_dir, sub_dir, data_name)"
   ]
  },
  {
   "attachments": {},
   "cell_type": "markdown",
   "metadata": {},
   "source": [
    "#### OCV ORB"
   ]
  },
  {
   "cell_type": "code",
   "execution_count": 6,
   "metadata": {},
   "outputs": [
    {
     "name": "stdout",
     "output_type": "stream",
     "text": [
      "rsz_gray_ocv_orb_descs file size: 211.936 KiB\n",
      "rsz_gray_ocv_orb_descs loaded\n",
      "from ../tmp/preproc_images/sample_8/_img_features/\n",
      "in 24 ms, 573 mus\n",
      "shape: (3994, 34)\n",
      "mem_usage : 1.067 MiB\n",
      "__sizeof__: 1.375 MiB\n"
     ]
    }
   ],
   "source": [
    "# Chargement du fichier parquet\n",
    "from img_processing import get_sample_8_dir\n",
    "from img_ml import ml_load_desc_data\n",
    "data_name = \"rsz_gray_ocv_orb_descs\"\n",
    "sub_dir = \"_img_features/\"\n",
    "kpts, descs, data = ml_load_desc_data(get_sample_8_dir, sub_dir, data_name)"
   ]
  },
  {
   "attachments": {},
   "cell_type": "markdown",
   "metadata": {},
   "source": [
    "### Echantillon de 100"
   ]
  },
  {
   "cell_type": "code",
   "execution_count": 7,
   "metadata": {},
   "outputs": [
    {
     "name": "stdout",
     "output_type": "stream",
     "text": [
      "rsz_gray_ski_sift_descs file size: 22.307 MiB\n",
      "rsz_gray_ski_sift_descs loaded\n",
      "from ../tmp/preproc_images/sample_100/_img_features/\n",
      "in 1 s, 752 ms, 599 mus\n",
      "shape: (187567, 130)\n",
      "mem_usage : 187.464 MiB\n",
      "__sizeof__: 1.347 GiB\n"
     ]
    }
   ],
   "source": [
    "# Chargement du fichier parquet\n",
    "from img_processing import get_sample_100_dir\n",
    "from img_ml import ml_load_desc_data\n",
    "data_name = \"rsz_gray_ski_sift_descs\"\n",
    "sub_dir = \"_img_features/\"\n",
    "kpts, descs, data = ml_load_desc_data(get_sample_100_dir, sub_dir, data_name)"
   ]
  },
  {
   "attachments": {},
   "cell_type": "markdown",
   "metadata": {},
   "source": [
    "### Jeu complet de 1050\n",
    "\n",
    "Là, il faut charger $n$ fichiers depuis un même dossier et réassembler (ou non, en un unique dataframe).\n",
    "\n",
    "Le faire ne serait pas intelligent compte tenu de la suite de la chaîne qui consiste à synthétiser les caractéristiques d'images à l'aide d'un histogramme des fréquences d'appartenance aux clusters.\n",
    "\n",
    "En outre, pour la détermination des clusters, c'est l'occasion de tester une approche en ligne (apprentissage séquentiel, par lots successifs)."
   ]
  },
  {
   "cell_type": "code",
   "execution_count": 1,
   "metadata": {},
   "outputs": [
    {
     "name": "stdout",
     "output_type": "stream",
     "text": [
      "rsz_gray_ski_sift_descs_0 file size: 37.87 MiB\n",
      "rsz_gray_ski_sift_descs_0 loaded\n",
      "from ../tmp/preproc_images/all_1050/_img_features/rsz_gray_ski_sift_descs/\n",
      "in 2 s, 601 ms, 298 mus\n",
      "mem_usage : 314.61 MiB\n",
      "getsizeof : 2.259 GiB\n",
      "__sizeof__: 2.259 GiB\n"
     ]
    },
    {
     "data": {
      "text/plain": [
       "'\\nfrom pepper_commons import print_file_size, get_start_time, print_time_perf, print_memory_usage\\nfrom img_processing import load_desc_data, get_all_1050_dir\\ndata_name = \"rsz_gray_ski_sift_descs_0\"\\nsub_dir = \"_img_features/rsz_gray_ski_sift_descs/\"\\nfile_path = get_all_1050_dir(f\"{sub_dir}{data_name}.parquet\")\\nprint(data_name, end=\\' \\')\\nprint_file_size(file_path)\\nt = get_start_time()\\nfeatures_dir = get_all_1050_dir(sub_dir)\\ndata = load_desc_data(data_name, features_dir)\\nkpts = data.iloc[:, :2].values\\ndescs = data.iloc[:, 2:].values\\nprint_time_perf(f\"{data_name} loaded\", f\"from {features_dir}\", t)\\nprint_memory_usage(data)\\n'"
      ]
     },
     "execution_count": 1,
     "metadata": {},
     "output_type": "execute_result"
    }
   ],
   "source": [
    "# Chargement du fichier parquet du premier dixième\n",
    "from img_processing import get_all_1050_dir\n",
    "from img_ml import ml_load_desc_data\n",
    "data_name = \"rsz_gray_ski_sift_descs_0\"\n",
    "sub_dir = \"_img_features/rsz_gray_ski_sift_descs/\"\n",
    "kpts, descs, data = ml_load_desc_data(get_all_1050_dir, sub_dir, data_name)"
   ]
  },
  {
   "attachments": {},
   "cell_type": "markdown",
   "metadata": {},
   "source": [
    "## Création des clusters de descripteurs\n",
    "\n",
    "* Utilisation de `MiniBatchKMeans` pour obtenir des temps de traitement raisonnables\n",
    "* Pour chaque image:\n",
    "    * on synthétise un descripteur d'image en tant qu'histogramme des appartenances des points d'intérêts décrits à tel ou tel cluster.\n",
    "    * prédiction des numéros de cluster de chaque descripteur\n",
    "    * création d'un histogramme = comptage pour chaque numéro de cluster du nombre de descripteurs de l'image"
   ]
  },
  {
   "attachments": {},
   "cell_type": "markdown",
   "metadata": {},
   "source": [
    "### Version hors ligne"
   ]
  },
  {
   "cell_type": "code",
   "execution_count": null,
   "metadata": {},
   "outputs": [],
   "source": [
    "import time\n",
    "import numpy as np\n",
    "import pandas as pd\n",
    "from sklearn import cluster\n",
    "from pepper_commons import print_time_perf\n",
    "from img_processing import get_sample_8_dir, save_desc_data\n",
    "from img_ml import ml_load_desc_data, get_im_descs, get_im_synth_feature"
   ]
  },
  {
   "cell_type": "code",
   "execution_count": null,
   "metadata": {},
   "outputs": [],
   "source": [
    "# Chargement du fichier parquet\n",
    "data_name = \"rsz_gray_ski_sift_descs\"\n",
    "# data_name = \"rsz_gray_ski_orb_descs\"\n",
    "sub_dir = \"_img_features/\"\n",
    "kpts, descs, data = ml_load_desc_data(get_sample_8_dir, sub_dir, data_name)"
   ]
  },
  {
   "cell_type": "code",
   "execution_count": null,
   "metadata": {},
   "outputs": [],
   "source": [
    "# estimation du nombre de clusters\n",
    "k = int(round(np.sqrt(data.shape[0]), 0))\n",
    "print(\"Nombre de clusters estimés : \", k)"
   ]
  },
  {
   "cell_type": "code",
   "execution_count": null,
   "metadata": {},
   "outputs": [],
   "source": [
    "# détermination des clusters\n",
    "t = time.time()\n",
    "kmeans = cluster.MiniBatchKMeans(n_clusters=k, n_init='auto', random_state=42) # default heuristic : init_size=3*k\n",
    "kmeans.fit(descs)\n",
    "print_time_perf(\"MiniBatchKMeans.fit(descs)\", None, t)"
   ]
  },
  {
   "cell_type": "code",
   "execution_count": null,
   "metadata": {},
   "outputs": [],
   "source": [
    "# synthèse une image, une feature\n",
    "t = time.time()\n",
    "ids = data.index.unique()\n",
    "im_features = []\n",
    "for i, id in enumerate(ids):#range(len(_ids)):\n",
    "    im_descs = get_im_descs(data, id) #data.loc[_ids[i]].iloc[:, 2:].values # TODO : unepetite getter\n",
    "    # display(descs)\n",
    "    if i + 1 % 100 == 0 :\n",
    "        print(\"-\", end=\"\")  # TODO : peut mieux faire, éventuellement récupérer la barre de progression d'OFF\n",
    "    im_feature = get_im_synth_feature(kmeans, im_descs) #, i)  # calculates the histogram\n",
    "    im_features.append(im_feature)  # histogram is the feature vector\n",
    "print()\n",
    "\n",
    "im_features = np.asarray(im_features)\n",
    "#dt = time.time() - t\n",
    "#print(\"temps de création histogrammes : \", \"%15.2f\" % dt, \"secondes\")\n",
    "display(im_features.shape)\n",
    "print_time_perf(\"Building of synthetic features\", None, t)"
   ]
  },
  {
   "cell_type": "code",
   "execution_count": 2,
   "metadata": {},
   "outputs": [
    {
     "name": "stdout",
     "output_type": "stream",
     "text": [
      "rsz_gray_ski_sift_descs file size: 1.977 MiB\n",
      "rsz_gray_ski_sift_descs loaded\n",
      "from ../tmp/preproc_images/sample_8/_img_features/\n",
      "in 168 ms, 839 mus\n",
      "shape: (15547, 130)\n",
      "mem_usage : 15.538 MiB\n",
      "__sizeof__: 114.22 MiB\n",
      "Nombre de clusters estimés :  125\n",
      "MiniBatchKMeans.fit(descs)\n",
      "in 1 s, 32 ms, 896 mus\n",
      "\n"
     ]
    },
    {
     "data": {
      "text/plain": [
       "(8, 125)"
      ]
     },
     "metadata": {},
     "output_type": "display_data"
    },
    {
     "name": "stdout",
     "output_type": "stream",
     "text": [
      "Building of synthetic features\n",
      "in 671 ms, 710 mus\n",
      "rsz_gray_ski_sift_feats (8, 125)\n",
      "82.113 KiB parquet file saved\n"
     ]
    }
   ],
   "source": [
    "im_features_data = pd.DataFrame(\n",
    "    im_features,\n",
    "    index=ids,\n",
    "    columns=[str(i) for i in range(im_features.shape[1])]\n",
    ")\n",
    "root_dir = get_sample_8_dir(\"_img_synth_feats/\")  # à renommer simplement en feats et l'autre dossier en descs\n",
    "data_name = f\"rsz_gray_ski_sift_feats\"\n",
    "# data_name = f\"rsz_gray_ski_orb_feats\"\n",
    "save_desc_data(im_features_data, data_name, root_dir)"
   ]
  },
  {
   "attachments": {},
   "cell_type": "markdown",
   "metadata": {},
   "source": [
    "### Version en ligne\n",
    "\n",
    "Si je n'ai pas bien compris le gain attendu du MiniBatchKMeans tel qu'utilisé dans le séminaire, il se révèle indispensable ici dans le cadre d'un apprentissage en plusieurs étapes, une pour chaque 'slice' parquet de l'ensemble des descripteurs de l'ensemble de images.\n",
    "\n",
    "A tester à un cas sur l'échantillon de 100"
   ]
  },
  {
   "attachments": {},
   "cell_type": "markdown",
   "metadata": {},
   "source": [
    "#### Loading"
   ]
  },
  {
   "cell_type": "code",
   "execution_count": null,
   "metadata": {},
   "outputs": [],
   "source": [
    "from img_processing import get_all_1050_dir\n",
    "from img_ml import dataset_fragments_n_descs_k\n",
    "data_name = \"rsz_gray_ski_sift_descs\"\n",
    "filenames, n_descs, k = dataset_fragments_n_descs_k(get_all_1050_dir, data_name)"
   ]
  },
  {
   "cell_type": "code",
   "execution_count": 2,
   "metadata": {},
   "outputs": [
    {
     "data": {
      "text/plain": [
       "['rsz_gray_ski_sift_descs_0',\n",
       " 'rsz_gray_ski_sift_descs_1',\n",
       " 'rsz_gray_ski_sift_descs_2',\n",
       " 'rsz_gray_ski_sift_descs_3',\n",
       " 'rsz_gray_ski_sift_descs_4',\n",
       " 'rsz_gray_ski_sift_descs_5',\n",
       " 'rsz_gray_ski_sift_descs_6',\n",
       " 'rsz_gray_ski_sift_descs_7',\n",
       " 'rsz_gray_ski_sift_descs_8',\n",
       " 'rsz_gray_ski_sift_descs_9']"
      ]
     },
     "metadata": {},
     "output_type": "display_data"
    },
    {
     "name": "stdout",
     "output_type": "stream",
     "text": [
      "data_name (rsz_gray_ski_sift_descs_0)\n",
      "rsz_gray_ski_sift_descs_0 file size: 37.87 MiB\n",
      "rsz_gray_ski_sift_descs_0 loaded\n",
      "from ../tmp/preproc_images/all_1050/_img_features/rsz_gray_ski_sift_descs/\n",
      "in 3 s, 413 ms, 27 mus\n",
      "shape: (314783, 130)\n",
      "mem_usage : 314.61 MiB\n",
      "__sizeof__: 2.259 GiB\n"
     ]
    },
    {
     "data": {
      "text/plain": [
       "(314783, 130)"
      ]
     },
     "metadata": {},
     "output_type": "display_data"
    },
    {
     "name": "stdout",
     "output_type": "stream",
     "text": [
      "data_name (rsz_gray_ski_sift_descs_1)\n",
      "rsz_gray_ski_sift_descs_1 file size: 48.532 MiB\n",
      "rsz_gray_ski_sift_descs_1 loaded\n",
      "from ../tmp/preproc_images/all_1050/_img_features/rsz_gray_ski_sift_descs/\n",
      "in 3 s, 505 ms, 391 mus\n",
      "shape: (401454, 130)\n",
      "mem_usage : 401.233 MiB\n",
      "__sizeof__: 2.886 GiB\n"
     ]
    },
    {
     "data": {
      "text/plain": [
       "(401454, 130)"
      ]
     },
     "metadata": {},
     "output_type": "display_data"
    },
    {
     "name": "stdout",
     "output_type": "stream",
     "text": [
      "n_descs: 3326201\n",
      "Nombre de clusters estimés :  1824\n"
     ]
    }
   ],
   "source": [
    "# Chargement des fichiers parquets\n",
    "from img_processing import get_filenames, get_all_1050_dir\n",
    "from img_ml import ml_load_desc_data, count_parquet_rows\n",
    "import math\n",
    "\n",
    "data_name = \"rsz_gray_ski_sift_descs\"\n",
    "sub_dir = \"_img_features/rsz_gray_ski_sift_descs/\"\n",
    "dir_path = get_all_1050_dir(sub_dir)\n",
    "filenames = get_filenames(dir_path, ext='parquet', recursive=False, meth='glob')\n",
    "filenames = [name[:-len(\".parquet\")] for name in filenames]\n",
    "display(filenames)\n",
    "\n",
    "# nombre de descripteurs\n",
    "n_descs = count_parquet_rows(dir_path)\n",
    "print(\"n_descs:\", n_descs)\n",
    "\n",
    "k = int(round(math.sqrt(n_descs), 0))\n",
    "print(\"estimated best k : \", k)\n"
   ]
  },
  {
   "attachments": {},
   "cell_type": "markdown",
   "metadata": {},
   "source": [
    "#### Training"
   ]
  },
  {
   "cell_type": "code",
   "execution_count": null,
   "metadata": {},
   "outputs": [],
   "source": [
    "from img_processing import get_all_1050_dir\n",
    "from img_ml import train_batch_kmeans\n",
    "kmeans = train_batch_kmeans(get_all_1050_dir, data_name, k)"
   ]
  },
  {
   "cell_type": "code",
   "execution_count": 4,
   "metadata": {},
   "outputs": [
    {
     "name": "stdout",
     "output_type": "stream",
     "text": [
      "data_name (rsz_gray_ski_sift_descs_0)\n",
      "rsz_gray_ski_sift_descs_0 file size: 37.87 MiB\n",
      "rsz_gray_ski_sift_descs_0 loaded\n",
      "from ../tmp/preproc_images/all_1050/_img_features/rsz_gray_ski_sift_descs/\n",
      "in 3 s, 272 ms, 89 mus\n",
      "shape: (314783, 130)\n",
      "mem_usage : 314.61 MiB\n",
      "__sizeof__: 2.259 GiB\n"
     ]
    },
    {
     "data": {
      "text/plain": [
       "(314783, 130)"
      ]
     },
     "metadata": {},
     "output_type": "display_data"
    },
    {
     "name": "stdout",
     "output_type": "stream",
     "text": [
      "MiniBatchKMeans.partial_fit(descs)\n",
      "in 22 s, 499 ms, 715 mus\n",
      "data_name (rsz_gray_ski_sift_descs_1)\n",
      "rsz_gray_ski_sift_descs_1 file size: 48.532 MiB\n",
      "rsz_gray_ski_sift_descs_1 loaded\n",
      "from ../tmp/preproc_images/all_1050/_img_features/rsz_gray_ski_sift_descs/\n",
      "in 3 s, 513 ms, 312 mus\n",
      "shape: (401454, 130)\n",
      "mem_usage : 401.233 MiB\n",
      "__sizeof__: 2.886 GiB\n"
     ]
    },
    {
     "data": {
      "text/plain": [
       "(401454, 130)"
      ]
     },
     "metadata": {},
     "output_type": "display_data"
    },
    {
     "name": "stdout",
     "output_type": "stream",
     "text": [
      "MiniBatchKMeans.partial_fit(descs)\n",
      "in 24 s, 723 ms, 2 mus\n",
      "data_name (rsz_gray_ski_sift_descs_2)\n",
      "rsz_gray_ski_sift_descs_2 file size: 34.818 MiB\n",
      "rsz_gray_ski_sift_descs_2 loaded\n",
      "from ../tmp/preproc_images/all_1050/_img_features/rsz_gray_ski_sift_descs/\n",
      "in 2 s, 585 ms, 567 mus\n",
      "shape: (290382, 130)\n",
      "mem_usage : 290.222 MiB\n",
      "__sizeof__: 2.084 GiB\n"
     ]
    },
    {
     "data": {
      "text/plain": [
       "(290382, 130)"
      ]
     },
     "metadata": {},
     "output_type": "display_data"
    },
    {
     "name": "stdout",
     "output_type": "stream",
     "text": [
      "MiniBatchKMeans.partial_fit(descs)\n",
      "in 18 s, 13 ms, 288 mus\n",
      "data_name (rsz_gray_ski_sift_descs_3)\n",
      "rsz_gray_ski_sift_descs_3 file size: 37.32 MiB\n",
      "rsz_gray_ski_sift_descs_3 loaded\n",
      "from ../tmp/preproc_images/all_1050/_img_features/rsz_gray_ski_sift_descs/\n",
      "in 2 s, 805 ms, 146 mus\n",
      "shape: (310595, 130)\n",
      "mem_usage : 310.424 MiB\n",
      "__sizeof__: 2.23 GiB\n"
     ]
    },
    {
     "data": {
      "text/plain": [
       "(310595, 130)"
      ]
     },
     "metadata": {},
     "output_type": "display_data"
    },
    {
     "name": "stdout",
     "output_type": "stream",
     "text": [
      "MiniBatchKMeans.partial_fit(descs)\n",
      "in 19 s, 393 ms, 398 mus\n",
      "data_name (rsz_gray_ski_sift_descs_4)\n",
      "rsz_gray_ski_sift_descs_4 file size: 36.788 MiB\n",
      "rsz_gray_ski_sift_descs_4 loaded\n",
      "from ../tmp/preproc_images/all_1050/_img_features/rsz_gray_ski_sift_descs/\n",
      "in 2 s, 787 ms, 301 mus\n",
      "shape: (308620, 130)\n",
      "mem_usage : 308.45 MiB\n",
      "__sizeof__: 2.214 GiB\n"
     ]
    },
    {
     "data": {
      "text/plain": [
       "(308620, 130)"
      ]
     },
     "metadata": {},
     "output_type": "display_data"
    },
    {
     "name": "stdout",
     "output_type": "stream",
     "text": [
      "MiniBatchKMeans.partial_fit(descs)\n",
      "in 21 s, 581 ms, 840 mus\n",
      "data_name (rsz_gray_ski_sift_descs_5)\n",
      "rsz_gray_ski_sift_descs_5 file size: 41.191 MiB\n",
      "rsz_gray_ski_sift_descs_5 loaded\n",
      "from ../tmp/preproc_images/all_1050/_img_features/rsz_gray_ski_sift_descs/\n",
      "in 3 s, 159 ms, 429 mus\n",
      "shape: (342758, 130)\n",
      "mem_usage : 342.57 MiB\n",
      "__sizeof__: 2.461 GiB\n"
     ]
    },
    {
     "data": {
      "text/plain": [
       "(342758, 130)"
      ]
     },
     "metadata": {},
     "output_type": "display_data"
    },
    {
     "name": "stdout",
     "output_type": "stream",
     "text": [
      "MiniBatchKMeans.partial_fit(descs)\n",
      "in 21 s, 351 ms, 395 mus\n",
      "data_name (rsz_gray_ski_sift_descs_6)\n",
      "rsz_gray_ski_sift_descs_6 file size: 35.617 MiB\n",
      "rsz_gray_ski_sift_descs_6 loaded\n",
      "from ../tmp/preproc_images/all_1050/_img_features/rsz_gray_ski_sift_descs/\n",
      "in 2 s, 899 ms, 671 mus\n",
      "shape: (297601, 130)\n",
      "mem_usage : 297.438 MiB\n",
      "__sizeof__: 2.136 GiB\n"
     ]
    },
    {
     "data": {
      "text/plain": [
       "(297601, 130)"
      ]
     },
     "metadata": {},
     "output_type": "display_data"
    },
    {
     "name": "stdout",
     "output_type": "stream",
     "text": [
      "MiniBatchKMeans.partial_fit(descs)\n",
      "in 19 s, 894 ms, 666 mus\n",
      "data_name (rsz_gray_ski_sift_descs_7)\n",
      "rsz_gray_ski_sift_descs_7 file size: 33.16 MiB\n",
      "rsz_gray_ski_sift_descs_7 loaded\n",
      "from ../tmp/preproc_images/all_1050/_img_features/rsz_gray_ski_sift_descs/\n",
      "in 2 s, 649 ms, 812 mus\n",
      "shape: (280787, 130)\n",
      "mem_usage : 280.633 MiB\n",
      "__sizeof__: 2.015 GiB\n"
     ]
    },
    {
     "data": {
      "text/plain": [
       "(280787, 130)"
      ]
     },
     "metadata": {},
     "output_type": "display_data"
    },
    {
     "name": "stdout",
     "output_type": "stream",
     "text": [
      "MiniBatchKMeans.partial_fit(descs)\n",
      "in 18 s, 759 ms, 421 mus\n",
      "data_name (rsz_gray_ski_sift_descs_8)\n",
      "rsz_gray_ski_sift_descs_8 file size: 42.423 MiB\n",
      "rsz_gray_ski_sift_descs_8 loaded\n",
      "from ../tmp/preproc_images/all_1050/_img_features/rsz_gray_ski_sift_descs/\n",
      "in 3 s, 537 ms, 82 mus\n",
      "shape: (353103, 130)\n",
      "mem_usage : 352.909 MiB\n",
      "__sizeof__: 2.535 GiB\n"
     ]
    },
    {
     "data": {
      "text/plain": [
       "(353103, 130)"
      ]
     },
     "metadata": {},
     "output_type": "display_data"
    },
    {
     "name": "stdout",
     "output_type": "stream",
     "text": [
      "MiniBatchKMeans.partial_fit(descs)\n",
      "in 23 s, 441 ms, 575 mus\n",
      "data_name (rsz_gray_ski_sift_descs_9)\n",
      "rsz_gray_ski_sift_descs_9 file size: 51.369 MiB\n",
      "rsz_gray_ski_sift_descs_9 loaded\n",
      "from ../tmp/preproc_images/all_1050/_img_features/rsz_gray_ski_sift_descs/\n",
      "in 4 s, 53 ms, 375 mus\n",
      "shape: (426118, 130)\n",
      "mem_usage : 425.884 MiB\n",
      "__sizeof__: 3.061 GiB\n"
     ]
    },
    {
     "data": {
      "text/plain": [
       "(426118, 130)"
      ]
     },
     "metadata": {},
     "output_type": "display_data"
    },
    {
     "name": "stdout",
     "output_type": "stream",
     "text": [
      "MiniBatchKMeans.partial_fit(descs)\n",
      "in 27 s, 75 ms, 298 mus\n"
     ]
    }
   ],
   "source": [
    "# détermination des clusters / entraînement incrémental du kmeans\n",
    "import time\n",
    "#import numpy as np\n",
    "#import pandas as pd\n",
    "from sklearn import cluster\n",
    "from pepper_commons import print_time_perf\n",
    "from img_processing import get_all_1050_dir\n",
    "from img_ml import ml_load_desc_data\n",
    "\n",
    "kmeans = cluster.MiniBatchKMeans(n_clusters=k, n_init='auto', random_state=42) # default heuristic : init_size=3*k\n",
    "\n",
    "for data_name in filenames:\n",
    "    t = time.time()\n",
    "    print(f\"data_name ({data_name})\")\n",
    "    kpts, descs, data = ml_load_desc_data(get_all_1050_dir, sub_dir, data_name)\n",
    "    display(data.shape)\n",
    "    kmeans.partial_fit(descs)\n",
    "    print_time_perf(\"MiniBatchKMeans.partial_fit(descs)\", None, t)"
   ]
  },
  {
   "attachments": {},
   "cell_type": "markdown",
   "metadata": {},
   "source": [
    "#### Bag of words"
   ]
  },
  {
   "cell_type": "code",
   "execution_count": null,
   "metadata": {},
   "outputs": [],
   "source": [
    "from img_processing import get_all_1050_dir\n",
    "from img_ml import get_batch_bag_of_words\n",
    "im_features = get_batch_bag_of_words(kmeans, get_all_1050_dir, data_name)"
   ]
  },
  {
   "attachments": {},
   "cell_type": "markdown",
   "metadata": {},
   "source": [
    "#### Saving"
   ]
  },
  {
   "cell_type": "code",
   "execution_count": 9,
   "metadata": {},
   "outputs": [
    {
     "data": {
      "text/plain": [
       "['009099b1f6e1e8f893ec29a7023153c4',\n",
       " '0096e89cc25a8b96fb9808716406fe94',\n",
       " '00cbbc837d340fa163d11e169fbdb952',\n",
       " '00d84a518e0550612fcfcba3b02b6255',\n",
       " '00e966a5049a262cfc72e6bbf68b80e7',\n",
       " '00ed03657cedbe4663eff2d7fa702a33',\n",
       " '01089dc3618a0ab7304d784ef400b83d',\n",
       " '0131e5d87b72877702d536299cf83b75',\n",
       " '020d2daba55a723128e4e07c0b0393a9',\n",
       " '02127f52e96fb72c66bf081d25104ef8',\n",
       " '025a85a3d1cddc6307f7dc075d8d2132',\n",
       " '02a53d335775b652f22f41b529b9d646',\n",
       " '02c63a087b298ec74042d557acf61be1',\n",
       " '031c98cfde349d99fb6d5983f54c8751',\n",
       " '032e812adcd11a38fd8b764891a852ff',\n",
       " '037b39bef3db7ccd264c577a0edf0c0a',\n",
       " '037c2402fee39fbc80433935711d1383',\n",
       " '04f9f818e2d657b873b07578cfe2eade',\n",
       " '04f9ff160a1561e3656350f4bd6b8c50',\n",
       " '050ea3acb555bf641e7ae9b4f3ba684a',\n",
       " '052559ede419996737893eb47568ee7f',\n",
       " '057836ecde71565f8ebdd576e41fdc96',\n",
       " '059493eeb88ebb4cc08d1522f3f87c3f',\n",
       " '059bc43e03e1824a9ab6466e32e5f137',\n",
       " '06749cbff1487f470438823f6952cfd1',\n",
       " '06b8da0c6a24b91c8020f8b1c78d04c3',\n",
       " '06fdaa2b03d70da4358311d260456729',\n",
       " '078b35be31e8ac99b0cbb817dab4c23f',\n",
       " '07912328f580cf080d721e6466287896',\n",
       " '079d049de21fb2426b516a8d2f9a8bdb',\n",
       " '07f8bdc4372a73d0820507683a936b6e',\n",
       " '08452abdadb3db1e686b94a9c52fc7b6',\n",
       " '08613e8b27838b997069b1fedb6e88d2',\n",
       " '087e83a2406dc98d941b8555356da477',\n",
       " '08bdf59c9dcb241e3a57eb4f3729ec70',\n",
       " '08e8af585235d7403ca2b7b56a51a6d4',\n",
       " '0906fd9cc604fbba05a502e01d763cd9',\n",
       " '093097cfe5626f4ad8914e0a16a940b5',\n",
       " '093bcad64d11c0aed903a8dd787ef069',\n",
       " '0991e8d8f884003ab18890971191085d',\n",
       " '09f9f9b420edea2f39c0dc3c24d5be07',\n",
       " '0a3b5fdf77a361c2d7d9b29c259b8c4e',\n",
       " '0a8a1e9c6659361c0c2b247f8a6471d0',\n",
       " '0abfcbe0e17dd50c4cf5fb1d6037d514',\n",
       " '0ae859a69c7608d8197c3ba8c37bc6ec',\n",
       " '0b793c1727ef52285a25dedf8b86626b',\n",
       " '0b852704f2002f8865a68818ad4951da',\n",
       " '0b8c4bc35aee94af356cb1fd2dfa0219',\n",
       " '0bb0f7b7a3075f4b9459121abe2185fa',\n",
       " '0bff0eda7a6677dc1acb0477a1f7a121',\n",
       " '0c4718ae90f2889b7021a99ee1cc106c',\n",
       " '0c70a580d96e50966130e2885d8c3505',\n",
       " '0ca8e323551dd7107ef57ef7c3e77aee',\n",
       " '0d02f4703fde00645704e15bba23e77d',\n",
       " '0d3e1dc0d38be59e9927e47f152e48aa',\n",
       " '0dc4d2767fe8424a3263ab141884f83d',\n",
       " '0ddc40c08d9a9bafc4d14eddd98db7c0',\n",
       " '0e1e3861d54a8a17b7b91f04071a4ca3',\n",
       " '0e73201f6d8807776e1d21c969078289',\n",
       " '0ec47240feda42c63e42f1e9cee60f7a',\n",
       " '0f4f761de4224b004402c1f97e871ba4',\n",
       " '0f7a56876c61ba98dfed48ede5d3f3e1',\n",
       " '109e235d4838002246599f987d935c21',\n",
       " '10ad262ebfdc8614e847d36e6fe9ecf9',\n",
       " '10b6738d7058738a9a7d107bbb2833f4',\n",
       " '1120bc768623572513df956172ffefeb',\n",
       " '112a8a56ee40ee31ea06fb7ff23b5c25',\n",
       " '113783ce1db999778b5a4bd374e61209',\n",
       " '11502f02601ff063bf7db0a618354652',\n",
       " '118b411bf265538461b084ce7abd55a8',\n",
       " '11f06dffebf7edf9e15351834a190c2c',\n",
       " '1218fd9be42d45a81846db9f65a983bd',\n",
       " '1357e9d24661c3b5797aa1016e0c3be1',\n",
       " '13596c5cc53a74268613e5c0b7d46b60',\n",
       " '136f213080426c35520f1b1540c4a390',\n",
       " '13de17e59a92f8bcaec8bf103bbff8c1',\n",
       " '141ab1fbe0f943463d4971098647000c',\n",
       " '141d2b743c477043041faddf9233c8ad',\n",
       " '142994b421c052a6193052c6c8c3d076',\n",
       " '144a5e05bd6e69535c53366a805a8b5f',\n",
       " '146b0d570d5ab4e27629d48533b7680d',\n",
       " '14826adf9bc4c34ea566dae3d85ef7cf',\n",
       " '14bc693d9b86c58696e5917045e9d4de',\n",
       " '154920adb9d584b55d419227f9b01cc6',\n",
       " '156bcd3aba1838a2b6bad856654db964',\n",
       " '159b45e4dede207f28319bf1cacee3bc',\n",
       " '15a0364d0efc54d4e272a49f85b149fc',\n",
       " '15f45d08050e8ba24a14804cba000589',\n",
       " '168618e93387ad7171d4e4e1eeff9d1a',\n",
       " '16c18ce0affca13159e362227c83683c',\n",
       " '170fdf050c7a1f8d30ef5a98c4216f9c',\n",
       " '1738ddb8f47f11ff0cb96fe6cad302c2',\n",
       " '17582ae953860b5320683768b8e97d3a',\n",
       " '17611e6e94d73ef376834e5c6ee03dde',\n",
       " '17a73d7c4b02ada2bfeed1115fed08a4',\n",
       " '184ecf07ca4e2872eaf53d2344a1e783',\n",
       " '189fa66a5fa6f08d2802a62ecf0be298',\n",
       " '18bd9b88e23b82fd19f8ab0c9cad6a1a',\n",
       " '1971dcd2f3058a4c87bdd7d87d4baeba',\n",
       " '198dbe7be6f84f6448197148d7b5e5a5',\n",
       " '19a570b6717955a8c48e5f280617ef24',\n",
       " '19d2dbc1789653c58bce08c169662cf2',\n",
       " '1afa5f2c3c9b4b43def6dc2e695d2c87',\n",
       " '1be8161a259813bca5d068d5730464e7',\n",
       " '1c0fdd598671f6f4e10b21435d766cf3',\n",
       " '1d1be744e491ed61e705c20e4a72320d',\n",
       " '1d829e0eac91d7e85cdd6d581c363360',\n",
       " '1dbe1f3ba28460dffef4a1d664549621',\n",
       " '1e15dbd9f59a8b2001f91d18ddc84b5a',\n",
       " '1e8741b5ae27a513546c94b3f3312aee',\n",
       " '1eda39f01d0a8a2e5ce4b32fc7da1027',\n",
       " '1fb0fc88acf0dc6ab9528c26252447e6',\n",
       " '1fcff864d6e397e1424d5366e6c6b8fa',\n",
       " '202fc276e672eb8c29891aa50aef0771',\n",
       " '209bf06a732416f1ce5147a8b0524808',\n",
       " '20a06aad5f04727dd54bf13dd5923518',\n",
       " '2110699b945ae766c8b8112038ac58b9',\n",
       " '215decf6f993d7b45d75520d9174493f',\n",
       " '216c6c3527984be3d7ad9023d5cd9bd1',\n",
       " '219b24362655097cb41bf06a0be8ee79',\n",
       " '22146eaca9aee0223a4302d87cb3e122',\n",
       " '22296bfc1c79d9dc88eabbd01220ef0c',\n",
       " '2231a6fc63274c46043e353f1728f077',\n",
       " '227fc5c4fca14c424ff33e40941d22fa',\n",
       " '22ac36ba254a68d7dd6173f099771147',\n",
       " '22ea3b69860bc9a5e0c69b87db2dcdab',\n",
       " '235410c63d373e2fe141c129de2f624f',\n",
       " '23704dd51c975e845c574b044aae0a9f',\n",
       " '23b0bdd337f7d1b4b70ad13726a122ab',\n",
       " '2414e4b7e5948263b8dbb4843557be4d',\n",
       " '2476ae5a5e045876aa08f5919cb3b91b',\n",
       " '24e85c590481a7cedfe66597f253f2b2',\n",
       " '2541b59d54a3a9f2681c0049f7ddd85c',\n",
       " '2580f7559802e4e5e3695fda6cbfc317',\n",
       " '258444ac7bb7ad8026800efad5c3502b',\n",
       " '25ce025c38c55f28fd0ea3bb0200df79',\n",
       " '260c74b5a09272dec1a8207db3541a0d',\n",
       " '26269fd0df12630eec4508c2cf3c94e1',\n",
       " '2651ce313a5a3aedb7c566394a3b3b26',\n",
       " '2670ba9bc61b42937773486ddcae442a',\n",
       " '26989e846c2096a5b59b59cbea2cc7ab',\n",
       " '26d8d458084ef90d395d303eaeb71587',\n",
       " '27175ea71cc5f2879882c77b9931cf8b',\n",
       " '273982a65b9c7dabe56c8345552bfad7',\n",
       " '27b7851ae3dfc2ae8c1958cebe93bf0b',\n",
       " '281dfd9b94b34362c295b3e5f8da5dfa',\n",
       " '282102897daa1c2513cf76837a8d5a4c',\n",
       " '283e2c4d728bdb193834d876ec27e6dd',\n",
       " '28401ff0dbc191d34c2f1103e78e082a',\n",
       " '285075cfac3036e8d51591dfe5ba24ab',\n",
       " '28e3f1e490cfc4b47bfb50671ff93283',\n",
       " '291d5ff1e50dac3058cf10578f692085',\n",
       " '294a26262643797cb07f72f1b55262ae',\n",
       " '2971287a1ac427bd98c4778112d20d06',\n",
       " '29b1ca231e10d5269516b80bf9d0dffc',\n",
       " '29d7a1b4d4f658fc3082905f65e1b009',\n",
       " '29def171d7e31d48571a52f0fb3e6b07',\n",
       " '2a20862f02555a44b0ab301bed987a0b',\n",
       " '2aaa6083689193df5ab01fe37dea1b5e',\n",
       " '2abb35d6affd2796e664349a747bd302',\n",
       " '2b278ad355318a87c336285689d214f0',\n",
       " '2baa415ebcc4fe563ce13b50e60efc1c',\n",
       " '2bf0ca6d25501c067cd12a2a4939443f',\n",
       " '2bf95e5f8c4d7d0126de92e476d4fc8b',\n",
       " '2c475daafe597ed93c1e27fcaa38d8cc',\n",
       " '2c8912b849cf73676d025aa99203b6d1',\n",
       " '2cbad7ead8eb8dd92823b9f525c87b9c',\n",
       " '2cc24452688ed35dfbff566e22e53c95',\n",
       " '2d4f1232af970bd19881ceacad6ccfe3',\n",
       " '2d50e4c6ccf8befe9335ac8f97a11712',\n",
       " '2e3586dc60df258c5478446d65a317d2',\n",
       " '2e474c49a7dfe704c35cf3990740daa3',\n",
       " '2e8df36b35d22cf219cf8bae6c2af752',\n",
       " '2eb07dc77e2fc7e3668fd7ed9b864039',\n",
       " '2ede595489db33a036d135ce22645515',\n",
       " '2f40e01331bc00216d147d4ebfdfbaf3',\n",
       " '2f712e172ee77a913b6d627657986b72',\n",
       " '2f756aa2ceb1efda609c428a47308758',\n",
       " '302c95f6eae5f4ce217fcedc4ef91262',\n",
       " '30305ade337a4dde171afb90141bcaaa',\n",
       " '30ab693b54e99a469a1152b5db14aa40',\n",
       " '30ad2acaccdd2e1691a61c44079c2b5a',\n",
       " '3113367c72125a3355af42426fe14f17',\n",
       " '31376e77d4621c06a45440d42b9fe2ac',\n",
       " '31ac1b66cc6bb396c83f124317589f8c',\n",
       " '320833ab08c9a94ef83520612899a85f',\n",
       " '321f2ab0dd243778c87ac63ace6639f4',\n",
       " '328b66226952d8733c0c48295fae1108',\n",
       " '32cf0691248297655e2c1728b12e2262',\n",
       " '32da1bbf4f523bc8a8735701ce4b7726',\n",
       " '32f24a4303050f500dec7cb3608fe089',\n",
       " '336fc49639a5cc45aa532ace3ee1a044',\n",
       " '3388d05e88972ff9f3e1321dc0cfdc28',\n",
       " '33d97d63c037078cd3f08033966d6a88',\n",
       " '34d3b2b8d263294107a3ffc69b35ff8f',\n",
       " '353ddb2c8ab6920d8ad1055abee87dda',\n",
       " '357432a848c3f13fa614efe5dddd99b6',\n",
       " '3589e80e8f7f3f3a5b65447389b90c2e',\n",
       " '35a68b44bef47a809314493d28535b9d',\n",
       " '35b5dfdda9214c94ab15bf5390e07de9',\n",
       " '362714cbba2f5ae412d2f26bae99a266',\n",
       " '3693c4e7f7efb47edb3d9eec067ffd93',\n",
       " '36b965559aa2b97cb961a603f18a9183',\n",
       " '374e63028d691c380bc43b0dc60e460d',\n",
       " '378d7dbdb97ecc62c9ad52cb6df23a86',\n",
       " '379ebeb2ad76333ab67afe292688512d',\n",
       " '3830dda3491cd5b28ed42ae544bc44f0',\n",
       " '3847353a4b8de1efc504d589aea74ffe',\n",
       " '3864ab10ef7006452fef45513de8f868',\n",
       " '38782cce965307ddcdbedfcb7fa409c3',\n",
       " '387ecd9ec173d61b6dc5ceddc079b150',\n",
       " '389197b67a189c703f3deb9ca6f1f678',\n",
       " '39242e5488cf65d8d59eccb2b80e4a65',\n",
       " '3945cc3920106c04648e8ba17ef2b009',\n",
       " '394c2c627914e1eed9b8ac343583a679',\n",
       " '3a7b224bf1bc9cee9052f9c9df0355f6',\n",
       " '3aaa50eb5d2cf4c18b57346423871624',\n",
       " '3adb36e4275733d0d113d9039e6814ea',\n",
       " '3b0f02b3acf1825f8bbc1fb3b860dbb8',\n",
       " '3b465b02720ef7c930cb2e065a8fc05d',\n",
       " '3b80ac036843b278083fabfd9a3c84ff',\n",
       " '3b96a152c8fac4421fb67b6190584976',\n",
       " '3ba13df7877fd979d64c87c7586a5ca6',\n",
       " '3bc98543c7dd0d8fce5b8185b4a58c43',\n",
       " '3bf09b28e3bf526c2dfebfe591921103',\n",
       " '3c4604dba348a99a2dfbbc2cd3928101',\n",
       " '3c4ca34c50a5437a1bcc42b72fc1351f',\n",
       " '3c74db45cbfc14a78b8466dca494b3bb',\n",
       " '3ccceaae844f34180708cb6cba3441bf',\n",
       " '3cdfd9df09f61a8fd178bafcc8dbed31',\n",
       " '3d8222014ec36292c1c143c5f5e12c29',\n",
       " '3ddd2f062730c2aea8bb8843d5a96125',\n",
       " '3dfd14b667357e26ff6d66761cdc203f',\n",
       " '3dfdf277bccb74532c0387adfed2897d',\n",
       " '3e2b2a04696f7d83a7835e9894d79df7',\n",
       " '3ee79b1e51c9f9262e8373ce6b717606',\n",
       " '3f025b9dc8065fe5a155573e5b21a70d',\n",
       " '3f97735a6c61a3587cefceaef36c280c',\n",
       " '3f9c4d0e8c3bca9c870e41f5098f90d6',\n",
       " '3f9f12fa8fc6d7ebef136040f179a201',\n",
       " '3fa21f35257649e1513ca4ce22c6a68c',\n",
       " '3fd4d7ea04624ada39fde3957c7b9b7c',\n",
       " '4019ad332ca3ce22449ff54fdd49a273',\n",
       " '40829ac110f344ef35f1c8c32fb311c7',\n",
       " '40d7d3d1961236dd814e15592fa52994',\n",
       " '40efb9474b44fba54b5d2a8df121d727',\n",
       " '412d0425bb7076610aace6549ded265c',\n",
       " '41384da51732c0b4df3de8f395714fbb',\n",
       " '414d2065e1aed847064bcf14538eabc8',\n",
       " '417ae3e8b08acc19a023b8a958644799',\n",
       " '41ae5a7304f3dc1dc8bc2dfc7765ae4d',\n",
       " '41dccf212ff447cd7213a2b1e669e406',\n",
       " '41fd5af61752be98b19b611a6ff9a0ef',\n",
       " '42643c1c9403f67921a18654bcf45ead',\n",
       " '42770faa04bfcf2b62e7ef335e1b1965',\n",
       " '42a8fef62716772c391fbdd148cc9c16',\n",
       " '42c5c528ad7ac8ad7a4e7c31f958e25f',\n",
       " '4354b7418ee0fab2fd9f8eb493556529',\n",
       " '43da6e88dcb61e027ea9112cfab158ee',\n",
       " '43f4a023dd92830ab5b26886c496f23e',\n",
       " '44218245b37581c534038cc27d081093',\n",
       " '4451f1b01168b6a085738d0b0f2f02aa',\n",
       " '44a6d9f64668b004c3254f3904142064',\n",
       " '44b963eb856b4831dfdd21b666593c95',\n",
       " '45204a03550940bdcbc8e4703c07f550',\n",
       " '456ec612b30d4b091639843cdb66bf54',\n",
       " '4589c5021b21525b4779260f7e86f355',\n",
       " '458c697fe5824552890b0e674cf5c109',\n",
       " '45d0af2c709de47268c80c35a117de44',\n",
       " '463492671c5c19316a0fb9fe1c53da48',\n",
       " '4642d967bc34a36454b281de632f6c11',\n",
       " '4676a8f96abb86c5d1dc5b06c7a11d95',\n",
       " '46c7cb82a768ad8811db821d8649f6e0',\n",
       " '46ca672fdfff8a1b3641642a9795344a',\n",
       " '46e6853da6b0c796b7a0d8203ceaa88e',\n",
       " '470ff3c4e22d237f5a75ac07225e513e',\n",
       " '4735953b9c8504eb327675a14c6c33dd',\n",
       " '473b1ab1abe21826c41efa1584a88a63',\n",
       " '4748b7ea0e01cffa561f1a7a7a432813',\n",
       " '4788f5466992da09024b8ffcc8a5cba4',\n",
       " '47d7792e50e69b048b1f17176f170141',\n",
       " '480d24adbc304a52a4e01e45bf8bbccc',\n",
       " '486e98154514ed485f0b2f9bc9f24549',\n",
       " '48b9e7f78348b95955d7484910b7af15',\n",
       " '493d1eb6ad7a48a926092bf994cd0bb0',\n",
       " '4942e0a9c0527dc00319a39fc8f103e6',\n",
       " '4946e2411d24801b9e8f7dbe97ab1b93',\n",
       " '49658948b5f4eb06a3ddc2fa75eb41d0',\n",
       " '49852d7f69839e0b1006adc55d56938a',\n",
       " '49f7763dc9c7ece284a1ae27166f8c6c',\n",
       " '4a1b23dacd7d2a9ec7414f7159f25a48',\n",
       " '4a4ccd1ac291cfc8b3894e691a1c0f7a',\n",
       " '4aa047f14885c74f155ce5f973e14dff',\n",
       " '4b03cdfc7d1135c972e5c620dd7da66c',\n",
       " '4b0e6f200426b1db8824b2ca0c59ecfa',\n",
       " '4b500e244f11a45f5171bd3665413044',\n",
       " '4b59516432fbc3d61e8e58d547fde431',\n",
       " '4b8728226cc2934095782f7e7f3ce740',\n",
       " '4c096ad79f63c12a42f56fe8cec37f36',\n",
       " '4c449766e715bc41023244c9042e0a82',\n",
       " '4cc971d2c9c0f1056bc124031ed52c1e',\n",
       " '4d2e9f36823bad0f6fe8c6b19bb92bdb',\n",
       " '4d638f7a608a76db27cd7bab13582a93',\n",
       " '4d6bf06ef01f80130a1ab28dfdeb7aa3',\n",
       " '4e03d4e81e6a876f512536f6a57c053e',\n",
       " '4e09d5a71d46d61de3d4c9c5aedb73f2',\n",
       " '4e130ed339dcfe20d2c8b66892278a94',\n",
       " '4e57e21d903b752a6b5aa496a43f1590',\n",
       " '4e5ebfc871992e7e22365c0c036a1b89',\n",
       " '4f6006b716c6546033fbaf9ff32de577',\n",
       " '4f708bc74c4d29b2967dc38a1f5ae6d5',\n",
       " '4f8f64f93f789af51bb07296639acbd2',\n",
       " '4fe24e100a5fcc33cf6054ef101067ed',\n",
       " '503bb08f7bdf6a395ec564dd1dc83619',\n",
       " '50be4cd92fda2755e1e884421a52e345',\n",
       " '5188dd28a627807407d93549580afb74',\n",
       " '51b6809d527ea36798bddc2bb8557bc2',\n",
       " '51c9062e6538c787b14a75a6a7cb7fb3',\n",
       " '51dc964c7a47293ff0ed0c6912813722',\n",
       " '51eb5d22eda4be2a409a336651c50bb1',\n",
       " '521528ccaa29dd645e869550cae7a249',\n",
       " '526cb1e7675adb39a1ea68f1f2a3fd59',\n",
       " '52877a6306aef18af67ab54c8233c931',\n",
       " '52a8d66e466da645e413d2cecc294bd9',\n",
       " '52c5fe837181962a7c1d5883bb9d7007',\n",
       " '5307e0db12b1018746ac3801d189c379',\n",
       " '5321f76936848ccc0003f6c11e923fb5',\n",
       " '5325213d84c80ad310b6e4b37a1ac824',\n",
       " '532fd66d24261d77d9d8b18cfd1ca0f2',\n",
       " '5338c00e0ddaec0f3af737077e0bbd91',\n",
       " '534d9c3ae2342df2f4f9233622f90711',\n",
       " '539f82930cfad8afef1a75882eb45703',\n",
       " '53b9357d16d4db0a1f9ec4e8ac91e743',\n",
       " '53c4f1e5cb1767f1a6ba05d32dfaf107',\n",
       " '53f4bc7d7321f5c41de6b86e41f13e80',\n",
       " '54749618b728306f9b3dc518dec315ee',\n",
       " '54754ccd18f2a75c53de68806176392a',\n",
       " '5479bb7028827d60000720a2c135976a',\n",
       " '5518124b75d6c6dfee4c2e4c0cfa716a',\n",
       " '55195de3873fffaa9e37b041533d7305',\n",
       " '5531b9f454e2d75cfe00c3f795e06de5',\n",
       " '553aa0252537751d153e7c50029f0242',\n",
       " '55b85ea15a1536d46b7190ad6fff8ce7',\n",
       " '55ce1309b69e1912d2fd60a3ee3f351b',\n",
       " '568f331e1039bf2e0635b899c2b3248f',\n",
       " '5749bae8ccead7997ebf370b6b081d07',\n",
       " '57578c1e6ec61a880a6f3f971f5f77b8',\n",
       " '57800d48b001f3fad34a4f8fa9207f29',\n",
       " '58d7fbbe6d306ecf16e0a7ac05b211d4',\n",
       " '5912e037d12774bb73a2048f35a00009',\n",
       " '59247d4024d85bfaf9e48368cba6d870',\n",
       " '595f508cdfbfa162d0fe7b97cc99ef42',\n",
       " '597a9549a3e397d52dca62ee47b1f60a',\n",
       " '59af3731b809a25f2bf99e99f645d8dd',\n",
       " '59d964c38c787f829c6cfa5629e4df90',\n",
       " '5a54c78b52c984e56500809e5bc27ae1',\n",
       " '5a5bb03499009f35759258263fc834a3',\n",
       " '5a7a1287fef0d986a5e237797beee286',\n",
       " '5aacf8f5154afea2ac22fc767d072677',\n",
       " '5ae4626271e8eefe5eb2aaf42c00724f',\n",
       " '5b378b0925d5409b5d84ceb416fc2afc',\n",
       " '5bc04e6a0b6256dc78bb9cb22b39ef41',\n",
       " '5be86e35f21b1514d0e7742893d6cfba',\n",
       " '5c0fe2919e49f30aff91d46800cdf149',\n",
       " '5c6b9db55291a68d99c4bb9a88266e27',\n",
       " '5c77aa1fc09901ae07c392c152a70e41',\n",
       " '5c7b493625b5fc6689cae49d25e1ae17',\n",
       " '5cd3d274d71e1e0d6bf075421461b2d5',\n",
       " '5db6bd89da44841c1a5b686e67137704',\n",
       " '5dbf978ab2cf9d2da6446d3e4595f690',\n",
       " '5df72b5295dc5e6126693e640b50f3a2',\n",
       " '5e52d6ce133e5307814f9f3eedc5806d',\n",
       " '5e84d36ad6db970548498829db8b15de',\n",
       " '5ea8ddb8a5104c5d47c708e8a351e701',\n",
       " '5eec66ec172ce096cd4e5c947686b56a',\n",
       " '5f8ebf77ba4064b68ea23a41cda71d97',\n",
       " '5fdb912462da9891e5b21c677ceb15e4',\n",
       " '601817defaff9d0e30e1b72f96d3975f',\n",
       " '60395c709b4a933319e2713e3ae620d4',\n",
       " '6057d1b6682ab473a3fe2ca8b4577259',\n",
       " '607dc41467008ee7a8dba0276f180f63',\n",
       " '60a7313ea1e0ee8d845a0a6dec6117cc',\n",
       " '60efd61370e70267dc60b11ff2bf974c',\n",
       " '6136976dc5a433cdf8e2559b8510bdce',\n",
       " '614dbfa2f42c4684c0bb6152091113a6',\n",
       " '61c0139f3d5c97f1615797dbf046cc0c',\n",
       " '621a88993a7033df3440ec816c2e386f',\n",
       " '62a1044ba64031b9e40f98a4fb890d9d',\n",
       " '62c35de4df27437d3597963fac55a8b6',\n",
       " '62cbea6012792cdbe5ff7cac2a6b76d0',\n",
       " '62e36e018c9ee4b282cf674e84054df8',\n",
       " '6325b6870c54cd47be6ebfbffa620ec7',\n",
       " '6325bf868b9040a0599f257aba42e9e0',\n",
       " '6329ddb46087cb8c09ced95471dd9643',\n",
       " '634c89325a6c7752985a74a67f985c1f',\n",
       " '63523a600ab69f276664d0eade9d076e',\n",
       " '63bc43c0000e71eb11bfafd2f46214a4',\n",
       " '63f2d92a3f5fc6cfc11e7f99d5798eac',\n",
       " '63f6ef8f3fda2c306b27cfbf5a005f1e',\n",
       " '640fd08bb3ba538d67a5c0c2c61a5c4c',\n",
       " '64247967cbf6cd8bb2e243ac53aa5928',\n",
       " '648b52926285610670a756923b8a6f99',\n",
       " '64a9d0488652194fd8e879d5e6dc8015',\n",
       " '64b463dc0b75ae40a848498c657041e6',\n",
       " '64d5d4a258243731dc7bbb1eef49ad74',\n",
       " '650e27dff8f645649353743f64e03f77',\n",
       " '653826cd53f1d9e2c086c0ac7846ef70',\n",
       " '66191b4a311b5d9babfc00a71ef97c5b',\n",
       " '6634de7b39a5b0658c74ab098450096d',\n",
       " '66a5a21ea332aefcc7b90dbad94053aa',\n",
       " '66b75f053cb7626f49f1a9bffe77b451',\n",
       " '66d91765da568f133f040b951f25e702',\n",
       " '67119571e4b46deb266236d8e7fad65d',\n",
       " '672d1c3272eae4586eb5994fe408c12a',\n",
       " '6775e3b91baa4d368f6d91eb7c24578b',\n",
       " '6776795cc4521a0cb0d54059649f7d72',\n",
       " '678ebb5f6057dcc51948253c1b39b0b8',\n",
       " '67d6b4a8aa19d57740b0440365b77624',\n",
       " '6858fd9265d348803b18667fe43cd054',\n",
       " '688bb32bf0d9b6e350d2c0912a3b7c9f',\n",
       " '68b32e026c109c1bae017d024dd8f590',\n",
       " '69446af66066146718cd569f87e99fff',\n",
       " '69515ea06da8b2b1c881ce34fbf6575a',\n",
       " '697ad1d2e45c1af54cab7847cbe324d8',\n",
       " '6a1afb657e9ac01e3ca1956dfdcc3e9a',\n",
       " '6acca991d2353781779b866e4f96edd9',\n",
       " '6ae332e2bafd23267caedfcc4453257c',\n",
       " '6b043b37c38f081d96886acb5acfbdf5',\n",
       " '6b04c746cac2aa811d7a8753e54dc96e',\n",
       " '6b5cdfe68595fbcab0e05dc625d3d66a',\n",
       " '6bc04b3ec1f8d4da2a00f8662f4fbed3',\n",
       " '6c3768639e82ceaeab681e083b897672',\n",
       " '6c441a6ca8eb4e5ca882c9c0df03ff0c',\n",
       " '6c53dbd7a9d43744920bfae3bc06327f',\n",
       " '6c8f99e979d4de9ab5d1ad20455622c7',\n",
       " '6d460d2e12ff7c84cb6b9af783d465ae',\n",
       " '6da53319cc12c9729881f5478ff67223',\n",
       " '6e44d107ee32412243b19b0ed9b415f3',\n",
       " '6e6694c52c9273cde2163d34d5b44e94',\n",
       " '6e7cc21610991cab64595af678e8eb5a',\n",
       " '6e812fbc03331ab363789b0f2d6b3ff2',\n",
       " '6eaa9bd9e9285d77891bb76d30e6ebe7',\n",
       " '6eabdbbbffdfae86c3c5177ba0f96ea7',\n",
       " '6ed34e1ab886e8a702ec59dd66ba4dff',\n",
       " '6ed4eb71c0707f1d6fdddcf62562cb02',\n",
       " '6efd5d260667b94f04edbbd18bb300b9',\n",
       " '6f9c169adda9b562a841a9cf54b16f06',\n",
       " '700dfd088162ea00deda33123cd7f2da',\n",
       " '7037dbd17682322c89bdf7203b403381',\n",
       " '70461caa9038cfa34d109ea056d57f5a',\n",
       " '70578f48cc96bbb60d040e08025e521d',\n",
       " '705b90361aeda1849a728d80625a78a9',\n",
       " '707b160df4c4dece6cde52b222ce624b',\n",
       " '7091af252a785131c5a124fb90705fda',\n",
       " '70af4c3c05688d8400632e134f258b98',\n",
       " '70d571a25d37e16d5d5f4e94faccf454',\n",
       " '710ed5f2393a4b9e8823aa0029f71f93',\n",
       " '719677b02bfccafb86e9be78f36f938b',\n",
       " '71ff6abd7764f2a42fcbefc11429be2d',\n",
       " '721c1b67f86176f741d43cae1d1c7e93',\n",
       " '721d6fc10f52e76007c3c0405cf967c5',\n",
       " '723e472f98180745980efe32411d30c6',\n",
       " '7241df1acae1fac892c692097ea3fb98',\n",
       " '724e6eb7edc83eb48b6492d12e940ebd',\n",
       " '7264f56639c8c54158b94ced769082c8',\n",
       " '726de30d1473ecb9641c1cd5286b6344',\n",
       " '729864e0d25e06cbf68561529bcdd4f0',\n",
       " '72cbc043d14ee578c789c9fab3c43cdd',\n",
       " '72db37ec42ee76d79cf395221e0f4cce',\n",
       " '733aa1e801a139fa8dc7be9f0eff5ee0',\n",
       " '73503fe89ea77420a598f4a1019e5b6d',\n",
       " '73523a8cc9a5c04a010d0307f2f2827a',\n",
       " '735820e1614052fde55659da9dc10ccc',\n",
       " '736191946aaeaa637a0865a42c18b580',\n",
       " '73901494efea71869576898c68b5eee4',\n",
       " '73b692cdfce9a77b721a54d4b7fb35a7',\n",
       " '73f460cd6f3fd206902d7097a1816405',\n",
       " '7436c011ebdfd24b56a77893f210ed3b',\n",
       " '747b170919791d6111847d3485b5b77b',\n",
       " '74e5a3f6edb34d7e593a0d1854b0b886',\n",
       " '75015382e469d36e397c5b47ea613314',\n",
       " '750f964cf8e6a16412aaf2b0d0350d0a',\n",
       " '75549ef6adc47e9b6dc2b69f530d9097',\n",
       " '7616c21074fe889defce033dcd0d7cb6',\n",
       " '762b6b22cccf91935e92446efe298fe3',\n",
       " '7680c6bf930669dc0646e3315187dc8c',\n",
       " '7729e54756a60aecb2067a747c890913',\n",
       " '77f659d4d18381c991fb9210e05d9c1b',\n",
       " '7815fb39feb773db944c9f03bbdcbf64',\n",
       " '7821fb1cbf8d3bb294c3c20527119f15',\n",
       " '785b4383b12106dd172306d427d8f7b2',\n",
       " '788dc3a3da91c0f46a7c465e07f91dd4',\n",
       " '789cf5578f48577a44586fca3adc35d0',\n",
       " '78fcb634d9838127464d827234ab05ad',\n",
       " '7915f1c0703450d4b1446c06066d9a59',\n",
       " '7956d9586de3e25ff586bca58be7195e',\n",
       " '797bb7813ec0bbc99e8b6f1b32c32e52',\n",
       " '797d10fe966b3aa35933669c3425525b',\n",
       " '798346b99002495667bb87626d33b99c',\n",
       " '799ddb97164ff2d5d53bb8b27b8c355f',\n",
       " '79b78739b0ae84780001fec304ce036c',\n",
       " '79e6b64a09ec7d393be193430ea732fe',\n",
       " '7a3f11f380a1bf85338ab3771ff81e9f',\n",
       " '7b1c5edc85bc7e31edf49ab70034bb3a',\n",
       " '7b1dd192151777c246a1c4e1fe0ddb4c',\n",
       " '7b72c92c2f6c40268628ec5f14c6d590',\n",
       " '7ba69836467fe0795bf0e1161fc481d9',\n",
       " '7bbcbd91b8865a9f7b254760e5e2e10a',\n",
       " '7bcabeb38f148041087fafdad40e2c57',\n",
       " '7c15895bbfd7da97c219be5b28150a06',\n",
       " '7c333641c63bd7519432ae83744b8db4',\n",
       " '7c4c57dda1b2e50f40b331cc8f9d233b',\n",
       " '7c4fec2331da8d40f2cb146eb198cb57',\n",
       " '7c785e9e26092c0b6ed038085e90d89d',\n",
       " '7cb1ea7b2257aeeeba701a8f6e3e0127',\n",
       " '7cbbe686c4a233e8cf53528748f75223',\n",
       " '7cdc62f8d3f7ab8b9d2dddc14c86de83',\n",
       " '7cf36a3f1f2bd785954cc876a941da40',\n",
       " '7d2883d833e215d3092c7f53572f870d',\n",
       " '7d99ac27ad194bc62000c46779c42732',\n",
       " '7dd5e83e2108a97659577e50879f9d9f',\n",
       " '7e11aaffb1d08f8091ea94598f7865aa',\n",
       " '7e3d8e737aec8f1eca019302593c732e',\n",
       " '7e4c1d31e279a700c6b8e66d820e8601',\n",
       " '7e6ae1b372e8e0b509b83ba3658b8107',\n",
       " '7ec5ac2dea80b6c5e4cfd20eba597d20',\n",
       " '7ee2e665b7de2e1cc29e3c65bde0c318',\n",
       " '7f2f1f3039d1f5bc23226fc36577eab9',\n",
       " '7f6678a6217c831b716feca796f689fd',\n",
       " '7f7c64d439d64656d6baa40f5798cdf5',\n",
       " '7fd12776e6d62da6e1dd3cbc9882ee5f',\n",
       " '7fd3f7b35e8b4a66432c974c8cb5c46d',\n",
       " '8015db34d09642b046c775e8157dd729',\n",
       " '8026dc3e27e8e318cc7431a723f7ebc1',\n",
       " '8050d31bffe6827c804b8222338aafb2',\n",
       " '80e9cb3d2d7f9ff7bc497c34df366d03',\n",
       " '812bfd40e47dfde2ff5326e899b42577',\n",
       " '8141b9d5af35017a907b1e88c17f7963',\n",
       " '81a695f80d3f5c445910d310f1a83eb8',\n",
       " '81e739c7f3be737152f2e6f520e3494b',\n",
       " '82466269245f199d7f850509307a497b',\n",
       " '8284c10b2890ed53e17de5cfc33cdb96',\n",
       " '82fbc93cd45ab747e7e606f2c52c7335',\n",
       " '832a66ce379b4c98fd3d748eebd7ae4c',\n",
       " '833a87b0af3b84fe246d2ebf271af177',\n",
       " '8396537a124f502d11ab99972c816129',\n",
       " '83b7c331ebdd018bea7cecb6171eda96',\n",
       " '83cef279f0ea5d772523d0d8b2923fbe',\n",
       " '841b14271aa4c29f291f600c9556145c',\n",
       " '84b2e623a4a4327b88f7fe197a09be31',\n",
       " '8507eb0ef32c1c0db700f20aad6d9bcd',\n",
       " '85aec4bf3185da7ebcc45003429cbfe2',\n",
       " '85fe188e1ee8237b70df0d475907bf24',\n",
       " '86089ddd9f9e52127ce838f210f776d7',\n",
       " '862c7462f12de819d93f93dc573289c5',\n",
       " '86a39f77de21aa9654e8ea03335244fc',\n",
       " '86b358a265312c139e5714e663daff05',\n",
       " '86dcb7d4ce6ec7bfb3e26d1bd859f4fb',\n",
       " '8720a25546a572b0217817a82bfd00a5',\n",
       " '873a955df5a2f677a41a7efc94060e41',\n",
       " '8748b6cd9f03afc539f246c55e230502',\n",
       " '87e0ba259a84a10580bd659466e73e23',\n",
       " '87f1807e002d3555b8dfb465a8a61df2',\n",
       " '87f256eeace1a0c2b1f934f061646da5',\n",
       " '8818424349b75a67775353d1feef2635',\n",
       " '884ff6050ff3d6b2c8f681c300a21b2a',\n",
       " '88650de379b6ecb085ecb3c2e6b42d4c',\n",
       " '8872dd7ca802f56c1c3ee07e22e84cfd',\n",
       " '8876d7569efdaff5a21b33a1ab44a13d',\n",
       " '88ca277594f22bb7494f2d0bbc51f8ba',\n",
       " '8932c9a89b487bf9f2b3fce06c7c6553',\n",
       " '893aa5ed55f7cff2eccea7758d7a86bd',\n",
       " '894904e26516d491bf1c7711fe800e78',\n",
       " '8962b50b699ddf4712ad18d29c6a3862',\n",
       " '8963e56482bbd3e9d05e0709d61ee0ca',\n",
       " '89b95537d8697203ab278237289a52a8',\n",
       " '8a15fa23b8c39ac1c7eaac94cbbe6fc6',\n",
       " '8a184fe2c82ba6a17fbe07f94d0dd875',\n",
       " '8a306758531cffad41e7a28e41576c49',\n",
       " '8aa19c1f26ee1f256d4c3ab5f2f849be',\n",
       " '8b268c1e68f198ae2e934717d49f48e9',\n",
       " '8b7a51c69b47f4714b5f7131077b5d30',\n",
       " '8bf65b132179faf26f61e26274b2b819',\n",
       " '8c62cbbd23958ae380fea906f6b5a994',\n",
       " '8c6942026d53b881d1da9359ea19c9fc',\n",
       " '8c81ed9792bee1c2d6c3b8289d80eece',\n",
       " '8c90f3ca64ea1a8ce104c3c3f5fc173f',\n",
       " '8ccc970bf4c55e9b2710d5319161c357',\n",
       " '8d1abb3504a19ab41e7d8b8b1d5dd839',\n",
       " '8e8f5dc78f80eff3c77a9714303f59d2',\n",
       " '8e94fbcd81112a21860355b3b11cf52d',\n",
       " '8e961e4fd248c9496ca54808d2d2b25f',\n",
       " '8ec6ee9814a27423e66c3c9ea26f77aa',\n",
       " '8ed6faebe087745cc1a3ed5aec2a57cf',\n",
       " '8f41774c16a931d71fcf01f8fee171e0',\n",
       " '8f41c6931b5220c2bb34d1cab21cb220',\n",
       " '8fc61e0dae2460bc6e8f152283d20173',\n",
       " '8ff973688c976a08fc7242da37101417',\n",
       " '8fffcfe66dfde658580f98f6e28a6a46',\n",
       " '903d63e2b71d692ccd628e1de516516e',\n",
       " '90453db0386931707b256dfa1e32c404',\n",
       " '9059227d71995f88a1f48ff63830f716',\n",
       " '906b5b16c78ba1c718501138702cb32c',\n",
       " '9077acd25761ea067ac6d9369d8fdf16',\n",
       " '908cc351957d02f72f60916006c531ba',\n",
       " '90906358dac904c4f05c12c798ac5221',\n",
       " '90e56526f4c5892beac49f262b85150a',\n",
       " '90f86ac4065397340e8012261577c220',\n",
       " '911a6efe69bde398fbbddcb0b4bb466f',\n",
       " '91795f4b0e4aac27314477a91b63bfb7',\n",
       " '91a5328e7235424885d271dfa0959eeb',\n",
       " '91e22428c0dd8871288ba5dac35a7382',\n",
       " '920154acbe49d3202ed7d2ed2df1ea13',\n",
       " '922a04084481d4b3275a3f7bb54e90f3',\n",
       " '93618b8a998782d4d847ee5cba5c7de2',\n",
       " '93f01d6cd167fa549928a9b649f87ccc',\n",
       " '93f45475c82bdee6df73c6e08011b7da',\n",
       " '9412b6fe7b97e405def91f24f064c547',\n",
       " '9438a0874e0486f46f3669cac6c2ac90',\n",
       " '948699ab8c947ce56c256f9cf7996761',\n",
       " '94a0d2804a77f7d2bfab6f3f0ae5254d',\n",
       " '952a100cf3a5bdf2d655e9cdca0e9dd5',\n",
       " '95330f6f0f44d17b918feec36bedcdef',\n",
       " '955abcd11312fce2fd02a91a9b05ae71',\n",
       " '958f54f4c46b53c8a0a9b8167d9140bc',\n",
       " '95b0779b1a04ab70d62c72b53090c4b3',\n",
       " '95cb9561009bd6707c67f05e6a00c16e',\n",
       " '95ea40dc6c0e81407e13d70bd52a5c95',\n",
       " '95feec21a9d076cff084159d61bf9b8e',\n",
       " '9613f2f1e65fb1fc7e181e7f83c217da',\n",
       " '964648862f322b2cc153239af04b22ef',\n",
       " '9656b0a52d364da5eed38a4bb2d9f6e5',\n",
       " '967d91e162afb44a67c0281f71766e4d',\n",
       " '968a2b3be84193e3f755c2fe71033a2c',\n",
       " '96bc1fbb83ad5a2c0441d132fe8bcf97',\n",
       " '9743e6d1c9f3180483825fe4d2e97836',\n",
       " '97fba8a02361aa56eaa9fa51bc1d7661',\n",
       " '9823c07cc256788556e424307f5ae9b6',\n",
       " '9833d0de7f7e1927c807411c10b19189',\n",
       " '984983d05e18e63d1a314e86cb362ae5',\n",
       " '98659fb98a4fe903f21f5c315adbaede',\n",
       " '987e13b445c34bfedb9796d2bb78d593',\n",
       " '98ad5b99ad96695568d8f143b11ab740',\n",
       " '9906d8f74589c452b00f2b5642a63c5f',\n",
       " '9924fba9b2a738e5a141995952e73104',\n",
       " '994f1d8ade16b9fddce3c127eb7f38ed',\n",
       " '998a39dca0ef610c3a0ea4e9cc6e1681',\n",
       " '9993de7e2bcced43dc9edb3b2c81f23d',\n",
       " '99b5905a1079edc2744b06a4049719e0',\n",
       " '9a02f44389bda4c60e7dc23947dbca58',\n",
       " '9a0413117aa91c668ba5944770347cc5',\n",
       " '9a3cdc88ebbba7612e88eac1b82c5f82',\n",
       " '9a8fa4fd6524ada03411b033a9daadc1',\n",
       " '9a9402ad55d079c86c302521816b7b0e',\n",
       " '9a993e1b59649c93f667d38227325066',\n",
       " '9b00cab981ab825158c05c9e54b866d4',\n",
       " '9b805665a791f40e7946a73dcea17e35',\n",
       " '9b9fc81808086cfd1ce5a2b46e2f9926',\n",
       " '9ba898ecb77ab5a6799c8b047c6b6008',\n",
       " '9bd8526e99697998cdf7dcbdfa044847',\n",
       " '9c06a95a82c3bd6635b9fe6e92b15902',\n",
       " '9c41f67773da27940d77460715e880be',\n",
       " '9c4ab8ab059c912090c83cb0818e7f1c',\n",
       " '9c8fdf6c9c631d0892e9a6f55a4a2fd2',\n",
       " '9c9385abdb73ec1f1f93acaf81c6e1d7',\n",
       " '9cd443dad2c8f354fd01869a57fdc171',\n",
       " '9d20743a61f62fe6f9cdc5ff24d46d23',\n",
       " '9d279c825ba12804c337f883b366a6e2',\n",
       " '9d2d833bf63095902417c2a35f72432a',\n",
       " '9d3ca83f7017d6e9e129964e88503ff0',\n",
       " '9da942796e9fac272db50b2f7546b94a',\n",
       " '9dc48a756ba86bbf6934ec6ddf9da03d',\n",
       " '9e07a3eeee6aa9e656106281cdd30d67',\n",
       " '9e81a24714e06b0ca9b4fed8cae42611',\n",
       " '9e90fb6c7870637b6f794e4b4c26bd7e',\n",
       " '9ec6285cc619688d787d641cb87c10d6',\n",
       " '9f141b3c3d9096f5a897d01b48e3b360',\n",
       " '9f76aaed44b540869da862c5dd4b266f',\n",
       " '9f9bb0ef3bb8af571bcfbfa1a22150bd',\n",
       " '9fb8662af03c957ade34d4c816d4e903',\n",
       " '9ff54c12cc7ffd7c1a6724477b8fea2f',\n",
       " 'a0133654f3911e47f021da4e49d42926',\n",
       " 'a060b5acc6e3fb814769805db61f589b',\n",
       " 'a11773bc4188f1c6226b941ec61c2024',\n",
       " 'a124d6e4c30b00918c594289266a383c',\n",
       " 'a12d9ae5720ae41446e084911f0c2865',\n",
       " 'a18d4ddb1a1c3463d6719e526573c4ba',\n",
       " 'a1a266a37d38f7ce41d11f1868d8c9bf',\n",
       " 'a1fa0e24b2249ffa81f688c4840f1eb8',\n",
       " 'a1fd886094826c3f25c6ffb380073974',\n",
       " 'a231459c1562ee1117e95a61128820b7',\n",
       " 'a30aa3b765b613c158fd3a295ed934fa',\n",
       " 'a341f915962ee99754e962520f279708',\n",
       " 'a371cfcae8c6ec3b82ae37a83a8ae9b9',\n",
       " 'a378736c1510a13966b42c2d6462f526',\n",
       " 'a3dea07b2f7bf48276d32513091be717',\n",
       " 'a41371b2f8859b015031f0d5eda5184c',\n",
       " 'a43fbae655e5d13215b9dd65339fa9d4',\n",
       " 'a445d1f73be8f81dd902fd5dc8529416',\n",
       " 'a4951eb41979fe482879f777c8f21d2b',\n",
       " 'a4b09aa7927c59fbb39960b3d7919909',\n",
       " 'a4d9e71172f619f8e3122e34bb0bf3cc',\n",
       " 'a51b2c34b3d5a6e5d0591ee6e0b4d335',\n",
       " 'a541b3aba326d7749b4c086c3cea9273',\n",
       " 'a54b94096938252901d3f7f8de97bffb',\n",
       " 'a554abb9699959ec78425eac2b997c27',\n",
       " 'a5e1b49a1ddf038888e6de3523b475fb',\n",
       " 'a618354ba17cff64826558d81afc77ab',\n",
       " 'a63eecfbb02004863fa1f29a0b8105fc',\n",
       " 'a66a68fbed935f90b62d5d29003267fc',\n",
       " 'a67d4b8df18ac476cd1b0bbd80e589a4',\n",
       " 'a6c820b76bc29bbe2d85eecad3de03f8',\n",
       " 'a70ea60f971825b2eb57261029f317ec',\n",
       " 'a76bf8400b3dbcdbe5a5678f4a8ea0f6',\n",
       " 'a79117ea49a0533f641facdb4c99f502',\n",
       " 'a7a294ddbcd9bbbc46c034079529c17c',\n",
       " 'a7bd63ef1d3b345d7f9a162865bb7c0d',\n",
       " 'a85a7dbd31267a7b02eda3a4d484632d',\n",
       " 'a863d956964ed41b7c90f5138dc69db5',\n",
       " 'a898bd6978f9f2c6aa940b9fa3352c27',\n",
       " 'a8e2698d5bd4347f8136c86104ae03e3',\n",
       " 'a8ea6fc2b3cd95f46bced80853ce8e0e',\n",
       " 'a97b85d31d715c65b2970c4177eb0fda',\n",
       " 'a9b35b94610a3d7f4fa91f19693c5248',\n",
       " 'aa41433dfba2c7561fa30be3fed1e8f0',\n",
       " 'aa68675f50a0551b8dadb954017a50a1',\n",
       " 'aa82b75da7579007963e53b6f818281b',\n",
       " 'aab46b84f70cc6774afaafe1d6035de3',\n",
       " 'aadbc3b9c32c4535b1bfee7321c4c0e7',\n",
       " 'ab3f4b2d2ec007b7e0eaec213bfdbffc',\n",
       " 'aba92798c4b2723e23131478d6c97293',\n",
       " 'ac209ee3c602efed4ff093854a4ade06',\n",
       " 'acd2f21d63ac0bbed4d52e6010d9460b',\n",
       " 'ace154420a51fad090b3543995630051',\n",
       " 'ad08a6efe82576ab162a9336feff647f',\n",
       " 'ad55b7ac6f7284b90d31a1a2f175df8d',\n",
       " 'ae03731c3482a5e42d040dbf723c49af',\n",
       " 'ae19a81b730b48b87ca72521af8fb902',\n",
       " 'ae45b64d808a883aa35f2bf4de879cac',\n",
       " 'aeb421e416716d5f037d50e8c3b14cd7',\n",
       " 'aebf3a2172b33ef09acb472009967812',\n",
       " 'af13232271963742c118a1c58affa259',\n",
       " 'af1ac46194b5488048c459102a16a57e',\n",
       " 'afc3ebd18df498dd87abb7ad7536b5c7',\n",
       " 'afc829d45be38102afaa20f4bce2f627',\n",
       " 'b0229d4466ac60c7ba53c7ce9fabad7c',\n",
       " 'b144a363c107c7bdd91f32d6e28ba6f2',\n",
       " 'b1644f47c7dfa58f8c06677f2a27ee09',\n",
       " 'b17d093c269db6ad3bf4b6076461fd72',\n",
       " 'b19c9174113c2b9288157e14c48a8250',\n",
       " 'b1c7aa8e0f50e7ee73ed30d12af1a961',\n",
       " 'b1d61c60791a01827e3251e362c78573',\n",
       " 'b2e4a7feb6bbca9cca2c0c1e18acbcfc',\n",
       " 'b33d82c619bf88c3e3bb8f53beab0c4b',\n",
       " 'b362b56f7ee80dcfe9d8bb643df87007',\n",
       " 'b3e5f93856cce162850713bb8edce52a',\n",
       " 'b42a9b597a3a3dc8f428e2e2323e9aff',\n",
       " 'b4327c9879644be2a04e9b2df963f6cb',\n",
       " 'b454f9f449c9dff58b90113ba984ea98',\n",
       " 'b46d7b8e6826ad4c8b40a991da0f54d7',\n",
       " 'b48218a94e220c20373ed50dc4254093',\n",
       " 'b4ccd4c315d99edd7c00d015b714485a',\n",
       " 'b4d35b6536b623c83b293eb3a1c02bba',\n",
       " 'b4e829e38d69d299a923abf8d11ac18d',\n",
       " 'b515014adccb1fdf5ff1e2c4a8ff9ea6',\n",
       " 'b52073e7ed9c00c4108cae4eb0c49c1a',\n",
       " 'b551f20c6a8a1dc3d102a5f04bc8d7d6',\n",
       " 'b58309ed929c2bf7d6096c03667b654f',\n",
       " 'b5834f1e97c74d2833dbcb09a3f27926',\n",
       " 'b5aafdb7cfde56f3e9e1364eb1efb691',\n",
       " 'b5b47b2ecf5cf5760051b0a980ed7a3f',\n",
       " 'b5d1b8ef70b1ce27726f7f6c2f373e56',\n",
       " 'b64149a8a9235f5199c6d8225d5dc602',\n",
       " 'b6c339777814451815fe7950fd4c8536',\n",
       " 'b6c4cb6a29dcbaf7fa958f04c8215547',\n",
       " 'b7214d4c357e3f7acae72fcbe7d31afe',\n",
       " 'b78586222de9a1095d0a9d88455ee75f',\n",
       " 'b7e42b52534c5e49eb03817d754c2153',\n",
       " 'b7ef3e6ec248f17f3a6a4697120ddb96',\n",
       " 'b85f8843bb1c297dd5712f0bd287006d',\n",
       " 'b90046b67cafcedfd363afba5fafc1c7',\n",
       " 'b91b13aceec0a140944a2c8915e45e59',\n",
       " 'b92e13d5ef945d086fd4f42b95bc04ac',\n",
       " 'ba9f3a5ab1517a644322d856a7d25946',\n",
       " 'baa093d149982b010ab72ecbeec6110f',\n",
       " 'bb18279e9885136f1dbc8676d4af94e3',\n",
       " 'bba68d75eff1b7b5eef7f6c1c68f2227',\n",
       " 'bbb8cdc5406ff60ff06ff64630f2ca47',\n",
       " 'bc2aaae47829fd5825f6cc2ec51c2c5f',\n",
       " 'bc6b11881b783f275edd051431e531a8',\n",
       " 'bc784846bd59a16832454416ac708003',\n",
       " 'bcb51cec3d290e6a661586d0df30e091',\n",
       " 'bcb8e456728013a90ba66ab3b1b783ad',\n",
       " 'bd14484c68d8a2992a6fecad36bd9f37',\n",
       " 'bd2a71a635bf307de0056b74205918b7',\n",
       " 'bd95002e0fea67f7ec2f2597814c5eaf',\n",
       " 'bdcc7e18ffed5390cd3107030992ffa6',\n",
       " 'be09f5a3a88ac10ae14c791fc8ac0dae',\n",
       " 'be0e65c6d8c2cc8cb913b36aa4168cf0',\n",
       " 'be0f39341d771aac57084970f1ed6425',\n",
       " 'beaa6285a2b9c66db0e294767711ca3f',\n",
       " 'c063d07d78a55a21bf6c0e7c8ae46a6d',\n",
       " 'c0a7134d52d4aa3eb5874aef112f809f',\n",
       " 'c109187e7975ee8fdb2b3dfbdd9dce20',\n",
       " 'c12fd368ff03f5224b92771824cafb9c',\n",
       " 'c1e9b5875e442203073211c522072973',\n",
       " 'c205b200b10aab43be31df8fc1db6d86',\n",
       " 'c20bf28cd809790c04e78fdaf47c038f',\n",
       " 'c2e71e7c97489d4efa5eab796ae354ac',\n",
       " 'c2efa8aa11898bdb5fc4e46201973a42',\n",
       " 'c36ea960a14f164ee0f39ad6beb3796a',\n",
       " 'c38eb8abdaa1d8c28bc8c262761dfbc5',\n",
       " 'c3c23b5aa5e388e5f71883f61d1a0561',\n",
       " 'c3e1435782c0929327449eec11475b96',\n",
       " 'c3edc504d1b4f0ba6224fa53a43a7ad6',\n",
       " 'c417f408340252f170f05dadf88160d7',\n",
       " 'c44a5dc5b5ebe5b3e0535b7c2b7921e4',\n",
       " 'c4581cae6bf751a7ae5c40bb16b74e98',\n",
       " 'c4ac93e194281d6d1450ffdaa52f5f99',\n",
       " 'c5590e238d44b370337624f5987fb9b8',\n",
       " 'c5720509a67da707afcb6f4f0282d529',\n",
       " 'c5c559012b742d9966df82182b90c6da',\n",
       " 'c612bdfa459e1e2f20d57348336c24be',\n",
       " 'c65fa0b38ab99792630468bd7dd26416',\n",
       " 'c6adf41cd378b1f6a7ac62675b060411',\n",
       " 'c6cd71c28144224b080cdec222bc4833',\n",
       " 'c6f4475e2385cc16ce83f21f975614b3',\n",
       " 'c705a5735a94aeee547d1798e3e46ec4',\n",
       " 'c7207128c680a437e1cad834a8880007',\n",
       " 'c75d6d827876b0d0127acb59e5a251ee',\n",
       " 'c7d81193e868b50355412ced7a67f8f3',\n",
       " 'c7fcd0d983a51283e58b806f065cc920',\n",
       " 'c8c7385b1b9589f009aa836f0590e646',\n",
       " 'c8e2c85eccdc9db55eeb2231385e4f1c',\n",
       " 'c8f42da0f9f695f07067676eae4135c8',\n",
       " 'c91f9dc1fdd8b4d60c6b2a2b607e3e8f',\n",
       " 'c943647eee4de99fc1b4e233b9a7f47d',\n",
       " 'c9531b92270ef77516d5b5b7ba2568e9',\n",
       " 'c997312abfa36281d41366cb4a3b908e',\n",
       " 'c9c4720bca91b8ce27d8190a7c4c139c',\n",
       " 'ca82e1f23bb6cac66a32fce1c22534a3',\n",
       " 'caabe6014b914fe2874a9a8d7284f79b',\n",
       " 'cab75cad4b3a3c593c753a1759df28e2',\n",
       " 'cabeeb2c7f68a833964bf7329d360886',\n",
       " 'cb096f17218f0e4ccd7424963e2cd0f8',\n",
       " 'cb0afa31d9ca796908fde019cd64044d',\n",
       " 'cc24426f00c1cf9ae0bf76e8bd23c336',\n",
       " 'cc2acb156df3202f172b280132ab459a',\n",
       " 'cc2e2bb105a5c2b2e43842886d057b81',\n",
       " 'cc9412969fab14faba65c70e00fef4a8',\n",
       " 'cd089e2ef349a7f00dcdbf28965914f6',\n",
       " 'cd71b07a1d37a5e2cc04240e8498cc76',\n",
       " 'cdc33ed715261b08e315a2a19427bc23',\n",
       " 'cdf4aedfc9420a2e212fb64e2688bcdc',\n",
       " 'ce02ab514e4c623dcf7acd7182a7762d',\n",
       " 'ce2f67c3365846170cb709784d87e45b',\n",
       " 'ce9207944cedeaa82e4ea6269586af2a',\n",
       " 'ce9cb60201f1cdc33e4b58d3583c7a5c',\n",
       " 'cf03921bd7eb3afd84c4b12a434d03e5',\n",
       " 'cf1be83386eb96b2ab9598944ebca6fc',\n",
       " 'cf2ba696547459733c6bbfad4e3bcf62',\n",
       " 'cf3e938bf6d66c65ce94f8c206ed0809',\n",
       " 'cf6a4daf0e795838061b0eb832bbc99d',\n",
       " 'd06bb04b096c77dc3302eaf2db336f96',\n",
       " 'd0af95243e993331c4357fdf90dc4692',\n",
       " 'd0e09eaa7fcc9e7de3349959800d2141',\n",
       " 'd0fee79693c7dc3132d30491323b6407',\n",
       " 'd136aa676ef52b09eab65762940957fe',\n",
       " 'd1899ab1d5c79ddaa311bc9f04d198ed',\n",
       " 'd19d17140fdd9adc09ba6e2ad1e1ebb9',\n",
       " 'd1e18b4a3aafb0040da2111c8b8ce2e5',\n",
       " 'd202ea988ab11f2327279093ac71975d',\n",
       " 'd21409978f5e404b53f89e444f7893fe',\n",
       " 'd218c32df572e82db50faecd62179db2',\n",
       " 'd36e6f157d1155369f763a0a434fb129',\n",
       " 'd376da2235096f74600d842b6f5f2d1a',\n",
       " 'd395b2f3d13ff8897f403c6141e0e39a',\n",
       " 'd3f4a4336324a3d180de23df1e75b9b7',\n",
       " 'd407ab825e1a266635214bfe893f29c4',\n",
       " 'd43d9bb261aaaf818c81a645e727b2d3',\n",
       " 'd4684dcdc759dd9cdf41504698d737d8',\n",
       " 'd47f1cb78db4a23e2516e2d34da34c8a',\n",
       " 'd4b625befbbb7e8004e53c187f286e11',\n",
       " 'd5d6c94b78fb0875b2894d44e7c46312',\n",
       " 'd61b368146f83075937e144dab93c6a1',\n",
       " 'd627a270302d23eef773d05ad01fd03c',\n",
       " 'd68b774e9529a4b94a5c6c8943a1b8b3',\n",
       " 'd6a50203fad654981605a70a7bde52b7',\n",
       " 'd75705ad163412347cba51f882e9c0f0',\n",
       " 'd77279c8268e231b685cdbaf299e83f2',\n",
       " 'd774c05556d3de1f991d1a46e204a0ad',\n",
       " 'd79e6ae847a561c284a2b14e42500698',\n",
       " 'd7ca2b06b4f4d3b98c61c377b18a2d6b',\n",
       " 'd7fded8e211b3033e424fb450b97caec',\n",
       " 'd86f260ff28af531443f822c11746521',\n",
       " 'd8ef80a8ba345dedc9f944cf21201988',\n",
       " 'd98147c96d2eebf723b2b67d791bcdaa',\n",
       " 'd98fac46793639eceaaa2e74cadd4973',\n",
       " 'da2ce8d17a17f9d19b368434aedea5e9',\n",
       " 'da8017c195b3bfa4ef002968a3542707',\n",
       " 'daf06eb2b9613900299539558e287701',\n",
       " 'db3e2eeb4fe90d4755f2911d661eae95',\n",
       " 'db6c79a1d852944a89e157793f392d67',\n",
       " 'dbb55b8da8c30cb67014d81405d98a41',\n",
       " 'dbca6ab4ebf827884073e2890388b744',\n",
       " 'dbcaa93cc0542079e9c88db51ec23676',\n",
       " 'dbf7c443a45d684944b5d9928eef051f',\n",
       " 'dc0b5ef48b4c132d0651613a9c1e8e40',\n",
       " 'dc777afc918f513a7253187e00a11948',\n",
       " 'dcab5c08ed8e6c2fa039e01367390071',\n",
       " 'dd0b73d97cea6cc71d263a77fa7982be',\n",
       " 'dd0e3470a7e6ed76fd69c2da27721041',\n",
       " 'dd5d6f0649f40d49791bbd5c00758e2f',\n",
       " 'dd9a5979c32bbdd836984529af862303',\n",
       " 'dde89969aecfa2c5245e8059c660b139',\n",
       " 'de29bf3288345e23b0e25345a3a057fb',\n",
       " 'de47d0cc0c4875fb97530f66d934c894',\n",
       " 'de911421573d3e234450040374b55b38',\n",
       " 'dea88a5f46d5fc19236651e6b3e0b3fa',\n",
       " 'df11d370920e09a2985e574ffd9b0ff1',\n",
       " 'dfbd96036cbc28566e964cff04b5b3a8',\n",
       " 'dfecd0265b899cb36fbb1fddc6f861a4',\n",
       " 'e0e261a0d4fd2ffdcbcad324e91a0dd4',\n",
       " 'e10cbc680042d27fb747db2ac8e7a585',\n",
       " 'e15195f2a5ebaa2168ccd65324e65e8e',\n",
       " 'e1b2b3ad430dd738d958292441b6d046',\n",
       " 'e1d8c5b60f9157f8e21c77cf795952f2',\n",
       " 'e1e133cbe616bee3b3e9e6f4f0882e3d',\n",
       " 'e1e2883b6845cb214ec8d365cd496008',\n",
       " 'e225be101bbad1ea9d031261ba4387b8',\n",
       " 'e24ef34ede03630207f0d367f633d8ea',\n",
       " 'e2ae2af58ac50adf4881751ae84a9d8a',\n",
       " 'e2cec0756030a25f294ead3acc0570d2',\n",
       " 'e33795f66b2a42ac56095ae704ab25b6',\n",
       " 'e347e7eca70e01badc3bdf6c154ac7c4',\n",
       " 'e365b55f806e5d0abe0094a9f2590e33',\n",
       " 'e39177ad1acf95e44ddd430bf969a86b',\n",
       " 'e3ae62ed831fd8b4c20e1742c30d35b5',\n",
       " 'e3c741a05c82c54343b94ed8c1292e2a',\n",
       " 'e3e7c584f317d1b5d6ac0088c411565e',\n",
       " 'e40e9b4ae48e452dc407d299b467d0c3',\n",
       " 'e426290a8f57e82680275bb91df91ad1',\n",
       " 'e47b9f88b773b3fd97ab3b51642ff6fb',\n",
       " 'e488005c7fb68747d3458c7d73760bae',\n",
       " 'e4922f01eda047582cd72e9d1063ab7a',\n",
       " 'e56ffc10078972b5f4e7302383db8d72',\n",
       " 'e6b483fce5fd910afda67d97dc04e775',\n",
       " 'e7cab08a267e815c72a26513222783e0',\n",
       " 'e80e5151787eb21b0cca0d7dc3b0c338',\n",
       " 'e86daf9ebcdfc5c5dd088cdb7f8f8db6',\n",
       " 'e87bad0de3447c9ac3a8555e89545c75',\n",
       " 'e8ee7868b0c3d1d04b482cd4f3ec5ccc',\n",
       " 'e921fc17a0ed9a58f76d38558deb9337',\n",
       " 'e93cd13f5269dd51b8359ccf93ca5ace',\n",
       " 'e9420e9483f16db81c64dddf99f34841',\n",
       " 'e99d9abb115a9bd580bcccf9ff4d4881',\n",
       " 'ea16e13a7cf16d8665d1bc44738dfa88',\n",
       " 'ea199e645da893f2ab0c45cf07face13',\n",
       " 'ea42376c9c52752d9d01bba12eb2999b',\n",
       " 'ea82cb68a6e79d3c10fe9c4255c6a508',\n",
       " 'ead122f4b1da293eb2d719baf104dfc9',\n",
       " 'eaed0897074ee52230ff6c6d73c18dd4',\n",
       " 'eaf55e90d0e4295cb84cb0276e78c35c',\n",
       " 'ec590694e8bf85f75c9200cf418127aa',\n",
       " 'ecb5bba9a5984d2b35b8ac3f56056c67',\n",
       " 'ed139e0d1b5c973495e1aa35dd4a5533',\n",
       " 'ed1a2a831475966a779524ba67ae2ac7',\n",
       " 'ed9817e8960a6a0d509061c54cfe5ac1',\n",
       " 'eda00df2c5e1d006a8608e881bfcf300',\n",
       " 'edb97bd2433fd9de301c8a44344777bb',\n",
       " 'edec3bb5df9c4bc618752e94532bb36e',\n",
       " 'ee27bc4719ae58c5cb3f1dede61fcf54',\n",
       " 'ee6d5fe464237e85f61cc9128710ce32',\n",
       " 'ee78c1e94bdc217d1d0eaef5c567417a',\n",
       " 'ee8d9ff65e0fe4278afce7c933d30941',\n",
       " 'eedee8680f0ed35dcf612c6774affe83',\n",
       " 'eeecf5d16fa6591290706f1fd0c6fc6e',\n",
       " 'f01140c02fd09e5c56312a64fa8db3da',\n",
       " 'f01ff0a82401117e9da22dd680fd2f36',\n",
       " 'f0938b0d88eac91deee6d5add54097d3',\n",
       " 'f0ab5f12bd777e28a401a728fcb93a4b',\n",
       " 'f0bc8dff0e2ef0b75f1c78b4f67bcd63',\n",
       " 'f0d5e49c1a5aead18d5ff2e8f611de4e',\n",
       " 'f12a06b7dbfc55638afafcf8bb03d836',\n",
       " 'f1484a63c0dc79e96c98b2a250380ed8',\n",
       " 'f1ee63a5f0db853e2c1b377778580d39',\n",
       " 'f242a2cf1525f7700770cf1262b4b660',\n",
       " 'f25d2701ff23f6749e8e69ca17987993',\n",
       " 'f2658bad8c2b7d5b08984c6ac34267f7',\n",
       " 'f2689f048b3b6f0ff863bf0cce28873d',\n",
       " 'f2751cf0dd59d223cacbc5da5df42a1a',\n",
       " 'f28dbe6996336f063e804f353d7de4ce',\n",
       " 'f2aaeda52ac1f77c2886af013fded02b',\n",
       " 'f2f027ad6a6df617c9f125173da71e44',\n",
       " 'f2fa99bfaa4aa65a2bd53337e140f949',\n",
       " 'f309bdd259c5b46a560bc1620e641947',\n",
       " 'f355cc1ccb08bd0d283ed979b7ee7515',\n",
       " 'f386f28cbc2ca9a63b5dc7a8fe6d5098',\n",
       " 'f39a2cce8929f5b44087d688995994e4',\n",
       " 'f3ad282dac6ef0e30585a49ac67a322b',\n",
       " ...]"
      ]
     },
     "metadata": {},
     "output_type": "display_data"
    }
   ],
   "source": [
    "# live patch : j'ai oublié d'agréger les ids au moment de passer sur les 10 fichiers\n",
    "from img_processing import get_file_names_and_ids, get_all_1050_dir\n",
    "rgb_dir = get_all_1050_dir(\"rgb/\")\n",
    "_, ids = get_file_names_and_ids(rgb_dir)\n",
    "display(ids)"
   ]
  },
  {
   "cell_type": "code",
   "execution_count": 11,
   "metadata": {},
   "outputs": [
    {
     "name": "stdout",
     "output_type": "stream",
     "text": [
      "rsz_gray_ski_sift_feats (1050, 1824)\n",
      "8.715 MiB parquet file saved\n"
     ]
    }
   ],
   "source": [
    "from img_ml import save_im_features\n",
    "from img_processing import get_all_1050_dir\n",
    "save_im_features(get_all_1050_dir, ids, im_features)"
   ]
  },
  {
   "attachments": {},
   "cell_type": "markdown",
   "metadata": {},
   "source": [
    "### Seconde exécution sur OCV SIFT"
   ]
  },
  {
   "attachments": {},
   "cell_type": "markdown",
   "metadata": {},
   "source": [
    "#### Loading"
   ]
  },
  {
   "cell_type": "code",
   "execution_count": 1,
   "metadata": {},
   "outputs": [
    {
     "name": "stdout",
     "output_type": "stream",
     "text": [
      "Dataset fragments:\n",
      "\t rsz_gray_ocv_sift_descs_0\n",
      "\t rsz_gray_ocv_sift_descs_1\n",
      "\t rsz_gray_ocv_sift_descs_2\n",
      "\t rsz_gray_ocv_sift_descs_3\n",
      "\t rsz_gray_ocv_sift_descs_4\n",
      "\t rsz_gray_ocv_sift_descs_5\n",
      "\t rsz_gray_ocv_sift_descs_6\n",
      "\t rsz_gray_ocv_sift_descs_7\n",
      "\t rsz_gray_ocv_sift_descs_8\n",
      "\t rsz_gray_ocv_sift_descs_9\n",
      "n_descs: 2943562\n",
      "estimated best k :  1716\n"
     ]
    }
   ],
   "source": [
    "from img_processing import get_all_1050_dir\n",
    "from img_ml import dataset_fragments_n_descs_k\n",
    "data_name = \"rsz_gray_ocv_sift_descs\"\n",
    "filenames, n_descs, k = dataset_fragments_n_descs_k(get_all_1050_dir, data_name)"
   ]
  },
  {
   "attachments": {},
   "cell_type": "markdown",
   "metadata": {},
   "source": [
    "#### Training"
   ]
  },
  {
   "cell_type": "code",
   "execution_count": 2,
   "metadata": {},
   "outputs": [
    {
     "name": "stdout",
     "output_type": "stream",
     "text": [
      "data_name (rsz_gray_ocv_sift_descs_0)\n",
      "rsz_gray_ocv_sift_descs_0 file size: 36.629 MiB\n",
      "rsz_gray_ocv_sift_descs_0 loaded\n",
      "from ../tmp/preproc_images/all_1050/_img_features/rsz_gray_ocv_sift_descs/\n",
      "in 393 ms, 230 mus\n",
      "shape: (276957, 130)\n",
      "mem_usage : 276.805 MiB\n",
      "__sizeof__: 298.199 MiB\n"
     ]
    },
    {
     "data": {
      "text/plain": [
       "(276957, 130)"
      ]
     },
     "metadata": {},
     "output_type": "display_data"
    },
    {
     "name": "stdout",
     "output_type": "stream",
     "text": [
      "MiniBatchKMeans.partial_fit(descs)\n",
      "in 6 s, 234 ms, 825 mus\n",
      "data_name (rsz_gray_ocv_sift_descs_1)\n",
      "rsz_gray_ocv_sift_descs_1 file size: 47.218 MiB\n",
      "rsz_gray_ocv_sift_descs_1 loaded\n",
      "from ../tmp/preproc_images/all_1050/_img_features/rsz_gray_ocv_sift_descs/\n",
      "in 331 ms, 154 mus\n",
      "shape: (358426, 130)\n",
      "mem_usage : 358.229 MiB\n",
      "__sizeof__: 385.917 MiB\n"
     ]
    },
    {
     "data": {
      "text/plain": [
       "(358426, 130)"
      ]
     },
     "metadata": {},
     "output_type": "display_data"
    },
    {
     "name": "stdout",
     "output_type": "stream",
     "text": [
      "MiniBatchKMeans.partial_fit(descs)\n",
      "in 6 s, 264 ms, 376 mus\n",
      "data_name (rsz_gray_ocv_sift_descs_2)\n",
      "rsz_gray_ocv_sift_descs_2 file size: 34.033 MiB\n",
      "rsz_gray_ocv_sift_descs_2 loaded\n",
      "from ../tmp/preproc_images/all_1050/_img_features/rsz_gray_ocv_sift_descs/\n",
      "in 217 ms, 676 mus\n",
      "shape: (258400, 130)\n",
      "mem_usage : 258.258 MiB\n",
      "__sizeof__: 278.219 MiB\n"
     ]
    },
    {
     "data": {
      "text/plain": [
       "(258400, 130)"
      ]
     },
     "metadata": {},
     "output_type": "display_data"
    },
    {
     "name": "stdout",
     "output_type": "stream",
     "text": [
      "MiniBatchKMeans.partial_fit(descs)\n",
      "in 4 s, 765 ms, 835 mus\n",
      "data_name (rsz_gray_ocv_sift_descs_3)\n",
      "rsz_gray_ocv_sift_descs_3 file size: 36.252 MiB\n",
      "rsz_gray_ocv_sift_descs_3 loaded\n",
      "from ../tmp/preproc_images/all_1050/_img_features/rsz_gray_ocv_sift_descs/\n",
      "in 255 ms, 302 mus\n",
      "shape: (274326, 130)\n",
      "mem_usage : 274.175 MiB\n",
      "__sizeof__: 295.366 MiB\n"
     ]
    },
    {
     "data": {
      "text/plain": [
       "(274326, 130)"
      ]
     },
     "metadata": {},
     "output_type": "display_data"
    },
    {
     "name": "stdout",
     "output_type": "stream",
     "text": [
      "MiniBatchKMeans.partial_fit(descs)\n",
      "in 4 s, 653 ms, 348 mus\n",
      "data_name (rsz_gray_ocv_sift_descs_4)\n",
      "rsz_gray_ocv_sift_descs_4 file size: 35.919 MiB\n",
      "rsz_gray_ocv_sift_descs_4 loaded\n",
      "from ../tmp/preproc_images/all_1050/_img_features/rsz_gray_ocv_sift_descs/\n",
      "in 340 ms, 973 mus\n",
      "shape: (273529, 130)\n",
      "mem_usage : 273.379 MiB\n",
      "__sizeof__: 294.508 MiB\n"
     ]
    },
    {
     "data": {
      "text/plain": [
       "(273529, 130)"
      ]
     },
     "metadata": {},
     "output_type": "display_data"
    },
    {
     "name": "stdout",
     "output_type": "stream",
     "text": [
      "MiniBatchKMeans.partial_fit(descs)\n",
      "in 5 s, 453 ms, 835 mus\n",
      "data_name (rsz_gray_ocv_sift_descs_5)\n",
      "rsz_gray_ocv_sift_descs_5 file size: 39.993 MiB\n",
      "rsz_gray_ocv_sift_descs_5 loaded\n",
      "from ../tmp/preproc_images/all_1050/_img_features/rsz_gray_ocv_sift_descs/\n",
      "in 276 ms, 599 mus\n",
      "shape: (304578, 130)\n",
      "mem_usage : 304.411 MiB\n",
      "__sizeof__: 327.939 MiB\n"
     ]
    },
    {
     "data": {
      "text/plain": [
       "(304578, 130)"
      ]
     },
     "metadata": {},
     "output_type": "display_data"
    },
    {
     "name": "stdout",
     "output_type": "stream",
     "text": [
      "MiniBatchKMeans.partial_fit(descs)\n",
      "in 5 s, 397 ms, 416 mus\n",
      "data_name (rsz_gray_ocv_sift_descs_6)\n",
      "rsz_gray_ocv_sift_descs_6 file size: 34.51 MiB\n",
      "rsz_gray_ocv_sift_descs_6 loaded\n",
      "from ../tmp/preproc_images/all_1050/_img_features/rsz_gray_ocv_sift_descs/\n",
      "in 221 ms, 257 mus\n",
      "shape: (261976, 130)\n",
      "mem_usage : 261.832 MiB\n",
      "__sizeof__: 282.069 MiB\n"
     ]
    },
    {
     "data": {
      "text/plain": [
       "(261976, 130)"
      ]
     },
     "metadata": {},
     "output_type": "display_data"
    },
    {
     "name": "stdout",
     "output_type": "stream",
     "text": [
      "MiniBatchKMeans.partial_fit(descs)\n",
      "in 4 s, 759 ms, 771 mus\n",
      "data_name (rsz_gray_ocv_sift_descs_7)\n",
      "rsz_gray_ocv_sift_descs_7 file size: 32.508 MiB\n",
      "rsz_gray_ocv_sift_descs_7 loaded\n",
      "from ../tmp/preproc_images/all_1050/_img_features/rsz_gray_ocv_sift_descs/\n",
      "in 209 ms, 985 mus\n",
      "shape: (248067, 130)\n",
      "mem_usage : 247.931 MiB\n",
      "__sizeof__: 267.093 MiB\n"
     ]
    },
    {
     "data": {
      "text/plain": [
       "(248067, 130)"
      ]
     },
     "metadata": {},
     "output_type": "display_data"
    },
    {
     "name": "stdout",
     "output_type": "stream",
     "text": [
      "MiniBatchKMeans.partial_fit(descs)\n",
      "in 4 s, 307 ms, 842 mus\n",
      "data_name (rsz_gray_ocv_sift_descs_8)\n",
      "rsz_gray_ocv_sift_descs_8 file size: 41.058 MiB\n",
      "rsz_gray_ocv_sift_descs_8 loaded\n",
      "from ../tmp/preproc_images/all_1050/_img_features/rsz_gray_ocv_sift_descs/\n",
      "in 260 ms, 389 mus\n",
      "shape: (310973, 130)\n",
      "mem_usage : 310.802 MiB\n",
      "__sizeof__: 334.824 MiB\n"
     ]
    },
    {
     "data": {
      "text/plain": [
       "(310973, 130)"
      ]
     },
     "metadata": {},
     "output_type": "display_data"
    },
    {
     "name": "stdout",
     "output_type": "stream",
     "text": [
      "MiniBatchKMeans.partial_fit(descs)\n",
      "in 5 s, 721 ms, 972 mus\n",
      "data_name (rsz_gray_ocv_sift_descs_9)\n",
      "rsz_gray_ocv_sift_descs_9 file size: 49.58 MiB\n",
      "rsz_gray_ocv_sift_descs_9 loaded\n",
      "from ../tmp/preproc_images/all_1050/_img_features/rsz_gray_ocv_sift_descs/\n",
      "in 351 ms, 995 mus\n",
      "shape: (376330, 130)\n",
      "mem_usage : 376.123 MiB\n",
      "__sizeof__: 405.194 MiB\n"
     ]
    },
    {
     "data": {
      "text/plain": [
       "(376330, 130)"
      ]
     },
     "metadata": {},
     "output_type": "display_data"
    },
    {
     "name": "stdout",
     "output_type": "stream",
     "text": [
      "MiniBatchKMeans.partial_fit(descs)\n",
      "in 6 s, 194 ms, 282 mus\n"
     ]
    }
   ],
   "source": [
    "from img_processing import get_all_1050_dir\n",
    "from img_ml import train_batch_kmeans\n",
    "kmeans = train_batch_kmeans(get_all_1050_dir, data_name, k)"
   ]
  },
  {
   "attachments": {},
   "cell_type": "markdown",
   "metadata": {},
   "source": [
    "#### Bag of features"
   ]
  },
  {
   "cell_type": "code",
   "execution_count": 3,
   "metadata": {},
   "outputs": [
    {
     "name": "stdout",
     "output_type": "stream",
     "text": [
      "data_name (rsz_gray_ocv_sift_descs_0)\n",
      "rsz_gray_ocv_sift_descs_0 file size: 36.629 MiB\n",
      "rsz_gray_ocv_sift_descs_0 loaded\n",
      "from ../tmp/preproc_images/all_1050/_img_features/rsz_gray_ocv_sift_descs/\n",
      "in 268 ms, 394 mus\n",
      "shape: (276957, 130)\n",
      "mem_usage : 276.805 MiB\n",
      "__sizeof__: 298.199 MiB\n"
     ]
    },
    {
     "data": {
      "text/plain": [
       "(276957, 130)"
      ]
     },
     "metadata": {},
     "output_type": "display_data"
    },
    {
     "name": "stdout",
     "output_type": "stream",
     "text": [
      "get_im_synth_feature\n",
      "rsz_gray_ocv_sift_descs_0\n",
      "in 3 s, 596 ms, 621 mus\n",
      "data_name (rsz_gray_ocv_sift_descs_1)\n",
      "rsz_gray_ocv_sift_descs_1 file size: 47.218 MiB\n",
      "rsz_gray_ocv_sift_descs_1 loaded\n",
      "from ../tmp/preproc_images/all_1050/_img_features/rsz_gray_ocv_sift_descs/\n",
      "in 296 ms, 663 mus\n",
      "shape: (358426, 130)\n",
      "mem_usage : 358.229 MiB\n",
      "__sizeof__: 385.917 MiB\n"
     ]
    },
    {
     "data": {
      "text/plain": [
       "(358426, 130)"
      ]
     },
     "metadata": {},
     "output_type": "display_data"
    },
    {
     "name": "stdout",
     "output_type": "stream",
     "text": [
      "get_im_synth_feature\n",
      "rsz_gray_ocv_sift_descs_1\n",
      "in 4 s, 225 ms, 88 mus\n",
      "data_name (rsz_gray_ocv_sift_descs_2)\n",
      "rsz_gray_ocv_sift_descs_2 file size: 34.033 MiB\n",
      "rsz_gray_ocv_sift_descs_2 loaded\n",
      "from ../tmp/preproc_images/all_1050/_img_features/rsz_gray_ocv_sift_descs/\n",
      "in 240 ms, 787 mus\n",
      "shape: (258400, 130)\n",
      "mem_usage : 258.258 MiB\n",
      "__sizeof__: 278.219 MiB\n"
     ]
    },
    {
     "data": {
      "text/plain": [
       "(258400, 130)"
      ]
     },
     "metadata": {},
     "output_type": "display_data"
    },
    {
     "name": "stdout",
     "output_type": "stream",
     "text": [
      "get_im_synth_feature\n",
      "rsz_gray_ocv_sift_descs_2\n",
      "in 3 s, 245 ms, 608 mus\n",
      "data_name (rsz_gray_ocv_sift_descs_3)\n",
      "rsz_gray_ocv_sift_descs_3 file size: 36.252 MiB\n",
      "rsz_gray_ocv_sift_descs_3 loaded\n",
      "from ../tmp/preproc_images/all_1050/_img_features/rsz_gray_ocv_sift_descs/\n",
      "in 282 ms, 587 mus\n",
      "shape: (274326, 130)\n",
      "mem_usage : 274.175 MiB\n",
      "__sizeof__: 295.366 MiB\n"
     ]
    },
    {
     "data": {
      "text/plain": [
       "(274326, 130)"
      ]
     },
     "metadata": {},
     "output_type": "display_data"
    },
    {
     "name": "stdout",
     "output_type": "stream",
     "text": [
      "get_im_synth_feature\n",
      "rsz_gray_ocv_sift_descs_3\n",
      "in 3 s, 343 ms, 315 mus\n",
      "data_name (rsz_gray_ocv_sift_descs_4)\n",
      "rsz_gray_ocv_sift_descs_4 file size: 35.919 MiB\n",
      "rsz_gray_ocv_sift_descs_4 loaded\n",
      "from ../tmp/preproc_images/all_1050/_img_features/rsz_gray_ocv_sift_descs/\n",
      "in 253 ms, 340 mus\n",
      "shape: (273529, 130)\n",
      "mem_usage : 273.379 MiB\n",
      "__sizeof__: 294.508 MiB\n"
     ]
    },
    {
     "data": {
      "text/plain": [
       "(273529, 130)"
      ]
     },
     "metadata": {},
     "output_type": "display_data"
    },
    {
     "name": "stdout",
     "output_type": "stream",
     "text": [
      "get_im_synth_feature\n",
      "rsz_gray_ocv_sift_descs_4\n",
      "in 3 s, 515 ms, 677 mus\n",
      "data_name (rsz_gray_ocv_sift_descs_5)\n",
      "rsz_gray_ocv_sift_descs_5 file size: 39.993 MiB\n",
      "rsz_gray_ocv_sift_descs_5 loaded\n",
      "from ../tmp/preproc_images/all_1050/_img_features/rsz_gray_ocv_sift_descs/\n",
      "in 244 ms, 553 mus\n",
      "shape: (304578, 130)\n",
      "mem_usage : 304.411 MiB\n",
      "__sizeof__: 327.939 MiB\n"
     ]
    },
    {
     "data": {
      "text/plain": [
       "(304578, 130)"
      ]
     },
     "metadata": {},
     "output_type": "display_data"
    },
    {
     "name": "stdout",
     "output_type": "stream",
     "text": [
      "get_im_synth_feature\n",
      "rsz_gray_ocv_sift_descs_5\n",
      "in 3 s, 527 ms, 790 mus\n",
      "data_name (rsz_gray_ocv_sift_descs_6)\n",
      "rsz_gray_ocv_sift_descs_6 file size: 34.51 MiB\n",
      "rsz_gray_ocv_sift_descs_6 loaded\n",
      "from ../tmp/preproc_images/all_1050/_img_features/rsz_gray_ocv_sift_descs/\n",
      "in 249 ms, 398 mus\n",
      "shape: (261976, 130)\n",
      "mem_usage : 261.832 MiB\n",
      "__sizeof__: 282.069 MiB\n"
     ]
    },
    {
     "data": {
      "text/plain": [
       "(261976, 130)"
      ]
     },
     "metadata": {},
     "output_type": "display_data"
    },
    {
     "name": "stdout",
     "output_type": "stream",
     "text": [
      "get_im_synth_feature\n",
      "rsz_gray_ocv_sift_descs_6\n",
      "in 3 s, 284 ms, 39 mus\n",
      "data_name (rsz_gray_ocv_sift_descs_7)\n",
      "rsz_gray_ocv_sift_descs_7 file size: 32.508 MiB\n",
      "rsz_gray_ocv_sift_descs_7 loaded\n",
      "from ../tmp/preproc_images/all_1050/_img_features/rsz_gray_ocv_sift_descs/\n",
      "in 237 ms, 533 mus\n",
      "shape: (248067, 130)\n",
      "mem_usage : 247.931 MiB\n",
      "__sizeof__: 267.093 MiB\n"
     ]
    },
    {
     "data": {
      "text/plain": [
       "(248067, 130)"
      ]
     },
     "metadata": {},
     "output_type": "display_data"
    },
    {
     "name": "stdout",
     "output_type": "stream",
     "text": [
      "get_im_synth_feature\n",
      "rsz_gray_ocv_sift_descs_7\n",
      "in 3 s, 160 ms, 440 mus\n",
      "data_name (rsz_gray_ocv_sift_descs_8)\n",
      "rsz_gray_ocv_sift_descs_8 file size: 41.058 MiB\n",
      "rsz_gray_ocv_sift_descs_8 loaded\n",
      "from ../tmp/preproc_images/all_1050/_img_features/rsz_gray_ocv_sift_descs/\n",
      "in 274 ms, 185 mus\n",
      "shape: (310973, 130)\n",
      "mem_usage : 310.802 MiB\n",
      "__sizeof__: 334.824 MiB\n"
     ]
    },
    {
     "data": {
      "text/plain": [
       "(310973, 130)"
      ]
     },
     "metadata": {},
     "output_type": "display_data"
    },
    {
     "name": "stdout",
     "output_type": "stream",
     "text": [
      "get_im_synth_feature\n",
      "rsz_gray_ocv_sift_descs_8\n",
      "in 3 s, 765 ms, 208 mus\n",
      "data_name (rsz_gray_ocv_sift_descs_9)\n",
      "rsz_gray_ocv_sift_descs_9 file size: 49.58 MiB\n",
      "rsz_gray_ocv_sift_descs_9 loaded\n",
      "from ../tmp/preproc_images/all_1050/_img_features/rsz_gray_ocv_sift_descs/\n",
      "in 299 ms, 529 mus\n",
      "shape: (376330, 130)\n",
      "mem_usage : 376.123 MiB\n",
      "__sizeof__: 405.194 MiB\n"
     ]
    },
    {
     "data": {
      "text/plain": [
       "(376330, 130)"
      ]
     },
     "metadata": {},
     "output_type": "display_data"
    },
    {
     "name": "stdout",
     "output_type": "stream",
     "text": [
      "get_im_synth_feature\n",
      "rsz_gray_ocv_sift_descs_9\n",
      "in 4 s, 349 ms, 451 mus\n"
     ]
    },
    {
     "data": {
      "text/plain": [
       "(1049, 1716)"
      ]
     },
     "metadata": {},
     "output_type": "display_data"
    },
    {
     "name": "stdout",
     "output_type": "stream",
     "text": [
      "Building of synthetic features\n",
      "in 36 s, 34 ms, 281 mus\n"
     ]
    }
   ],
   "source": [
    "from img_processing import get_all_1050_dir\n",
    "from img_ml import get_batch_bag_of_words\n",
    "im_features, ids = get_batch_bag_of_words(kmeans, get_all_1050_dir, data_name)"
   ]
  },
  {
   "cell_type": "code",
   "execution_count": 4,
   "metadata": {},
   "outputs": [
    {
     "data": {
      "text/plain": [
       "['009099b1f6e1e8f893ec29a7023153c4',\n",
       " '0096e89cc25a8b96fb9808716406fe94',\n",
       " '00cbbc837d340fa163d11e169fbdb952',\n",
       " '00d84a518e0550612fcfcba3b02b6255',\n",
       " '00e966a5049a262cfc72e6bbf68b80e7',\n",
       " '00ed03657cedbe4663eff2d7fa702a33',\n",
       " '01089dc3618a0ab7304d784ef400b83d',\n",
       " '0131e5d87b72877702d536299cf83b75',\n",
       " '020d2daba55a723128e4e07c0b0393a9',\n",
       " '02127f52e96fb72c66bf081d25104ef8',\n",
       " '025a85a3d1cddc6307f7dc075d8d2132',\n",
       " '02a53d335775b652f22f41b529b9d646',\n",
       " '02c63a087b298ec74042d557acf61be1',\n",
       " '031c98cfde349d99fb6d5983f54c8751',\n",
       " '032e812adcd11a38fd8b764891a852ff',\n",
       " '037b39bef3db7ccd264c577a0edf0c0a',\n",
       " '037c2402fee39fbc80433935711d1383',\n",
       " '04f9f818e2d657b873b07578cfe2eade',\n",
       " '04f9ff160a1561e3656350f4bd6b8c50',\n",
       " '050ea3acb555bf641e7ae9b4f3ba684a',\n",
       " '052559ede419996737893eb47568ee7f',\n",
       " '057836ecde71565f8ebdd576e41fdc96',\n",
       " '059493eeb88ebb4cc08d1522f3f87c3f',\n",
       " '059bc43e03e1824a9ab6466e32e5f137',\n",
       " '06749cbff1487f470438823f6952cfd1',\n",
       " '06b8da0c6a24b91c8020f8b1c78d04c3',\n",
       " '06fdaa2b03d70da4358311d260456729',\n",
       " '078b35be31e8ac99b0cbb817dab4c23f',\n",
       " '07912328f580cf080d721e6466287896',\n",
       " '079d049de21fb2426b516a8d2f9a8bdb',\n",
       " '07f8bdc4372a73d0820507683a936b6e',\n",
       " '08452abdadb3db1e686b94a9c52fc7b6',\n",
       " '08613e8b27838b997069b1fedb6e88d2',\n",
       " '087e83a2406dc98d941b8555356da477',\n",
       " '08bdf59c9dcb241e3a57eb4f3729ec70',\n",
       " '08e8af585235d7403ca2b7b56a51a6d4',\n",
       " '0906fd9cc604fbba05a502e01d763cd9',\n",
       " '093097cfe5626f4ad8914e0a16a940b5',\n",
       " '093bcad64d11c0aed903a8dd787ef069',\n",
       " '0991e8d8f884003ab18890971191085d',\n",
       " '09f9f9b420edea2f39c0dc3c24d5be07',\n",
       " '0a3b5fdf77a361c2d7d9b29c259b8c4e',\n",
       " '0a8a1e9c6659361c0c2b247f8a6471d0',\n",
       " '0abfcbe0e17dd50c4cf5fb1d6037d514',\n",
       " '0ae859a69c7608d8197c3ba8c37bc6ec',\n",
       " '0b793c1727ef52285a25dedf8b86626b',\n",
       " '0b852704f2002f8865a68818ad4951da',\n",
       " '0b8c4bc35aee94af356cb1fd2dfa0219',\n",
       " '0bb0f7b7a3075f4b9459121abe2185fa',\n",
       " '0bff0eda7a6677dc1acb0477a1f7a121',\n",
       " '0c4718ae90f2889b7021a99ee1cc106c',\n",
       " '0c70a580d96e50966130e2885d8c3505',\n",
       " '0ca8e323551dd7107ef57ef7c3e77aee',\n",
       " '0d02f4703fde00645704e15bba23e77d',\n",
       " '0d3e1dc0d38be59e9927e47f152e48aa',\n",
       " '0dc4d2767fe8424a3263ab141884f83d',\n",
       " '0ddc40c08d9a9bafc4d14eddd98db7c0',\n",
       " '0e1e3861d54a8a17b7b91f04071a4ca3',\n",
       " '0e73201f6d8807776e1d21c969078289',\n",
       " '0ec47240feda42c63e42f1e9cee60f7a',\n",
       " '0f4f761de4224b004402c1f97e871ba4',\n",
       " '0f7a56876c61ba98dfed48ede5d3f3e1',\n",
       " '109e235d4838002246599f987d935c21',\n",
       " '10ad262ebfdc8614e847d36e6fe9ecf9',\n",
       " '10b6738d7058738a9a7d107bbb2833f4',\n",
       " '1120bc768623572513df956172ffefeb',\n",
       " '112a8a56ee40ee31ea06fb7ff23b5c25',\n",
       " '113783ce1db999778b5a4bd374e61209',\n",
       " '11502f02601ff063bf7db0a618354652',\n",
       " '118b411bf265538461b084ce7abd55a8',\n",
       " '11f06dffebf7edf9e15351834a190c2c',\n",
       " '1218fd9be42d45a81846db9f65a983bd',\n",
       " '1357e9d24661c3b5797aa1016e0c3be1',\n",
       " '13596c5cc53a74268613e5c0b7d46b60',\n",
       " '136f213080426c35520f1b1540c4a390',\n",
       " '13de17e59a92f8bcaec8bf103bbff8c1',\n",
       " '141ab1fbe0f943463d4971098647000c',\n",
       " '141d2b743c477043041faddf9233c8ad',\n",
       " '142994b421c052a6193052c6c8c3d076',\n",
       " '144a5e05bd6e69535c53366a805a8b5f',\n",
       " '146b0d570d5ab4e27629d48533b7680d',\n",
       " '14826adf9bc4c34ea566dae3d85ef7cf',\n",
       " '14bc693d9b86c58696e5917045e9d4de',\n",
       " '154920adb9d584b55d419227f9b01cc6',\n",
       " '156bcd3aba1838a2b6bad856654db964',\n",
       " '159b45e4dede207f28319bf1cacee3bc',\n",
       " '15a0364d0efc54d4e272a49f85b149fc',\n",
       " '15f45d08050e8ba24a14804cba000589',\n",
       " '168618e93387ad7171d4e4e1eeff9d1a',\n",
       " '16c18ce0affca13159e362227c83683c',\n",
       " '170fdf050c7a1f8d30ef5a98c4216f9c',\n",
       " '1738ddb8f47f11ff0cb96fe6cad302c2',\n",
       " '17582ae953860b5320683768b8e97d3a',\n",
       " '17611e6e94d73ef376834e5c6ee03dde',\n",
       " '17a73d7c4b02ada2bfeed1115fed08a4',\n",
       " '184ecf07ca4e2872eaf53d2344a1e783',\n",
       " '189fa66a5fa6f08d2802a62ecf0be298',\n",
       " '18bd9b88e23b82fd19f8ab0c9cad6a1a',\n",
       " '1971dcd2f3058a4c87bdd7d87d4baeba',\n",
       " '198dbe7be6f84f6448197148d7b5e5a5',\n",
       " '19a570b6717955a8c48e5f280617ef24',\n",
       " '19d2dbc1789653c58bce08c169662cf2',\n",
       " '1afa5f2c3c9b4b43def6dc2e695d2c87',\n",
       " '1be8161a259813bca5d068d5730464e7',\n",
       " '1c0fdd598671f6f4e10b21435d766cf3',\n",
       " '1d1be744e491ed61e705c20e4a72320d',\n",
       " '1d829e0eac91d7e85cdd6d581c363360',\n",
       " '1dbe1f3ba28460dffef4a1d664549621',\n",
       " '1e15dbd9f59a8b2001f91d18ddc84b5a',\n",
       " '1e8741b5ae27a513546c94b3f3312aee',\n",
       " '1eda39f01d0a8a2e5ce4b32fc7da1027',\n",
       " '1fb0fc88acf0dc6ab9528c26252447e6',\n",
       " '1fcff864d6e397e1424d5366e6c6b8fa',\n",
       " '202fc276e672eb8c29891aa50aef0771',\n",
       " '209bf06a732416f1ce5147a8b0524808',\n",
       " '20a06aad5f04727dd54bf13dd5923518',\n",
       " '2110699b945ae766c8b8112038ac58b9',\n",
       " '215decf6f993d7b45d75520d9174493f',\n",
       " '216c6c3527984be3d7ad9023d5cd9bd1',\n",
       " '219b24362655097cb41bf06a0be8ee79',\n",
       " '22146eaca9aee0223a4302d87cb3e122',\n",
       " '22296bfc1c79d9dc88eabbd01220ef0c',\n",
       " '2231a6fc63274c46043e353f1728f077',\n",
       " '227fc5c4fca14c424ff33e40941d22fa',\n",
       " '22ac36ba254a68d7dd6173f099771147',\n",
       " '22ea3b69860bc9a5e0c69b87db2dcdab',\n",
       " '235410c63d373e2fe141c129de2f624f',\n",
       " '23704dd51c975e845c574b044aae0a9f',\n",
       " '23b0bdd337f7d1b4b70ad13726a122ab',\n",
       " '2414e4b7e5948263b8dbb4843557be4d',\n",
       " '2476ae5a5e045876aa08f5919cb3b91b',\n",
       " '24e85c590481a7cedfe66597f253f2b2',\n",
       " '2541b59d54a3a9f2681c0049f7ddd85c',\n",
       " '2580f7559802e4e5e3695fda6cbfc317',\n",
       " '258444ac7bb7ad8026800efad5c3502b',\n",
       " '25ce025c38c55f28fd0ea3bb0200df79',\n",
       " '260c74b5a09272dec1a8207db3541a0d',\n",
       " '26269fd0df12630eec4508c2cf3c94e1',\n",
       " '2651ce313a5a3aedb7c566394a3b3b26',\n",
       " '2670ba9bc61b42937773486ddcae442a',\n",
       " '26989e846c2096a5b59b59cbea2cc7ab',\n",
       " '26d8d458084ef90d395d303eaeb71587',\n",
       " '27175ea71cc5f2879882c77b9931cf8b',\n",
       " '273982a65b9c7dabe56c8345552bfad7',\n",
       " '27b7851ae3dfc2ae8c1958cebe93bf0b',\n",
       " '281dfd9b94b34362c295b3e5f8da5dfa',\n",
       " '282102897daa1c2513cf76837a8d5a4c',\n",
       " '283e2c4d728bdb193834d876ec27e6dd',\n",
       " '28401ff0dbc191d34c2f1103e78e082a',\n",
       " '285075cfac3036e8d51591dfe5ba24ab',\n",
       " '28e3f1e490cfc4b47bfb50671ff93283',\n",
       " '291d5ff1e50dac3058cf10578f692085',\n",
       " '294a26262643797cb07f72f1b55262ae',\n",
       " '2971287a1ac427bd98c4778112d20d06',\n",
       " '29b1ca231e10d5269516b80bf9d0dffc',\n",
       " '29d7a1b4d4f658fc3082905f65e1b009',\n",
       " '29def171d7e31d48571a52f0fb3e6b07',\n",
       " '2a20862f02555a44b0ab301bed987a0b',\n",
       " '2aaa6083689193df5ab01fe37dea1b5e',\n",
       " '2abb35d6affd2796e664349a747bd302',\n",
       " '2b278ad355318a87c336285689d214f0',\n",
       " '2baa415ebcc4fe563ce13b50e60efc1c',\n",
       " '2bf0ca6d25501c067cd12a2a4939443f',\n",
       " '2bf95e5f8c4d7d0126de92e476d4fc8b',\n",
       " '2c475daafe597ed93c1e27fcaa38d8cc',\n",
       " '2c8912b849cf73676d025aa99203b6d1',\n",
       " '2cbad7ead8eb8dd92823b9f525c87b9c',\n",
       " '2cc24452688ed35dfbff566e22e53c95',\n",
       " '2d4f1232af970bd19881ceacad6ccfe3',\n",
       " '2d50e4c6ccf8befe9335ac8f97a11712',\n",
       " '2e3586dc60df258c5478446d65a317d2',\n",
       " '2e474c49a7dfe704c35cf3990740daa3',\n",
       " '2e8df36b35d22cf219cf8bae6c2af752',\n",
       " '2eb07dc77e2fc7e3668fd7ed9b864039',\n",
       " '2ede595489db33a036d135ce22645515',\n",
       " '2f40e01331bc00216d147d4ebfdfbaf3',\n",
       " '2f712e172ee77a913b6d627657986b72',\n",
       " '2f756aa2ceb1efda609c428a47308758',\n",
       " '302c95f6eae5f4ce217fcedc4ef91262',\n",
       " '30305ade337a4dde171afb90141bcaaa',\n",
       " '30ab693b54e99a469a1152b5db14aa40',\n",
       " '30ad2acaccdd2e1691a61c44079c2b5a',\n",
       " '3113367c72125a3355af42426fe14f17',\n",
       " '31376e77d4621c06a45440d42b9fe2ac',\n",
       " '31ac1b66cc6bb396c83f124317589f8c',\n",
       " '320833ab08c9a94ef83520612899a85f',\n",
       " '321f2ab0dd243778c87ac63ace6639f4',\n",
       " '328b66226952d8733c0c48295fae1108',\n",
       " '32cf0691248297655e2c1728b12e2262',\n",
       " '32da1bbf4f523bc8a8735701ce4b7726',\n",
       " '32f24a4303050f500dec7cb3608fe089',\n",
       " '336fc49639a5cc45aa532ace3ee1a044',\n",
       " '3388d05e88972ff9f3e1321dc0cfdc28',\n",
       " '33d97d63c037078cd3f08033966d6a88',\n",
       " '34d3b2b8d263294107a3ffc69b35ff8f',\n",
       " '353ddb2c8ab6920d8ad1055abee87dda',\n",
       " '357432a848c3f13fa614efe5dddd99b6',\n",
       " '3589e80e8f7f3f3a5b65447389b90c2e',\n",
       " '35a68b44bef47a809314493d28535b9d',\n",
       " '35b5dfdda9214c94ab15bf5390e07de9',\n",
       " '362714cbba2f5ae412d2f26bae99a266',\n",
       " '3693c4e7f7efb47edb3d9eec067ffd93',\n",
       " '36b965559aa2b97cb961a603f18a9183',\n",
       " '374e63028d691c380bc43b0dc60e460d',\n",
       " '378d7dbdb97ecc62c9ad52cb6df23a86',\n",
       " '379ebeb2ad76333ab67afe292688512d',\n",
       " '3830dda3491cd5b28ed42ae544bc44f0',\n",
       " '3847353a4b8de1efc504d589aea74ffe',\n",
       " '3864ab10ef7006452fef45513de8f868',\n",
       " '38782cce965307ddcdbedfcb7fa409c3',\n",
       " '387ecd9ec173d61b6dc5ceddc079b150',\n",
       " '389197b67a189c703f3deb9ca6f1f678',\n",
       " '39242e5488cf65d8d59eccb2b80e4a65',\n",
       " '3945cc3920106c04648e8ba17ef2b009',\n",
       " '394c2c627914e1eed9b8ac343583a679',\n",
       " '3a7b224bf1bc9cee9052f9c9df0355f6',\n",
       " '3aaa50eb5d2cf4c18b57346423871624',\n",
       " '3adb36e4275733d0d113d9039e6814ea',\n",
       " '3b0f02b3acf1825f8bbc1fb3b860dbb8',\n",
       " '3b465b02720ef7c930cb2e065a8fc05d',\n",
       " '3b80ac036843b278083fabfd9a3c84ff',\n",
       " '3b96a152c8fac4421fb67b6190584976',\n",
       " '3ba13df7877fd979d64c87c7586a5ca6',\n",
       " '3bc98543c7dd0d8fce5b8185b4a58c43',\n",
       " '3bf09b28e3bf526c2dfebfe591921103',\n",
       " '3c4604dba348a99a2dfbbc2cd3928101',\n",
       " '3c4ca34c50a5437a1bcc42b72fc1351f',\n",
       " '3c74db45cbfc14a78b8466dca494b3bb',\n",
       " '3ccceaae844f34180708cb6cba3441bf',\n",
       " '3cdfd9df09f61a8fd178bafcc8dbed31',\n",
       " '3d8222014ec36292c1c143c5f5e12c29',\n",
       " '3ddd2f062730c2aea8bb8843d5a96125',\n",
       " '3dfd14b667357e26ff6d66761cdc203f',\n",
       " '3dfdf277bccb74532c0387adfed2897d',\n",
       " '3e2b2a04696f7d83a7835e9894d79df7',\n",
       " '3ee79b1e51c9f9262e8373ce6b717606',\n",
       " '3f025b9dc8065fe5a155573e5b21a70d',\n",
       " '3f97735a6c61a3587cefceaef36c280c',\n",
       " '3f9c4d0e8c3bca9c870e41f5098f90d6',\n",
       " '3f9f12fa8fc6d7ebef136040f179a201',\n",
       " '3fa21f35257649e1513ca4ce22c6a68c',\n",
       " '3fd4d7ea04624ada39fde3957c7b9b7c',\n",
       " '4019ad332ca3ce22449ff54fdd49a273',\n",
       " '40829ac110f344ef35f1c8c32fb311c7',\n",
       " '40d7d3d1961236dd814e15592fa52994',\n",
       " '40efb9474b44fba54b5d2a8df121d727',\n",
       " '412d0425bb7076610aace6549ded265c',\n",
       " '41384da51732c0b4df3de8f395714fbb',\n",
       " '414d2065e1aed847064bcf14538eabc8',\n",
       " '417ae3e8b08acc19a023b8a958644799',\n",
       " '41ae5a7304f3dc1dc8bc2dfc7765ae4d',\n",
       " '41dccf212ff447cd7213a2b1e669e406',\n",
       " '41fd5af61752be98b19b611a6ff9a0ef',\n",
       " '42643c1c9403f67921a18654bcf45ead',\n",
       " '42770faa04bfcf2b62e7ef335e1b1965',\n",
       " '42a8fef62716772c391fbdd148cc9c16',\n",
       " '42c5c528ad7ac8ad7a4e7c31f958e25f',\n",
       " '4354b7418ee0fab2fd9f8eb493556529',\n",
       " '43da6e88dcb61e027ea9112cfab158ee',\n",
       " '43f4a023dd92830ab5b26886c496f23e',\n",
       " '44218245b37581c534038cc27d081093',\n",
       " '4451f1b01168b6a085738d0b0f2f02aa',\n",
       " '44a6d9f64668b004c3254f3904142064',\n",
       " '44b963eb856b4831dfdd21b666593c95',\n",
       " '45204a03550940bdcbc8e4703c07f550',\n",
       " '456ec612b30d4b091639843cdb66bf54',\n",
       " '4589c5021b21525b4779260f7e86f355',\n",
       " '458c697fe5824552890b0e674cf5c109',\n",
       " '45d0af2c709de47268c80c35a117de44',\n",
       " '463492671c5c19316a0fb9fe1c53da48',\n",
       " '4642d967bc34a36454b281de632f6c11',\n",
       " '4676a8f96abb86c5d1dc5b06c7a11d95',\n",
       " '46c7cb82a768ad8811db821d8649f6e0',\n",
       " '46ca672fdfff8a1b3641642a9795344a',\n",
       " '46e6853da6b0c796b7a0d8203ceaa88e',\n",
       " '470ff3c4e22d237f5a75ac07225e513e',\n",
       " '4735953b9c8504eb327675a14c6c33dd',\n",
       " '473b1ab1abe21826c41efa1584a88a63',\n",
       " '4748b7ea0e01cffa561f1a7a7a432813',\n",
       " '4788f5466992da09024b8ffcc8a5cba4',\n",
       " '47d7792e50e69b048b1f17176f170141',\n",
       " '480d24adbc304a52a4e01e45bf8bbccc',\n",
       " '486e98154514ed485f0b2f9bc9f24549',\n",
       " '48b9e7f78348b95955d7484910b7af15',\n",
       " '493d1eb6ad7a48a926092bf994cd0bb0',\n",
       " '4942e0a9c0527dc00319a39fc8f103e6',\n",
       " '4946e2411d24801b9e8f7dbe97ab1b93',\n",
       " '49658948b5f4eb06a3ddc2fa75eb41d0',\n",
       " '49852d7f69839e0b1006adc55d56938a',\n",
       " '49f7763dc9c7ece284a1ae27166f8c6c',\n",
       " '4a1b23dacd7d2a9ec7414f7159f25a48',\n",
       " '4a4ccd1ac291cfc8b3894e691a1c0f7a',\n",
       " '4aa047f14885c74f155ce5f973e14dff',\n",
       " '4b03cdfc7d1135c972e5c620dd7da66c',\n",
       " '4b0e6f200426b1db8824b2ca0c59ecfa',\n",
       " '4b500e244f11a45f5171bd3665413044',\n",
       " '4b59516432fbc3d61e8e58d547fde431',\n",
       " '4b8728226cc2934095782f7e7f3ce740',\n",
       " '4c096ad79f63c12a42f56fe8cec37f36',\n",
       " '4c449766e715bc41023244c9042e0a82',\n",
       " '4cc971d2c9c0f1056bc124031ed52c1e',\n",
       " '4d2e9f36823bad0f6fe8c6b19bb92bdb',\n",
       " '4d638f7a608a76db27cd7bab13582a93',\n",
       " '4d6bf06ef01f80130a1ab28dfdeb7aa3',\n",
       " '4e03d4e81e6a876f512536f6a57c053e',\n",
       " '4e09d5a71d46d61de3d4c9c5aedb73f2',\n",
       " '4e130ed339dcfe20d2c8b66892278a94',\n",
       " '4e57e21d903b752a6b5aa496a43f1590',\n",
       " '4e5ebfc871992e7e22365c0c036a1b89',\n",
       " '4f6006b716c6546033fbaf9ff32de577',\n",
       " '4f708bc74c4d29b2967dc38a1f5ae6d5',\n",
       " '4f8f64f93f789af51bb07296639acbd2',\n",
       " '4fe24e100a5fcc33cf6054ef101067ed',\n",
       " '503bb08f7bdf6a395ec564dd1dc83619',\n",
       " '50be4cd92fda2755e1e884421a52e345',\n",
       " '5188dd28a627807407d93549580afb74',\n",
       " '51b6809d527ea36798bddc2bb8557bc2',\n",
       " '51c9062e6538c787b14a75a6a7cb7fb3',\n",
       " '51dc964c7a47293ff0ed0c6912813722',\n",
       " '51eb5d22eda4be2a409a336651c50bb1',\n",
       " '521528ccaa29dd645e869550cae7a249',\n",
       " '526cb1e7675adb39a1ea68f1f2a3fd59',\n",
       " '52877a6306aef18af67ab54c8233c931',\n",
       " '52a8d66e466da645e413d2cecc294bd9',\n",
       " '52c5fe837181962a7c1d5883bb9d7007',\n",
       " '5307e0db12b1018746ac3801d189c379',\n",
       " '5321f76936848ccc0003f6c11e923fb5',\n",
       " '5325213d84c80ad310b6e4b37a1ac824',\n",
       " '532fd66d24261d77d9d8b18cfd1ca0f2',\n",
       " '5338c00e0ddaec0f3af737077e0bbd91',\n",
       " '534d9c3ae2342df2f4f9233622f90711',\n",
       " '539f82930cfad8afef1a75882eb45703',\n",
       " '53b9357d16d4db0a1f9ec4e8ac91e743',\n",
       " '53c4f1e5cb1767f1a6ba05d32dfaf107',\n",
       " '53f4bc7d7321f5c41de6b86e41f13e80',\n",
       " '54749618b728306f9b3dc518dec315ee',\n",
       " '54754ccd18f2a75c53de68806176392a',\n",
       " '5479bb7028827d60000720a2c135976a',\n",
       " '5518124b75d6c6dfee4c2e4c0cfa716a',\n",
       " '55195de3873fffaa9e37b041533d7305',\n",
       " '5531b9f454e2d75cfe00c3f795e06de5',\n",
       " '553aa0252537751d153e7c50029f0242',\n",
       " '55b85ea15a1536d46b7190ad6fff8ce7',\n",
       " '55ce1309b69e1912d2fd60a3ee3f351b',\n",
       " '568f331e1039bf2e0635b899c2b3248f',\n",
       " '5749bae8ccead7997ebf370b6b081d07',\n",
       " '57578c1e6ec61a880a6f3f971f5f77b8',\n",
       " '57800d48b001f3fad34a4f8fa9207f29',\n",
       " '58d7fbbe6d306ecf16e0a7ac05b211d4',\n",
       " '5912e037d12774bb73a2048f35a00009',\n",
       " '59247d4024d85bfaf9e48368cba6d870',\n",
       " '595f508cdfbfa162d0fe7b97cc99ef42',\n",
       " '597a9549a3e397d52dca62ee47b1f60a',\n",
       " '59af3731b809a25f2bf99e99f645d8dd',\n",
       " '59d964c38c787f829c6cfa5629e4df90',\n",
       " '5a54c78b52c984e56500809e5bc27ae1',\n",
       " '5a5bb03499009f35759258263fc834a3',\n",
       " '5a7a1287fef0d986a5e237797beee286',\n",
       " '5aacf8f5154afea2ac22fc767d072677',\n",
       " '5ae4626271e8eefe5eb2aaf42c00724f',\n",
       " '5b378b0925d5409b5d84ceb416fc2afc',\n",
       " '5bc04e6a0b6256dc78bb9cb22b39ef41',\n",
       " '5be86e35f21b1514d0e7742893d6cfba',\n",
       " '5c0fe2919e49f30aff91d46800cdf149',\n",
       " '5c6b9db55291a68d99c4bb9a88266e27',\n",
       " '5c77aa1fc09901ae07c392c152a70e41',\n",
       " '5c7b493625b5fc6689cae49d25e1ae17',\n",
       " '5cd3d274d71e1e0d6bf075421461b2d5',\n",
       " '5db6bd89da44841c1a5b686e67137704',\n",
       " '5dbf978ab2cf9d2da6446d3e4595f690',\n",
       " '5df72b5295dc5e6126693e640b50f3a2',\n",
       " '5e52d6ce133e5307814f9f3eedc5806d',\n",
       " '5e84d36ad6db970548498829db8b15de',\n",
       " '5ea8ddb8a5104c5d47c708e8a351e701',\n",
       " '5eec66ec172ce096cd4e5c947686b56a',\n",
       " '5f8ebf77ba4064b68ea23a41cda71d97',\n",
       " '5fdb912462da9891e5b21c677ceb15e4',\n",
       " '601817defaff9d0e30e1b72f96d3975f',\n",
       " '60395c709b4a933319e2713e3ae620d4',\n",
       " '6057d1b6682ab473a3fe2ca8b4577259',\n",
       " '607dc41467008ee7a8dba0276f180f63',\n",
       " '60a7313ea1e0ee8d845a0a6dec6117cc',\n",
       " '60efd61370e70267dc60b11ff2bf974c',\n",
       " '6136976dc5a433cdf8e2559b8510bdce',\n",
       " '614dbfa2f42c4684c0bb6152091113a6',\n",
       " '61c0139f3d5c97f1615797dbf046cc0c',\n",
       " '621a88993a7033df3440ec816c2e386f',\n",
       " '62a1044ba64031b9e40f98a4fb890d9d',\n",
       " '62c35de4df27437d3597963fac55a8b6',\n",
       " '62cbea6012792cdbe5ff7cac2a6b76d0',\n",
       " '62e36e018c9ee4b282cf674e84054df8',\n",
       " '6325b6870c54cd47be6ebfbffa620ec7',\n",
       " '6325bf868b9040a0599f257aba42e9e0',\n",
       " '6329ddb46087cb8c09ced95471dd9643',\n",
       " '634c89325a6c7752985a74a67f985c1f',\n",
       " '63523a600ab69f276664d0eade9d076e',\n",
       " '63bc43c0000e71eb11bfafd2f46214a4',\n",
       " '63f2d92a3f5fc6cfc11e7f99d5798eac',\n",
       " '63f6ef8f3fda2c306b27cfbf5a005f1e',\n",
       " '640fd08bb3ba538d67a5c0c2c61a5c4c',\n",
       " '64247967cbf6cd8bb2e243ac53aa5928',\n",
       " '648b52926285610670a756923b8a6f99',\n",
       " '64a9d0488652194fd8e879d5e6dc8015',\n",
       " '64b463dc0b75ae40a848498c657041e6',\n",
       " '64d5d4a258243731dc7bbb1eef49ad74',\n",
       " '650e27dff8f645649353743f64e03f77',\n",
       " '653826cd53f1d9e2c086c0ac7846ef70',\n",
       " '66191b4a311b5d9babfc00a71ef97c5b',\n",
       " '6634de7b39a5b0658c74ab098450096d',\n",
       " '66a5a21ea332aefcc7b90dbad94053aa',\n",
       " '66b75f053cb7626f49f1a9bffe77b451',\n",
       " '66d91765da568f133f040b951f25e702',\n",
       " '67119571e4b46deb266236d8e7fad65d',\n",
       " '672d1c3272eae4586eb5994fe408c12a',\n",
       " '6775e3b91baa4d368f6d91eb7c24578b',\n",
       " '6776795cc4521a0cb0d54059649f7d72',\n",
       " '678ebb5f6057dcc51948253c1b39b0b8',\n",
       " '67d6b4a8aa19d57740b0440365b77624',\n",
       " '6858fd9265d348803b18667fe43cd054',\n",
       " '688bb32bf0d9b6e350d2c0912a3b7c9f',\n",
       " '68b32e026c109c1bae017d024dd8f590',\n",
       " '69446af66066146718cd569f87e99fff',\n",
       " '69515ea06da8b2b1c881ce34fbf6575a',\n",
       " '697ad1d2e45c1af54cab7847cbe324d8',\n",
       " '6a1afb657e9ac01e3ca1956dfdcc3e9a',\n",
       " '6acca991d2353781779b866e4f96edd9',\n",
       " '6ae332e2bafd23267caedfcc4453257c',\n",
       " '6b043b37c38f081d96886acb5acfbdf5',\n",
       " '6b04c746cac2aa811d7a8753e54dc96e',\n",
       " '6b5cdfe68595fbcab0e05dc625d3d66a',\n",
       " '6bc04b3ec1f8d4da2a00f8662f4fbed3',\n",
       " '6c3768639e82ceaeab681e083b897672',\n",
       " '6c441a6ca8eb4e5ca882c9c0df03ff0c',\n",
       " '6c53dbd7a9d43744920bfae3bc06327f',\n",
       " '6c8f99e979d4de9ab5d1ad20455622c7',\n",
       " '6d460d2e12ff7c84cb6b9af783d465ae',\n",
       " '6da53319cc12c9729881f5478ff67223',\n",
       " '6e44d107ee32412243b19b0ed9b415f3',\n",
       " '6e6694c52c9273cde2163d34d5b44e94',\n",
       " '6e7cc21610991cab64595af678e8eb5a',\n",
       " '6e812fbc03331ab363789b0f2d6b3ff2',\n",
       " '6eaa9bd9e9285d77891bb76d30e6ebe7',\n",
       " '6eabdbbbffdfae86c3c5177ba0f96ea7',\n",
       " '6ed34e1ab886e8a702ec59dd66ba4dff',\n",
       " '6ed4eb71c0707f1d6fdddcf62562cb02',\n",
       " '6efd5d260667b94f04edbbd18bb300b9',\n",
       " '6f9c169adda9b562a841a9cf54b16f06',\n",
       " '700dfd088162ea00deda33123cd7f2da',\n",
       " '7037dbd17682322c89bdf7203b403381',\n",
       " '70461caa9038cfa34d109ea056d57f5a',\n",
       " '70578f48cc96bbb60d040e08025e521d',\n",
       " '705b90361aeda1849a728d80625a78a9',\n",
       " '707b160df4c4dece6cde52b222ce624b',\n",
       " '7091af252a785131c5a124fb90705fda',\n",
       " '70af4c3c05688d8400632e134f258b98',\n",
       " '70d571a25d37e16d5d5f4e94faccf454',\n",
       " '710ed5f2393a4b9e8823aa0029f71f93',\n",
       " '719677b02bfccafb86e9be78f36f938b',\n",
       " '71ff6abd7764f2a42fcbefc11429be2d',\n",
       " '721c1b67f86176f741d43cae1d1c7e93',\n",
       " '721d6fc10f52e76007c3c0405cf967c5',\n",
       " '723e472f98180745980efe32411d30c6',\n",
       " '7241df1acae1fac892c692097ea3fb98',\n",
       " '724e6eb7edc83eb48b6492d12e940ebd',\n",
       " '7264f56639c8c54158b94ced769082c8',\n",
       " '726de30d1473ecb9641c1cd5286b6344',\n",
       " '729864e0d25e06cbf68561529bcdd4f0',\n",
       " '72cbc043d14ee578c789c9fab3c43cdd',\n",
       " '72db37ec42ee76d79cf395221e0f4cce',\n",
       " '733aa1e801a139fa8dc7be9f0eff5ee0',\n",
       " '73503fe89ea77420a598f4a1019e5b6d',\n",
       " '73523a8cc9a5c04a010d0307f2f2827a',\n",
       " '735820e1614052fde55659da9dc10ccc',\n",
       " '736191946aaeaa637a0865a42c18b580',\n",
       " '73901494efea71869576898c68b5eee4',\n",
       " '73b692cdfce9a77b721a54d4b7fb35a7',\n",
       " '73f460cd6f3fd206902d7097a1816405',\n",
       " '7436c011ebdfd24b56a77893f210ed3b',\n",
       " '747b170919791d6111847d3485b5b77b',\n",
       " '74e5a3f6edb34d7e593a0d1854b0b886',\n",
       " '75015382e469d36e397c5b47ea613314',\n",
       " '750f964cf8e6a16412aaf2b0d0350d0a',\n",
       " '75549ef6adc47e9b6dc2b69f530d9097',\n",
       " '7616c21074fe889defce033dcd0d7cb6',\n",
       " '762b6b22cccf91935e92446efe298fe3',\n",
       " '7680c6bf930669dc0646e3315187dc8c',\n",
       " '7729e54756a60aecb2067a747c890913',\n",
       " '77f659d4d18381c991fb9210e05d9c1b',\n",
       " '7815fb39feb773db944c9f03bbdcbf64',\n",
       " '7821fb1cbf8d3bb294c3c20527119f15',\n",
       " '785b4383b12106dd172306d427d8f7b2',\n",
       " '788dc3a3da91c0f46a7c465e07f91dd4',\n",
       " '789cf5578f48577a44586fca3adc35d0',\n",
       " '78fcb634d9838127464d827234ab05ad',\n",
       " '7915f1c0703450d4b1446c06066d9a59',\n",
       " '7956d9586de3e25ff586bca58be7195e',\n",
       " '797bb7813ec0bbc99e8b6f1b32c32e52',\n",
       " '797d10fe966b3aa35933669c3425525b',\n",
       " '798346b99002495667bb87626d33b99c',\n",
       " '799ddb97164ff2d5d53bb8b27b8c355f',\n",
       " '79b78739b0ae84780001fec304ce036c',\n",
       " '79e6b64a09ec7d393be193430ea732fe',\n",
       " '7a3f11f380a1bf85338ab3771ff81e9f',\n",
       " '7b1c5edc85bc7e31edf49ab70034bb3a',\n",
       " '7b1dd192151777c246a1c4e1fe0ddb4c',\n",
       " '7b72c92c2f6c40268628ec5f14c6d590',\n",
       " '7ba69836467fe0795bf0e1161fc481d9',\n",
       " '7bbcbd91b8865a9f7b254760e5e2e10a',\n",
       " '7bcabeb38f148041087fafdad40e2c57',\n",
       " '7c15895bbfd7da97c219be5b28150a06',\n",
       " '7c333641c63bd7519432ae83744b8db4',\n",
       " '7c4c57dda1b2e50f40b331cc8f9d233b',\n",
       " '7c4fec2331da8d40f2cb146eb198cb57',\n",
       " '7c785e9e26092c0b6ed038085e90d89d',\n",
       " '7cb1ea7b2257aeeeba701a8f6e3e0127',\n",
       " '7cbbe686c4a233e8cf53528748f75223',\n",
       " '7cdc62f8d3f7ab8b9d2dddc14c86de83',\n",
       " '7cf36a3f1f2bd785954cc876a941da40',\n",
       " '7d2883d833e215d3092c7f53572f870d',\n",
       " '7d99ac27ad194bc62000c46779c42732',\n",
       " '7dd5e83e2108a97659577e50879f9d9f',\n",
       " '7e11aaffb1d08f8091ea94598f7865aa',\n",
       " '7e3d8e737aec8f1eca019302593c732e',\n",
       " '7e4c1d31e279a700c6b8e66d820e8601',\n",
       " '7e6ae1b372e8e0b509b83ba3658b8107',\n",
       " '7ec5ac2dea80b6c5e4cfd20eba597d20',\n",
       " '7ee2e665b7de2e1cc29e3c65bde0c318',\n",
       " '7f2f1f3039d1f5bc23226fc36577eab9',\n",
       " '7f6678a6217c831b716feca796f689fd',\n",
       " '7f7c64d439d64656d6baa40f5798cdf5',\n",
       " '7fd12776e6d62da6e1dd3cbc9882ee5f',\n",
       " '7fd3f7b35e8b4a66432c974c8cb5c46d',\n",
       " '8015db34d09642b046c775e8157dd729',\n",
       " '8026dc3e27e8e318cc7431a723f7ebc1',\n",
       " '8050d31bffe6827c804b8222338aafb2',\n",
       " '80e9cb3d2d7f9ff7bc497c34df366d03',\n",
       " '812bfd40e47dfde2ff5326e899b42577',\n",
       " '8141b9d5af35017a907b1e88c17f7963',\n",
       " '81a695f80d3f5c445910d310f1a83eb8',\n",
       " '81e739c7f3be737152f2e6f520e3494b',\n",
       " '82466269245f199d7f850509307a497b',\n",
       " '8284c10b2890ed53e17de5cfc33cdb96',\n",
       " '82fbc93cd45ab747e7e606f2c52c7335',\n",
       " '832a66ce379b4c98fd3d748eebd7ae4c',\n",
       " '833a87b0af3b84fe246d2ebf271af177',\n",
       " '8396537a124f502d11ab99972c816129',\n",
       " '83b7c331ebdd018bea7cecb6171eda96',\n",
       " '83cef279f0ea5d772523d0d8b2923fbe',\n",
       " '841b14271aa4c29f291f600c9556145c',\n",
       " '84b2e623a4a4327b88f7fe197a09be31',\n",
       " '8507eb0ef32c1c0db700f20aad6d9bcd',\n",
       " '85aec4bf3185da7ebcc45003429cbfe2',\n",
       " '85fe188e1ee8237b70df0d475907bf24',\n",
       " '86089ddd9f9e52127ce838f210f776d7',\n",
       " '862c7462f12de819d93f93dc573289c5',\n",
       " '86a39f77de21aa9654e8ea03335244fc',\n",
       " '86b358a265312c139e5714e663daff05',\n",
       " '86dcb7d4ce6ec7bfb3e26d1bd859f4fb',\n",
       " '8720a25546a572b0217817a82bfd00a5',\n",
       " '873a955df5a2f677a41a7efc94060e41',\n",
       " '8748b6cd9f03afc539f246c55e230502',\n",
       " '87e0ba259a84a10580bd659466e73e23',\n",
       " '87f1807e002d3555b8dfb465a8a61df2',\n",
       " '87f256eeace1a0c2b1f934f061646da5',\n",
       " '8818424349b75a67775353d1feef2635',\n",
       " '884ff6050ff3d6b2c8f681c300a21b2a',\n",
       " '88650de379b6ecb085ecb3c2e6b42d4c',\n",
       " '8872dd7ca802f56c1c3ee07e22e84cfd',\n",
       " '8876d7569efdaff5a21b33a1ab44a13d',\n",
       " '88ca277594f22bb7494f2d0bbc51f8ba',\n",
       " '8932c9a89b487bf9f2b3fce06c7c6553',\n",
       " '893aa5ed55f7cff2eccea7758d7a86bd',\n",
       " '894904e26516d491bf1c7711fe800e78',\n",
       " '8962b50b699ddf4712ad18d29c6a3862',\n",
       " '8963e56482bbd3e9d05e0709d61ee0ca',\n",
       " '89b95537d8697203ab278237289a52a8',\n",
       " '8a15fa23b8c39ac1c7eaac94cbbe6fc6',\n",
       " '8a184fe2c82ba6a17fbe07f94d0dd875',\n",
       " '8a306758531cffad41e7a28e41576c49',\n",
       " '8aa19c1f26ee1f256d4c3ab5f2f849be',\n",
       " '8b268c1e68f198ae2e934717d49f48e9',\n",
       " '8b7a51c69b47f4714b5f7131077b5d30',\n",
       " '8bf65b132179faf26f61e26274b2b819',\n",
       " '8c62cbbd23958ae380fea906f6b5a994',\n",
       " '8c6942026d53b881d1da9359ea19c9fc',\n",
       " '8c81ed9792bee1c2d6c3b8289d80eece',\n",
       " '8c90f3ca64ea1a8ce104c3c3f5fc173f',\n",
       " '8ccc970bf4c55e9b2710d5319161c357',\n",
       " '8d1abb3504a19ab41e7d8b8b1d5dd839',\n",
       " '8e8f5dc78f80eff3c77a9714303f59d2',\n",
       " '8e94fbcd81112a21860355b3b11cf52d',\n",
       " '8e961e4fd248c9496ca54808d2d2b25f',\n",
       " '8ec6ee9814a27423e66c3c9ea26f77aa',\n",
       " '8ed6faebe087745cc1a3ed5aec2a57cf',\n",
       " '8f41774c16a931d71fcf01f8fee171e0',\n",
       " '8f41c6931b5220c2bb34d1cab21cb220',\n",
       " '8fc61e0dae2460bc6e8f152283d20173',\n",
       " '8ff973688c976a08fc7242da37101417',\n",
       " '8fffcfe66dfde658580f98f6e28a6a46',\n",
       " '903d63e2b71d692ccd628e1de516516e',\n",
       " '90453db0386931707b256dfa1e32c404',\n",
       " '9059227d71995f88a1f48ff63830f716',\n",
       " '906b5b16c78ba1c718501138702cb32c',\n",
       " '9077acd25761ea067ac6d9369d8fdf16',\n",
       " '908cc351957d02f72f60916006c531ba',\n",
       " '90906358dac904c4f05c12c798ac5221',\n",
       " '90e56526f4c5892beac49f262b85150a',\n",
       " '90f86ac4065397340e8012261577c220',\n",
       " '911a6efe69bde398fbbddcb0b4bb466f',\n",
       " '91795f4b0e4aac27314477a91b63bfb7',\n",
       " '91a5328e7235424885d271dfa0959eeb',\n",
       " '91e22428c0dd8871288ba5dac35a7382',\n",
       " '920154acbe49d3202ed7d2ed2df1ea13',\n",
       " '922a04084481d4b3275a3f7bb54e90f3',\n",
       " '93618b8a998782d4d847ee5cba5c7de2',\n",
       " '93f01d6cd167fa549928a9b649f87ccc',\n",
       " '93f45475c82bdee6df73c6e08011b7da',\n",
       " '9412b6fe7b97e405def91f24f064c547',\n",
       " '9438a0874e0486f46f3669cac6c2ac90',\n",
       " '948699ab8c947ce56c256f9cf7996761',\n",
       " '94a0d2804a77f7d2bfab6f3f0ae5254d',\n",
       " '952a100cf3a5bdf2d655e9cdca0e9dd5',\n",
       " '95330f6f0f44d17b918feec36bedcdef',\n",
       " '955abcd11312fce2fd02a91a9b05ae71',\n",
       " '958f54f4c46b53c8a0a9b8167d9140bc',\n",
       " '95b0779b1a04ab70d62c72b53090c4b3',\n",
       " '95cb9561009bd6707c67f05e6a00c16e',\n",
       " '95ea40dc6c0e81407e13d70bd52a5c95',\n",
       " '95feec21a9d076cff084159d61bf9b8e',\n",
       " '9613f2f1e65fb1fc7e181e7f83c217da',\n",
       " '964648862f322b2cc153239af04b22ef',\n",
       " '9656b0a52d364da5eed38a4bb2d9f6e5',\n",
       " '967d91e162afb44a67c0281f71766e4d',\n",
       " '968a2b3be84193e3f755c2fe71033a2c',\n",
       " '96bc1fbb83ad5a2c0441d132fe8bcf97',\n",
       " '9743e6d1c9f3180483825fe4d2e97836',\n",
       " '97fba8a02361aa56eaa9fa51bc1d7661',\n",
       " '9823c07cc256788556e424307f5ae9b6',\n",
       " '9833d0de7f7e1927c807411c10b19189',\n",
       " '984983d05e18e63d1a314e86cb362ae5',\n",
       " '98659fb98a4fe903f21f5c315adbaede',\n",
       " '987e13b445c34bfedb9796d2bb78d593',\n",
       " '98ad5b99ad96695568d8f143b11ab740',\n",
       " '9906d8f74589c452b00f2b5642a63c5f',\n",
       " '9924fba9b2a738e5a141995952e73104',\n",
       " '994f1d8ade16b9fddce3c127eb7f38ed',\n",
       " '998a39dca0ef610c3a0ea4e9cc6e1681',\n",
       " '9993de7e2bcced43dc9edb3b2c81f23d',\n",
       " '99b5905a1079edc2744b06a4049719e0',\n",
       " '9a02f44389bda4c60e7dc23947dbca58',\n",
       " '9a0413117aa91c668ba5944770347cc5',\n",
       " '9a3cdc88ebbba7612e88eac1b82c5f82',\n",
       " '9a8fa4fd6524ada03411b033a9daadc1',\n",
       " '9a9402ad55d079c86c302521816b7b0e',\n",
       " '9a993e1b59649c93f667d38227325066',\n",
       " '9b00cab981ab825158c05c9e54b866d4',\n",
       " '9b805665a791f40e7946a73dcea17e35',\n",
       " '9b9fc81808086cfd1ce5a2b46e2f9926',\n",
       " '9ba898ecb77ab5a6799c8b047c6b6008',\n",
       " '9bd8526e99697998cdf7dcbdfa044847',\n",
       " '9c06a95a82c3bd6635b9fe6e92b15902',\n",
       " '9c41f67773da27940d77460715e880be',\n",
       " '9c4ab8ab059c912090c83cb0818e7f1c',\n",
       " '9c8fdf6c9c631d0892e9a6f55a4a2fd2',\n",
       " '9c9385abdb73ec1f1f93acaf81c6e1d7',\n",
       " '9cd443dad2c8f354fd01869a57fdc171',\n",
       " '9d20743a61f62fe6f9cdc5ff24d46d23',\n",
       " '9d279c825ba12804c337f883b366a6e2',\n",
       " '9d2d833bf63095902417c2a35f72432a',\n",
       " '9d3ca83f7017d6e9e129964e88503ff0',\n",
       " '9da942796e9fac272db50b2f7546b94a',\n",
       " '9dc48a756ba86bbf6934ec6ddf9da03d',\n",
       " '9e07a3eeee6aa9e656106281cdd30d67',\n",
       " '9e81a24714e06b0ca9b4fed8cae42611',\n",
       " '9e90fb6c7870637b6f794e4b4c26bd7e',\n",
       " '9ec6285cc619688d787d641cb87c10d6',\n",
       " '9f141b3c3d9096f5a897d01b48e3b360',\n",
       " '9f76aaed44b540869da862c5dd4b266f',\n",
       " '9f9bb0ef3bb8af571bcfbfa1a22150bd',\n",
       " '9fb8662af03c957ade34d4c816d4e903',\n",
       " '9ff54c12cc7ffd7c1a6724477b8fea2f',\n",
       " 'a0133654f3911e47f021da4e49d42926',\n",
       " 'a060b5acc6e3fb814769805db61f589b',\n",
       " 'a11773bc4188f1c6226b941ec61c2024',\n",
       " 'a124d6e4c30b00918c594289266a383c',\n",
       " 'a12d9ae5720ae41446e084911f0c2865',\n",
       " 'a18d4ddb1a1c3463d6719e526573c4ba',\n",
       " 'a1a266a37d38f7ce41d11f1868d8c9bf',\n",
       " 'a1fa0e24b2249ffa81f688c4840f1eb8',\n",
       " 'a1fd886094826c3f25c6ffb380073974',\n",
       " 'a231459c1562ee1117e95a61128820b7',\n",
       " 'a30aa3b765b613c158fd3a295ed934fa',\n",
       " 'a341f915962ee99754e962520f279708',\n",
       " 'a371cfcae8c6ec3b82ae37a83a8ae9b9',\n",
       " 'a378736c1510a13966b42c2d6462f526',\n",
       " 'a3dea07b2f7bf48276d32513091be717',\n",
       " 'a41371b2f8859b015031f0d5eda5184c',\n",
       " 'a43fbae655e5d13215b9dd65339fa9d4',\n",
       " 'a445d1f73be8f81dd902fd5dc8529416',\n",
       " 'a4951eb41979fe482879f777c8f21d2b',\n",
       " 'a4b09aa7927c59fbb39960b3d7919909',\n",
       " 'a4d9e71172f619f8e3122e34bb0bf3cc',\n",
       " 'a51b2c34b3d5a6e5d0591ee6e0b4d335',\n",
       " 'a541b3aba326d7749b4c086c3cea9273',\n",
       " 'a54b94096938252901d3f7f8de97bffb',\n",
       " 'a554abb9699959ec78425eac2b997c27',\n",
       " 'a5e1b49a1ddf038888e6de3523b475fb',\n",
       " 'a618354ba17cff64826558d81afc77ab',\n",
       " 'a63eecfbb02004863fa1f29a0b8105fc',\n",
       " 'a66a68fbed935f90b62d5d29003267fc',\n",
       " 'a67d4b8df18ac476cd1b0bbd80e589a4',\n",
       " 'a6c820b76bc29bbe2d85eecad3de03f8',\n",
       " 'a70ea60f971825b2eb57261029f317ec',\n",
       " 'a76bf8400b3dbcdbe5a5678f4a8ea0f6',\n",
       " 'a79117ea49a0533f641facdb4c99f502',\n",
       " 'a7a294ddbcd9bbbc46c034079529c17c',\n",
       " 'a7bd63ef1d3b345d7f9a162865bb7c0d',\n",
       " 'a85a7dbd31267a7b02eda3a4d484632d',\n",
       " 'a863d956964ed41b7c90f5138dc69db5',\n",
       " 'a898bd6978f9f2c6aa940b9fa3352c27',\n",
       " 'a8e2698d5bd4347f8136c86104ae03e3',\n",
       " 'a8ea6fc2b3cd95f46bced80853ce8e0e',\n",
       " 'a97b85d31d715c65b2970c4177eb0fda',\n",
       " 'a9b35b94610a3d7f4fa91f19693c5248',\n",
       " 'aa41433dfba2c7561fa30be3fed1e8f0',\n",
       " 'aa68675f50a0551b8dadb954017a50a1',\n",
       " 'aa82b75da7579007963e53b6f818281b',\n",
       " 'aab46b84f70cc6774afaafe1d6035de3',\n",
       " 'aadbc3b9c32c4535b1bfee7321c4c0e7',\n",
       " 'ab3f4b2d2ec007b7e0eaec213bfdbffc',\n",
       " 'aba92798c4b2723e23131478d6c97293',\n",
       " 'ac209ee3c602efed4ff093854a4ade06',\n",
       " 'acd2f21d63ac0bbed4d52e6010d9460b',\n",
       " 'ace154420a51fad090b3543995630051',\n",
       " 'ad08a6efe82576ab162a9336feff647f',\n",
       " 'ad55b7ac6f7284b90d31a1a2f175df8d',\n",
       " 'ae03731c3482a5e42d040dbf723c49af',\n",
       " 'ae19a81b730b48b87ca72521af8fb902',\n",
       " 'ae45b64d808a883aa35f2bf4de879cac',\n",
       " 'aeb421e416716d5f037d50e8c3b14cd7',\n",
       " 'aebf3a2172b33ef09acb472009967812',\n",
       " 'af13232271963742c118a1c58affa259',\n",
       " 'af1ac46194b5488048c459102a16a57e',\n",
       " 'afc3ebd18df498dd87abb7ad7536b5c7',\n",
       " 'afc829d45be38102afaa20f4bce2f627',\n",
       " 'b0229d4466ac60c7ba53c7ce9fabad7c',\n",
       " 'b144a363c107c7bdd91f32d6e28ba6f2',\n",
       " 'b1644f47c7dfa58f8c06677f2a27ee09',\n",
       " 'b17d093c269db6ad3bf4b6076461fd72',\n",
       " 'b19c9174113c2b9288157e14c48a8250',\n",
       " 'b1c7aa8e0f50e7ee73ed30d12af1a961',\n",
       " 'b1d61c60791a01827e3251e362c78573',\n",
       " 'b2e4a7feb6bbca9cca2c0c1e18acbcfc',\n",
       " 'b33d82c619bf88c3e3bb8f53beab0c4b',\n",
       " 'b362b56f7ee80dcfe9d8bb643df87007',\n",
       " 'b3e5f93856cce162850713bb8edce52a',\n",
       " 'b42a9b597a3a3dc8f428e2e2323e9aff',\n",
       " 'b4327c9879644be2a04e9b2df963f6cb',\n",
       " 'b454f9f449c9dff58b90113ba984ea98',\n",
       " 'b46d7b8e6826ad4c8b40a991da0f54d7',\n",
       " 'b48218a94e220c20373ed50dc4254093',\n",
       " 'b4ccd4c315d99edd7c00d015b714485a',\n",
       " 'b4d35b6536b623c83b293eb3a1c02bba',\n",
       " 'b4e829e38d69d299a923abf8d11ac18d',\n",
       " 'b515014adccb1fdf5ff1e2c4a8ff9ea6',\n",
       " 'b52073e7ed9c00c4108cae4eb0c49c1a',\n",
       " 'b551f20c6a8a1dc3d102a5f04bc8d7d6',\n",
       " 'b58309ed929c2bf7d6096c03667b654f',\n",
       " 'b5834f1e97c74d2833dbcb09a3f27926',\n",
       " 'b5aafdb7cfde56f3e9e1364eb1efb691',\n",
       " 'b5b47b2ecf5cf5760051b0a980ed7a3f',\n",
       " 'b5d1b8ef70b1ce27726f7f6c2f373e56',\n",
       " 'b64149a8a9235f5199c6d8225d5dc602',\n",
       " 'b6c339777814451815fe7950fd4c8536',\n",
       " 'b6c4cb6a29dcbaf7fa958f04c8215547',\n",
       " 'b7214d4c357e3f7acae72fcbe7d31afe',\n",
       " 'b78586222de9a1095d0a9d88455ee75f',\n",
       " 'b7e42b52534c5e49eb03817d754c2153',\n",
       " 'b7ef3e6ec248f17f3a6a4697120ddb96',\n",
       " 'b85f8843bb1c297dd5712f0bd287006d',\n",
       " 'b90046b67cafcedfd363afba5fafc1c7',\n",
       " 'b91b13aceec0a140944a2c8915e45e59',\n",
       " 'b92e13d5ef945d086fd4f42b95bc04ac',\n",
       " 'ba9f3a5ab1517a644322d856a7d25946',\n",
       " 'baa093d149982b010ab72ecbeec6110f',\n",
       " 'bb18279e9885136f1dbc8676d4af94e3',\n",
       " 'bba68d75eff1b7b5eef7f6c1c68f2227',\n",
       " 'bbb8cdc5406ff60ff06ff64630f2ca47',\n",
       " 'bc2aaae47829fd5825f6cc2ec51c2c5f',\n",
       " 'bc6b11881b783f275edd051431e531a8',\n",
       " 'bc784846bd59a16832454416ac708003',\n",
       " 'bcb51cec3d290e6a661586d0df30e091',\n",
       " 'bcb8e456728013a90ba66ab3b1b783ad',\n",
       " 'bd14484c68d8a2992a6fecad36bd9f37',\n",
       " 'bd2a71a635bf307de0056b74205918b7',\n",
       " 'bd95002e0fea67f7ec2f2597814c5eaf',\n",
       " 'bdcc7e18ffed5390cd3107030992ffa6',\n",
       " 'be09f5a3a88ac10ae14c791fc8ac0dae',\n",
       " 'be0e65c6d8c2cc8cb913b36aa4168cf0',\n",
       " 'be0f39341d771aac57084970f1ed6425',\n",
       " 'beaa6285a2b9c66db0e294767711ca3f',\n",
       " 'c063d07d78a55a21bf6c0e7c8ae46a6d',\n",
       " 'c0a7134d52d4aa3eb5874aef112f809f',\n",
       " 'c109187e7975ee8fdb2b3dfbdd9dce20',\n",
       " 'c12fd368ff03f5224b92771824cafb9c',\n",
       " 'c1e9b5875e442203073211c522072973',\n",
       " 'c205b200b10aab43be31df8fc1db6d86',\n",
       " 'c20bf28cd809790c04e78fdaf47c038f',\n",
       " 'c2e71e7c97489d4efa5eab796ae354ac',\n",
       " 'c2efa8aa11898bdb5fc4e46201973a42',\n",
       " 'c36ea960a14f164ee0f39ad6beb3796a',\n",
       " 'c38eb8abdaa1d8c28bc8c262761dfbc5',\n",
       " 'c3c23b5aa5e388e5f71883f61d1a0561',\n",
       " 'c3e1435782c0929327449eec11475b96',\n",
       " 'c3edc504d1b4f0ba6224fa53a43a7ad6',\n",
       " 'c417f408340252f170f05dadf88160d7',\n",
       " 'c44a5dc5b5ebe5b3e0535b7c2b7921e4',\n",
       " 'c4581cae6bf751a7ae5c40bb16b74e98',\n",
       " 'c4ac93e194281d6d1450ffdaa52f5f99',\n",
       " 'c5590e238d44b370337624f5987fb9b8',\n",
       " 'c5720509a67da707afcb6f4f0282d529',\n",
       " 'c5c559012b742d9966df82182b90c6da',\n",
       " 'c612bdfa459e1e2f20d57348336c24be',\n",
       " 'c65fa0b38ab99792630468bd7dd26416',\n",
       " 'c6adf41cd378b1f6a7ac62675b060411',\n",
       " 'c6cd71c28144224b080cdec222bc4833',\n",
       " 'c6f4475e2385cc16ce83f21f975614b3',\n",
       " 'c705a5735a94aeee547d1798e3e46ec4',\n",
       " 'c7207128c680a437e1cad834a8880007',\n",
       " 'c75d6d827876b0d0127acb59e5a251ee',\n",
       " 'c7d81193e868b50355412ced7a67f8f3',\n",
       " 'c7fcd0d983a51283e58b806f065cc920',\n",
       " 'c8c7385b1b9589f009aa836f0590e646',\n",
       " 'c8e2c85eccdc9db55eeb2231385e4f1c',\n",
       " 'c8f42da0f9f695f07067676eae4135c8',\n",
       " 'c91f9dc1fdd8b4d60c6b2a2b607e3e8f',\n",
       " 'c943647eee4de99fc1b4e233b9a7f47d',\n",
       " 'c9531b92270ef77516d5b5b7ba2568e9',\n",
       " 'c997312abfa36281d41366cb4a3b908e',\n",
       " 'c9c4720bca91b8ce27d8190a7c4c139c',\n",
       " 'ca82e1f23bb6cac66a32fce1c22534a3',\n",
       " 'caabe6014b914fe2874a9a8d7284f79b',\n",
       " 'cab75cad4b3a3c593c753a1759df28e2',\n",
       " 'cabeeb2c7f68a833964bf7329d360886',\n",
       " 'cb096f17218f0e4ccd7424963e2cd0f8',\n",
       " 'cb0afa31d9ca796908fde019cd64044d',\n",
       " 'cc24426f00c1cf9ae0bf76e8bd23c336',\n",
       " 'cc2acb156df3202f172b280132ab459a',\n",
       " 'cc2e2bb105a5c2b2e43842886d057b81',\n",
       " 'cc9412969fab14faba65c70e00fef4a8',\n",
       " 'cd089e2ef349a7f00dcdbf28965914f6',\n",
       " 'cd71b07a1d37a5e2cc04240e8498cc76',\n",
       " 'cdc33ed715261b08e315a2a19427bc23',\n",
       " 'cdf4aedfc9420a2e212fb64e2688bcdc',\n",
       " 'ce02ab514e4c623dcf7acd7182a7762d',\n",
       " 'ce2f67c3365846170cb709784d87e45b',\n",
       " 'ce9207944cedeaa82e4ea6269586af2a',\n",
       " 'ce9cb60201f1cdc33e4b58d3583c7a5c',\n",
       " 'cf03921bd7eb3afd84c4b12a434d03e5',\n",
       " 'cf1be83386eb96b2ab9598944ebca6fc',\n",
       " 'cf2ba696547459733c6bbfad4e3bcf62',\n",
       " 'cf3e938bf6d66c65ce94f8c206ed0809',\n",
       " 'cf6a4daf0e795838061b0eb832bbc99d',\n",
       " 'd06bb04b096c77dc3302eaf2db336f96',\n",
       " 'd0af95243e993331c4357fdf90dc4692',\n",
       " 'd0e09eaa7fcc9e7de3349959800d2141',\n",
       " 'd0fee79693c7dc3132d30491323b6407',\n",
       " 'd136aa676ef52b09eab65762940957fe',\n",
       " 'd1899ab1d5c79ddaa311bc9f04d198ed',\n",
       " 'd19d17140fdd9adc09ba6e2ad1e1ebb9',\n",
       " 'd1e18b4a3aafb0040da2111c8b8ce2e5',\n",
       " 'd202ea988ab11f2327279093ac71975d',\n",
       " 'd21409978f5e404b53f89e444f7893fe',\n",
       " 'd218c32df572e82db50faecd62179db2',\n",
       " 'd36e6f157d1155369f763a0a434fb129',\n",
       " 'd376da2235096f74600d842b6f5f2d1a',\n",
       " 'd395b2f3d13ff8897f403c6141e0e39a',\n",
       " 'd3f4a4336324a3d180de23df1e75b9b7',\n",
       " 'd407ab825e1a266635214bfe893f29c4',\n",
       " 'd43d9bb261aaaf818c81a645e727b2d3',\n",
       " 'd4684dcdc759dd9cdf41504698d737d8',\n",
       " 'd47f1cb78db4a23e2516e2d34da34c8a',\n",
       " 'd4b625befbbb7e8004e53c187f286e11',\n",
       " 'd5d6c94b78fb0875b2894d44e7c46312',\n",
       " 'd61b368146f83075937e144dab93c6a1',\n",
       " 'd627a270302d23eef773d05ad01fd03c',\n",
       " 'd68b774e9529a4b94a5c6c8943a1b8b3',\n",
       " 'd6a50203fad654981605a70a7bde52b7',\n",
       " 'd75705ad163412347cba51f882e9c0f0',\n",
       " 'd77279c8268e231b685cdbaf299e83f2',\n",
       " 'd774c05556d3de1f991d1a46e204a0ad',\n",
       " 'd79e6ae847a561c284a2b14e42500698',\n",
       " 'd7ca2b06b4f4d3b98c61c377b18a2d6b',\n",
       " 'd7fded8e211b3033e424fb450b97caec',\n",
       " 'd86f260ff28af531443f822c11746521',\n",
       " 'd8ef80a8ba345dedc9f944cf21201988',\n",
       " 'd98147c96d2eebf723b2b67d791bcdaa',\n",
       " 'd98fac46793639eceaaa2e74cadd4973',\n",
       " 'da2ce8d17a17f9d19b368434aedea5e9',\n",
       " 'da8017c195b3bfa4ef002968a3542707',\n",
       " 'daf06eb2b9613900299539558e287701',\n",
       " 'db3e2eeb4fe90d4755f2911d661eae95',\n",
       " 'db6c79a1d852944a89e157793f392d67',\n",
       " 'dbb55b8da8c30cb67014d81405d98a41',\n",
       " 'dbca6ab4ebf827884073e2890388b744',\n",
       " 'dbcaa93cc0542079e9c88db51ec23676',\n",
       " 'dbf7c443a45d684944b5d9928eef051f',\n",
       " 'dc0b5ef48b4c132d0651613a9c1e8e40',\n",
       " 'dc777afc918f513a7253187e00a11948',\n",
       " 'dcab5c08ed8e6c2fa039e01367390071',\n",
       " 'dd0b73d97cea6cc71d263a77fa7982be',\n",
       " 'dd0e3470a7e6ed76fd69c2da27721041',\n",
       " 'dd5d6f0649f40d49791bbd5c00758e2f',\n",
       " 'dd9a5979c32bbdd836984529af862303',\n",
       " 'dde89969aecfa2c5245e8059c660b139',\n",
       " 'de29bf3288345e23b0e25345a3a057fb',\n",
       " 'de47d0cc0c4875fb97530f66d934c894',\n",
       " 'de911421573d3e234450040374b55b38',\n",
       " 'dea88a5f46d5fc19236651e6b3e0b3fa',\n",
       " 'df11d370920e09a2985e574ffd9b0ff1',\n",
       " 'dfbd96036cbc28566e964cff04b5b3a8',\n",
       " 'dfecd0265b899cb36fbb1fddc6f861a4',\n",
       " 'e0e261a0d4fd2ffdcbcad324e91a0dd4',\n",
       " 'e10cbc680042d27fb747db2ac8e7a585',\n",
       " 'e15195f2a5ebaa2168ccd65324e65e8e',\n",
       " 'e1b2b3ad430dd738d958292441b6d046',\n",
       " 'e1d8c5b60f9157f8e21c77cf795952f2',\n",
       " 'e1e133cbe616bee3b3e9e6f4f0882e3d',\n",
       " 'e1e2883b6845cb214ec8d365cd496008',\n",
       " 'e225be101bbad1ea9d031261ba4387b8',\n",
       " 'e24ef34ede03630207f0d367f633d8ea',\n",
       " 'e2ae2af58ac50adf4881751ae84a9d8a',\n",
       " 'e2cec0756030a25f294ead3acc0570d2',\n",
       " 'e33795f66b2a42ac56095ae704ab25b6',\n",
       " 'e347e7eca70e01badc3bdf6c154ac7c4',\n",
       " 'e365b55f806e5d0abe0094a9f2590e33',\n",
       " 'e39177ad1acf95e44ddd430bf969a86b',\n",
       " 'e3ae62ed831fd8b4c20e1742c30d35b5',\n",
       " 'e3c741a05c82c54343b94ed8c1292e2a',\n",
       " 'e3e7c584f317d1b5d6ac0088c411565e',\n",
       " 'e40e9b4ae48e452dc407d299b467d0c3',\n",
       " 'e426290a8f57e82680275bb91df91ad1',\n",
       " 'e47b9f88b773b3fd97ab3b51642ff6fb',\n",
       " 'e488005c7fb68747d3458c7d73760bae',\n",
       " 'e4922f01eda047582cd72e9d1063ab7a',\n",
       " 'e56ffc10078972b5f4e7302383db8d72',\n",
       " 'e6b483fce5fd910afda67d97dc04e775',\n",
       " 'e7cab08a267e815c72a26513222783e0',\n",
       " 'e80e5151787eb21b0cca0d7dc3b0c338',\n",
       " 'e86daf9ebcdfc5c5dd088cdb7f8f8db6',\n",
       " 'e87bad0de3447c9ac3a8555e89545c75',\n",
       " 'e8ee7868b0c3d1d04b482cd4f3ec5ccc',\n",
       " 'e921fc17a0ed9a58f76d38558deb9337',\n",
       " 'e93cd13f5269dd51b8359ccf93ca5ace',\n",
       " 'e9420e9483f16db81c64dddf99f34841',\n",
       " 'e99d9abb115a9bd580bcccf9ff4d4881',\n",
       " 'ea16e13a7cf16d8665d1bc44738dfa88',\n",
       " 'ea199e645da893f2ab0c45cf07face13',\n",
       " 'ea42376c9c52752d9d01bba12eb2999b',\n",
       " 'ea82cb68a6e79d3c10fe9c4255c6a508',\n",
       " 'ead122f4b1da293eb2d719baf104dfc9',\n",
       " 'eaed0897074ee52230ff6c6d73c18dd4',\n",
       " 'eaf55e90d0e4295cb84cb0276e78c35c',\n",
       " 'ec590694e8bf85f75c9200cf418127aa',\n",
       " 'ecb5bba9a5984d2b35b8ac3f56056c67',\n",
       " 'ed139e0d1b5c973495e1aa35dd4a5533',\n",
       " 'ed1a2a831475966a779524ba67ae2ac7',\n",
       " 'ed9817e8960a6a0d509061c54cfe5ac1',\n",
       " 'eda00df2c5e1d006a8608e881bfcf300',\n",
       " 'edb97bd2433fd9de301c8a44344777bb',\n",
       " 'edec3bb5df9c4bc618752e94532bb36e',\n",
       " 'ee27bc4719ae58c5cb3f1dede61fcf54',\n",
       " 'ee6d5fe464237e85f61cc9128710ce32',\n",
       " 'ee78c1e94bdc217d1d0eaef5c567417a',\n",
       " 'ee8d9ff65e0fe4278afce7c933d30941',\n",
       " 'eedee8680f0ed35dcf612c6774affe83',\n",
       " 'eeecf5d16fa6591290706f1fd0c6fc6e',\n",
       " 'f01140c02fd09e5c56312a64fa8db3da',\n",
       " 'f01ff0a82401117e9da22dd680fd2f36',\n",
       " 'f0938b0d88eac91deee6d5add54097d3',\n",
       " 'f0ab5f12bd777e28a401a728fcb93a4b',\n",
       " 'f0bc8dff0e2ef0b75f1c78b4f67bcd63',\n",
       " 'f0d5e49c1a5aead18d5ff2e8f611de4e',\n",
       " 'f12a06b7dbfc55638afafcf8bb03d836',\n",
       " 'f1484a63c0dc79e96c98b2a250380ed8',\n",
       " 'f1ee63a5f0db853e2c1b377778580d39',\n",
       " 'f242a2cf1525f7700770cf1262b4b660',\n",
       " 'f25d2701ff23f6749e8e69ca17987993',\n",
       " 'f2658bad8c2b7d5b08984c6ac34267f7',\n",
       " 'f2689f048b3b6f0ff863bf0cce28873d',\n",
       " 'f2751cf0dd59d223cacbc5da5df42a1a',\n",
       " 'f28dbe6996336f063e804f353d7de4ce',\n",
       " 'f2aaeda52ac1f77c2886af013fded02b',\n",
       " 'f2f027ad6a6df617c9f125173da71e44',\n",
       " 'f2fa99bfaa4aa65a2bd53337e140f949',\n",
       " 'f309bdd259c5b46a560bc1620e641947',\n",
       " 'f355cc1ccb08bd0d283ed979b7ee7515',\n",
       " 'f386f28cbc2ca9a63b5dc7a8fe6d5098',\n",
       " 'f39a2cce8929f5b44087d688995994e4',\n",
       " 'f3ad282dac6ef0e30585a49ac67a322b',\n",
       " ...]"
      ]
     },
     "metadata": {},
     "output_type": "display_data"
    }
   ],
   "source": [
    "# live patch : j'ai oublié d'agréger les ids au moment de passer sur les 10 fichiers\n",
    "#from img_processing import get_file_names_and_ids, get_all_1050_dir\n",
    "#rgb_dir = get_all_1050_dir(\"rgb/\")\n",
    "#_, ids = get_file_names_and_ids(rgb_dir)\n",
    "#display(ids)"
   ]
  },
  {
   "attachments": {},
   "cell_type": "markdown",
   "metadata": {},
   "source": [
    "#### Saving"
   ]
  },
  {
   "cell_type": "code",
   "execution_count": 6,
   "metadata": {},
   "outputs": [
    {
     "name": "stdout",
     "output_type": "stream",
     "text": [
      "rsz_gray_ocv_sift_descs (1049, 1716)\n",
      "8.122 MiB parquet file saved\n"
     ]
    }
   ],
   "source": [
    "from img_ml import save_im_features\n",
    "from img_processing import get_all_1050_dir\n",
    "save_im_features(get_all_1050_dir, data_name, ids, im_features)"
   ]
  },
  {
   "attachments": {},
   "cell_type": "markdown",
   "metadata": {},
   "source": [
    "# Production des *bag of features*"
   ]
  },
  {
   "attachments": {},
   "cell_type": "markdown",
   "metadata": {},
   "source": [
    "## SKI SIFT"
   ]
  },
  {
   "attachments": {},
   "cell_type": "markdown",
   "metadata": {},
   "source": [
    "###  `rsz`"
   ]
  },
  {
   "cell_type": "code",
   "execution_count": 10,
   "metadata": {},
   "outputs": [
    {
     "name": "stdout",
     "output_type": "stream",
     "text": [
      "Dataset fragments:\n",
      "\t rsz_gray_ski_sift_descs_0\n",
      "\t rsz_gray_ski_sift_descs_1\n",
      "\t rsz_gray_ski_sift_descs_2\n",
      "\t rsz_gray_ski_sift_descs_3\n",
      "\t rsz_gray_ski_sift_descs_4\n",
      "\t rsz_gray_ski_sift_descs_5\n",
      "\t rsz_gray_ski_sift_descs_6\n",
      "\t rsz_gray_ski_sift_descs_7\n",
      "\t rsz_gray_ski_sift_descs_8\n",
      "\t rsz_gray_ski_sift_descs_9\n",
      "n_descs: 3326201\n",
      "estimated best k :  1824\n"
     ]
    }
   ],
   "source": [
    "from img_processing import get_all_1050_dir\n",
    "from img_ml import dataset_fragments_n_descs_k\n",
    "data_name = \"rsz_gray_ski_sift_descs\"\n",
    "filenames, n_descs, k = dataset_fragments_n_descs_k(get_all_1050_dir, data_name)"
   ]
  },
  {
   "cell_type": "code",
   "execution_count": 11,
   "metadata": {},
   "outputs": [
    {
     "name": "stdout",
     "output_type": "stream",
     "text": [
      "data_name (rsz_gray_ski_sift_descs_0)\n",
      "rsz_gray_ski_sift_descs_0 file size: 37.87 MiB\n",
      "rsz_gray_ski_sift_descs_0 loaded\n",
      "from ../tmp/preproc_images/all_1050/_im_descs/rsz_gray_ski_sift_descs/\n",
      "in 3 s, 424 ms, 822 mus\n",
      "shape: (314783, 130)\n",
      "mem_usage : 314.61 MiB\n",
      "__sizeof__: 2.259 GiB\n"
     ]
    },
    {
     "data": {
      "text/plain": [
       "(314783, 130)"
      ]
     },
     "metadata": {},
     "output_type": "display_data"
    },
    {
     "name": "stdout",
     "output_type": "stream",
     "text": [
      "MiniBatchKMeans.partial_fit(descs)\n",
      "in 25 s, 681 ms, 606 mus\n",
      "data_name (rsz_gray_ski_sift_descs_1)\n",
      "rsz_gray_ski_sift_descs_1 file size: 48.532 MiB\n",
      "rsz_gray_ski_sift_descs_1 loaded\n",
      "from ../tmp/preproc_images/all_1050/_im_descs/rsz_gray_ski_sift_descs/\n",
      "in 4 s, 156 ms, 210 mus\n",
      "shape: (401454, 130)\n",
      "mem_usage : 401.233 MiB\n",
      "__sizeof__: 2.886 GiB\n"
     ]
    },
    {
     "data": {
      "text/plain": [
       "(401454, 130)"
      ]
     },
     "metadata": {},
     "output_type": "display_data"
    },
    {
     "name": "stdout",
     "output_type": "stream",
     "text": [
      "MiniBatchKMeans.partial_fit(descs)\n",
      "in 32 s, 851 ms, 505 mus\n",
      "data_name (rsz_gray_ski_sift_descs_2)\n",
      "rsz_gray_ski_sift_descs_2 file size: 34.818 MiB\n",
      "rsz_gray_ski_sift_descs_2 loaded\n",
      "from ../tmp/preproc_images/all_1050/_im_descs/rsz_gray_ski_sift_descs/\n",
      "in 3 s, 479 ms, 795 mus\n",
      "shape: (290382, 130)\n",
      "mem_usage : 290.222 MiB\n",
      "__sizeof__: 2.084 GiB\n"
     ]
    },
    {
     "data": {
      "text/plain": [
       "(290382, 130)"
      ]
     },
     "metadata": {},
     "output_type": "display_data"
    },
    {
     "name": "stdout",
     "output_type": "stream",
     "text": [
      "MiniBatchKMeans.partial_fit(descs)\n",
      "in 25 s, 634 ms, 130 mus\n",
      "data_name (rsz_gray_ski_sift_descs_3)\n",
      "rsz_gray_ski_sift_descs_3 file size: 37.32 MiB\n",
      "rsz_gray_ski_sift_descs_3 loaded\n",
      "from ../tmp/preproc_images/all_1050/_im_descs/rsz_gray_ski_sift_descs/\n",
      "in 3 s, 451 ms, 611 mus\n",
      "shape: (310595, 130)\n",
      "mem_usage : 310.424 MiB\n",
      "__sizeof__: 2.23 GiB\n"
     ]
    },
    {
     "data": {
      "text/plain": [
       "(310595, 130)"
      ]
     },
     "metadata": {},
     "output_type": "display_data"
    },
    {
     "name": "stdout",
     "output_type": "stream",
     "text": [
      "MiniBatchKMeans.partial_fit(descs)\n",
      "in 28 s, 55 ms, 751 mus\n",
      "data_name (rsz_gray_ski_sift_descs_4)\n",
      "rsz_gray_ski_sift_descs_4 file size: 36.788 MiB\n",
      "rsz_gray_ski_sift_descs_4 loaded\n",
      "from ../tmp/preproc_images/all_1050/_im_descs/rsz_gray_ski_sift_descs/\n",
      "in 3 s, 363 ms, 678 mus\n",
      "shape: (308620, 130)\n",
      "mem_usage : 308.45 MiB\n",
      "__sizeof__: 2.214 GiB\n"
     ]
    },
    {
     "data": {
      "text/plain": [
       "(308620, 130)"
      ]
     },
     "metadata": {},
     "output_type": "display_data"
    },
    {
     "name": "stdout",
     "output_type": "stream",
     "text": [
      "MiniBatchKMeans.partial_fit(descs)\n",
      "in 26 s, 95 ms, 476 mus\n",
      "data_name (rsz_gray_ski_sift_descs_5)\n",
      "rsz_gray_ski_sift_descs_5 file size: 41.191 MiB\n",
      "rsz_gray_ski_sift_descs_5 loaded\n",
      "from ../tmp/preproc_images/all_1050/_im_descs/rsz_gray_ski_sift_descs/\n",
      "in 3 s, 775 ms, 904 mus\n",
      "shape: (342758, 130)\n",
      "mem_usage : 342.57 MiB\n",
      "__sizeof__: 2.461 GiB\n"
     ]
    },
    {
     "data": {
      "text/plain": [
       "(342758, 130)"
      ]
     },
     "metadata": {},
     "output_type": "display_data"
    },
    {
     "name": "stdout",
     "output_type": "stream",
     "text": [
      "MiniBatchKMeans.partial_fit(descs)\n",
      "in 30 s, 18 ms, 420 mus\n",
      "data_name (rsz_gray_ski_sift_descs_6)\n",
      "rsz_gray_ski_sift_descs_6 file size: 35.617 MiB\n",
      "rsz_gray_ski_sift_descs_6 loaded\n",
      "from ../tmp/preproc_images/all_1050/_im_descs/rsz_gray_ski_sift_descs/\n",
      "in 3 s, 621 ms, 335 mus\n",
      "shape: (297601, 130)\n",
      "mem_usage : 297.438 MiB\n",
      "__sizeof__: 2.136 GiB\n"
     ]
    },
    {
     "data": {
      "text/plain": [
       "(297601, 130)"
      ]
     },
     "metadata": {},
     "output_type": "display_data"
    },
    {
     "name": "stdout",
     "output_type": "stream",
     "text": [
      "MiniBatchKMeans.partial_fit(descs)\n",
      "in 26 s, 392 ms, 753 mus\n",
      "data_name (rsz_gray_ski_sift_descs_7)\n",
      "rsz_gray_ski_sift_descs_7 file size: 33.16 MiB\n",
      "rsz_gray_ski_sift_descs_7 loaded\n",
      "from ../tmp/preproc_images/all_1050/_im_descs/rsz_gray_ski_sift_descs/\n",
      "in 3 s, 491 ms, 961 mus\n",
      "shape: (280787, 130)\n",
      "mem_usage : 280.633 MiB\n",
      "__sizeof__: 2.015 GiB\n"
     ]
    },
    {
     "data": {
      "text/plain": [
       "(280787, 130)"
      ]
     },
     "metadata": {},
     "output_type": "display_data"
    },
    {
     "name": "stdout",
     "output_type": "stream",
     "text": [
      "MiniBatchKMeans.partial_fit(descs)\n",
      "in 24 s, 648 ms, 686 mus\n",
      "data_name (rsz_gray_ski_sift_descs_8)\n",
      "rsz_gray_ski_sift_descs_8 file size: 42.423 MiB\n",
      "rsz_gray_ski_sift_descs_8 loaded\n",
      "from ../tmp/preproc_images/all_1050/_im_descs/rsz_gray_ski_sift_descs/\n",
      "in 4 s, 242 ms, 691 mus\n",
      "shape: (353103, 130)\n",
      "mem_usage : 352.909 MiB\n",
      "__sizeof__: 2.535 GiB\n"
     ]
    },
    {
     "data": {
      "text/plain": [
       "(353103, 130)"
      ]
     },
     "metadata": {},
     "output_type": "display_data"
    },
    {
     "name": "stdout",
     "output_type": "stream",
     "text": [
      "MiniBatchKMeans.partial_fit(descs)\n",
      "in 32 s, 893 ms, 786 mus\n",
      "data_name (rsz_gray_ski_sift_descs_9)\n",
      "rsz_gray_ski_sift_descs_9 file size: 51.369 MiB\n",
      "rsz_gray_ski_sift_descs_9 loaded\n",
      "from ../tmp/preproc_images/all_1050/_im_descs/rsz_gray_ski_sift_descs/\n",
      "in 6 s, 57 ms, 881 mus\n",
      "shape: (426118, 130)\n",
      "mem_usage : 425.884 MiB\n",
      "__sizeof__: 3.061 GiB\n"
     ]
    },
    {
     "data": {
      "text/plain": [
       "(426118, 130)"
      ]
     },
     "metadata": {},
     "output_type": "display_data"
    },
    {
     "name": "stdout",
     "output_type": "stream",
     "text": [
      "MiniBatchKMeans.partial_fit(descs)\n",
      "in 39 s, 907 ms, 70 mus\n"
     ]
    }
   ],
   "source": [
    "from img_ml import train_batch_kmeans\n",
    "kmeans = train_batch_kmeans(get_all_1050_dir, data_name, k)"
   ]
  },
  {
   "cell_type": "code",
   "execution_count": 12,
   "metadata": {},
   "outputs": [
    {
     "name": "stdout",
     "output_type": "stream",
     "text": [
      "data_name (rsz_gray_ski_sift_descs_0)\n",
      "rsz_gray_ski_sift_descs_0 file size: 37.87 MiB\n",
      "rsz_gray_ski_sift_descs_0 loaded\n",
      "from ../tmp/preproc_images/all_1050/_im_descs/rsz_gray_ski_sift_descs/\n",
      "in 4 s, 75 ms, 139 mus\n",
      "shape: (314783, 130)\n",
      "mem_usage : 314.61 MiB\n",
      "__sizeof__: 2.259 GiB\n"
     ]
    },
    {
     "data": {
      "text/plain": [
       "(314783, 130)"
      ]
     },
     "metadata": {},
     "output_type": "display_data"
    },
    {
     "name": "stdout",
     "output_type": "stream",
     "text": [
      "get_im_synth_feature\n",
      "rsz_gray_ski_sift_descs_0\n",
      "in 27 s, 996 ms, 480 mus\n",
      "data_name (rsz_gray_ski_sift_descs_1)\n",
      "rsz_gray_ski_sift_descs_1 file size: 48.532 MiB\n",
      "rsz_gray_ski_sift_descs_1 loaded\n",
      "from ../tmp/preproc_images/all_1050/_im_descs/rsz_gray_ski_sift_descs/\n",
      "in 4 s, 407 ms, 223 mus\n",
      "shape: (401454, 130)\n",
      "mem_usage : 401.233 MiB\n",
      "__sizeof__: 2.886 GiB\n"
     ]
    },
    {
     "data": {
      "text/plain": [
       "(401454, 130)"
      ]
     },
     "metadata": {},
     "output_type": "display_data"
    },
    {
     "name": "stdout",
     "output_type": "stream",
     "text": [
      "get_im_synth_feature\n",
      "rsz_gray_ski_sift_descs_1\n",
      "in 45 s, 872 ms, 693 mus\n",
      "data_name (rsz_gray_ski_sift_descs_2)\n",
      "rsz_gray_ski_sift_descs_2 file size: 34.818 MiB\n",
      "rsz_gray_ski_sift_descs_2 loaded\n",
      "from ../tmp/preproc_images/all_1050/_im_descs/rsz_gray_ski_sift_descs/\n",
      "in 4 s, 22 ms, 898 mus\n",
      "shape: (290382, 130)\n",
      "mem_usage : 290.222 MiB\n",
      "__sizeof__: 2.084 GiB\n"
     ]
    },
    {
     "data": {
      "text/plain": [
       "(290382, 130)"
      ]
     },
     "metadata": {},
     "output_type": "display_data"
    },
    {
     "name": "stdout",
     "output_type": "stream",
     "text": [
      "get_im_synth_feature\n",
      "rsz_gray_ski_sift_descs_2\n",
      "in 31 s, 543 ms, 719 mus\n",
      "data_name (rsz_gray_ski_sift_descs_3)\n",
      "rsz_gray_ski_sift_descs_3 file size: 37.32 MiB\n",
      "rsz_gray_ski_sift_descs_3 loaded\n",
      "from ../tmp/preproc_images/all_1050/_im_descs/rsz_gray_ski_sift_descs/\n",
      "in 4 s, 269 ms, 647 mus\n",
      "shape: (310595, 130)\n",
      "mem_usage : 310.424 MiB\n",
      "__sizeof__: 2.23 GiB\n"
     ]
    },
    {
     "data": {
      "text/plain": [
       "(310595, 130)"
      ]
     },
     "metadata": {},
     "output_type": "display_data"
    },
    {
     "name": "stdout",
     "output_type": "stream",
     "text": [
      "get_im_synth_feature\n",
      "rsz_gray_ski_sift_descs_3\n",
      "in 37 s, 330 ms, 650 mus\n",
      "data_name (rsz_gray_ski_sift_descs_4)\n",
      "rsz_gray_ski_sift_descs_4 file size: 36.788 MiB\n",
      "rsz_gray_ski_sift_descs_4 loaded\n",
      "from ../tmp/preproc_images/all_1050/_im_descs/rsz_gray_ski_sift_descs/\n",
      "in 4 s, 592 ms, 812 mus\n",
      "shape: (308620, 130)\n",
      "mem_usage : 308.45 MiB\n",
      "__sizeof__: 2.214 GiB\n"
     ]
    },
    {
     "data": {
      "text/plain": [
       "(308620, 130)"
      ]
     },
     "metadata": {},
     "output_type": "display_data"
    },
    {
     "name": "stdout",
     "output_type": "stream",
     "text": [
      "get_im_synth_feature\n",
      "rsz_gray_ski_sift_descs_4\n",
      "in 30 s, 576 ms, 372 mus\n",
      "data_name (rsz_gray_ski_sift_descs_5)\n",
      "rsz_gray_ski_sift_descs_5 file size: 41.191 MiB\n",
      "rsz_gray_ski_sift_descs_5 loaded\n",
      "from ../tmp/preproc_images/all_1050/_im_descs/rsz_gray_ski_sift_descs/\n",
      "in 4 s, 194 ms, 553 mus\n",
      "shape: (342758, 130)\n",
      "mem_usage : 342.57 MiB\n",
      "__sizeof__: 2.461 GiB\n"
     ]
    },
    {
     "data": {
      "text/plain": [
       "(342758, 130)"
      ]
     },
     "metadata": {},
     "output_type": "display_data"
    },
    {
     "name": "stdout",
     "output_type": "stream",
     "text": [
      "get_im_synth_feature\n",
      "rsz_gray_ski_sift_descs_5\n",
      "in 28 s, 267 ms, 585 mus\n",
      "data_name (rsz_gray_ski_sift_descs_6)\n",
      "rsz_gray_ski_sift_descs_6 file size: 35.617 MiB\n",
      "rsz_gray_ski_sift_descs_6 loaded\n",
      "from ../tmp/preproc_images/all_1050/_im_descs/rsz_gray_ski_sift_descs/\n",
      "in 3 s, 414 ms, 461 mus\n",
      "shape: (297601, 130)\n",
      "mem_usage : 297.438 MiB\n",
      "__sizeof__: 2.136 GiB\n"
     ]
    },
    {
     "data": {
      "text/plain": [
       "(297601, 130)"
      ]
     },
     "metadata": {},
     "output_type": "display_data"
    },
    {
     "name": "stdout",
     "output_type": "stream",
     "text": [
      "get_im_synth_feature\n",
      "rsz_gray_ski_sift_descs_6\n",
      "in 26 s, 451 ms, 394 mus\n",
      "data_name (rsz_gray_ski_sift_descs_7)\n",
      "rsz_gray_ski_sift_descs_7 file size: 33.16 MiB\n",
      "rsz_gray_ski_sift_descs_7 loaded\n",
      "from ../tmp/preproc_images/all_1050/_im_descs/rsz_gray_ski_sift_descs/\n",
      "in 3 s, 138 ms, 341 mus\n",
      "shape: (280787, 130)\n",
      "mem_usage : 280.633 MiB\n",
      "__sizeof__: 2.015 GiB\n"
     ]
    },
    {
     "data": {
      "text/plain": [
       "(280787, 130)"
      ]
     },
     "metadata": {},
     "output_type": "display_data"
    },
    {
     "name": "stdout",
     "output_type": "stream",
     "text": [
      "get_im_synth_feature\n",
      "rsz_gray_ski_sift_descs_7\n",
      "in 22 s, 401 ms, 366 mus\n",
      "data_name (rsz_gray_ski_sift_descs_8)\n",
      "rsz_gray_ski_sift_descs_8 file size: 42.423 MiB\n",
      "rsz_gray_ski_sift_descs_8 loaded\n",
      "from ../tmp/preproc_images/all_1050/_im_descs/rsz_gray_ski_sift_descs/\n",
      "in 3 s, 917 ms, 364 mus\n",
      "shape: (353103, 130)\n",
      "mem_usage : 352.909 MiB\n",
      "__sizeof__: 2.535 GiB\n"
     ]
    },
    {
     "data": {
      "text/plain": [
       "(353103, 130)"
      ]
     },
     "metadata": {},
     "output_type": "display_data"
    },
    {
     "name": "stdout",
     "output_type": "stream",
     "text": [
      "get_im_synth_feature\n",
      "rsz_gray_ski_sift_descs_8\n",
      "in 29 s, 673 ms, 280 mus\n",
      "data_name (rsz_gray_ski_sift_descs_9)\n",
      "rsz_gray_ski_sift_descs_9 file size: 51.369 MiB\n",
      "rsz_gray_ski_sift_descs_9 loaded\n",
      "from ../tmp/preproc_images/all_1050/_im_descs/rsz_gray_ski_sift_descs/\n",
      "in 6 s, 490 ms, 582 mus\n",
      "shape: (426118, 130)\n",
      "mem_usage : 425.884 MiB\n",
      "__sizeof__: 3.061 GiB\n"
     ]
    },
    {
     "data": {
      "text/plain": [
       "(426118, 130)"
      ]
     },
     "metadata": {},
     "output_type": "display_data"
    },
    {
     "name": "stdout",
     "output_type": "stream",
     "text": [
      "get_im_synth_feature\n",
      "rsz_gray_ski_sift_descs_9\n",
      "in 45 s, 191 ms, 435 mus\n"
     ]
    },
    {
     "data": {
      "text/plain": [
       "(1050, 1824)"
      ]
     },
     "metadata": {},
     "output_type": "display_data"
    },
    {
     "name": "stdout",
     "output_type": "stream",
     "text": [
      "Building of synthetic features\n",
      "in 5 m, 25 s, 337 ms\n"
     ]
    }
   ],
   "source": [
    "from img_ml import get_batch_bag_of_words\n",
    "im_features, ids = get_batch_bag_of_words(kmeans, get_all_1050_dir, data_name)"
   ]
  },
  {
   "cell_type": "code",
   "execution_count": 13,
   "metadata": {},
   "outputs": [
    {
     "name": "stdout",
     "output_type": "stream",
     "text": [
      "rsz_gray_ski_sift_descs (1050, 1824)\n",
      "8.685 MiB parquet file saved\n"
     ]
    }
   ],
   "source": [
    "from img_ml import save_im_features\n",
    "save_im_features(get_all_1050_dir, data_name, ids, im_features)"
   ]
  },
  {
   "attachments": {},
   "cell_type": "markdown",
   "metadata": {},
   "source": [
    "###  `equ_rsz`"
   ]
  },
  {
   "cell_type": "code",
   "execution_count": 1,
   "metadata": {},
   "outputs": [
    {
     "name": "stdout",
     "output_type": "stream",
     "text": [
      "Dataset fragments:\n",
      "\t equ_rsz_gray_ski_sift_descs_0\n",
      "\t equ_rsz_gray_ski_sift_descs_1\n",
      "\t equ_rsz_gray_ski_sift_descs_2\n",
      "\t equ_rsz_gray_ski_sift_descs_3\n",
      "\t equ_rsz_gray_ski_sift_descs_4\n",
      "\t equ_rsz_gray_ski_sift_descs_5\n",
      "\t equ_rsz_gray_ski_sift_descs_6\n",
      "\t equ_rsz_gray_ski_sift_descs_7\n",
      "\t equ_rsz_gray_ski_sift_descs_8\n",
      "\t equ_rsz_gray_ski_sift_descs_9\n",
      "n_descs: 3788552\n",
      "estimated best k :  1946\n"
     ]
    }
   ],
   "source": [
    "from img_processing import get_all_1050_dir\n",
    "from img_ml import dataset_fragments_n_descs_k\n",
    "data_name = \"equ_rsz_gray_ski_sift_descs\"\n",
    "filenames, n_descs, k = dataset_fragments_n_descs_k(get_all_1050_dir, data_name)"
   ]
  },
  {
   "cell_type": "code",
   "execution_count": 2,
   "metadata": {},
   "outputs": [
    {
     "name": "stdout",
     "output_type": "stream",
     "text": [
      "data_name (equ_rsz_gray_ski_sift_descs_0)\n",
      "equ_rsz_gray_ski_sift_descs_0 file size: 44.879 MiB\n",
      "equ_rsz_gray_ski_sift_descs_0 loaded\n",
      "from ../tmp/preproc_images/all_1050/_im_descs/equ_rsz_gray_ski_sift_descs/\n",
      "in 3 s, 969 ms, 87 mus\n",
      "shape: (371459, 130)\n",
      "mem_usage : 371.255 MiB\n",
      "__sizeof__: 2.666 GiB\n"
     ]
    },
    {
     "data": {
      "text/plain": [
       "(371459, 130)"
      ]
     },
     "metadata": {},
     "output_type": "display_data"
    },
    {
     "name": "stdout",
     "output_type": "stream",
     "text": [
      "MiniBatchKMeans.partial_fit(descs)\n",
      "in 27 s, 256 ms, 989 mus\n",
      "data_name (equ_rsz_gray_ski_sift_descs_1)\n",
      "equ_rsz_gray_ski_sift_descs_1 file size: 55.264 MiB\n",
      "equ_rsz_gray_ski_sift_descs_1 loaded\n",
      "from ../tmp/preproc_images/all_1050/_im_descs/equ_rsz_gray_ski_sift_descs/\n",
      "in 4 s, 222 ms, 556 mus\n",
      "shape: (456772, 130)\n",
      "mem_usage : 456.521 MiB\n",
      "__sizeof__: 3.283 GiB\n"
     ]
    },
    {
     "data": {
      "text/plain": [
       "(456772, 130)"
      ]
     },
     "metadata": {},
     "output_type": "display_data"
    },
    {
     "name": "stdout",
     "output_type": "stream",
     "text": [
      "MiniBatchKMeans.partial_fit(descs)\n",
      "in 32 s, 855 ms, 48 mus\n",
      "data_name (equ_rsz_gray_ski_sift_descs_2)\n",
      "equ_rsz_gray_ski_sift_descs_2 file size: 40.421 MiB\n",
      "equ_rsz_gray_ski_sift_descs_2 loaded\n",
      "from ../tmp/preproc_images/all_1050/_im_descs/equ_rsz_gray_ski_sift_descs/\n",
      "in 3 s, 607 ms, 909 mus\n",
      "shape: (338106, 130)\n",
      "mem_usage : 337.92 MiB\n",
      "__sizeof__: 2.426 GiB\n"
     ]
    },
    {
     "data": {
      "text/plain": [
       "(338106, 130)"
      ]
     },
     "metadata": {},
     "output_type": "display_data"
    },
    {
     "name": "stdout",
     "output_type": "stream",
     "text": [
      "MiniBatchKMeans.partial_fit(descs)\n",
      "in 24 s, 710 ms, 591 mus\n",
      "data_name (equ_rsz_gray_ski_sift_descs_3)\n",
      "equ_rsz_gray_ski_sift_descs_3 file size: 44.28 MiB\n",
      "equ_rsz_gray_ski_sift_descs_3 loaded\n",
      "from ../tmp/preproc_images/all_1050/_im_descs/equ_rsz_gray_ski_sift_descs/\n",
      "in 3 s, 759 ms, 446 mus\n",
      "shape: (367498, 130)\n",
      "mem_usage : 367.296 MiB\n",
      "__sizeof__: 2.638 GiB\n"
     ]
    },
    {
     "data": {
      "text/plain": [
       "(367498, 130)"
      ]
     },
     "metadata": {},
     "output_type": "display_data"
    },
    {
     "name": "stdout",
     "output_type": "stream",
     "text": [
      "MiniBatchKMeans.partial_fit(descs)\n",
      "in 26 s, 540 ms, 252 mus\n",
      "data_name (equ_rsz_gray_ski_sift_descs_4)\n",
      "equ_rsz_gray_ski_sift_descs_4 file size: 41.913 MiB\n",
      "equ_rsz_gray_ski_sift_descs_4 loaded\n",
      "from ../tmp/preproc_images/all_1050/_im_descs/equ_rsz_gray_ski_sift_descs/\n",
      "in 3 s, 720 ms, 696 mus\n",
      "shape: (351275, 130)\n",
      "mem_usage : 351.082 MiB\n",
      "__sizeof__: 2.52 GiB\n"
     ]
    },
    {
     "data": {
      "text/plain": [
       "(351275, 130)"
      ]
     },
     "metadata": {},
     "output_type": "display_data"
    },
    {
     "name": "stdout",
     "output_type": "stream",
     "text": [
      "MiniBatchKMeans.partial_fit(descs)\n",
      "in 25 s, 988 ms, 650 mus\n",
      "data_name (equ_rsz_gray_ski_sift_descs_5)\n",
      "equ_rsz_gray_ski_sift_descs_5 file size: 45.654 MiB\n",
      "equ_rsz_gray_ski_sift_descs_5 loaded\n",
      "from ../tmp/preproc_images/all_1050/_im_descs/equ_rsz_gray_ski_sift_descs/\n",
      "in 4 s, 169 ms, 634 mus\n",
      "shape: (380567, 130)\n",
      "mem_usage : 380.358 MiB\n",
      "__sizeof__: 2.732 GiB\n"
     ]
    },
    {
     "data": {
      "text/plain": [
       "(380567, 130)"
      ]
     },
     "metadata": {},
     "output_type": "display_data"
    },
    {
     "name": "stdout",
     "output_type": "stream",
     "text": [
      "MiniBatchKMeans.partial_fit(descs)\n",
      "in 30 s, 617 ms, 320 mus\n",
      "data_name (equ_rsz_gray_ski_sift_descs_6)\n",
      "equ_rsz_gray_ski_sift_descs_6 file size: 41.107 MiB\n",
      "equ_rsz_gray_ski_sift_descs_6 loaded\n",
      "from ../tmp/preproc_images/all_1050/_im_descs/equ_rsz_gray_ski_sift_descs/\n",
      "in 3 s, 927 ms, 467 mus\n",
      "shape: (342337, 130)\n",
      "mem_usage : 342.149 MiB\n",
      "__sizeof__: 2.457 GiB\n"
     ]
    },
    {
     "data": {
      "text/plain": [
       "(342337, 130)"
      ]
     },
     "metadata": {},
     "output_type": "display_data"
    },
    {
     "name": "stdout",
     "output_type": "stream",
     "text": [
      "MiniBatchKMeans.partial_fit(descs)\n",
      "in 28 s, 275 ms, 734 mus\n",
      "data_name (equ_rsz_gray_ski_sift_descs_7)\n",
      "equ_rsz_gray_ski_sift_descs_7 file size: 37.566 MiB\n",
      "equ_rsz_gray_ski_sift_descs_7 loaded\n",
      "from ../tmp/preproc_images/all_1050/_im_descs/equ_rsz_gray_ski_sift_descs/\n",
      "in 3 s, 221 ms, 505 mus\n",
      "shape: (316992, 130)\n",
      "mem_usage : 316.818 MiB\n",
      "__sizeof__: 2.275 GiB\n"
     ]
    },
    {
     "data": {
      "text/plain": [
       "(316992, 130)"
      ]
     },
     "metadata": {},
     "output_type": "display_data"
    },
    {
     "name": "stdout",
     "output_type": "stream",
     "text": [
      "MiniBatchKMeans.partial_fit(descs)\n",
      "in 24 s, 167 ms, 630 mus\n",
      "data_name (equ_rsz_gray_ski_sift_descs_8)\n",
      "equ_rsz_gray_ski_sift_descs_8 file size: 49.058 MiB\n",
      "equ_rsz_gray_ski_sift_descs_8 loaded\n",
      "from ../tmp/preproc_images/all_1050/_im_descs/equ_rsz_gray_ski_sift_descs/\n",
      "in 4 s, 853 ms, 182 mus\n",
      "shape: (406987, 130)\n",
      "mem_usage : 406.763 MiB\n",
      "__sizeof__: 2.922 GiB\n"
     ]
    },
    {
     "data": {
      "text/plain": [
       "(406987, 130)"
      ]
     },
     "metadata": {},
     "output_type": "display_data"
    },
    {
     "name": "stdout",
     "output_type": "stream",
     "text": [
      "MiniBatchKMeans.partial_fit(descs)\n",
      "in 31 s, 244 ms, 713 mus\n",
      "data_name (equ_rsz_gray_ski_sift_descs_9)\n",
      "equ_rsz_gray_ski_sift_descs_9 file size: 55.215 MiB\n",
      "equ_rsz_gray_ski_sift_descs_9 loaded\n",
      "from ../tmp/preproc_images/all_1050/_im_descs/equ_rsz_gray_ski_sift_descs/\n",
      "in 4 s, 463 ms, 506 mus\n",
      "shape: (456559, 130)\n",
      "mem_usage : 456.308 MiB\n",
      "__sizeof__: 3.279 GiB\n"
     ]
    },
    {
     "data": {
      "text/plain": [
       "(456559, 130)"
      ]
     },
     "metadata": {},
     "output_type": "display_data"
    },
    {
     "name": "stdout",
     "output_type": "stream",
     "text": [
      "MiniBatchKMeans.partial_fit(descs)\n",
      "in 32 s, 848 ms, 592 mus\n"
     ]
    }
   ],
   "source": [
    "from img_ml import train_batch_kmeans\n",
    "kmeans = train_batch_kmeans(get_all_1050_dir, data_name, k)"
   ]
  },
  {
   "cell_type": "code",
   "execution_count": 3,
   "metadata": {},
   "outputs": [
    {
     "name": "stdout",
     "output_type": "stream",
     "text": [
      "data_name (equ_rsz_gray_ski_sift_descs_0)\n",
      "equ_rsz_gray_ski_sift_descs_0 file size: 44.879 MiB\n",
      "equ_rsz_gray_ski_sift_descs_0 loaded\n",
      "from ../tmp/preproc_images/all_1050/_im_descs/equ_rsz_gray_ski_sift_descs/\n",
      "in 3 s, 446 ms, 692 mus\n",
      "shape: (371459, 130)\n",
      "mem_usage : 371.255 MiB\n",
      "__sizeof__: 2.666 GiB\n"
     ]
    },
    {
     "data": {
      "text/plain": [
       "(371459, 130)"
      ]
     },
     "metadata": {},
     "output_type": "display_data"
    },
    {
     "name": "stdout",
     "output_type": "stream",
     "text": [
      "get_im_synth_feature\n",
      "equ_rsz_gray_ski_sift_descs_0\n",
      "in 27 s, 359 ms, 756 mus\n",
      "data_name (equ_rsz_gray_ski_sift_descs_1)\n",
      "equ_rsz_gray_ski_sift_descs_1 file size: 55.264 MiB\n",
      "equ_rsz_gray_ski_sift_descs_1 loaded\n",
      "from ../tmp/preproc_images/all_1050/_im_descs/equ_rsz_gray_ski_sift_descs/\n",
      "in 4 s, 569 ms, 969 mus\n",
      "shape: (456772, 130)\n",
      "mem_usage : 456.521 MiB\n",
      "__sizeof__: 3.283 GiB\n"
     ]
    },
    {
     "data": {
      "text/plain": [
       "(456772, 130)"
      ]
     },
     "metadata": {},
     "output_type": "display_data"
    },
    {
     "name": "stdout",
     "output_type": "stream",
     "text": [
      "get_im_synth_feature\n",
      "equ_rsz_gray_ski_sift_descs_1\n",
      "in 34 s, 541 ms, 979 mus\n",
      "data_name (equ_rsz_gray_ski_sift_descs_2)\n",
      "equ_rsz_gray_ski_sift_descs_2 file size: 40.421 MiB\n",
      "equ_rsz_gray_ski_sift_descs_2 loaded\n",
      "from ../tmp/preproc_images/all_1050/_im_descs/equ_rsz_gray_ski_sift_descs/\n",
      "in 3 s, 181 ms, 183 mus\n",
      "shape: (338106, 130)\n",
      "mem_usage : 337.92 MiB\n",
      "__sizeof__: 2.426 GiB\n"
     ]
    },
    {
     "data": {
      "text/plain": [
       "(338106, 130)"
      ]
     },
     "metadata": {},
     "output_type": "display_data"
    },
    {
     "name": "stdout",
     "output_type": "stream",
     "text": [
      "get_im_synth_feature\n",
      "equ_rsz_gray_ski_sift_descs_2\n",
      "in 22 s, 818 ms, 5 mus\n",
      "data_name (equ_rsz_gray_ski_sift_descs_3)\n",
      "equ_rsz_gray_ski_sift_descs_3 file size: 44.28 MiB\n",
      "equ_rsz_gray_ski_sift_descs_3 loaded\n",
      "from ../tmp/preproc_images/all_1050/_im_descs/equ_rsz_gray_ski_sift_descs/\n",
      "in 3 s, 462 ms, 82 mus\n",
      "shape: (367498, 130)\n",
      "mem_usage : 367.296 MiB\n",
      "__sizeof__: 2.638 GiB\n"
     ]
    },
    {
     "data": {
      "text/plain": [
       "(367498, 130)"
      ]
     },
     "metadata": {},
     "output_type": "display_data"
    },
    {
     "name": "stdout",
     "output_type": "stream",
     "text": [
      "get_im_synth_feature\n",
      "equ_rsz_gray_ski_sift_descs_3\n",
      "in 26 s, 211 ms, 784 mus\n",
      "data_name (equ_rsz_gray_ski_sift_descs_4)\n",
      "equ_rsz_gray_ski_sift_descs_4 file size: 41.913 MiB\n",
      "equ_rsz_gray_ski_sift_descs_4 loaded\n",
      "from ../tmp/preproc_images/all_1050/_im_descs/equ_rsz_gray_ski_sift_descs/\n",
      "in 3 s, 523 ms, 862 mus\n",
      "shape: (351275, 130)\n",
      "mem_usage : 351.082 MiB\n",
      "__sizeof__: 2.52 GiB\n"
     ]
    },
    {
     "data": {
      "text/plain": [
       "(351275, 130)"
      ]
     },
     "metadata": {},
     "output_type": "display_data"
    },
    {
     "name": "stdout",
     "output_type": "stream",
     "text": [
      "get_im_synth_feature\n",
      "equ_rsz_gray_ski_sift_descs_4\n",
      "in 28 s, 25 ms, 460 mus\n",
      "data_name (equ_rsz_gray_ski_sift_descs_5)\n",
      "equ_rsz_gray_ski_sift_descs_5 file size: 45.654 MiB\n",
      "equ_rsz_gray_ski_sift_descs_5 loaded\n",
      "from ../tmp/preproc_images/all_1050/_im_descs/equ_rsz_gray_ski_sift_descs/\n",
      "in 3 s, 397 ms, 108 mus\n",
      "shape: (380567, 130)\n",
      "mem_usage : 380.358 MiB\n",
      "__sizeof__: 2.732 GiB\n"
     ]
    },
    {
     "data": {
      "text/plain": [
       "(380567, 130)"
      ]
     },
     "metadata": {},
     "output_type": "display_data"
    },
    {
     "name": "stdout",
     "output_type": "stream",
     "text": [
      "get_im_synth_feature\n",
      "equ_rsz_gray_ski_sift_descs_5\n",
      "in 24 s, 545 ms, 816 mus\n",
      "data_name (equ_rsz_gray_ski_sift_descs_6)\n",
      "equ_rsz_gray_ski_sift_descs_6 file size: 41.107 MiB\n",
      "equ_rsz_gray_ski_sift_descs_6 loaded\n",
      "from ../tmp/preproc_images/all_1050/_im_descs/equ_rsz_gray_ski_sift_descs/\n",
      "in 3 s, 169 ms, 644 mus\n",
      "shape: (342337, 130)\n",
      "mem_usage : 342.149 MiB\n",
      "__sizeof__: 2.457 GiB\n"
     ]
    },
    {
     "data": {
      "text/plain": [
       "(342337, 130)"
      ]
     },
     "metadata": {},
     "output_type": "display_data"
    },
    {
     "name": "stdout",
     "output_type": "stream",
     "text": [
      "get_im_synth_feature\n",
      "equ_rsz_gray_ski_sift_descs_6\n",
      "in 24 s, 745 ms, 774 mus\n",
      "data_name (equ_rsz_gray_ski_sift_descs_7)\n",
      "equ_rsz_gray_ski_sift_descs_7 file size: 37.566 MiB\n",
      "equ_rsz_gray_ski_sift_descs_7 loaded\n",
      "from ../tmp/preproc_images/all_1050/_im_descs/equ_rsz_gray_ski_sift_descs/\n",
      "in 3 s, 367 ms, 464 mus\n",
      "shape: (316992, 130)\n",
      "mem_usage : 316.818 MiB\n",
      "__sizeof__: 2.275 GiB\n"
     ]
    },
    {
     "data": {
      "text/plain": [
       "(316992, 130)"
      ]
     },
     "metadata": {},
     "output_type": "display_data"
    },
    {
     "name": "stdout",
     "output_type": "stream",
     "text": [
      "get_im_synth_feature\n",
      "equ_rsz_gray_ski_sift_descs_7\n",
      "in 28 s, 121 ms, 485 mus\n",
      "data_name (equ_rsz_gray_ski_sift_descs_8)\n",
      "equ_rsz_gray_ski_sift_descs_8 file size: 49.058 MiB\n",
      "equ_rsz_gray_ski_sift_descs_8 loaded\n",
      "from ../tmp/preproc_images/all_1050/_im_descs/equ_rsz_gray_ski_sift_descs/\n",
      "in 4 s, 557 ms, 540 mus\n",
      "shape: (406987, 130)\n",
      "mem_usage : 406.763 MiB\n",
      "__sizeof__: 2.922 GiB\n"
     ]
    },
    {
     "data": {
      "text/plain": [
       "(406987, 130)"
      ]
     },
     "metadata": {},
     "output_type": "display_data"
    },
    {
     "name": "stdout",
     "output_type": "stream",
     "text": [
      "get_im_synth_feature\n",
      "equ_rsz_gray_ski_sift_descs_8\n",
      "in 34 s, 788 ms, 941 mus\n",
      "data_name (equ_rsz_gray_ski_sift_descs_9)\n",
      "equ_rsz_gray_ski_sift_descs_9 file size: 55.215 MiB\n",
      "equ_rsz_gray_ski_sift_descs_9 loaded\n",
      "from ../tmp/preproc_images/all_1050/_im_descs/equ_rsz_gray_ski_sift_descs/\n",
      "in 6 s, 384 ms, 495 mus\n",
      "shape: (456559, 130)\n",
      "mem_usage : 456.308 MiB\n",
      "__sizeof__: 3.279 GiB\n"
     ]
    },
    {
     "data": {
      "text/plain": [
       "(456559, 130)"
      ]
     },
     "metadata": {},
     "output_type": "display_data"
    },
    {
     "name": "stdout",
     "output_type": "stream",
     "text": [
      "get_im_synth_feature\n",
      "equ_rsz_gray_ski_sift_descs_9\n",
      "in 49 s, 285 ms, 660 mus\n"
     ]
    },
    {
     "data": {
      "text/plain": [
       "(1050, 1946)"
      ]
     },
     "metadata": {},
     "output_type": "display_data"
    },
    {
     "name": "stdout",
     "output_type": "stream",
     "text": [
      "Building of synthetic features\n",
      "in 5 m, 484 ms\n"
     ]
    }
   ],
   "source": [
    "from img_ml import get_batch_bag_of_words\n",
    "im_features, ids = get_batch_bag_of_words(kmeans, get_all_1050_dir, data_name)"
   ]
  },
  {
   "cell_type": "code",
   "execution_count": 4,
   "metadata": {},
   "outputs": [
    {
     "name": "stdout",
     "output_type": "stream",
     "text": [
      "equ_rsz_gray_ski_sift_feats (1050, 1946)\n",
      "9.739 MiB parquet file saved\n"
     ]
    }
   ],
   "source": [
    "from img_ml import save_im_features\n",
    "save_im_features(get_all_1050_dir, data_name, ids, im_features)"
   ]
  },
  {
   "attachments": {},
   "cell_type": "markdown",
   "metadata": {},
   "source": [
    "## SKI ORB"
   ]
  },
  {
   "cell_type": "markdown",
   "metadata": {},
   "source": [
    "###  `rsz`"
   ]
  },
  {
   "cell_type": "code",
   "execution_count": 1,
   "metadata": {},
   "outputs": [
    {
     "name": "stdout",
     "output_type": "stream",
     "text": [
      "rsz_gray_ski_orb_descs file size: 17.17 MiB\n",
      "rsz_gray_ski_orb_descs loaded\n",
      "from ../tmp/preproc_images/all_1050/_im_descs/\n",
      "in 1 s, 62 ms, 491 mus\n",
      "shape: (512961, 258)\n",
      "mem_usage : 133.062 MiB\n",
      "__sizeof__: 187.852 MiB\n"
     ]
    }
   ],
   "source": [
    "from img_processing import get_all_1050_dir\n",
    "from img_ml import ml_load_desc_data\n",
    "data_name = \"rsz_gray_ski_orb_descs\"\n",
    "sub_dir = \"_im_descs/\"\n",
    "kpts, descs, data = ml_load_desc_data(get_all_1050_dir, sub_dir, data_name)"
   ]
  },
  {
   "cell_type": "code",
   "execution_count": 2,
   "metadata": {},
   "outputs": [
    {
     "name": "stdout",
     "output_type": "stream",
     "text": [
      "data_name (rsz_gray_ski_orb_descs)\n",
      "rsz_gray_ski_orb_descs file size: 17.17 MiB\n",
      "rsz_gray_ski_orb_descs loaded\n",
      "from ../tmp/preproc_images/all_1050/_im_descs/\n",
      "in 913 ms, 629 mus\n",
      "shape: (512961, 258)\n",
      "mem_usage : 133.062 MiB\n",
      "__sizeof__: 187.852 MiB\n"
     ]
    },
    {
     "data": {
      "text/plain": [
       "(512961, 258)"
      ]
     },
     "metadata": {},
     "output_type": "display_data"
    },
    {
     "data": {
      "text/plain": [
       "(512961, 256)"
      ]
     },
     "metadata": {},
     "output_type": "display_data"
    },
    {
     "name": "stdout",
     "output_type": "stream",
     "text": [
      "n_descs: 512961\n",
      "estimated best k :  716\n",
      "KMeans.fit(descs)\n",
      "in 16 m, 11 s, 532 ms\n"
     ]
    }
   ],
   "source": [
    "from img_ml import train_kmeans\n",
    "kmeans = train_kmeans(get_all_1050_dir, data_name)"
   ]
  },
  {
   "cell_type": "code",
   "execution_count": 8,
   "metadata": {},
   "outputs": [
    {
     "name": "stdout",
     "output_type": "stream",
     "text": [
      "data_name (rsz_gray_ski_orb_descs)\n",
      "rsz_gray_ski_orb_descs file size: 17.17 MiB\n",
      "rsz_gray_ski_orb_descs loaded\n",
      "from ../tmp/preproc_images/all_1050/_im_descs/\n",
      "in 777 ms, 206 mus\n",
      "shape: (512961, 258)\n",
      "mem_usage : 133.062 MiB\n",
      "__sizeof__: 172.687 MiB\n"
     ]
    },
    {
     "data": {
      "text/plain": [
       "(512961, 258)"
      ]
     },
     "metadata": {},
     "output_type": "display_data"
    },
    {
     "data": {
      "text/plain": [
       "(1050, 716)"
      ]
     },
     "metadata": {},
     "output_type": "display_data"
    },
    {
     "name": "stdout",
     "output_type": "stream",
     "text": [
      "Building of synthetic features\n",
      "in 6 s, 873 ms, 577 mus\n"
     ]
    }
   ],
   "source": [
    "from img_ml import get_bag_of_words\n",
    "im_features, ids = get_bag_of_words(kmeans, get_all_1050_dir, data_name)"
   ]
  },
  {
   "cell_type": "code",
   "execution_count": 9,
   "metadata": {},
   "outputs": [
    {
     "name": "stdout",
     "output_type": "stream",
     "text": [
      "rsz_gray_ski_orb_descs (1050, 716)\n",
      "948.357 KiB parquet file saved\n"
     ]
    }
   ],
   "source": [
    "from img_ml import save_im_features\n",
    "save_im_features(get_all_1050_dir, data_name, ids, im_features)"
   ]
  },
  {
   "cell_type": "markdown",
   "metadata": {},
   "source": [
    "###  `equ_rsz`"
   ]
  },
  {
   "cell_type": "code",
   "execution_count": 16,
   "metadata": {},
   "outputs": [
    {
     "name": "stdout",
     "output_type": "stream",
     "text": [
      "equ_rsz_gray_ski_orb_descs file size: 17.386 MiB\n",
      "equ_rsz_gray_ski_orb_descs loaded\n",
      "from ../tmp/preproc_images/all_1050/_im_descs/\n",
      "in 1 s, 198 ms, 873 mus\n",
      "shape: (519454, 258)\n",
      "mem_usage : 134.746 MiB\n",
      "__sizeof__: 174.873 MiB\n"
     ]
    }
   ],
   "source": [
    "from img_processing import get_all_1050_dir\n",
    "from img_ml import ml_load_desc_data\n",
    "data_name = \"equ_rsz_gray_ski_orb_descs\"\n",
    "sub_dir = \"_im_descs/\"\n",
    "kpts, descs, data = ml_load_desc_data(get_all_1050_dir, sub_dir, data_name)"
   ]
  },
  {
   "cell_type": "code",
   "execution_count": 17,
   "metadata": {},
   "outputs": [
    {
     "name": "stdout",
     "output_type": "stream",
     "text": [
      "data_name (equ_rsz_gray_ski_orb_descs)\n",
      "equ_rsz_gray_ski_orb_descs file size: 17.386 MiB\n",
      "equ_rsz_gray_ski_orb_descs loaded\n",
      "from ../tmp/preproc_images/all_1050/_im_descs/\n",
      "in 820 ms, 197 mus\n",
      "shape: (519454, 258)\n",
      "mem_usage : 134.746 MiB\n",
      "__sizeof__: 174.873 MiB\n"
     ]
    },
    {
     "data": {
      "text/plain": [
       "(519454, 258)"
      ]
     },
     "metadata": {},
     "output_type": "display_data"
    },
    {
     "data": {
      "text/plain": [
       "(519454, 256)"
      ]
     },
     "metadata": {},
     "output_type": "display_data"
    },
    {
     "name": "stdout",
     "output_type": "stream",
     "text": [
      "n_descs: 519454\n",
      "estimated best k :  721\n",
      "KMeans.fit(descs)\n",
      "in 17 m, 15 s, 324 ms\n"
     ]
    }
   ],
   "source": [
    "from img_ml import train_kmeans\n",
    "kmeans = train_kmeans(get_all_1050_dir, data_name)"
   ]
  },
  {
   "cell_type": "code",
   "execution_count": 18,
   "metadata": {},
   "outputs": [
    {
     "name": "stdout",
     "output_type": "stream",
     "text": [
      "data_name (equ_rsz_gray_ski_orb_descs)\n",
      "equ_rsz_gray_ski_orb_descs file size: 17.386 MiB\n",
      "equ_rsz_gray_ski_orb_descs loaded\n",
      "from ../tmp/preproc_images/all_1050/_im_descs/\n",
      "in 1 s, 143 ms, 497 mus\n",
      "shape: (519454, 258)\n",
      "mem_usage : 134.746 MiB\n",
      "__sizeof__: 174.873 MiB\n"
     ]
    },
    {
     "data": {
      "text/plain": [
       "(519454, 258)"
      ]
     },
     "metadata": {},
     "output_type": "display_data"
    },
    {
     "data": {
      "text/plain": [
       "(1050, 721)"
      ]
     },
     "metadata": {},
     "output_type": "display_data"
    },
    {
     "name": "stdout",
     "output_type": "stream",
     "text": [
      "Building of synthetic features\n",
      "in 8 s, 787 ms, 322 mus\n"
     ]
    }
   ],
   "source": [
    "from img_ml import get_bag_of_words\n",
    "im_features, ids = get_bag_of_words(kmeans, get_all_1050_dir, data_name)"
   ]
  },
  {
   "cell_type": "code",
   "execution_count": 19,
   "metadata": {},
   "outputs": [
    {
     "name": "stdout",
     "output_type": "stream",
     "text": [
      "equ_rsz_gray_ski_orb_descs (1050, 721)\n",
      "927.562 KiB parquet file saved\n"
     ]
    }
   ],
   "source": [
    "from img_ml import save_im_features\n",
    "save_im_features(get_all_1050_dir, data_name, ids, im_features)"
   ]
  },
  {
   "attachments": {},
   "cell_type": "markdown",
   "metadata": {},
   "source": [
    "## OCV SIFT"
   ]
  },
  {
   "cell_type": "markdown",
   "metadata": {},
   "source": [
    "###  `rsz`"
   ]
  },
  {
   "cell_type": "code",
   "execution_count": 7,
   "metadata": {},
   "outputs": [
    {
     "name": "stdout",
     "output_type": "stream",
     "text": [
      "Dataset fragments:\n",
      "\t rsz_gray_ocv_sift_descs_0\n",
      "\t rsz_gray_ocv_sift_descs_1\n",
      "\t rsz_gray_ocv_sift_descs_2\n",
      "\t rsz_gray_ocv_sift_descs_3\n",
      "\t rsz_gray_ocv_sift_descs_4\n",
      "\t rsz_gray_ocv_sift_descs_5\n",
      "\t rsz_gray_ocv_sift_descs_6\n",
      "\t rsz_gray_ocv_sift_descs_7\n",
      "\t rsz_gray_ocv_sift_descs_8\n",
      "\t rsz_gray_ocv_sift_descs_9\n",
      "n_descs: 2943562\n",
      "estimated best k :  1716\n"
     ]
    }
   ],
   "source": [
    "from img_processing import get_all_1050_dir\n",
    "from img_ml import dataset_fragments_n_descs_k\n",
    "data_name = \"rsz_gray_ocv_sift_descs\"\n",
    "filenames, n_descs, k = dataset_fragments_n_descs_k(get_all_1050_dir, data_name)"
   ]
  },
  {
   "cell_type": "code",
   "execution_count": 8,
   "metadata": {},
   "outputs": [
    {
     "name": "stdout",
     "output_type": "stream",
     "text": [
      "data_name (rsz_gray_ocv_sift_descs_0)\n",
      "rsz_gray_ocv_sift_descs_0 file size: 36.629 MiB\n",
      "rsz_gray_ocv_sift_descs_0 loaded\n",
      "from ../tmp/preproc_images/all_1050/_im_descs/rsz_gray_ocv_sift_descs/\n",
      "in 335 ms, 561 mus\n",
      "shape: (276957, 130)\n",
      "mem_usage : 276.805 MiB\n",
      "__sizeof__: 298.199 MiB\n"
     ]
    },
    {
     "data": {
      "text/plain": [
       "(276957, 130)"
      ]
     },
     "metadata": {},
     "output_type": "display_data"
    },
    {
     "name": "stdout",
     "output_type": "stream",
     "text": [
      "MiniBatchKMeans.partial_fit(descs)\n",
      "in 8 s, 431 ms, 83 mus\n",
      "data_name (rsz_gray_ocv_sift_descs_1)\n",
      "rsz_gray_ocv_sift_descs_1 file size: 47.218 MiB\n",
      "rsz_gray_ocv_sift_descs_1 loaded\n",
      "from ../tmp/preproc_images/all_1050/_im_descs/rsz_gray_ocv_sift_descs/\n",
      "in 585 ms, 604 mus\n",
      "shape: (358426, 130)\n",
      "mem_usage : 358.229 MiB\n",
      "__sizeof__: 385.917 MiB\n"
     ]
    },
    {
     "data": {
      "text/plain": [
       "(358426, 130)"
      ]
     },
     "metadata": {},
     "output_type": "display_data"
    },
    {
     "name": "stdout",
     "output_type": "stream",
     "text": [
      "MiniBatchKMeans.partial_fit(descs)\n",
      "in 6 s, 877 ms, 778 mus\n",
      "data_name (rsz_gray_ocv_sift_descs_2)\n",
      "rsz_gray_ocv_sift_descs_2 file size: 34.033 MiB\n",
      "rsz_gray_ocv_sift_descs_2 loaded\n",
      "from ../tmp/preproc_images/all_1050/_im_descs/rsz_gray_ocv_sift_descs/\n",
      "in 362 ms, 844 mus\n",
      "shape: (258400, 130)\n",
      "mem_usage : 258.258 MiB\n",
      "__sizeof__: 278.219 MiB\n"
     ]
    },
    {
     "data": {
      "text/plain": [
       "(258400, 130)"
      ]
     },
     "metadata": {},
     "output_type": "display_data"
    },
    {
     "name": "stdout",
     "output_type": "stream",
     "text": [
      "MiniBatchKMeans.partial_fit(descs)\n",
      "in 5 s, 584 ms, 570 mus\n",
      "data_name (rsz_gray_ocv_sift_descs_3)\n",
      "rsz_gray_ocv_sift_descs_3 file size: 36.252 MiB\n",
      "rsz_gray_ocv_sift_descs_3 loaded\n",
      "from ../tmp/preproc_images/all_1050/_im_descs/rsz_gray_ocv_sift_descs/\n",
      "in 499 ms, 779 mus\n",
      "shape: (274326, 130)\n",
      "mem_usage : 274.175 MiB\n",
      "__sizeof__: 295.366 MiB\n"
     ]
    },
    {
     "data": {
      "text/plain": [
       "(274326, 130)"
      ]
     },
     "metadata": {},
     "output_type": "display_data"
    },
    {
     "name": "stdout",
     "output_type": "stream",
     "text": [
      "MiniBatchKMeans.partial_fit(descs)\n",
      "in 5 s, 435 ms, 489 mus\n",
      "data_name (rsz_gray_ocv_sift_descs_4)\n",
      "rsz_gray_ocv_sift_descs_4 file size: 35.919 MiB\n",
      "rsz_gray_ocv_sift_descs_4 loaded\n",
      "from ../tmp/preproc_images/all_1050/_im_descs/rsz_gray_ocv_sift_descs/\n",
      "in 323 ms, 722 mus\n",
      "shape: (273529, 130)\n",
      "mem_usage : 273.379 MiB\n",
      "__sizeof__: 294.508 MiB\n"
     ]
    },
    {
     "data": {
      "text/plain": [
       "(273529, 130)"
      ]
     },
     "metadata": {},
     "output_type": "display_data"
    },
    {
     "name": "stdout",
     "output_type": "stream",
     "text": [
      "MiniBatchKMeans.partial_fit(descs)\n",
      "in 5 s, 959 ms, 728 mus\n",
      "data_name (rsz_gray_ocv_sift_descs_5)\n",
      "rsz_gray_ocv_sift_descs_5 file size: 39.993 MiB\n",
      "rsz_gray_ocv_sift_descs_5 loaded\n",
      "from ../tmp/preproc_images/all_1050/_im_descs/rsz_gray_ocv_sift_descs/\n",
      "in 358 ms, 210 mus\n",
      "shape: (304578, 130)\n",
      "mem_usage : 304.411 MiB\n",
      "__sizeof__: 327.939 MiB\n"
     ]
    },
    {
     "data": {
      "text/plain": [
       "(304578, 130)"
      ]
     },
     "metadata": {},
     "output_type": "display_data"
    },
    {
     "name": "stdout",
     "output_type": "stream",
     "text": [
      "MiniBatchKMeans.partial_fit(descs)\n",
      "in 7 s, 33 ms, 711 mus\n",
      "data_name (rsz_gray_ocv_sift_descs_6)\n",
      "rsz_gray_ocv_sift_descs_6 file size: 34.51 MiB\n",
      "rsz_gray_ocv_sift_descs_6 loaded\n",
      "from ../tmp/preproc_images/all_1050/_im_descs/rsz_gray_ocv_sift_descs/\n",
      "in 264 ms, 15 mus\n",
      "shape: (261976, 130)\n",
      "mem_usage : 261.832 MiB\n",
      "__sizeof__: 282.069 MiB\n"
     ]
    },
    {
     "data": {
      "text/plain": [
       "(261976, 130)"
      ]
     },
     "metadata": {},
     "output_type": "display_data"
    },
    {
     "name": "stdout",
     "output_type": "stream",
     "text": [
      "MiniBatchKMeans.partial_fit(descs)\n",
      "in 5 s, 249 ms, 619 mus\n",
      "data_name (rsz_gray_ocv_sift_descs_7)\n",
      "rsz_gray_ocv_sift_descs_7 file size: 32.508 MiB\n",
      "rsz_gray_ocv_sift_descs_7 loaded\n",
      "from ../tmp/preproc_images/all_1050/_im_descs/rsz_gray_ocv_sift_descs/\n",
      "in 354 ms, 415 mus\n",
      "shape: (248067, 130)\n",
      "mem_usage : 247.931 MiB\n",
      "__sizeof__: 267.093 MiB\n"
     ]
    },
    {
     "data": {
      "text/plain": [
       "(248067, 130)"
      ]
     },
     "metadata": {},
     "output_type": "display_data"
    },
    {
     "name": "stdout",
     "output_type": "stream",
     "text": [
      "MiniBatchKMeans.partial_fit(descs)\n",
      "in 4 s, 755 ms, 678 mus\n",
      "data_name (rsz_gray_ocv_sift_descs_8)\n",
      "rsz_gray_ocv_sift_descs_8 file size: 41.058 MiB\n",
      "rsz_gray_ocv_sift_descs_8 loaded\n",
      "from ../tmp/preproc_images/all_1050/_im_descs/rsz_gray_ocv_sift_descs/\n",
      "in 287 ms, 728 mus\n",
      "shape: (310973, 130)\n",
      "mem_usage : 310.802 MiB\n",
      "__sizeof__: 334.824 MiB\n"
     ]
    },
    {
     "data": {
      "text/plain": [
       "(310973, 130)"
      ]
     },
     "metadata": {},
     "output_type": "display_data"
    },
    {
     "name": "stdout",
     "output_type": "stream",
     "text": [
      "MiniBatchKMeans.partial_fit(descs)\n",
      "in 6 s, 47 ms, 51 mus\n",
      "data_name (rsz_gray_ocv_sift_descs_9)\n",
      "rsz_gray_ocv_sift_descs_9 file size: 49.58 MiB\n",
      "rsz_gray_ocv_sift_descs_9 loaded\n",
      "from ../tmp/preproc_images/all_1050/_im_descs/rsz_gray_ocv_sift_descs/\n",
      "in 502 ms, 797 mus\n",
      "shape: (376330, 130)\n",
      "mem_usage : 376.123 MiB\n",
      "__sizeof__: 405.194 MiB\n"
     ]
    },
    {
     "data": {
      "text/plain": [
       "(376330, 130)"
      ]
     },
     "metadata": {},
     "output_type": "display_data"
    },
    {
     "name": "stdout",
     "output_type": "stream",
     "text": [
      "MiniBatchKMeans.partial_fit(descs)\n",
      "in 7 s, 451 ms, 777 mus\n"
     ]
    }
   ],
   "source": [
    "from img_ml import train_batch_kmeans\n",
    "kmeans = train_batch_kmeans(get_all_1050_dir, data_name, k)"
   ]
  },
  {
   "cell_type": "code",
   "execution_count": 9,
   "metadata": {},
   "outputs": [
    {
     "name": "stdout",
     "output_type": "stream",
     "text": [
      "data_name (rsz_gray_ocv_sift_descs_0)\n",
      "rsz_gray_ocv_sift_descs_0 file size: 36.629 MiB\n",
      "rsz_gray_ocv_sift_descs_0 loaded\n",
      "from ../tmp/preproc_images/all_1050/_im_descs/rsz_gray_ocv_sift_descs/\n",
      "in 280 ms, 751 mus\n",
      "shape: (276957, 130)\n",
      "mem_usage : 276.805 MiB\n",
      "__sizeof__: 298.199 MiB\n"
     ]
    },
    {
     "data": {
      "text/plain": [
       "(276957, 130)"
      ]
     },
     "metadata": {},
     "output_type": "display_data"
    },
    {
     "name": "stdout",
     "output_type": "stream",
     "text": [
      "get_im_synth_feature\n",
      "rsz_gray_ocv_sift_descs_0\n",
      "in 3 s, 578 ms, 808 mus\n",
      "data_name (rsz_gray_ocv_sift_descs_1)\n",
      "rsz_gray_ocv_sift_descs_1 file size: 47.218 MiB\n",
      "rsz_gray_ocv_sift_descs_1 loaded\n",
      "from ../tmp/preproc_images/all_1050/_im_descs/rsz_gray_ocv_sift_descs/\n",
      "in 326 ms, 774 mus\n",
      "shape: (358426, 130)\n",
      "mem_usage : 358.229 MiB\n",
      "__sizeof__: 385.917 MiB\n"
     ]
    },
    {
     "data": {
      "text/plain": [
       "(358426, 130)"
      ]
     },
     "metadata": {},
     "output_type": "display_data"
    },
    {
     "name": "stdout",
     "output_type": "stream",
     "text": [
      "get_im_synth_feature\n",
      "rsz_gray_ocv_sift_descs_1\n",
      "in 4 s, 173 ms, 370 mus\n",
      "data_name (rsz_gray_ocv_sift_descs_2)\n",
      "rsz_gray_ocv_sift_descs_2 file size: 34.033 MiB\n",
      "rsz_gray_ocv_sift_descs_2 loaded\n",
      "from ../tmp/preproc_images/all_1050/_im_descs/rsz_gray_ocv_sift_descs/\n",
      "in 219 ms, 346 mus\n",
      "shape: (258400, 130)\n",
      "mem_usage : 258.258 MiB\n",
      "__sizeof__: 278.219 MiB\n"
     ]
    },
    {
     "data": {
      "text/plain": [
       "(258400, 130)"
      ]
     },
     "metadata": {},
     "output_type": "display_data"
    },
    {
     "name": "stdout",
     "output_type": "stream",
     "text": [
      "get_im_synth_feature\n",
      "rsz_gray_ocv_sift_descs_2\n",
      "in 3 s, 368 ms, 85 mus\n",
      "data_name (rsz_gray_ocv_sift_descs_3)\n",
      "rsz_gray_ocv_sift_descs_3 file size: 36.252 MiB\n",
      "rsz_gray_ocv_sift_descs_3 loaded\n",
      "from ../tmp/preproc_images/all_1050/_im_descs/rsz_gray_ocv_sift_descs/\n",
      "in 331 ms, 728 mus\n",
      "shape: (274326, 130)\n",
      "mem_usage : 274.175 MiB\n",
      "__sizeof__: 295.366 MiB\n"
     ]
    },
    {
     "data": {
      "text/plain": [
       "(274326, 130)"
      ]
     },
     "metadata": {},
     "output_type": "display_data"
    },
    {
     "name": "stdout",
     "output_type": "stream",
     "text": [
      "get_im_synth_feature\n",
      "rsz_gray_ocv_sift_descs_3\n",
      "in 3 s, 838 ms, 682 mus\n",
      "data_name (rsz_gray_ocv_sift_descs_4)\n",
      "rsz_gray_ocv_sift_descs_4 file size: 35.919 MiB\n",
      "rsz_gray_ocv_sift_descs_4 loaded\n",
      "from ../tmp/preproc_images/all_1050/_im_descs/rsz_gray_ocv_sift_descs/\n",
      "in 289 ms, 407 mus\n",
      "shape: (273529, 130)\n",
      "mem_usage : 273.379 MiB\n",
      "__sizeof__: 294.508 MiB\n"
     ]
    },
    {
     "data": {
      "text/plain": [
       "(273529, 130)"
      ]
     },
     "metadata": {},
     "output_type": "display_data"
    },
    {
     "name": "stdout",
     "output_type": "stream",
     "text": [
      "get_im_synth_feature\n",
      "rsz_gray_ocv_sift_descs_4\n",
      "in 3 s, 718 ms, 156 mus\n",
      "data_name (rsz_gray_ocv_sift_descs_5)\n",
      "rsz_gray_ocv_sift_descs_5 file size: 39.993 MiB\n",
      "rsz_gray_ocv_sift_descs_5 loaded\n",
      "from ../tmp/preproc_images/all_1050/_im_descs/rsz_gray_ocv_sift_descs/\n",
      "in 281 ms, 535 mus\n",
      "shape: (304578, 130)\n",
      "mem_usage : 304.411 MiB\n",
      "__sizeof__: 327.939 MiB\n"
     ]
    },
    {
     "data": {
      "text/plain": [
       "(304578, 130)"
      ]
     },
     "metadata": {},
     "output_type": "display_data"
    },
    {
     "name": "stdout",
     "output_type": "stream",
     "text": [
      "get_im_synth_feature\n",
      "rsz_gray_ocv_sift_descs_5\n",
      "in 3 s, 478 ms, 596 mus\n",
      "data_name (rsz_gray_ocv_sift_descs_6)\n",
      "rsz_gray_ocv_sift_descs_6 file size: 34.51 MiB\n",
      "rsz_gray_ocv_sift_descs_6 loaded\n",
      "from ../tmp/preproc_images/all_1050/_im_descs/rsz_gray_ocv_sift_descs/\n",
      "in 219 ms, 219 mus\n",
      "shape: (261976, 130)\n",
      "mem_usage : 261.832 MiB\n",
      "__sizeof__: 282.069 MiB\n"
     ]
    },
    {
     "data": {
      "text/plain": [
       "(261976, 130)"
      ]
     },
     "metadata": {},
     "output_type": "display_data"
    },
    {
     "name": "stdout",
     "output_type": "stream",
     "text": [
      "get_im_synth_feature\n",
      "rsz_gray_ocv_sift_descs_6\n",
      "in 3 s, 358 ms, 282 mus\n",
      "data_name (rsz_gray_ocv_sift_descs_7)\n",
      "rsz_gray_ocv_sift_descs_7 file size: 32.508 MiB\n",
      "rsz_gray_ocv_sift_descs_7 loaded\n",
      "from ../tmp/preproc_images/all_1050/_im_descs/rsz_gray_ocv_sift_descs/\n",
      "in 278 ms, 185 mus\n",
      "shape: (248067, 130)\n",
      "mem_usage : 247.931 MiB\n",
      "__sizeof__: 267.093 MiB\n"
     ]
    },
    {
     "data": {
      "text/plain": [
       "(248067, 130)"
      ]
     },
     "metadata": {},
     "output_type": "display_data"
    },
    {
     "name": "stdout",
     "output_type": "stream",
     "text": [
      "get_im_synth_feature\n",
      "rsz_gray_ocv_sift_descs_7\n",
      "in 3 s, 179 ms, 931 mus\n",
      "data_name (rsz_gray_ocv_sift_descs_8)\n",
      "rsz_gray_ocv_sift_descs_8 file size: 41.058 MiB\n",
      "rsz_gray_ocv_sift_descs_8 loaded\n",
      "from ../tmp/preproc_images/all_1050/_im_descs/rsz_gray_ocv_sift_descs/\n",
      "in 295 ms, 107 mus\n",
      "shape: (310973, 130)\n",
      "mem_usage : 310.802 MiB\n",
      "__sizeof__: 334.824 MiB\n"
     ]
    },
    {
     "data": {
      "text/plain": [
       "(310973, 130)"
      ]
     },
     "metadata": {},
     "output_type": "display_data"
    },
    {
     "name": "stdout",
     "output_type": "stream",
     "text": [
      "get_im_synth_feature\n",
      "rsz_gray_ocv_sift_descs_8\n",
      "in 3 s, 534 ms, 20 mus\n",
      "data_name (rsz_gray_ocv_sift_descs_9)\n",
      "rsz_gray_ocv_sift_descs_9 file size: 49.58 MiB\n",
      "rsz_gray_ocv_sift_descs_9 loaded\n",
      "from ../tmp/preproc_images/all_1050/_im_descs/rsz_gray_ocv_sift_descs/\n",
      "in 388 ms, 813 mus\n",
      "shape: (376330, 130)\n",
      "mem_usage : 376.123 MiB\n",
      "__sizeof__: 405.194 MiB\n"
     ]
    },
    {
     "data": {
      "text/plain": [
       "(376330, 130)"
      ]
     },
     "metadata": {},
     "output_type": "display_data"
    },
    {
     "name": "stdout",
     "output_type": "stream",
     "text": [
      "get_im_synth_feature\n",
      "rsz_gray_ocv_sift_descs_9\n",
      "in 4 s, 41 ms, 833 mus\n"
     ]
    },
    {
     "data": {
      "text/plain": [
       "(1049, 1716)"
      ]
     },
     "metadata": {},
     "output_type": "display_data"
    },
    {
     "name": "stdout",
     "output_type": "stream",
     "text": [
      "Building of synthetic features\n",
      "in 36 s, 288 ms, 882 mus\n"
     ]
    }
   ],
   "source": [
    "from img_ml import get_batch_bag_of_words\n",
    "im_features, ids = get_batch_bag_of_words(kmeans, get_all_1050_dir, data_name)"
   ]
  },
  {
   "cell_type": "code",
   "execution_count": 10,
   "metadata": {},
   "outputs": [
    {
     "name": "stdout",
     "output_type": "stream",
     "text": [
      "rsz_gray_ocv_sift_feats (1049, 1716)\n",
      "8.122 MiB parquet file saved\n"
     ]
    }
   ],
   "source": [
    "from img_ml import save_im_features\n",
    "save_im_features(get_all_1050_dir, data_name, ids, im_features)"
   ]
  },
  {
   "cell_type": "markdown",
   "metadata": {},
   "source": [
    "###  `equ_rsz`"
   ]
  },
  {
   "cell_type": "code",
   "execution_count": 11,
   "metadata": {},
   "outputs": [
    {
     "name": "stdout",
     "output_type": "stream",
     "text": [
      "Dataset fragments:\n",
      "\t equ_rsz_gray_ocv_sift_descs_0\n",
      "\t equ_rsz_gray_ocv_sift_descs_1\n",
      "\t equ_rsz_gray_ocv_sift_descs_2\n",
      "\t equ_rsz_gray_ocv_sift_descs_3\n",
      "\t equ_rsz_gray_ocv_sift_descs_4\n",
      "\t equ_rsz_gray_ocv_sift_descs_5\n",
      "\t equ_rsz_gray_ocv_sift_descs_6\n",
      "\t equ_rsz_gray_ocv_sift_descs_7\n",
      "\t equ_rsz_gray_ocv_sift_descs_8\n",
      "\t equ_rsz_gray_ocv_sift_descs_9\n",
      "n_descs: 3356791\n",
      "estimated best k :  1832\n"
     ]
    }
   ],
   "source": [
    "from img_processing import get_all_1050_dir\n",
    "from img_ml import dataset_fragments_n_descs_k\n",
    "data_name = \"equ_rsz_gray_ocv_sift_descs\"\n",
    "filenames, n_descs, k = dataset_fragments_n_descs_k(get_all_1050_dir, data_name)"
   ]
  },
  {
   "cell_type": "code",
   "execution_count": 12,
   "metadata": {},
   "outputs": [
    {
     "name": "stdout",
     "output_type": "stream",
     "text": [
      "data_name (equ_rsz_gray_ocv_sift_descs_0)\n",
      "equ_rsz_gray_ocv_sift_descs_0 file size: 43.237 MiB\n",
      "equ_rsz_gray_ocv_sift_descs_0 loaded\n",
      "from ../tmp/preproc_images/all_1050/_im_descs/equ_rsz_gray_ocv_sift_descs/\n",
      "in 366 ms, 111 mus\n",
      "shape: (328212, 130)\n",
      "mem_usage : 328.032 MiB\n",
      "__sizeof__: 353.385 MiB\n"
     ]
    },
    {
     "data": {
      "text/plain": [
       "(328212, 130)"
      ]
     },
     "metadata": {},
     "output_type": "display_data"
    },
    {
     "name": "stdout",
     "output_type": "stream",
     "text": [
      "MiniBatchKMeans.partial_fit(descs)\n",
      "in 7 s, 532 ms, 34 mus\n",
      "data_name (equ_rsz_gray_ocv_sift_descs_1)\n",
      "equ_rsz_gray_ocv_sift_descs_1 file size: 53.355 MiB\n",
      "equ_rsz_gray_ocv_sift_descs_1 loaded\n",
      "from ../tmp/preproc_images/all_1050/_im_descs/equ_rsz_gray_ocv_sift_descs/\n",
      "in 448 ms, 642 mus\n",
      "shape: (407287, 130)\n",
      "mem_usage : 407.063 MiB\n",
      "__sizeof__: 438.525 MiB\n"
     ]
    },
    {
     "data": {
      "text/plain": [
       "(407287, 130)"
      ]
     },
     "metadata": {},
     "output_type": "display_data"
    },
    {
     "name": "stdout",
     "output_type": "stream",
     "text": [
      "MiniBatchKMeans.partial_fit(descs)\n",
      "in 9 s, 56 ms, 794 mus\n",
      "data_name (equ_rsz_gray_ocv_sift_descs_2)\n",
      "equ_rsz_gray_ocv_sift_descs_2 file size: 39.45 MiB\n",
      "equ_rsz_gray_ocv_sift_descs_2 loaded\n",
      "from ../tmp/preproc_images/all_1050/_im_descs/equ_rsz_gray_ocv_sift_descs/\n",
      "in 477 ms, 737 mus\n",
      "shape: (300840, 130)\n",
      "mem_usage : 300.675 MiB\n",
      "__sizeof__: 323.914 MiB\n"
     ]
    },
    {
     "data": {
      "text/plain": [
       "(300840, 130)"
      ]
     },
     "metadata": {},
     "output_type": "display_data"
    },
    {
     "name": "stdout",
     "output_type": "stream",
     "text": [
      "MiniBatchKMeans.partial_fit(descs)\n",
      "in 6 s, 905 ms, 64 mus\n",
      "data_name (equ_rsz_gray_ocv_sift_descs_3)\n",
      "equ_rsz_gray_ocv_sift_descs_3 file size: 42.832 MiB\n",
      "equ_rsz_gray_ocv_sift_descs_3 loaded\n",
      "from ../tmp/preproc_images/all_1050/_im_descs/equ_rsz_gray_ocv_sift_descs/\n",
      "in 372 ms, 253 mus\n",
      "shape: (324804, 130)\n",
      "mem_usage : 324.626 MiB\n",
      "__sizeof__: 349.716 MiB\n"
     ]
    },
    {
     "data": {
      "text/plain": [
       "(324804, 130)"
      ]
     },
     "metadata": {},
     "output_type": "display_data"
    },
    {
     "name": "stdout",
     "output_type": "stream",
     "text": [
      "MiniBatchKMeans.partial_fit(descs)\n",
      "in 7 s, 309 ms, 726 mus\n",
      "data_name (equ_rsz_gray_ocv_sift_descs_4)\n",
      "equ_rsz_gray_ocv_sift_descs_4 file size: 40.788 MiB\n",
      "equ_rsz_gray_ocv_sift_descs_4 loaded\n",
      "from ../tmp/preproc_images/all_1050/_im_descs/equ_rsz_gray_ocv_sift_descs/\n",
      "in 448 ms, 891 mus\n",
      "shape: (311336, 130)\n",
      "mem_usage : 311.165 MiB\n",
      "__sizeof__: 335.215 MiB\n"
     ]
    },
    {
     "data": {
      "text/plain": [
       "(311336, 130)"
      ]
     },
     "metadata": {},
     "output_type": "display_data"
    },
    {
     "name": "stdout",
     "output_type": "stream",
     "text": [
      "MiniBatchKMeans.partial_fit(descs)\n",
      "in 6 s, 327 ms, 177 mus\n",
      "data_name (equ_rsz_gray_ocv_sift_descs_5)\n",
      "equ_rsz_gray_ocv_sift_descs_5 file size: 44.383 MiB\n",
      "equ_rsz_gray_ocv_sift_descs_5 loaded\n",
      "from ../tmp/preproc_images/all_1050/_im_descs/equ_rsz_gray_ocv_sift_descs/\n",
      "in 341 ms, 297 mus\n",
      "shape: (337824, 130)\n",
      "mem_usage : 337.638 MiB\n",
      "__sizeof__: 363.735 MiB\n"
     ]
    },
    {
     "data": {
      "text/plain": [
       "(337824, 130)"
      ]
     },
     "metadata": {},
     "output_type": "display_data"
    },
    {
     "name": "stdout",
     "output_type": "stream",
     "text": [
      "MiniBatchKMeans.partial_fit(descs)\n",
      "in 6 s, 534 ms, 202 mus\n",
      "data_name (equ_rsz_gray_ocv_sift_descs_6)\n",
      "equ_rsz_gray_ocv_sift_descs_6 file size: 39.813 MiB\n",
      "equ_rsz_gray_ocv_sift_descs_6 loaded\n",
      "from ../tmp/preproc_images/all_1050/_im_descs/equ_rsz_gray_ocv_sift_descs/\n",
      "in 286 ms, 399 mus\n",
      "shape: (303198, 130)\n",
      "mem_usage : 303.031 MiB\n",
      "__sizeof__: 326.453 MiB\n"
     ]
    },
    {
     "data": {
      "text/plain": [
       "(303198, 130)"
      ]
     },
     "metadata": {},
     "output_type": "display_data"
    },
    {
     "name": "stdout",
     "output_type": "stream",
     "text": [
      "MiniBatchKMeans.partial_fit(descs)\n",
      "in 5 s, 905 ms, 465 mus\n",
      "data_name (equ_rsz_gray_ocv_sift_descs_7)\n",
      "equ_rsz_gray_ocv_sift_descs_7 file size: 36.608 MiB\n",
      "equ_rsz_gray_ocv_sift_descs_7 loaded\n",
      "from ../tmp/preproc_images/all_1050/_im_descs/equ_rsz_gray_ocv_sift_descs/\n",
      "in 318 ms, 138 mus\n",
      "shape: (280785, 130)\n",
      "mem_usage : 280.631 MiB\n",
      "__sizeof__: 302.321 MiB\n"
     ]
    },
    {
     "data": {
      "text/plain": [
       "(280785, 130)"
      ]
     },
     "metadata": {},
     "output_type": "display_data"
    },
    {
     "name": "stdout",
     "output_type": "stream",
     "text": [
      "MiniBatchKMeans.partial_fit(descs)\n",
      "in 5 s, 587 ms, 970 mus\n",
      "data_name (equ_rsz_gray_ocv_sift_descs_8)\n",
      "equ_rsz_gray_ocv_sift_descs_8 file size: 47.162 MiB\n",
      "equ_rsz_gray_ocv_sift_descs_8 loaded\n",
      "from ../tmp/preproc_images/all_1050/_im_descs/equ_rsz_gray_ocv_sift_descs/\n",
      "in 397 ms\n",
      "shape: (359029, 130)\n",
      "mem_usage : 358.832 MiB\n",
      "__sizeof__: 386.566 MiB\n"
     ]
    },
    {
     "data": {
      "text/plain": [
       "(359029, 130)"
      ]
     },
     "metadata": {},
     "output_type": "display_data"
    },
    {
     "name": "stdout",
     "output_type": "stream",
     "text": [
      "MiniBatchKMeans.partial_fit(descs)\n",
      "in 6 s, 821 ms, 214 mus\n",
      "data_name (equ_rsz_gray_ocv_sift_descs_9)\n",
      "equ_rsz_gray_ocv_sift_descs_9 file size: 52.956 MiB\n",
      "equ_rsz_gray_ocv_sift_descs_9 loaded\n",
      "from ../tmp/preproc_images/all_1050/_im_descs/equ_rsz_gray_ocv_sift_descs/\n",
      "in 377 ms, 722 mus\n",
      "shape: (403476, 130)\n",
      "mem_usage : 403.254 MiB\n",
      "__sizeof__: 434.422 MiB\n"
     ]
    },
    {
     "data": {
      "text/plain": [
       "(403476, 130)"
      ]
     },
     "metadata": {},
     "output_type": "display_data"
    },
    {
     "name": "stdout",
     "output_type": "stream",
     "text": [
      "MiniBatchKMeans.partial_fit(descs)\n",
      "in 7 s, 640 ms, 965 mus\n"
     ]
    }
   ],
   "source": [
    "from img_ml import train_batch_kmeans\n",
    "kmeans = train_batch_kmeans(get_all_1050_dir, data_name, k)"
   ]
  },
  {
   "cell_type": "code",
   "execution_count": 13,
   "metadata": {},
   "outputs": [
    {
     "name": "stdout",
     "output_type": "stream",
     "text": [
      "data_name (equ_rsz_gray_ocv_sift_descs_0)\n",
      "equ_rsz_gray_ocv_sift_descs_0 file size: 43.237 MiB\n",
      "equ_rsz_gray_ocv_sift_descs_0 loaded\n",
      "from ../tmp/preproc_images/all_1050/_im_descs/equ_rsz_gray_ocv_sift_descs/\n",
      "in 363 ms, 772 mus\n",
      "shape: (328212, 130)\n",
      "mem_usage : 328.032 MiB\n",
      "__sizeof__: 353.385 MiB\n"
     ]
    },
    {
     "data": {
      "text/plain": [
       "(328212, 130)"
      ]
     },
     "metadata": {},
     "output_type": "display_data"
    },
    {
     "name": "stdout",
     "output_type": "stream",
     "text": [
      "get_im_synth_feature\n",
      "equ_rsz_gray_ocv_sift_descs_0\n",
      "in 4 s, 171 ms, 46 mus\n",
      "data_name (equ_rsz_gray_ocv_sift_descs_1)\n",
      "equ_rsz_gray_ocv_sift_descs_1 file size: 53.355 MiB\n",
      "equ_rsz_gray_ocv_sift_descs_1 loaded\n",
      "from ../tmp/preproc_images/all_1050/_im_descs/equ_rsz_gray_ocv_sift_descs/\n",
      "in 398 ms, 910 mus\n",
      "shape: (407287, 130)\n",
      "mem_usage : 407.063 MiB\n",
      "__sizeof__: 438.525 MiB\n"
     ]
    },
    {
     "data": {
      "text/plain": [
       "(407287, 130)"
      ]
     },
     "metadata": {},
     "output_type": "display_data"
    },
    {
     "name": "stdout",
     "output_type": "stream",
     "text": [
      "get_im_synth_feature\n",
      "equ_rsz_gray_ocv_sift_descs_1\n",
      "in 5 s, 318 ms, 650 mus\n",
      "data_name (equ_rsz_gray_ocv_sift_descs_2)\n",
      "equ_rsz_gray_ocv_sift_descs_2 file size: 39.45 MiB\n",
      "equ_rsz_gray_ocv_sift_descs_2 loaded\n",
      "from ../tmp/preproc_images/all_1050/_im_descs/equ_rsz_gray_ocv_sift_descs/\n",
      "in 271 ms, 389 mus\n",
      "shape: (300840, 130)\n",
      "mem_usage : 300.675 MiB\n",
      "__sizeof__: 323.914 MiB\n"
     ]
    },
    {
     "data": {
      "text/plain": [
       "(300840, 130)"
      ]
     },
     "metadata": {},
     "output_type": "display_data"
    },
    {
     "name": "stdout",
     "output_type": "stream",
     "text": [
      "get_im_synth_feature\n",
      "equ_rsz_gray_ocv_sift_descs_2\n",
      "in 4 s, 830 ms, 555 mus\n",
      "data_name (equ_rsz_gray_ocv_sift_descs_3)\n",
      "equ_rsz_gray_ocv_sift_descs_3 file size: 42.832 MiB\n",
      "equ_rsz_gray_ocv_sift_descs_3 loaded\n",
      "from ../tmp/preproc_images/all_1050/_im_descs/equ_rsz_gray_ocv_sift_descs/\n",
      "in 318 ms, 933 mus\n",
      "shape: (324804, 130)\n",
      "mem_usage : 324.626 MiB\n",
      "__sizeof__: 349.716 MiB\n"
     ]
    },
    {
     "data": {
      "text/plain": [
       "(324804, 130)"
      ]
     },
     "metadata": {},
     "output_type": "display_data"
    },
    {
     "name": "stdout",
     "output_type": "stream",
     "text": [
      "get_im_synth_feature\n",
      "equ_rsz_gray_ocv_sift_descs_3\n",
      "in 5 s, 122 ms, 568 mus\n",
      "data_name (equ_rsz_gray_ocv_sift_descs_4)\n",
      "equ_rsz_gray_ocv_sift_descs_4 file size: 40.788 MiB\n",
      "equ_rsz_gray_ocv_sift_descs_4 loaded\n",
      "from ../tmp/preproc_images/all_1050/_im_descs/equ_rsz_gray_ocv_sift_descs/\n",
      "in 257 ms, 247 mus\n",
      "shape: (311336, 130)\n",
      "mem_usage : 311.165 MiB\n",
      "__sizeof__: 335.215 MiB\n"
     ]
    },
    {
     "data": {
      "text/plain": [
       "(311336, 130)"
      ]
     },
     "metadata": {},
     "output_type": "display_data"
    },
    {
     "name": "stdout",
     "output_type": "stream",
     "text": [
      "get_im_synth_feature\n",
      "equ_rsz_gray_ocv_sift_descs_4\n",
      "in 3 s, 836 ms, 236 mus\n",
      "data_name (equ_rsz_gray_ocv_sift_descs_5)\n",
      "equ_rsz_gray_ocv_sift_descs_5 file size: 44.383 MiB\n",
      "equ_rsz_gray_ocv_sift_descs_5 loaded\n",
      "from ../tmp/preproc_images/all_1050/_im_descs/equ_rsz_gray_ocv_sift_descs/\n",
      "in 261 ms, 624 mus\n",
      "shape: (337824, 130)\n",
      "mem_usage : 337.638 MiB\n",
      "__sizeof__: 363.735 MiB\n"
     ]
    },
    {
     "data": {
      "text/plain": [
       "(337824, 130)"
      ]
     },
     "metadata": {},
     "output_type": "display_data"
    },
    {
     "name": "stdout",
     "output_type": "stream",
     "text": [
      "get_im_synth_feature\n",
      "equ_rsz_gray_ocv_sift_descs_5\n",
      "in 3 s, 565 ms, 142 mus\n",
      "data_name (equ_rsz_gray_ocv_sift_descs_6)\n",
      "equ_rsz_gray_ocv_sift_descs_6 file size: 39.813 MiB\n",
      "equ_rsz_gray_ocv_sift_descs_6 loaded\n",
      "from ../tmp/preproc_images/all_1050/_im_descs/equ_rsz_gray_ocv_sift_descs/\n",
      "in 232 ms, 797 mus\n",
      "shape: (303198, 130)\n",
      "mem_usage : 303.031 MiB\n",
      "__sizeof__: 326.453 MiB\n"
     ]
    },
    {
     "data": {
      "text/plain": [
       "(303198, 130)"
      ]
     },
     "metadata": {},
     "output_type": "display_data"
    },
    {
     "name": "stdout",
     "output_type": "stream",
     "text": [
      "get_im_synth_feature\n",
      "equ_rsz_gray_ocv_sift_descs_6\n",
      "in 3 s, 492 ms, 945 mus\n",
      "data_name (equ_rsz_gray_ocv_sift_descs_7)\n",
      "equ_rsz_gray_ocv_sift_descs_7 file size: 36.608 MiB\n",
      "equ_rsz_gray_ocv_sift_descs_7 loaded\n",
      "from ../tmp/preproc_images/all_1050/_im_descs/equ_rsz_gray_ocv_sift_descs/\n",
      "in 229 ms, 394 mus\n",
      "shape: (280785, 130)\n",
      "mem_usage : 280.631 MiB\n",
      "__sizeof__: 302.321 MiB\n"
     ]
    },
    {
     "data": {
      "text/plain": [
       "(280785, 130)"
      ]
     },
     "metadata": {},
     "output_type": "display_data"
    },
    {
     "name": "stdout",
     "output_type": "stream",
     "text": [
      "get_im_synth_feature\n",
      "equ_rsz_gray_ocv_sift_descs_7\n",
      "in 3 s, 611 ms, 78 mus\n",
      "data_name (equ_rsz_gray_ocv_sift_descs_8)\n",
      "equ_rsz_gray_ocv_sift_descs_8 file size: 47.162 MiB\n",
      "equ_rsz_gray_ocv_sift_descs_8 loaded\n",
      "from ../tmp/preproc_images/all_1050/_im_descs/equ_rsz_gray_ocv_sift_descs/\n",
      "in 294 ms, 833 mus\n",
      "shape: (359029, 130)\n",
      "mem_usage : 358.832 MiB\n",
      "__sizeof__: 386.566 MiB\n"
     ]
    },
    {
     "data": {
      "text/plain": [
       "(359029, 130)"
      ]
     },
     "metadata": {},
     "output_type": "display_data"
    },
    {
     "name": "stdout",
     "output_type": "stream",
     "text": [
      "get_im_synth_feature\n",
      "equ_rsz_gray_ocv_sift_descs_8\n",
      "in 3 s, 878 ms, 5 mus\n",
      "data_name (equ_rsz_gray_ocv_sift_descs_9)\n",
      "equ_rsz_gray_ocv_sift_descs_9 file size: 52.956 MiB\n",
      "equ_rsz_gray_ocv_sift_descs_9 loaded\n",
      "from ../tmp/preproc_images/all_1050/_im_descs/equ_rsz_gray_ocv_sift_descs/\n",
      "in 314 ms, 853 mus\n",
      "shape: (403476, 130)\n",
      "mem_usage : 403.254 MiB\n",
      "__sizeof__: 434.422 MiB\n"
     ]
    },
    {
     "data": {
      "text/plain": [
       "(403476, 130)"
      ]
     },
     "metadata": {},
     "output_type": "display_data"
    },
    {
     "name": "stdout",
     "output_type": "stream",
     "text": [
      "get_im_synth_feature\n",
      "equ_rsz_gray_ocv_sift_descs_9\n",
      "in 5 s, 67 ms, 217 mus\n"
     ]
    },
    {
     "data": {
      "text/plain": [
       "(1050, 1832)"
      ]
     },
     "metadata": {},
     "output_type": "display_data"
    },
    {
     "name": "stdout",
     "output_type": "stream",
     "text": [
      "Building of synthetic features\n",
      "in 42 s, 912 ms, 956 mus\n"
     ]
    }
   ],
   "source": [
    "from img_ml import get_batch_bag_of_words\n",
    "im_features, ids = get_batch_bag_of_words(kmeans, get_all_1050_dir, data_name)"
   ]
  },
  {
   "cell_type": "code",
   "execution_count": 14,
   "metadata": {},
   "outputs": [
    {
     "name": "stdout",
     "output_type": "stream",
     "text": [
      "equ_rsz_gray_ocv_sift_feats (1050, 1832)\n",
      "9.088 MiB parquet file saved\n"
     ]
    }
   ],
   "source": [
    "from img_ml import save_im_features\n",
    "save_im_features(get_all_1050_dir, data_name, ids, im_features)"
   ]
  },
  {
   "attachments": {},
   "cell_type": "markdown",
   "metadata": {},
   "source": [
    "## OCV ORB"
   ]
  },
  {
   "cell_type": "markdown",
   "metadata": {},
   "source": [
    "###  `rsz`"
   ]
  },
  {
   "cell_type": "code",
   "execution_count": 1,
   "metadata": {},
   "outputs": [
    {
     "name": "stdout",
     "output_type": "stream",
     "text": [
      "rsz_gray_ocv_orb_descs file size: 17.113 MiB\n",
      "rsz_gray_ocv_orb_descs loaded\n",
      "from ../tmp/preproc_images/all_1050/_im_descs/\n",
      "in 213 ms, 766 mus\n",
      "shape: (503572, 34)\n",
      "mem_usage : 134.468 MiB\n",
      "__sizeof__: 173.368 MiB\n"
     ]
    }
   ],
   "source": [
    "from img_processing import get_all_1050_dir\n",
    "from img_ml import ml_load_desc_data\n",
    "data_name = \"rsz_gray_ocv_orb_descs\"\n",
    "sub_dir = \"_im_descs/\"\n",
    "kpts, descs, data = ml_load_desc_data(get_all_1050_dir, sub_dir, data_name)"
   ]
  },
  {
   "cell_type": "code",
   "execution_count": 2,
   "metadata": {},
   "outputs": [
    {
     "name": "stdout",
     "output_type": "stream",
     "text": [
      "data_name (rsz_gray_ocv_orb_descs)\n",
      "rsz_gray_ocv_orb_descs file size: 17.113 MiB\n",
      "rsz_gray_ocv_orb_descs loaded\n",
      "from ../tmp/preproc_images/all_1050/_im_descs/\n",
      "in 183 ms, 932 mus\n",
      "shape: (503572, 34)\n",
      "mem_usage : 134.468 MiB\n",
      "__sizeof__: 173.368 MiB\n"
     ]
    },
    {
     "data": {
      "text/plain": [
       "(503572, 34)"
      ]
     },
     "metadata": {},
     "output_type": "display_data"
    },
    {
     "data": {
      "text/plain": [
       "(503572, 32)"
      ]
     },
     "metadata": {},
     "output_type": "display_data"
    },
    {
     "name": "stdout",
     "output_type": "stream",
     "text": [
      "n_descs: 503572\n",
      "estimated best k :  710\n",
      "KMeans.fit(descs)\n",
      "in 3 m, 343 ms\n"
     ]
    }
   ],
   "source": [
    "from img_ml import train_kmeans\n",
    "kmeans = train_kmeans(get_all_1050_dir, data_name)"
   ]
  },
  {
   "cell_type": "code",
   "execution_count": 3,
   "metadata": {},
   "outputs": [
    {
     "name": "stdout",
     "output_type": "stream",
     "text": [
      "data_name (rsz_gray_ocv_orb_descs)\n",
      "rsz_gray_ocv_orb_descs file size: 17.113 MiB\n",
      "rsz_gray_ocv_orb_descs loaded\n",
      "from ../tmp/preproc_images/all_1050/_im_descs/\n",
      "in 268 ms, 818 mus\n",
      "shape: (503572, 34)\n",
      "mem_usage : 134.468 MiB\n",
      "__sizeof__: 173.368 MiB\n"
     ]
    },
    {
     "data": {
      "text/plain": [
       "(503572, 34)"
      ]
     },
     "metadata": {},
     "output_type": "display_data"
    },
    {
     "data": {
      "text/plain": [
       "(1049, 710)"
      ]
     },
     "metadata": {},
     "output_type": "display_data"
    },
    {
     "name": "stdout",
     "output_type": "stream",
     "text": [
      "Building of synthetic features\n",
      "in 2 s, 333 ms, 174 mus\n"
     ]
    }
   ],
   "source": [
    "from img_ml import get_bag_of_words\n",
    "im_features, ids = get_bag_of_words(kmeans, get_all_1050_dir, data_name)"
   ]
  },
  {
   "cell_type": "code",
   "execution_count": 4,
   "metadata": {},
   "outputs": [
    {
     "name": "stdout",
     "output_type": "stream",
     "text": [
      "rsz_gray_ocv_orb_descs (1049, 710)\n",
      "1.134 MiB parquet file saved\n"
     ]
    }
   ],
   "source": [
    "from img_ml import save_im_features\n",
    "save_im_features(get_all_1050_dir, data_name, ids, im_features)"
   ]
  },
  {
   "cell_type": "markdown",
   "metadata": {},
   "source": [
    "###  `equ_rsz`"
   ]
  },
  {
   "cell_type": "code",
   "execution_count": 27,
   "metadata": {},
   "outputs": [
    {
     "name": "stdout",
     "output_type": "stream",
     "text": [
      "equ_rsz_gray_ocv_orb_descs file size: 17.405 MiB\n",
      "equ_rsz_gray_ocv_orb_descs loaded\n",
      "from ../tmp/preproc_images/all_1050/_im_descs/\n",
      "in 248 ms, 877 mus\n",
      "shape: (512205, 34)\n",
      "mem_usage : 136.773 MiB\n",
      "__sizeof__: 176.34 MiB\n"
     ]
    }
   ],
   "source": [
    "from img_processing import get_all_1050_dir\n",
    "from img_ml import ml_load_desc_data\n",
    "data_name = \"equ_rsz_gray_ocv_orb_descs\"\n",
    "sub_dir = \"_im_descs/\"\n",
    "kpts, descs, data = ml_load_desc_data(get_all_1050_dir, sub_dir, data_name)"
   ]
  },
  {
   "cell_type": "code",
   "execution_count": 28,
   "metadata": {},
   "outputs": [
    {
     "data": {
      "text/plain": [
       "Index(['009099b1f6e1e8f893ec29a7023153c4', '0096e89cc25a8b96fb9808716406fe94',\n",
       "       '00cbbc837d340fa163d11e169fbdb952', '00d84a518e0550612fcfcba3b02b6255',\n",
       "       '00e966a5049a262cfc72e6bbf68b80e7', '00ed03657cedbe4663eff2d7fa702a33',\n",
       "       '01089dc3618a0ab7304d784ef400b83d', '0131e5d87b72877702d536299cf83b75',\n",
       "       '020d2daba55a723128e4e07c0b0393a9', '02127f52e96fb72c66bf081d25104ef8',\n",
       "       ...\n",
       "       'fda0890dba67c93a7c80b0993651caec', 'fda50982a672ef8835de5c1cc86f8bfc',\n",
       "       'fda51c31a1b7ae8f3c7b5c0174d3e201', 'fe05e9ff9e31a310c35626ab6f2b4fe2',\n",
       "       'fe1bd3e2be8112198506daecbac7dc5c', 'feefbdff924dd6b7cc266449c9a36d69',\n",
       "       'ff24511994fc459d04145231c8876d6c', 'ffbf3794aa8cb6bb8d3f313d0a549a09',\n",
       "       'ffc2e1fc7c886ec09a331040ada038aa', 'fffa2117a4006d4a848eb7d5b80d4816'],\n",
       "      dtype='object', name='id', length=1050)"
      ]
     },
     "metadata": {},
     "output_type": "display_data"
    }
   ],
   "source": [
    "display(data.index.unique())"
   ]
  },
  {
   "cell_type": "code",
   "execution_count": 29,
   "metadata": {},
   "outputs": [
    {
     "name": "stdout",
     "output_type": "stream",
     "text": [
      "data_name (equ_rsz_gray_ocv_orb_descs)\n",
      "equ_rsz_gray_ocv_orb_descs file size: 17.405 MiB\n",
      "equ_rsz_gray_ocv_orb_descs loaded\n",
      "from ../tmp/preproc_images/all_1050/_im_descs/\n",
      "in 237 ms, 743 mus\n",
      "shape: (512205, 34)\n",
      "mem_usage : 136.773 MiB\n",
      "__sizeof__: 176.34 MiB\n"
     ]
    },
    {
     "data": {
      "text/plain": [
       "(512205, 34)"
      ]
     },
     "metadata": {},
     "output_type": "display_data"
    },
    {
     "data": {
      "text/plain": [
       "(512205, 32)"
      ]
     },
     "metadata": {},
     "output_type": "display_data"
    },
    {
     "name": "stdout",
     "output_type": "stream",
     "text": [
      "n_descs: 512205\n",
      "estimated best k :  716\n",
      "KMeans.fit(descs)\n",
      "in 4 m, 40 s, 483 ms\n"
     ]
    }
   ],
   "source": [
    "from img_ml import train_kmeans\n",
    "kmeans = train_kmeans(get_all_1050_dir, data_name)"
   ]
  },
  {
   "cell_type": "code",
   "execution_count": 40,
   "metadata": {},
   "outputs": [
    {
     "name": "stdout",
     "output_type": "stream",
     "text": [
      "data_name (rsz_gray_ski_sift_feats)\n",
      "rsz_gray_ski_sift_feats "
     ]
    },
    {
     "ename": "FileNotFoundError",
     "evalue": "[WinError 2] Le fichier spécifié est introuvable: '../tmp/preproc_images/all_1050/_im_descs/rsz_gray_ski_sift_feats.parquet'",
     "output_type": "error",
     "traceback": [
      "\u001b[1;31m---------------------------------------------------------------------------\u001b[0m",
      "\u001b[1;31mFileNotFoundError\u001b[0m                         Traceback (most recent call last)",
      "Cell \u001b[1;32mIn[40], line 2\u001b[0m\n\u001b[0;32m      1\u001b[0m \u001b[39mfrom\u001b[39;00m \u001b[39mimg_ml\u001b[39;00m \u001b[39mimport\u001b[39;00m get_bag_of_words\n\u001b[1;32m----> 2\u001b[0m im_features, ids \u001b[39m=\u001b[39m get_bag_of_words(kmeans, get_all_1050_dir, data_name)\n",
      "File \u001b[1;32mc:\\Users\\franc\\Projects\\pepper_automatic_product_classification_engine\\notebooks\\img_ml.py:343\u001b[0m, in \u001b[0;36mget_bag_of_words\u001b[1;34m(kmeans, dir_solver, data_name)\u001b[0m\n\u001b[0;32m    341\u001b[0m \u001b[39mprint\u001b[39m(\u001b[39mf\u001b[39m\u001b[39m\"\u001b[39m\u001b[39mdata_name (\u001b[39m\u001b[39m{\u001b[39;00mdata_name\u001b[39m}\u001b[39;00m\u001b[39m)\u001b[39m\u001b[39m\"\u001b[39m)\n\u001b[0;32m    342\u001b[0m sub_dir \u001b[39m=\u001b[39m \u001b[39m\"\u001b[39m\u001b[39m_im_descs/\u001b[39m\u001b[39m\"\u001b[39m\n\u001b[1;32m--> 343\u001b[0m kpts, descs, data \u001b[39m=\u001b[39m ml_load_desc_data(dir_solver, sub_dir, data_name)\n\u001b[0;32m    344\u001b[0m display(data\u001b[39m.\u001b[39mshape)\n\u001b[0;32m    346\u001b[0m im_ids \u001b[39m=\u001b[39m data\u001b[39m.\u001b[39mindex\u001b[39m.\u001b[39munique()\n",
      "File \u001b[1;32mc:\\Users\\franc\\Projects\\pepper_automatic_product_classification_engine\\notebooks\\img_ml.py:220\u001b[0m, in \u001b[0;36mml_load_desc_data\u001b[1;34m(dir_solver, sub_dir, data_name)\u001b[0m\n\u001b[0;32m    218\u001b[0m file_path \u001b[39m=\u001b[39m dir_solver(\u001b[39mf\u001b[39m\u001b[39m\"\u001b[39m\u001b[39m{\u001b[39;00msub_dir\u001b[39m}\u001b[39;00m\u001b[39m{\u001b[39;00mdata_name\u001b[39m}\u001b[39;00m\u001b[39m.parquet\u001b[39m\u001b[39m\"\u001b[39m)\n\u001b[0;32m    219\u001b[0m \u001b[39mprint\u001b[39m(data_name, end\u001b[39m=\u001b[39m\u001b[39m'\u001b[39m\u001b[39m \u001b[39m\u001b[39m'\u001b[39m)\n\u001b[1;32m--> 220\u001b[0m print_file_size(file_path)\n\u001b[0;32m    221\u001b[0m t \u001b[39m=\u001b[39m get_start_time()\n\u001b[0;32m    222\u001b[0m features_dir \u001b[39m=\u001b[39m dir_solver(sub_dir)\n",
      "File \u001b[1;32mc:\\Users\\franc\\Projects\\pepper_automatic_product_classification_engine\\notebooks\\pepper_commons.py:280\u001b[0m, in \u001b[0;36mprint_file_size\u001b[1;34m(file_path)\u001b[0m\n\u001b[0;32m    279\u001b[0m \u001b[39mdef\u001b[39;00m \u001b[39mprint_file_size\u001b[39m(file_path):\n\u001b[1;32m--> 280\u001b[0m     file_size \u001b[39m=\u001b[39m get_file_size(file_path)\n\u001b[0;32m    281\u001b[0m     \u001b[39mprint\u001b[39m(\u001b[39m\"\u001b[39m\u001b[39mfile size:\u001b[39m\u001b[39m\"\u001b[39m, \u001b[39m*\u001b[39mformat_iB(file_size))\n",
      "File \u001b[1;32mc:\\Users\\franc\\Projects\\pepper_automatic_product_classification_engine\\notebooks\\pepper_commons.py:276\u001b[0m, in \u001b[0;36mget_file_size\u001b[1;34m(file_path)\u001b[0m\n\u001b[0;32m    275\u001b[0m \u001b[39mdef\u001b[39;00m \u001b[39mget_file_size\u001b[39m(file_path):\n\u001b[1;32m--> 276\u001b[0m     \u001b[39mreturn\u001b[39;00m os\u001b[39m.\u001b[39;49mpath\u001b[39m.\u001b[39;49mgetsize(file_path)\n",
      "File \u001b[1;32mC:\\Program Files\\WindowsApps\\PythonSoftwareFoundation.Python.3.10_3.10.2800.0_x64__qbz5n2kfra8p0\\lib\\genericpath.py:50\u001b[0m, in \u001b[0;36mgetsize\u001b[1;34m(filename)\u001b[0m\n\u001b[0;32m     48\u001b[0m \u001b[39mdef\u001b[39;00m \u001b[39mgetsize\u001b[39m(filename):\n\u001b[0;32m     49\u001b[0m \u001b[39m    \u001b[39m\u001b[39m\"\"\"Return the size of a file, reported by os.stat().\"\"\"\u001b[39;00m\n\u001b[1;32m---> 50\u001b[0m     \u001b[39mreturn\u001b[39;00m os\u001b[39m.\u001b[39;49mstat(filename)\u001b[39m.\u001b[39mst_size\n",
      "\u001b[1;31mFileNotFoundError\u001b[0m: [WinError 2] Le fichier spécifié est introuvable: '../tmp/preproc_images/all_1050/_im_descs/rsz_gray_ski_sift_feats.parquet'"
     ]
    }
   ],
   "source": [
    "from img_ml import get_bag_of_words\n",
    "im_features, ids = get_bag_of_words(kmeans, get_all_1050_dir, data_name)"
   ]
  },
  {
   "cell_type": "code",
   "execution_count": 33,
   "metadata": {},
   "outputs": [
    {
     "data": {
      "text/plain": [
       "Index(['009099b1f6e1e8f893ec29a7023153c4', '0096e89cc25a8b96fb9808716406fe94',\n",
       "       '00cbbc837d340fa163d11e169fbdb952', '00d84a518e0550612fcfcba3b02b6255',\n",
       "       '00e966a5049a262cfc72e6bbf68b80e7', '00ed03657cedbe4663eff2d7fa702a33',\n",
       "       '01089dc3618a0ab7304d784ef400b83d', '0131e5d87b72877702d536299cf83b75',\n",
       "       '020d2daba55a723128e4e07c0b0393a9', '02127f52e96fb72c66bf081d25104ef8',\n",
       "       ...\n",
       "       'fda0890dba67c93a7c80b0993651caec', 'fda50982a672ef8835de5c1cc86f8bfc',\n",
       "       'fda51c31a1b7ae8f3c7b5c0174d3e201', 'fe05e9ff9e31a310c35626ab6f2b4fe2',\n",
       "       'fe1bd3e2be8112198506daecbac7dc5c', 'feefbdff924dd6b7cc266449c9a36d69',\n",
       "       'ff24511994fc459d04145231c8876d6c', 'ffbf3794aa8cb6bb8d3f313d0a549a09',\n",
       "       'ffc2e1fc7c886ec09a331040ada038aa', 'fffa2117a4006d4a848eb7d5b80d4816'],\n",
       "      dtype='object', name='id', length=1050)"
      ]
     },
     "metadata": {},
     "output_type": "display_data"
    }
   ],
   "source": [
    "display(ids.unique())"
   ]
  },
  {
   "cell_type": "code",
   "execution_count": 36,
   "metadata": {},
   "outputs": [
    {
     "data": {
      "text/plain": [
       "Index(['009099b1f6e1e8f893ec29a7023153c4', '0096e89cc25a8b96fb9808716406fe94',\n",
       "       '00cbbc837d340fa163d11e169fbdb952', '00d84a518e0550612fcfcba3b02b6255',\n",
       "       '00e966a5049a262cfc72e6bbf68b80e7', '00ed03657cedbe4663eff2d7fa702a33',\n",
       "       '01089dc3618a0ab7304d784ef400b83d', '0131e5d87b72877702d536299cf83b75',\n",
       "       '020d2daba55a723128e4e07c0b0393a9', '02127f52e96fb72c66bf081d25104ef8',\n",
       "       ...\n",
       "       'fda0890dba67c93a7c80b0993651caec', 'fda50982a672ef8835de5c1cc86f8bfc',\n",
       "       'fda51c31a1b7ae8f3c7b5c0174d3e201', 'fe05e9ff9e31a310c35626ab6f2b4fe2',\n",
       "       'fe1bd3e2be8112198506daecbac7dc5c', 'feefbdff924dd6b7cc266449c9a36d69',\n",
       "       'ff24511994fc459d04145231c8876d6c', 'ffbf3794aa8cb6bb8d3f313d0a549a09',\n",
       "       'ffc2e1fc7c886ec09a331040ada038aa', 'fffa2117a4006d4a848eb7d5b80d4816'],\n",
       "      dtype='object', name='id', length=1050)"
      ]
     },
     "metadata": {},
     "output_type": "display_data"
    }
   ],
   "source": [
    "data = features_data = pd.DataFrame(\n",
    "    im_features,\n",
    "    index=ids,\n",
    "    columns=[str(i) for i in range(im_features.shape[1])]\n",
    ")\n",
    "\n",
    "display(data.index.unique())"
   ]
  },
  {
   "cell_type": "code",
   "execution_count": 39,
   "metadata": {},
   "outputs": [
    {
     "name": "stderr",
     "output_type": "stream",
     "text": [
      "c:\\Users\\franc\\Projects\\pepper_automatic_product_classification_engine\\notebooks\\img_ml.py:391: FutureWarning: reindexing with a non-unique Index is deprecated and will raise in a future version.\n",
      "  features_data = pd.DataFrame(\n"
     ]
    },
    {
     "ename": "ValueError",
     "evalue": "cannot reindex on an axis with duplicate labels",
     "output_type": "error",
     "traceback": [
      "\u001b[1;31m---------------------------------------------------------------------------\u001b[0m",
      "\u001b[1;31mValueError\u001b[0m                                Traceback (most recent call last)",
      "Cell \u001b[1;32mIn[39], line 2\u001b[0m\n\u001b[0;32m      1\u001b[0m \u001b[39mfrom\u001b[39;00m \u001b[39mimg_ml\u001b[39;00m \u001b[39mimport\u001b[39;00m save_im_features\n\u001b[1;32m----> 2\u001b[0m save_im_features(get_all_1050_dir, data_name, ids, im_features)\n",
      "File \u001b[1;32mc:\\Users\\franc\\Projects\\pepper_automatic_product_classification_engine\\notebooks\\img_ml.py:391\u001b[0m, in \u001b[0;36msave_im_features\u001b[1;34m(dir_solver, data_name, ids, features)\u001b[0m\n\u001b[0;32m    390\u001b[0m \u001b[39mdef\u001b[39;00m \u001b[39msave_im_features\u001b[39m(dir_solver, data_name, ids, features):\n\u001b[1;32m--> 391\u001b[0m     features_data \u001b[39m=\u001b[39m pd\u001b[39m.\u001b[39;49mDataFrame(\n\u001b[0;32m    392\u001b[0m         features,\n\u001b[0;32m    393\u001b[0m         index\u001b[39m=\u001b[39;49mids,\n\u001b[0;32m    394\u001b[0m         columns\u001b[39m=\u001b[39;49m[\u001b[39mstr\u001b[39;49m(i) \u001b[39mfor\u001b[39;49;00m i \u001b[39min\u001b[39;49;00m \u001b[39mrange\u001b[39;49m(features\u001b[39m.\u001b[39;49mshape[\u001b[39m1\u001b[39;49m])]\n\u001b[0;32m    395\u001b[0m     )\n\u001b[0;32m    396\u001b[0m     root_dir \u001b[39m=\u001b[39m dir_solver(\u001b[39m\"\u001b[39m\u001b[39m_im_feats/\u001b[39m\u001b[39m\"\u001b[39m)\n\u001b[0;32m    397\u001b[0m     data_name \u001b[39m=\u001b[39m \u001b[39mf\u001b[39m\u001b[39m\"\u001b[39m\u001b[39m{\u001b[39;00mdata_name[:\u001b[39m-\u001b[39m\u001b[39m5\u001b[39m]\u001b[39m}\u001b[39;00m\u001b[39mfeats\u001b[39m\u001b[39m\"\u001b[39m\n",
      "File \u001b[1;32m~\\AppData\\Local\\Packages\\PythonSoftwareFoundation.Python.3.10_qbz5n2kfra8p0\\LocalCache\\local-packages\\Python310\\site-packages\\pandas\\core\\frame.py:658\u001b[0m, in \u001b[0;36mDataFrame.__init__\u001b[1;34m(self, data, index, columns, dtype, copy)\u001b[0m\n\u001b[0;32m    655\u001b[0m         copy \u001b[39m=\u001b[39m \u001b[39mFalse\u001b[39;00m\n\u001b[0;32m    657\u001b[0m \u001b[39mif\u001b[39;00m \u001b[39misinstance\u001b[39m(data, (BlockManager, ArrayManager)):\n\u001b[1;32m--> 658\u001b[0m     mgr \u001b[39m=\u001b[39m \u001b[39mself\u001b[39;49m\u001b[39m.\u001b[39;49m_init_mgr(\n\u001b[0;32m    659\u001b[0m         data, axes\u001b[39m=\u001b[39;49m{\u001b[39m\"\u001b[39;49m\u001b[39mindex\u001b[39;49m\u001b[39m\"\u001b[39;49m: index, \u001b[39m\"\u001b[39;49m\u001b[39mcolumns\u001b[39;49m\u001b[39m\"\u001b[39;49m: columns}, dtype\u001b[39m=\u001b[39;49mdtype, copy\u001b[39m=\u001b[39;49mcopy\n\u001b[0;32m    660\u001b[0m     )\n\u001b[0;32m    662\u001b[0m \u001b[39melif\u001b[39;00m \u001b[39misinstance\u001b[39m(data, \u001b[39mdict\u001b[39m):\n\u001b[0;32m    663\u001b[0m     \u001b[39m# GH#38939 de facto copy defaults to False only in non-dict cases\u001b[39;00m\n\u001b[0;32m    664\u001b[0m     mgr \u001b[39m=\u001b[39m dict_to_mgr(data, index, columns, dtype\u001b[39m=\u001b[39mdtype, copy\u001b[39m=\u001b[39mcopy, typ\u001b[39m=\u001b[39mmanager)\n",
      "File \u001b[1;32m~\\AppData\\Local\\Packages\\PythonSoftwareFoundation.Python.3.10_qbz5n2kfra8p0\\LocalCache\\local-packages\\Python310\\site-packages\\pandas\\core\\generic.py:290\u001b[0m, in \u001b[0;36mNDFrame._init_mgr\u001b[1;34m(cls, mgr, axes, dtype, copy)\u001b[0m\n\u001b[0;32m    288\u001b[0m         axe \u001b[39m=\u001b[39m ensure_index(axe)\n\u001b[0;32m    289\u001b[0m         bm_axis \u001b[39m=\u001b[39m \u001b[39mcls\u001b[39m\u001b[39m.\u001b[39m_get_block_manager_axis(a)\n\u001b[1;32m--> 290\u001b[0m         mgr \u001b[39m=\u001b[39m mgr\u001b[39m.\u001b[39;49mreindex_axis(axe, axis\u001b[39m=\u001b[39;49mbm_axis)\n\u001b[0;32m    292\u001b[0m \u001b[39m# make a copy if explicitly requested\u001b[39;00m\n\u001b[0;32m    293\u001b[0m \u001b[39mif\u001b[39;00m copy:\n",
      "File \u001b[1;32m~\\AppData\\Local\\Packages\\PythonSoftwareFoundation.Python.3.10_qbz5n2kfra8p0\\LocalCache\\local-packages\\Python310\\site-packages\\pandas\\core\\internals\\base.py:100\u001b[0m, in \u001b[0;36mDataManager.reindex_axis\u001b[1;34m(self, new_index, axis, fill_value, only_slice)\u001b[0m\n\u001b[0;32m     95\u001b[0m \u001b[39m\u001b[39m\u001b[39m\"\"\"\u001b[39;00m\n\u001b[0;32m     96\u001b[0m \u001b[39mConform data manager to new index.\u001b[39;00m\n\u001b[0;32m     97\u001b[0m \u001b[39m\"\"\"\u001b[39;00m\n\u001b[0;32m     98\u001b[0m new_index, indexer \u001b[39m=\u001b[39m \u001b[39mself\u001b[39m\u001b[39m.\u001b[39maxes[axis]\u001b[39m.\u001b[39mreindex(new_index)\n\u001b[1;32m--> 100\u001b[0m \u001b[39mreturn\u001b[39;00m \u001b[39mself\u001b[39;49m\u001b[39m.\u001b[39;49mreindex_indexer(\n\u001b[0;32m    101\u001b[0m     new_index,\n\u001b[0;32m    102\u001b[0m     indexer,\n\u001b[0;32m    103\u001b[0m     axis\u001b[39m=\u001b[39;49maxis,\n\u001b[0;32m    104\u001b[0m     fill_value\u001b[39m=\u001b[39;49mfill_value,\n\u001b[0;32m    105\u001b[0m     copy\u001b[39m=\u001b[39;49m\u001b[39mFalse\u001b[39;49;00m,\n\u001b[0;32m    106\u001b[0m     only_slice\u001b[39m=\u001b[39;49monly_slice,\n\u001b[0;32m    107\u001b[0m )\n",
      "File \u001b[1;32m~\\AppData\\Local\\Packages\\PythonSoftwareFoundation.Python.3.10_qbz5n2kfra8p0\\LocalCache\\local-packages\\Python310\\site-packages\\pandas\\core\\internals\\managers.py:737\u001b[0m, in \u001b[0;36mBaseBlockManager.reindex_indexer\u001b[1;34m(self, new_axis, indexer, axis, fill_value, allow_dups, copy, only_slice, use_na_proxy)\u001b[0m\n\u001b[0;32m    735\u001b[0m \u001b[39m# some axes don't allow reindexing with dups\u001b[39;00m\n\u001b[0;32m    736\u001b[0m \u001b[39mif\u001b[39;00m \u001b[39mnot\u001b[39;00m allow_dups:\n\u001b[1;32m--> 737\u001b[0m     \u001b[39mself\u001b[39;49m\u001b[39m.\u001b[39;49maxes[axis]\u001b[39m.\u001b[39;49m_validate_can_reindex(indexer)\n\u001b[0;32m    739\u001b[0m \u001b[39mif\u001b[39;00m axis \u001b[39m>\u001b[39m\u001b[39m=\u001b[39m \u001b[39mself\u001b[39m\u001b[39m.\u001b[39mndim:\n\u001b[0;32m    740\u001b[0m     \u001b[39mraise\u001b[39;00m \u001b[39mIndexError\u001b[39;00m(\u001b[39m\"\u001b[39m\u001b[39mRequested axis not found in manager\u001b[39m\u001b[39m\"\u001b[39m)\n",
      "File \u001b[1;32m~\\AppData\\Local\\Packages\\PythonSoftwareFoundation.Python.3.10_qbz5n2kfra8p0\\LocalCache\\local-packages\\Python310\\site-packages\\pandas\\core\\indexes\\base.py:4316\u001b[0m, in \u001b[0;36mIndex._validate_can_reindex\u001b[1;34m(self, indexer)\u001b[0m\n\u001b[0;32m   4314\u001b[0m \u001b[39m# trying to reindex on an axis with duplicates\u001b[39;00m\n\u001b[0;32m   4315\u001b[0m \u001b[39mif\u001b[39;00m \u001b[39mnot\u001b[39;00m \u001b[39mself\u001b[39m\u001b[39m.\u001b[39m_index_as_unique \u001b[39mand\u001b[39;00m \u001b[39mlen\u001b[39m(indexer):\n\u001b[1;32m-> 4316\u001b[0m     \u001b[39mraise\u001b[39;00m \u001b[39mValueError\u001b[39;00m(\u001b[39m\"\u001b[39m\u001b[39mcannot reindex on an axis with duplicate labels\u001b[39m\u001b[39m\"\u001b[39m)\n",
      "\u001b[1;31mValueError\u001b[0m: cannot reindex on an axis with duplicate labels"
     ]
    }
   ],
   "source": [
    "from img_ml import save_im_features\n",
    "save_im_features(get_all_1050_dir, data_name, ids, im_features)"
   ]
  },
  {
   "attachments": {},
   "cell_type": "markdown",
   "metadata": {},
   "source": [
    "# Réduction de dimensionnalité"
   ]
  },
  {
   "cell_type": "markdown",
   "metadata": {},
   "source": [
    "#### Réduction de dimension PCA\n",
    "* La réduction PCA permet de créer des features décorrélées entre elles, et de diminuer leur dimension, tout en gardant un niveau de variance expliquée élevé (99%)\n",
    "* L'impact est une meilleure séparation des données via le T-SNE et une réduction du temps de traitement du T-SNE"
   ]
  },
  {
   "cell_type": "code",
   "execution_count": 96,
   "metadata": {},
   "outputs": [
    {
     "data": {
      "text/plain": [
       "(1050, 716)"
      ]
     },
     "metadata": {},
     "output_type": "display_data"
    },
    {
     "name": "stdout",
     "output_type": "stream",
     "text": [
      "<class 'pandas.core.frame.DataFrame'>\n",
      "Index: 1050 entries, 009099b1f6e1e8f893ec29a7023153c4 to fffa2117a4006d4a848eb7d5b80d4816\n",
      "Columns: 716 entries, 0 to 715\n",
      "dtypes: float64(716)\n",
      "memory usage: 5.7+ MB\n"
     ]
    }
   ],
   "source": [
    "from img_processing import get_all_1050_dir, load_desc_data\n",
    "# o data_name = \"rsz_gray_ski_sift_feats\"\n",
    "# o data_name = \"rsz_gray_ski_orb_feats\"\n",
    "# o data_name = \"rsz_gray_ocv_sift_feats\"\n",
    "# o data_name = \"rsz_gray_ocv_orb_feats\"\n",
    "# o data_name = \"equ_rsz_gray_ski_sift_feats\"\n",
    "# o data_name = \"equ_rsz_gray_ski_orb_feats\"\n",
    "# o data_name = \"equ_rsz_gray_ocv_sift_feats\"\n",
    "data_name = \"equ_rsz_gray_ocv_orb_feats\"\n",
    "sub_dir = \"_im_feats/\"\n",
    "root_dir = get_all_1050_dir(sub_dir)\n",
    "im_features = load_desc_data(data_name, root_dir)\n",
    "display(im_features.shape)\n",
    "im_features.info()"
   ]
  },
  {
   "cell_type": "code",
   "execution_count": 42,
   "metadata": {},
   "outputs": [
    {
     "data": {
      "text/plain": [
       "Index(['009099b1f6e1e8f893ec29a7023153c4', '0096e89cc25a8b96fb9808716406fe94',\n",
       "       '00cbbc837d340fa163d11e169fbdb952', '00d84a518e0550612fcfcba3b02b6255',\n",
       "       '00e966a5049a262cfc72e6bbf68b80e7', '00ed03657cedbe4663eff2d7fa702a33',\n",
       "       '01089dc3618a0ab7304d784ef400b83d', '0131e5d87b72877702d536299cf83b75',\n",
       "       '020d2daba55a723128e4e07c0b0393a9', '02127f52e96fb72c66bf081d25104ef8',\n",
       "       ...\n",
       "       'fda0890dba67c93a7c80b0993651caec', 'fda50982a672ef8835de5c1cc86f8bfc',\n",
       "       'fda51c31a1b7ae8f3c7b5c0174d3e201', 'fe05e9ff9e31a310c35626ab6f2b4fe2',\n",
       "       'fe1bd3e2be8112198506daecbac7dc5c', 'feefbdff924dd6b7cc266449c9a36d69',\n",
       "       'ff24511994fc459d04145231c8876d6c', 'ffbf3794aa8cb6bb8d3f313d0a549a09',\n",
       "       'ffc2e1fc7c886ec09a331040ada038aa', 'fffa2117a4006d4a848eb7d5b80d4816'],\n",
       "      dtype='object', name='id', length=1050)"
      ]
     },
     "metadata": {},
     "output_type": "display_data"
    }
   ],
   "source": [
    "display(im_features.index.unique())"
   ]
  },
  {
   "cell_type": "code",
   "execution_count": 43,
   "metadata": {},
   "outputs": [
    {
     "name": "stdout",
     "output_type": "stream",
     "text": [
      "Dimensions before PCA: (1050, 716)\n",
      "Dimensions after PCA: (1050, 583)\n"
     ]
    }
   ],
   "source": [
    "from sklearn import decomposition\n",
    "# n_components = 'mle'  # 0.99,  MLE, bcp + long qu'avec % de var expliquée - contrainte n_smpl > n_feats\n",
    "n_components = 0.99\n",
    "svd_solver = 'full'   # {‘auto’, -> ‘full’, ‘arpack’, ‘randomized’}\n",
    "\n",
    "print(\"Dimensions before PCA:\", im_features.shape)\n",
    "pca = decomposition.PCA(\n",
    "    n_components=n_components,\n",
    "    whiten=True,\n",
    "    svd_solver=svd_solver,\n",
    "    random_state=42\n",
    ")\n",
    "feat_pca = pca.fit_transform(im_features)\n",
    "print(\"Dimensions after PCA:\", feat_pca.shape)"
   ]
  },
  {
   "cell_type": "code",
   "execution_count": 44,
   "metadata": {},
   "outputs": [
    {
     "data": {
      "text/plain": [
       "(583,)"
      ]
     },
     "metadata": {},
     "output_type": "display_data"
    },
    {
     "data": {
      "text/plain": [
       "array([0.07413105, 0.0694479 , 0.03489898, 0.03311225, 0.02363768,\n",
       "       0.02196345, 0.01703287, 0.01544002, 0.01358455, 0.01244818])"
      ]
     },
     "metadata": {},
     "output_type": "display_data"
    },
    {
     "data": {
      "text/plain": [
       "(583,)"
      ]
     },
     "metadata": {},
     "output_type": "display_data"
    },
    {
     "data": {
      "text/plain": [
       "array([0.69695083, 0.67457717, 0.47819873, 0.46579673, 0.39355417,\n",
       "       0.37936069, 0.33407658, 0.31807244, 0.29834909, 0.28559784])"
      ]
     },
     "metadata": {},
     "output_type": "display_data"
    }
   ],
   "source": [
    "display(pca.explained_variance_ratio_.shape)\n",
    "display(pca.explained_variance_ratio_[:10])\n",
    "display(pca.singular_values_.shape)\n",
    "display(pca.singular_values_[:10])"
   ]
  },
  {
   "cell_type": "code",
   "execution_count": 45,
   "metadata": {},
   "outputs": [
    {
     "name": "stdout",
     "output_type": "stream",
     "text": [
      "_red_pca_0.99_full_equ_rsz_gray_ocv_orb_feats (1050, 583)\n",
      "5.852 MiB parquet file saved\n"
     ]
    }
   ],
   "source": [
    "from img_processing import get_all_1050_dir, save_desc_data\n",
    "import pandas as pd\n",
    "pca_data_name = f\"_red_pca_{n_components}_{svd_solver}_\" + data_name\n",
    "sub_dir = \"_red_im_feats/\"\n",
    "root_dir = get_all_1050_dir(sub_dir)\n",
    "\n",
    "feat_pca_data = pd.DataFrame(\n",
    "    feat_pca,\n",
    "    index=im_features.index,\n",
    "    columns=[str(i) for i in range(feat_pca.shape[1])]\n",
    ")\n",
    "\n",
    "save_desc_data(feat_pca_data, pca_data_name, root_dir)"
   ]
  },
  {
   "cell_type": "code",
   "execution_count": 46,
   "metadata": {},
   "outputs": [
    {
     "data": {
      "text/plain": [
       "Index(['009099b1f6e1e8f893ec29a7023153c4', '0096e89cc25a8b96fb9808716406fe94',\n",
       "       '00cbbc837d340fa163d11e169fbdb952', '00d84a518e0550612fcfcba3b02b6255',\n",
       "       '00e966a5049a262cfc72e6bbf68b80e7', '00ed03657cedbe4663eff2d7fa702a33',\n",
       "       '01089dc3618a0ab7304d784ef400b83d', '0131e5d87b72877702d536299cf83b75',\n",
       "       '020d2daba55a723128e4e07c0b0393a9', '02127f52e96fb72c66bf081d25104ef8',\n",
       "       ...\n",
       "       'fda0890dba67c93a7c80b0993651caec', 'fda50982a672ef8835de5c1cc86f8bfc',\n",
       "       'fda51c31a1b7ae8f3c7b5c0174d3e201', 'fe05e9ff9e31a310c35626ab6f2b4fe2',\n",
       "       'fe1bd3e2be8112198506daecbac7dc5c', 'feefbdff924dd6b7cc266449c9a36d69',\n",
       "       'ff24511994fc459d04145231c8876d6c', 'ffbf3794aa8cb6bb8d3f313d0a549a09',\n",
       "       'ffc2e1fc7c886ec09a331040ada038aa', 'fffa2117a4006d4a848eb7d5b80d4816'],\n",
       "      dtype='object', name='id', length=1050)"
      ]
     },
     "metadata": {},
     "output_type": "display_data"
    }
   ],
   "source": [
    "display(feat_pca_data.index.unique())"
   ]
  },
  {
   "attachments": {},
   "cell_type": "markdown",
   "metadata": {},
   "source": [
    "# Réduction à 2 composantes t-SNE"
   ]
  },
  {
   "attachments": {},
   "cell_type": "markdown",
   "metadata": {},
   "source": [
    "## Chargement des données\n",
    "\n",
    "Les configuration alternatives testées deviennent nombreuses. On se dote d'une fonction pratique pour construire les noms des sources de données. Cela nous permettra de construire, en fin de projet, une séquence totalement automatisée de build, et un benchmark complet des différentes méthodes envisagées."
   ]
  },
  {
   "cell_type": "code",
   "execution_count": 3,
   "metadata": {},
   "outputs": [
    {
     "name": "stdout",
     "output_type": "stream",
     "text": [
      "_red_pca_mle_full_equ_rsz_gray_ski_orb_feats\n",
      "_red_pca_mle_full_rsz_gray_ski_sift_feats\n",
      "_red_pca_0.99_full_rsz_gray_ski_sift_feats\n",
      "_red_pca_mle_full_rsz_gray_ski_orb_feats\n",
      "_red_pca_0.99_full_rsz_gray_ski_orb_feats\n",
      "_red_pca_mle_full_rsz_gray_ocv_sift_feats\n",
      "_red_pca_0.99_full_rsz_gray_ocv_sift_feats\n",
      "_red_pca_mle_full_rsz_gray_ocv_orb_feats\n",
      "_red_pca_0.99_full_rsz_gray_ocv_orb_feats\n",
      "_red_pca_mle_full_equ_rsz_gray_ski_sift_feats\n",
      "_red_pca_0.99_full_equ_rsz_gray_ski_sift_feats\n",
      "_red_pca_mle_full_equ_rsz_gray_ski_orb_feats\n",
      "_red_pca_0.99_full_equ_rsz_gray_ski_orb_feats\n",
      "_red_pca_mle_full_equ_rsz_gray_ocv_sift_feats\n",
      "_red_pca_0.99_full_equ_rsz_gray_ocv_sift_feats\n",
      "_red_pca_mle_full_equ_rsz_gray_ocv_orb_feats\n",
      "_red_pca_0.99_full_equ_rsz_gray_ocv_orb_feats\n"
     ]
    }
   ],
   "source": [
    "def get_red_data_name(src=\"equ_rsz_gray\", lib=\"ski\", extr=\"orb\", red=\"pca_mle_full\"):\n",
    "    return f\"_red_{red}_{src}_{lib}_{extr}_feats\"\n",
    "\n",
    "print(get_red_data_name())\n",
    "for src in ['rsz_gray', 'equ_rsz_gray']:\n",
    "    for lib in ['ski', 'ocv']:\n",
    "        for extr in ['sift', 'orb']:\n",
    "            for red in ['pca_mle_full', 'pca_0.99_full']:\n",
    "                print(get_red_data_name(src, lib, extr, red))"
   ]
  },
  {
   "cell_type": "code",
   "execution_count": 1,
   "metadata": {},
   "outputs": [
    {
     "data": {
      "text/plain": [
       "(1050, 583)"
      ]
     },
     "metadata": {},
     "output_type": "display_data"
    },
    {
     "name": "stdout",
     "output_type": "stream",
     "text": [
      "<class 'pandas.core.frame.DataFrame'>\n",
      "Index: 1050 entries, 009099b1f6e1e8f893ec29a7023153c4 to fffa2117a4006d4a848eb7d5b80d4816\n",
      "Columns: 583 entries, 0 to 582\n",
      "dtypes: float64(583)\n",
      "memory usage: 4.7+ MB\n"
     ]
    }
   ],
   "source": [
    "from img_processing import get_all_1050_dir\n",
    "from img_ml import load_red_im_features\n",
    "data_name = \"_red_pca_0.99_full_equ_rsz_gray_ocv_orb_feats\"\n",
    "#_red_pca_0.99_full_equ_rsz_gray_ocv_orb_feats\n",
    "feats = load_red_im_features(get_all_1050_dir, data_name)"
   ]
  },
  {
   "cell_type": "markdown",
   "metadata": {},
   "source": [
    "#### Réduction de dimension T-SNE\n",
    "* Réduction de dimension en 2 composantes T-SNE pour affichage en 2D des images"
   ]
  },
  {
   "cell_type": "code",
   "execution_count": 2,
   "metadata": {},
   "outputs": [],
   "source": [
    "from img_ml import tsne_reduction\n",
    "tsne_feats = tsne_reduction(feats)"
   ]
  },
  {
   "attachments": {},
   "cell_type": "markdown",
   "metadata": {},
   "source": [
    "### Analyse visuelle : affichage T-SNE selon catégories d'images\n"
   ]
  },
  {
   "cell_type": "code",
   "execution_count": 3,
   "metadata": {},
   "outputs": [
    {
     "data": {
      "image/png": "[encoded data removed]",
      "text/plain": [
       "<Figure size 800x500 with 1 Axes>"
      ]
     },
     "metadata": {},
     "output_type": "display_data"
    }
   ],
   "source": [
    "from marketplace_commons import get_class_names\n",
    "from img_ml import show_tsne\n",
    "show_tsne(tsne_feats, get_class_names(), \"classes\")"
   ]
  },
  {
   "cell_type": "markdown",
   "metadata": {},
   "source": [
    "### Analyse mesures : similarité entre catégories et clusters"
   ]
  },
  {
   "cell_type": "markdown",
   "metadata": {},
   "source": [
    "####  Création de clusters à partir du T-SNE"
   ]
  },
  {
   "cell_type": "code",
   "execution_count": 4,
   "metadata": {},
   "outputs": [],
   "source": [
    "\"\"\"from sklearn import cluster\n",
    "cls = cluster.KMeans(n_clusters=7, n_init=\"auto\", random_state=42)\n",
    "cls.fit(tsne_feats)\n",
    "clu_labels = cls.labels_\"\"\"\n",
    "from img_ml import get_tsne_km_clusters\n",
    "clu_labels = get_tsne_km_clusters()"
   ]
  },
  {
   "cell_type": "code",
   "execution_count": 6,
   "metadata": {},
   "outputs": [
    {
     "data": {
      "image/png": "[encoded data removed]",
      "text/plain": [
       "<Figure size 800x500 with 1 Axes>"
      ]
     },
     "metadata": {},
     "output_type": "display_data"
    }
   ],
   "source": [
    "from img_ml import show_tsne\n",
    "show_tsne(tsne_feats, clu_labels, \"clusters\")"
   ]
  },
  {
   "attachments": {},
   "cell_type": "markdown",
   "metadata": {},
   "source": [
    "####  Affichage des images selon les clusters et calcul ARI de similarité catégories images / clusters\n",
    "* Le score ARI de 0.15 reste faible"
   ]
  },
  {
   "cell_type": "markdown",
   "metadata": {},
   "source": [
    "#### Analyse par classes\n",
    "* La matrice de confusion doit être transformée pour mettre avoir en colonne le même ordre des catégories supposées qu'en ligne\n",
    "* Cette transformation atteint ses limites pour les 2 catégories \"shine\" et \"sunshine\" qui sont peu séparées (donc elle a été réalisée manuellement au lieu d'utiliser la fonction \"argmax\")"
   ]
  },
  {
   "cell_type": "code",
   "execution_count": 7,
   "metadata": {},
   "outputs": [],
   "source": [
    "from marketplace_commons import get_class_labels\n",
    "cla_labels = get_class_labels()"
   ]
  },
  {
   "cell_type": "code",
   "execution_count": 76,
   "metadata": {},
   "outputs": [
    {
     "data": {
      "text/plain": [
       "clu_label\n",
       "0     88\n",
       "1     68\n",
       "2    540\n",
       "3     97\n",
       "4     98\n",
       "5     66\n",
       "6     93\n",
       "Name: cla_label, dtype: int64"
      ]
     },
     "execution_count": 76,
     "metadata": {},
     "output_type": "execute_result"
    }
   ],
   "source": [
    "data.groupby(\"clu_label\").count()[\"cla_label\"]"
   ]
  },
  {
   "cell_type": "code",
   "execution_count": 77,
   "metadata": {},
   "outputs": [
    {
     "name": "stdout",
     "output_type": "stream",
     "text": [
      "[[17  5 69 21 14  8 16]\n",
      " [18 10 74 13  9 10 16]\n",
      " [10 11 79 13 18  6 13]\n",
      " [12 13 78 11 12 13 11]\n",
      " [13 12 74 17 16  8 10]\n",
      " [11 12 81 10 16 14  6]\n",
      " [ 7  5 85 12 13  7 21]]\n"
     ]
    }
   ],
   "source": [
    "from sklearn import metrics\n",
    "conf_mat = metrics.confusion_matrix(cla_labels, clu_labels)\n",
    "print(conf_mat)"
   ]
  },
  {
   "cell_type": "code",
   "execution_count": 80,
   "metadata": {},
   "outputs": [
    {
     "data": {
      "text/plain": [
       "1050"
      ]
     },
     "metadata": {},
     "output_type": "display_data"
    },
    {
     "data": {
      "text/plain": [
       "array([0, 1, 2, 3, 4, 5, 6], dtype=int8)"
      ]
     },
     "metadata": {},
     "output_type": "display_data"
    },
    {
     "data": {
      "text/plain": [
       "1050"
      ]
     },
     "metadata": {},
     "output_type": "display_data"
    },
    {
     "data": {
      "text/plain": [
       "array([0, 1, 2, 3, 4, 5, 6])"
      ]
     },
     "metadata": {},
     "output_type": "display_data"
    }
   ],
   "source": [
    "import numpy as np\n",
    "display(len(cla_labels))\n",
    "display(np.unique(cla_labels))\n",
    "display(len(clu_labels))\n",
    "display(np.unique(clu_labels))"
   ]
  },
  {
   "cell_type": "code",
   "execution_count": 81,
   "metadata": {},
   "outputs": [
    {
     "data": {
      "text/plain": [
       "array([1, 3, 6, 0, 2, 5, 6], dtype=int64)"
      ]
     },
     "metadata": {},
     "output_type": "display_data"
    },
    {
     "name": "stdout",
     "output_type": "stream",
     "text": [
      "Correspondance des clusters :  [1 3 6 0 2 5 6]\n",
      "[[ 21  17  14   5   0   8  85]\n",
      " [ 13  18   9  10   0  10  90]\n",
      " [ 13  10  18  11   0   6  92]\n",
      " [ 11  12  12  13   0  13  89]\n",
      " [ 17  13  16  12   0   8  84]\n",
      " [ 10  11  16  12   0  14  87]\n",
      " [ 12   7  13   5   0   7 106]]\n",
      "\n",
      "              precision    recall  f1-score   support\n",
      "\n",
      "           0       0.22      0.14      0.17       150\n",
      "           1       0.20      0.12      0.15       150\n",
      "           2       0.18      0.12      0.15       150\n",
      "           3       0.19      0.09      0.12       150\n",
      "           4       0.00      0.00      0.00       150\n",
      "           5       0.21      0.09      0.13       150\n",
      "           6       0.17      0.71      0.27       150\n",
      "\n",
      "    accuracy                           0.18      1050\n",
      "   macro avg       0.17      0.18      0.14      1050\n",
      "weighted avg       0.17      0.18      0.14      1050\n",
      "\n"
     ]
    },
    {
     "name": "stderr",
     "output_type": "stream",
     "text": [
      "C:\\Users\\franc\\AppData\\Local\\Packages\\PythonSoftwareFoundation.Python.3.10_qbz5n2kfra8p0\\LocalCache\\local-packages\\Python310\\site-packages\\sklearn\\metrics\\_classification.py:1344: UndefinedMetricWarning: Precision and F-score are ill-defined and being set to 0.0 in labels with no predicted samples. Use `zero_division` parameter to control this behavior.\n",
      "  _warn_prf(average, modifier, msg_start, len(result))\n",
      "C:\\Users\\franc\\AppData\\Local\\Packages\\PythonSoftwareFoundation.Python.3.10_qbz5n2kfra8p0\\LocalCache\\local-packages\\Python310\\site-packages\\sklearn\\metrics\\_classification.py:1344: UndefinedMetricWarning: Precision and F-score are ill-defined and being set to 0.0 in labels with no predicted samples. Use `zero_division` parameter to control this behavior.\n",
      "  _warn_prf(average, modifier, msg_start, len(result))\n",
      "C:\\Users\\franc\\AppData\\Local\\Packages\\PythonSoftwareFoundation.Python.3.10_qbz5n2kfra8p0\\LocalCache\\local-packages\\Python310\\site-packages\\sklearn\\metrics\\_classification.py:1344: UndefinedMetricWarning: Precision and F-score are ill-defined and being set to 0.0 in labels with no predicted samples. Use `zero_division` parameter to control this behavior.\n",
      "  _warn_prf(average, modifier, msg_start, len(result))\n"
     ]
    }
   ],
   "source": [
    "def conf_mat_transform(y_true, y_pred) :\n",
    "    conf_mat = metrics.confusion_matrix(y_true, y_pred)\n",
    "    corresp = np.argmax(conf_mat, axis=0)\n",
    "    display(corresp)\n",
    "    # corresp = [3, 1, 2, 0]\n",
    "    print (\"Correspondance des clusters : \", corresp)\n",
    "    # y_pred_transform = np.apply_along_axis(correspond_fct, 1, y_pred)\n",
    "    labels = pd.Series(y_true, name=\"y_true\").to_frame()\n",
    "    labels['y_pred'] = y_pred\n",
    "    labels['y_pred_transform'] = labels['y_pred'].apply(lambda x : corresp[x]) \n",
    "    \n",
    "    return labels['y_pred_transform']\n",
    "\n",
    "cls_labels_transform = conf_mat_transform(cla_labels, clu_labels)\n",
    "conf_mat = metrics.confusion_matrix(cla_labels, cls_labels_transform)\n",
    "print(conf_mat)\n",
    "print()\n",
    "print(metrics.classification_report(cla_labels, cls_labels_transform))"
   ]
  },
  {
   "cell_type": "code",
   "execution_count": 8,
   "metadata": {},
   "outputs": [
    {
     "data": {
      "text/plain": [
       "{0: 'Baby Care',\n",
       " 1: 'Beauty and Personal Care',\n",
       " 2: 'Computers',\n",
       " 3: 'Home Decor & Festive Needs',\n",
       " 4: 'Home Furnishing',\n",
       " 5: 'Kitchen & Dining',\n",
       " 6: 'Watches'}"
      ]
     },
     "metadata": {},
     "output_type": "display_data"
    }
   ],
   "source": [
    "from marketplace_commons import get_class_labels, get_class_names, get_class_label_name_map\n",
    "# get_class_labels()\n",
    "# get_class_names()\n",
    "\n",
    "# TODO : résolution du problème d'alignement classes / clusters cf. projet précédent\n",
    "# le gars du séminaire ne l'a pas résolu puisqu'il a défini le mappage en manuel\n",
    "cla_dict = get_class_label_name_map()\n",
    "display(cla_dict)"
   ]
  },
  {
   "cell_type": "code",
   "execution_count": 93,
   "metadata": {},
   "outputs": [
    {
     "data": {
      "text/plain": [
       "{0: 'Baby Care',\n",
       " 1: 'Beauty and Personal Care',\n",
       " 2: 'Computers',\n",
       " 3: 'Home Decor & Festive Needs',\n",
       " 4: 'Home Furnishing',\n",
       " 5: 'Kitchen & Dining',\n",
       " 6: 'Watches'}"
      ]
     },
     "metadata": {},
     "output_type": "display_data"
    },
    {
     "data": {
      "text/plain": [
       "Index(['Baby Care', 'Beauty and Personal Care', 'Computers',\n",
       "       'Home Decor & Festive Needs', 'Home Furnishing', 'Kitchen & Dining',\n",
       "       'Watches'],\n",
       "      dtype='object')"
      ]
     },
     "metadata": {},
     "output_type": "display_data"
    }
   ],
   "source": [
    "\"\"\"labels = get_class_labels_v2()\n",
    "display(dict(enumerate(labels.level_0.cat.categories)))\n",
    "display(labels.level_0.cat.categories)\"\"\""
   ]
  },
  {
   "cell_type": "code",
   "execution_count": 95,
   "metadata": {},
   "outputs": [
    {
     "data": {
      "text/plain": [
       "<AxesSubplot:>"
      ]
     },
     "execution_count": 95,
     "metadata": {},
     "output_type": "execute_result"
    },
    {
     "data": {
      "image/png": "[encoded data removed]",
      "text/plain": [
       "<Figure size 600x400 with 2 Axes>"
      ]
     },
     "metadata": {},
     "output_type": "display_data"
    }
   ],
   "source": [
    "import matplotlib.pyplot as plt\n",
    "import seaborn as sns\n",
    "import pandas as pd\n",
    "data_cm = pd.DataFrame(\n",
    "    conf_mat,\n",
    "    index=cla_dict.values(),  # labels.level_0.cat.categories,\n",
    "    columns=[str(i) for i in range(7)]\n",
    ")\n",
    "plt.figure(figsize=(6, 4))\n",
    "sns.heatmap(data_cm, annot=True, cmap=\"Blues\")\n",
    "plt.show()"
   ]
  },
  {
   "attachments": {},
   "cell_type": "markdown",
   "metadata": {},
   "source": [
    "# Annexe K : estimation du nombre de clusters de descripteurs\n",
    "\n",
    "Dans cette annexe, nous abordons une question laissée en suspens par le séminaire d'Open Classrooms qui donne une introduction à ce qui a été réalisé dans cette partie du 6ème projet.\n",
    "\n",
    "Le projet précédent a été l'occasion d'expérimenter différentes méthodes pour identifier objectivement le $k$ optimal pour un $k$-Means.\n",
    "\n",
    "Or, dans le séminaire, l'enseignant nous renvoie à une heuristiques empirique consistant à prendre $k = \\sqrt{n}$ où $n$ est la population de l'échantillon.\n",
    "\n",
    "Nous avons souhaité vérifier cette assomption en utilisant la méthode du coude de variance, et l'indice de Davis-Bouldin."
   ]
  },
  {
   "attachments": {},
   "cell_type": "markdown",
   "metadata": {},
   "source": [
    "## Selon le séminaire OC"
   ]
  },
  {
   "cell_type": "code",
   "execution_count": null,
   "metadata": {},
   "outputs": [
    {
     "name": "stdout",
     "output_type": "stream",
     "text": [
      "Nombre de clusters estimés :  125\n"
     ]
    }
   ],
   "source": [
    "import numpy as np\n",
    "k = int(round(np.sqrt(data.shape[0]), 0))\n",
    "print(\"Nombre de clusters estimés : \", k)"
   ]
  },
  {
   "attachments": {},
   "cell_type": "markdown",
   "metadata": {},
   "source": [
    "## Inertia"
   ]
  },
  {
   "cell_type": "code",
   "execution_count": null,
   "metadata": {},
   "outputs": [
    {
     "data": {
      "image/png": "[encoded data removed]",
      "text/plain": [
       "<Figure size 640x480 with 1 Axes>"
      ]
     },
     "metadata": {},
     "output_type": "display_data"
    },
    {
     "data": {
      "image/png": "[encoded data removed]",
      "text/plain": [
       "<Figure size 640x480 with 1 Axes>"
      ]
     },
     "metadata": {},
     "output_type": "display_data"
    }
   ],
   "source": [
    "from img_ml import select_k_with_anova\n",
    "\n",
    "select_k_with_anova(data, k_min=2, k_max=150)\n",
    "select_k_with_anova(data, k_min=2, k_max=150, normalize=True)"
   ]
  },
  {
   "attachments": {},
   "cell_type": "markdown",
   "metadata": {},
   "source": [
    "## Silhouette"
   ]
  },
  {
   "cell_type": "code",
   "execution_count": null,
   "metadata": {},
   "outputs": [],
   "source": [
    "from img_ml import select_k_with_anova\n",
    "select_k_with_anova(descs, k_min=2, k_max=150, metric='silhouette', color='green')\n",
    "select_k_with_anova(descs, k_min=2, k_max=150, metric='silhouette', color='green', normalize=True)"
   ]
  },
  {
   "attachments": {},
   "cell_type": "markdown",
   "metadata": {},
   "source": [
    "## Davis-Bouldin\n",
    "\n",
    "Rapide étude de complexité algorithmique :\n",
    "* pour un `k_max` à 10, c'est 5s\n",
    "* pour un `k_max` à 100, c'est 60s\n",
    "* pour un `k_max` à 300, c'est 6min10s\n",
    "\n",
    "Posons $N$ pour représenter `k_max` et $s$ pour représenter `k_step`, et $\\displaystyle K = \\frac{N}{s}$.\n",
    "\n",
    "Le $k$-Means a une complexité $\\mathcal{O}{(knT)}$ où $n$ est le nombre d'échantillons et $T$ le nombre d'itérations.\n",
    "\n",
    "Ici, $n$ et $T$ sont fixes, et tout dépend de $k$.\n",
    "\n",
    "La complexité est $\\displaystyle \\mathcal{O} = \\sum_{k=0}^{K-1}{knT} = (2K + \\frac{1}{2}K(K+1))nT\n",
    "\\approx \\frac{1}{2}K^2nT$\n",
    "\n",
    "Si $K=10$ prend une dizaine de secondes, $\\displaystyle K=600=\\frac{3000}{5}$, prendra $10.600^2=360000$ secondes, donc $1000$ heures.\n",
    "\n",
    "Pour chercher le meilleur $k$ avec Davis-Bouldin comme avec les méthodes à coude de variance, il faut augmenter le pas, pour embrasser un intervalle de $k$ plus large, sous hypothèse de continuité, puis raffiner une fois qu'un premier intervalle de valeurs intéressantes est trouvé.\n",
    "\n",
    "Nous maintenons donc un $K$ constant de 100 et démarrons sur l'intervalle de $k$ compris entre $0$ et $n$, ce qui détermine un pas $\\displaystyle s = \\frac{N}{K}$ qui s'établit à $155$ sur le cas `sample_8`.\n",
    "\n"
   ]
  },
  {
   "cell_type": "code",
   "execution_count": null,
   "metadata": {},
   "outputs": [
    {
     "name": "stderr",
     "output_type": "stream",
     "text": [
      "c:\\Users\\franc\\Projects\\pepper_automatic_product_classification_engine\\notebooks\\img_ml.py:162: ConvergenceWarning: Number of distinct clusters (15468) found smaller than n_clusters (15502). Possibly due to duplicate points in X.\n",
      "  kmeans.fit(crfm)\n"
     ]
    },
    {
     "data": {
      "image/png": "[encoded data removed]",
      "text/plain": [
       "<Figure size 640x480 with 1 Axes>"
      ]
     },
     "metadata": {},
     "output_type": "display_data"
    },
    {
     "name": "stdout",
     "output_type": "stream",
     "text": [
      "best k's: [15502, 15347, 15192, 15037, 14882, 14727, 14572, 14417, 14262, 14107]\n",
      "scores: [0.0, 0.05, 0.08, 0.11, 0.12, 0.14, 0.15, 0.17, 0.19, 0.2]\n",
      "times: [612.02, 122.85, 90.12, 91.77, 83.04, 73.76, 72.5, 81.85, 100.33, 76.94]\n"
     ]
    }
   ],
   "source": [
    "from img_ml import select_k_with_davies_bouldin\n",
    "k_min, k_max, k_step = 2, 15_547, 155\n",
    "scores, best_ks, dts = select_k_with_davies_bouldin(\n",
    "    descs, normalize=True, k_min=k_min, k_max=k_max, k_step=k_step\n",
    ")\n",
    "print(\"best k's:\", best_ks[:10])\n",
    "print(\"scores:\", [round(scores[(i-k_min)//k_step], 2) for i in best_ks[:10]])\n",
    "print(\"times:\", [round(dts[(i-k_min)//k_step], 2) for i in best_ks[:10]])"
   ]
  },
  {
   "cell_type": "markdown",
   "metadata": {},
   "source": [
    "Conclusion : il n'y a pas vraiment de coude.\n",
    "\n",
    "Donc le $k$ idéal est le $n$ ce qui n'a pas d'intérêt puisque chauque élement représente une classe singleton.\n",
    "\n",
    "La racine est une façon de définir $p$ classes de $p$ éléments. C'est un compromis arbitraire entre nombre de classes et taille des classes.\n",
    "\n",
    "Partons donc là dessus en espérant avoir plus tard une meilleure justification de ce choix empirique."
   ]
  }
 ],
 "metadata": {
  "kernelspec": {
   "display_name": "Python 3",
   "language": "python",
   "name": "python3"
  },
  "language_info": {
   "codemirror_mode": {
    "name": "ipython",
    "version": 3
   },
   "file_extension": ".py",
   "mimetype": "text/x-python",
   "name": "python",
   "nbconvert_exporter": "python",
   "pygments_lexer": "ipython3",
   "version": "3.10.10"
  },
  "orig_nbformat": 4
 },
 "nbformat": 4,
 "nbformat_minor": 2
}
