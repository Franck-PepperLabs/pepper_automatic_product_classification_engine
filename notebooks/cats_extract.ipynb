{
 "cells": [
  {
   "attachments": {},
   "cell_type": "markdown",
   "metadata": {},
   "source": [
    "# **Extraction et analyse des catégories de produits**\n",
    "\n",
    "Ce notebook est spécialisé sur l'extraction et l'analyse des catégories de produits.\n",
    "\n",
    "Ces catégories donnent notamment les *classes réelles* qui vont nous servir à évaluer les performances du système de classification automatique.\n",
    "\n",
    "Les catégories sont données dans la variable `product_category_tree` structurée sous forme de tuples représentant des branches (ou chemins par analogie avec l'arborescence d'un système de fichiers) d'un arbre de catégories imbriquées."
   ]
  },
  {
   "attachments": {},
   "cell_type": "markdown",
   "metadata": {},
   "source": [
    "# Chargement et visualisation des données\n",
    "\n",
    "Les tuples sont donnés sous la forme de chaînes de caractères au format suivant :\n",
    "\n",
    "    '[\"Cat_1 >> Cat_2 >> .. >> Cat_n\"]'\n",
    "\n",
    "Il faut donc commencer par les *parser* pour en extraire un tuple de mots."
   ]
  },
  {
   "cell_type": "code",
   "execution_count": 20,
   "metadata": {},
   "outputs": [
    {
     "name": "stdout",
     "output_type": "stream",
     "text": [
      "\u001b[1m\u001b[36m\n",
      "product_category_tree head\u001b[0m\u001b[0m\n"
     ]
    },
    {
     "data": {
      "text/plain": [
       "Flipkart\n",
       "55b85ea15a1536d46b7190ad6fff8ce7    [\"Home Furnishing >> Curtains & Accessories >>...\n",
       "7b72c92c2f6c40268628ec5f14c6d590    [\"Baby Care >> Baby Bath & Skin >> Baby Bath T...\n",
       "64d5d4a258243731dc7bbb1eef49ad74    [\"Baby Care >> Baby Bath & Skin >> Baby Bath T...\n",
       "d4684dcdc759dd9cdf41504698d737d8    [\"Home Furnishing >> Bed Linen >> Bedsheets >>...\n",
       "6325b6870c54cd47be6ebfbffa620ec7    [\"Home Furnishing >> Bed Linen >> Bedsheets >>...\n",
       "Name: product_category_tree, dtype: object"
      ]
     },
     "metadata": {},
     "output_type": "display_data"
    },
    {
     "name": "stdout",
     "output_type": "stream",
     "text": [
      "\u001b[1m\u001b[36m\n",
      "product_category_tree sample with details\u001b[0m\u001b[0m\n"
     ]
    },
    {
     "data": {
      "text/plain": [
       "('2971287a1ac427bd98c4778112d20d06',\n",
       " '[\"Kitchen & Dining >> Kitchen Tools >> Kitchen Implements >> Hand Juicers >> JayEnterprise Hand Juicers >> JayEnterprise Plastic Hand Juicer (Multicolor)\"]')"
      ]
     },
     "metadata": {},
     "output_type": "display_data"
    },
    {
     "data": {
      "text/plain": [
       "('d06bb04b096c77dc3302eaf2db336f96',\n",
       " '[\"Baby Care >> Baby & Kids Gifts >> Photo Frames >> MH Photo Frames\"]')"
      ]
     },
     "metadata": {},
     "output_type": "display_data"
    },
    {
     "data": {
      "text/plain": [
       "('a41371b2f8859b015031f0d5eda5184c',\n",
       " '[\"Computers >> Laptop Accessories >> USB Gadgets >> 99Gems USB Gadgets\"]')"
      ]
     },
     "metadata": {},
     "output_type": "display_data"
    },
    {
     "data": {
      "text/plain": [
       "('219b24362655097cb41bf06a0be8ee79',\n",
       " '[\"Kitchen & Dining >> Coffee Mugs >> Prithish Coffee Mugs\"]')"
      ]
     },
     "metadata": {},
     "output_type": "display_data"
    },
    {
     "data": {
      "text/plain": [
       "('55ce1309b69e1912d2fd60a3ee3f351b',\n",
       " '[\"Home Decor & Festive Needs >> Showpieces >> Ethnic >> Tatvaarts Ethnic\"]')"
      ]
     },
     "metadata": {},
     "output_type": "display_data"
    }
   ],
   "source": [
    "from pepper_utils import print_subtitle\n",
    "from flipkart_utils import get_raw_data, full_show_sample\n",
    "cats_tree = get_raw_data('product_category_tree')\n",
    "print_subtitle(\"product_category_tree head\")\n",
    "display(cats_tree.head())\n",
    "print_subtitle(\"product_category_tree sample with details\")\n",
    "full_show_sample(cats_tree)"
   ]
  },
  {
   "attachments": {},
   "cell_type": "markdown",
   "metadata": {},
   "source": [
    "# Vérification d'intégrité\n",
    "\n",
    "Vérifions que ces chaînes sont bien formées et non ambigües :\n",
    "* `'[\"'` et `'\"]'` sont respectivement les marqueurs de début et de fin de chaîne\n",
    "* Ils n'apparaissent nulle part ailleurs dans la chaîne.\n",
    "* Il y a de 1 à 6 occurrences du sépérateur de mots `' >> '`\n",
    "* C'est-à-dire de 2 à 7 mots, avec une majorité de branches de 3 mots, puis 4 et 5 mots, et marginalement 2, 6 ou 7 mots.\n",
    "* On en déduit que les branches de l'arbre de catégories ont une hauteur essentiellement située entre 3 et 5."
   ]
  },
  {
   "cell_type": "code",
   "execution_count": 32,
   "metadata": {},
   "outputs": [
    {
     "name": "stdout",
     "output_type": "stream",
     "text": [
      "\u001b[1m\u001b[36m\n",
      "start tags ('\\[\"')\u001b[0m\u001b[0m\n",
      "# ✔ 1050\n",
      "# ✘ 0\n",
      "\u001b[1m\u001b[36m\n",
      "end tags ('\"\\]')\u001b[0m\u001b[0m\n",
      "# ✔ 1050\n",
      "# ✘ 0\n",
      "\u001b[1m\u001b[36m\n",
      "sep tags (' >> ')\u001b[0m\u001b[0m\n",
      "# ✔ 1050\n",
      "# ✘ 0\n",
      "\u001b[1m\u001b[36m\n",
      "word counts\u001b[0m\u001b[0m\n"
     ]
    },
    {
     "data": {
      "text/plain": [
       "3    368\n",
       "5    278\n",
       "4    274\n",
       "6     70\n",
       "7     57\n",
       "2      3\n",
       "Name: product_category_tree, dtype: int64"
      ]
     },
     "metadata": {},
     "output_type": "display_data"
    },
    {
     "data": {
      "image/png": "[encoded data removed]",
      "text/plain": [
       "<Figure size 640x480 with 1 Axes>"
      ]
     },
     "metadata": {},
     "output_type": "display_data"
    }
   ],
   "source": [
    "from pepper_utils import print_subtitle\n",
    "from flipkart_utils import get_raw_data\n",
    "from tx_prep import count_tag_occurrences\n",
    "import matplotlib.pyplot as plt\n",
    "\n",
    "cats_tree = get_raw_data('product_category_tree')\n",
    "\n",
    "start_tag = '\\\\[\"'\n",
    "end_tag = '\"\\\\]'\n",
    "sep_tag = \" >> \"\n",
    "\n",
    "count_good_start_tag = count_tag_occurrences(cats_tree, f\"^{start_tag}\")\n",
    "count_bad_start_tag = count_tag_occurrences(cats_tree, f\".{start_tag}|{start_tag}$\")\n",
    "count_good_end_tag = count_tag_occurrences(cats_tree, f\"{end_tag}$\")\n",
    "count_bad_end_tag = count_tag_occurrences(cats_tree, f\"^{end_tag}|{end_tag}.\")\n",
    "count_good_sep_tag = count_tag_occurrences(cats_tree, f\".{sep_tag}.\")\n",
    "count_bad_sep_tag = count_tag_occurrences(cats_tree, f\"^{sep_tag}|{sep_tag}$\")\n",
    "\n",
    "print_subtitle(f\"start tags ('{start_tag}')\")\n",
    "print(\"# ✔\", count_good_start_tag[count_good_start_tag == 1].shape[0])\n",
    "print(\"# ✘\", count_bad_start_tag[count_bad_start_tag > 0].shape[0])\n",
    "\n",
    "print_subtitle(f\"end tags ('{end_tag}')\")\n",
    "print(\"# ✔\", count_good_end_tag[count_good_end_tag == 1].shape[0])\n",
    "print(\"# ✘\", count_bad_end_tag[count_bad_end_tag > 0].shape[0])\n",
    "\n",
    "print_subtitle(f\"sep tags ('{sep_tag}')\")\n",
    "print(\"# ✔\", count_good_sep_tag[count_good_sep_tag > 0].shape[0])\n",
    "print(\"# ✘\", count_bad_sep_tag[count_bad_sep_tag > 0].shape[0])\n",
    "\n",
    "print_subtitle(f\"word counts\")\n",
    "count_good_sep_tag += 1\n",
    "display(count_good_sep_tag.value_counts())\n",
    "count_good_sep_tag.value_counts().plot.bar()\n",
    "plt.show()"
   ]
  },
  {
   "attachments": {},
   "cell_type": "markdown",
   "metadata": {},
   "source": [
    "# Découpe et transformation en tuples de mots"
   ]
  },
  {
   "cell_type": "code",
   "execution_count": 35,
   "metadata": {},
   "outputs": [
    {
     "name": "stdout",
     "output_type": "stream",
     "text": [
      "\u001b[1m\u001b[36m\n",
      "tokenized cats branches\u001b[0m\u001b[0m\n"
     ]
    },
    {
     "data": {
      "text/plain": [
       "Flipkart\n",
       "55b85ea15a1536d46b7190ad6fff8ce7    [Home Furnishing, Curtains & Accessories, Curt...\n",
       "7b72c92c2f6c40268628ec5f14c6d590    [Baby Care, Baby Bath & Skin, Baby Bath Towels...\n",
       "64d5d4a258243731dc7bbb1eef49ad74    [Baby Care, Baby Bath & Skin, Baby Bath Towels...\n",
       "d4684dcdc759dd9cdf41504698d737d8    [Home Furnishing, Bed Linen, Bedsheets, SANTOS...\n",
       "6325b6870c54cd47be6ebfbffa620ec7    [Home Furnishing, Bed Linen, Bedsheets, Jaipur...\n",
       "Name: product_category_tree, dtype: object"
      ]
     },
     "metadata": {},
     "output_type": "display_data"
    },
    {
     "name": "stdout",
     "output_type": "stream",
     "text": [
      "\u001b[1m\u001b[36m\n",
      "sample with details\u001b[0m\u001b[0m\n"
     ]
    },
    {
     "data": {
      "text/plain": [
       "('70d571a25d37e16d5d5f4e94faccf454',\n",
       " ['Home Furnishing', 'Curtains & Accessories', 'Curtains'])"
      ]
     },
     "metadata": {},
     "output_type": "display_data"
    },
    {
     "data": {
      "text/plain": [
       "('c44a5dc5b5ebe5b3e0535b7c2b7921e4',\n",
       " ['Baby Care',\n",
       "  'Infant Wear',\n",
       "  \"Baby Boys' Clothes\",\n",
       "  'Polos & T-Shirts',\n",
       "  'dongli Polos & T-Shirts',\n",
       "  \"dongli Striped Baby Boy's Polo Neck T-Shirt (Pac...\"])"
      ]
     },
     "metadata": {},
     "output_type": "display_data"
    },
    {
     "data": {
      "text/plain": [
       "('c20bf28cd809790c04e78fdaf47c038f',\n",
       " ['Computers', 'Network Components', 'Routers', 'Intex Routers'])"
      ]
     },
     "metadata": {},
     "output_type": "display_data"
    }
   ],
   "source": [
    "from pepper_utils import print_subtitle\n",
    "from flipkart_utils import get_raw_data, full_show_sample\n",
    "\n",
    "cats_tree = get_raw_data('product_category_tree')\n",
    "\n",
    "start_tag = '\\\\[\"'\n",
    "end_tag = '\"\\\\]'\n",
    "sep_tag = \" >> \"\n",
    "\n",
    "tokenized_branches = (\n",
    "    cats_tree\n",
    "    .str.replace(f\"{start_tag}|{end_tag}\", \"\", regex=True)\n",
    "    .str.split(sep_tag, regex=True)\n",
    ")\n",
    "\n",
    "print_subtitle(f\"tokenized cats branches\")\n",
    "display(tokenized_branches.head())\n",
    "\n",
    "print_subtitle(f\"sample with details\")\n",
    "full_show_sample(tokenized_branches, n=3)"
   ]
  },
  {
   "attachments": {},
   "cell_type": "markdown",
   "metadata": {},
   "source": [
    "Une version expansée sera plus pratique à utiliser pour recontruire l'arbre.\n",
    "\n",
    "Il s'agira pour la suite de la fonction `get_product_category_branches()` du module `flipkart_utils`."
   ]
  },
  {
   "cell_type": "code",
   "execution_count": 38,
   "metadata": {},
   "outputs": [
    {
     "name": "stdout",
     "output_type": "stream",
     "text": [
      "\u001b[1m\u001b[36m\n",
      "tokenized cats branches\u001b[0m\u001b[0m\n"
     ]
    },
    {
     "data": {
      "text/html": [
       "<div>\n",
       "<style scoped>\n",
       "    .dataframe tbody tr th:only-of-type {\n",
       "        vertical-align: middle;\n",
       "    }\n",
       "\n",
       "    .dataframe tbody tr th {\n",
       "        vertical-align: top;\n",
       "    }\n",
       "\n",
       "    .dataframe thead th {\n",
       "        text-align: right;\n",
       "    }\n",
       "</style>\n",
       "<table border=\"1\" class=\"dataframe\">\n",
       "  <thead>\n",
       "    <tr style=\"text-align: right;\">\n",
       "      <th></th>\n",
       "      <th>level_0</th>\n",
       "      <th>level_1</th>\n",
       "      <th>level_2</th>\n",
       "      <th>level_3</th>\n",
       "      <th>level_4</th>\n",
       "      <th>level_5</th>\n",
       "      <th>level_6</th>\n",
       "    </tr>\n",
       "    <tr>\n",
       "      <th>id</th>\n",
       "      <th></th>\n",
       "      <th></th>\n",
       "      <th></th>\n",
       "      <th></th>\n",
       "      <th></th>\n",
       "      <th></th>\n",
       "      <th></th>\n",
       "    </tr>\n",
       "  </thead>\n",
       "  <tbody>\n",
       "    <tr>\n",
       "      <th>55b85ea15a1536d46b7190ad6fff8ce7</th>\n",
       "      <td>Home Furnishing</td>\n",
       "      <td>Curtains &amp; Accessories</td>\n",
       "      <td>Curtains</td>\n",
       "      <td>Elegance Polyester Multicolor Abstract Eyelet ...</td>\n",
       "      <td>None</td>\n",
       "      <td>None</td>\n",
       "      <td>None</td>\n",
       "    </tr>\n",
       "    <tr>\n",
       "      <th>7b72c92c2f6c40268628ec5f14c6d590</th>\n",
       "      <td>Baby Care</td>\n",
       "      <td>Baby Bath &amp; Skin</td>\n",
       "      <td>Baby Bath Towels</td>\n",
       "      <td>Sathiyas Baby Bath Towels</td>\n",
       "      <td>Sathiyas Cotton Bath Towel (3 Bath Towel, Red,...</td>\n",
       "      <td>None</td>\n",
       "      <td>None</td>\n",
       "    </tr>\n",
       "    <tr>\n",
       "      <th>64d5d4a258243731dc7bbb1eef49ad74</th>\n",
       "      <td>Baby Care</td>\n",
       "      <td>Baby Bath &amp; Skin</td>\n",
       "      <td>Baby Bath Towels</td>\n",
       "      <td>Eurospa Baby Bath Towels</td>\n",
       "      <td>Eurospa Cotton Terry Face Towel Set (20 PIECE ...</td>\n",
       "      <td>None</td>\n",
       "      <td>None</td>\n",
       "    </tr>\n",
       "    <tr>\n",
       "      <th>d4684dcdc759dd9cdf41504698d737d8</th>\n",
       "      <td>Home Furnishing</td>\n",
       "      <td>Bed Linen</td>\n",
       "      <td>Bedsheets</td>\n",
       "      <td>SANTOSH ROYAL FASHION Bedsheets</td>\n",
       "      <td>SANTOSH ROYAL FASHION Cotton Printed King size...</td>\n",
       "      <td>None</td>\n",
       "      <td>None</td>\n",
       "    </tr>\n",
       "    <tr>\n",
       "      <th>6325b6870c54cd47be6ebfbffa620ec7</th>\n",
       "      <td>Home Furnishing</td>\n",
       "      <td>Bed Linen</td>\n",
       "      <td>Bedsheets</td>\n",
       "      <td>Jaipur Print Bedsheets</td>\n",
       "      <td>Jaipur Print Cotton Floral King sized Double B...</td>\n",
       "      <td>None</td>\n",
       "      <td>None</td>\n",
       "    </tr>\n",
       "  </tbody>\n",
       "</table>\n",
       "</div>"
      ],
      "text/plain": [
       "                                          level_0                 level_1  \\\n",
       "id                                                                          \n",
       "55b85ea15a1536d46b7190ad6fff8ce7  Home Furnishing  Curtains & Accessories   \n",
       "7b72c92c2f6c40268628ec5f14c6d590        Baby Care        Baby Bath & Skin   \n",
       "64d5d4a258243731dc7bbb1eef49ad74        Baby Care        Baby Bath & Skin   \n",
       "d4684dcdc759dd9cdf41504698d737d8  Home Furnishing               Bed Linen   \n",
       "6325b6870c54cd47be6ebfbffa620ec7  Home Furnishing               Bed Linen   \n",
       "\n",
       "                                           level_2  \\\n",
       "id                                                   \n",
       "55b85ea15a1536d46b7190ad6fff8ce7          Curtains   \n",
       "7b72c92c2f6c40268628ec5f14c6d590  Baby Bath Towels   \n",
       "64d5d4a258243731dc7bbb1eef49ad74  Baby Bath Towels   \n",
       "d4684dcdc759dd9cdf41504698d737d8         Bedsheets   \n",
       "6325b6870c54cd47be6ebfbffa620ec7         Bedsheets   \n",
       "\n",
       "                                                                            level_3  \\\n",
       "id                                                                                    \n",
       "55b85ea15a1536d46b7190ad6fff8ce7  Elegance Polyester Multicolor Abstract Eyelet ...   \n",
       "7b72c92c2f6c40268628ec5f14c6d590                          Sathiyas Baby Bath Towels   \n",
       "64d5d4a258243731dc7bbb1eef49ad74                           Eurospa Baby Bath Towels   \n",
       "d4684dcdc759dd9cdf41504698d737d8                    SANTOSH ROYAL FASHION Bedsheets   \n",
       "6325b6870c54cd47be6ebfbffa620ec7                             Jaipur Print Bedsheets   \n",
       "\n",
       "                                                                            level_4  \\\n",
       "id                                                                                    \n",
       "55b85ea15a1536d46b7190ad6fff8ce7                                               None   \n",
       "7b72c92c2f6c40268628ec5f14c6d590  Sathiyas Cotton Bath Towel (3 Bath Towel, Red,...   \n",
       "64d5d4a258243731dc7bbb1eef49ad74  Eurospa Cotton Terry Face Towel Set (20 PIECE ...   \n",
       "d4684dcdc759dd9cdf41504698d737d8  SANTOSH ROYAL FASHION Cotton Printed King size...   \n",
       "6325b6870c54cd47be6ebfbffa620ec7  Jaipur Print Cotton Floral King sized Double B...   \n",
       "\n",
       "                                 level_5 level_6  \n",
       "id                                                \n",
       "55b85ea15a1536d46b7190ad6fff8ce7    None    None  \n",
       "7b72c92c2f6c40268628ec5f14c6d590    None    None  \n",
       "64d5d4a258243731dc7bbb1eef49ad74    None    None  \n",
       "d4684dcdc759dd9cdf41504698d737d8    None    None  \n",
       "6325b6870c54cd47be6ebfbffa620ec7    None    None  "
      ]
     },
     "metadata": {},
     "output_type": "display_data"
    }
   ],
   "source": [
    "from pepper_utils import print_subtitle\n",
    "from flipkart_utils import get_raw_data, full_show_sample\n",
    "\n",
    "cats_tree = get_raw_data('product_category_tree')\n",
    "\n",
    "start_tag = '\\\\[\"'\n",
    "end_tag = '\"\\\\]'\n",
    "sep_tag = \" >> \"\n",
    "\n",
    "tokenized_branches = (\n",
    "    cats_tree\n",
    "    .str.replace(f\"{start_tag}|{end_tag}\", \"\", regex=True)\n",
    "    .str.split(sep_tag, regex=True, expand=True)\n",
    ")\n",
    "tokenized_branches.index.name = 'id'\n",
    "tokenized_branches.columns = [f\"level_{i}\" for i in tokenized_branches.columns]\n",
    "\n",
    "print_subtitle(f\"tokenized cats branches\")\n",
    "display(tokenized_branches.head())"
   ]
  },
  {
   "attachments": {},
   "cell_type": "markdown",
   "metadata": {},
   "source": [
    "# Distribution des catégories"
   ]
  },
  {
   "attachments": {},
   "cell_type": "markdown",
   "metadata": {},
   "source": [
    "## Catégories principales\n",
    "\n",
    "Ce sont les catégories racines (de niveau 0).\n",
    "\n",
    "On constate qu'elles représentent 7 classes de distribution uniforme à 150 individus par classe (150 x 7 = 1050)."
   ]
  },
  {
   "cell_type": "code",
   "execution_count": 43,
   "metadata": {},
   "outputs": [
    {
     "data": {
      "text/plain": [
       "Home Furnishing               150\n",
       "Baby Care                     150\n",
       "Watches                       150\n",
       "Home Decor & Festive Needs    150\n",
       "Kitchen & Dining              150\n",
       "Beauty and Personal Care      150\n",
       "Computers                     150\n",
       "Name: level_0, dtype: int64"
      ]
     },
     "metadata": {},
     "output_type": "display_data"
    }
   ],
   "source": [
    "from flipkart_utils import get_product_category_branches\n",
    "cats = get_product_category_branches()\n",
    "display(cats[\"level_0\"].value_counts())"
   ]
  },
  {
   "attachments": {},
   "cell_type": "markdown",
   "metadata": {},
   "source": [
    "### Construction des étiquettes de classes réelles\n",
    "\n",
    "Comme indiqué en introduction, les catégories constituent les étiquettes des *classes réelles* qu'il s'agira de comparer aux prédictions du modèle de classification automatique.\n",
    "\n",
    "Nous créons donc une fonction `get_class_labels(depth=1)` qui retourne une série de labels de classes, par défaut les catégories de niveau 0, et éventuellement davantage (sous forme de tuples de catégories)."
   ]
  },
  {
   "cell_type": "code",
   "execution_count": 50,
   "metadata": {},
   "outputs": [
    {
     "data": {
      "text/plain": [
       "Flipkart\n",
       "55b85ea15a1536d46b7190ad6fff8ce7    4\n",
       "7b72c92c2f6c40268628ec5f14c6d590    0\n",
       "64d5d4a258243731dc7bbb1eef49ad74    0\n",
       "d4684dcdc759dd9cdf41504698d737d8    4\n",
       "6325b6870c54cd47be6ebfbffa620ec7    4\n",
       "                                   ..\n",
       "958f54f4c46b53c8a0a9b8167d9140bc    0\n",
       "fd6cbcc22efb6b761bd564c28928483c    0\n",
       "5912e037d12774bb73a2048f35a00009    0\n",
       "c3edc504d1b4f0ba6224fa53a43a7ad6    0\n",
       "f2f027ad6a6df617c9f125173da71e44    0\n",
       "Length: 1050, dtype: int8"
      ]
     },
     "metadata": {},
     "output_type": "display_data"
    }
   ],
   "source": [
    "cats_cats = cats.astype(\"category\")\n",
    "display(cats_cats[\"level_0\"].cat.codes)"
   ]
  },
  {
   "cell_type": "code",
   "execution_count": 56,
   "metadata": {},
   "outputs": [
    {
     "data": {
      "text/html": [
       "<div>\n",
       "<style scoped>\n",
       "    .dataframe tbody tr th:only-of-type {\n",
       "        vertical-align: middle;\n",
       "    }\n",
       "\n",
       "    .dataframe tbody tr th {\n",
       "        vertical-align: top;\n",
       "    }\n",
       "\n",
       "    .dataframe thead th {\n",
       "        text-align: right;\n",
       "    }\n",
       "</style>\n",
       "<table border=\"1\" class=\"dataframe\">\n",
       "  <thead>\n",
       "    <tr style=\"text-align: right;\">\n",
       "      <th></th>\n",
       "      <th>level_0</th>\n",
       "      <th>level_1</th>\n",
       "      <th>level_2</th>\n",
       "    </tr>\n",
       "    <tr>\n",
       "      <th>Flipkart</th>\n",
       "      <th></th>\n",
       "      <th></th>\n",
       "      <th></th>\n",
       "    </tr>\n",
       "  </thead>\n",
       "  <tbody>\n",
       "    <tr>\n",
       "      <th>55b85ea15a1536d46b7190ad6fff8ce7</th>\n",
       "      <td>4</td>\n",
       "      <td>19</td>\n",
       "      <td>60</td>\n",
       "    </tr>\n",
       "    <tr>\n",
       "      <th>7b72c92c2f6c40268628ec5f14c6d590</th>\n",
       "      <td>0</td>\n",
       "      <td>1</td>\n",
       "      <td>9</td>\n",
       "    </tr>\n",
       "    <tr>\n",
       "      <th>64d5d4a258243731dc7bbb1eef49ad74</th>\n",
       "      <td>0</td>\n",
       "      <td>1</td>\n",
       "      <td>9</td>\n",
       "    </tr>\n",
       "    <tr>\n",
       "      <th>d4684dcdc759dd9cdf41504698d737d8</th>\n",
       "      <td>4</td>\n",
       "      <td>8</td>\n",
       "      <td>27</td>\n",
       "    </tr>\n",
       "    <tr>\n",
       "      <th>6325b6870c54cd47be6ebfbffa620ec7</th>\n",
       "      <td>4</td>\n",
       "      <td>8</td>\n",
       "      <td>27</td>\n",
       "    </tr>\n",
       "    <tr>\n",
       "      <th>...</th>\n",
       "      <td>...</td>\n",
       "      <td>...</td>\n",
       "      <td>...</td>\n",
       "    </tr>\n",
       "    <tr>\n",
       "      <th>958f54f4c46b53c8a0a9b8167d9140bc</th>\n",
       "      <td>0</td>\n",
       "      <td>0</td>\n",
       "      <td>201</td>\n",
       "    </tr>\n",
       "    <tr>\n",
       "      <th>fd6cbcc22efb6b761bd564c28928483c</th>\n",
       "      <td>0</td>\n",
       "      <td>0</td>\n",
       "      <td>201</td>\n",
       "    </tr>\n",
       "    <tr>\n",
       "      <th>5912e037d12774bb73a2048f35a00009</th>\n",
       "      <td>0</td>\n",
       "      <td>0</td>\n",
       "      <td>201</td>\n",
       "    </tr>\n",
       "    <tr>\n",
       "      <th>c3edc504d1b4f0ba6224fa53a43a7ad6</th>\n",
       "      <td>0</td>\n",
       "      <td>0</td>\n",
       "      <td>201</td>\n",
       "    </tr>\n",
       "    <tr>\n",
       "      <th>f2f027ad6a6df617c9f125173da71e44</th>\n",
       "      <td>0</td>\n",
       "      <td>0</td>\n",
       "      <td>201</td>\n",
       "    </tr>\n",
       "  </tbody>\n",
       "</table>\n",
       "<p>1050 rows × 3 columns</p>\n",
       "</div>"
      ],
      "text/plain": [
       "                                  level_0  level_1  level_2\n",
       "Flipkart                                                   \n",
       "55b85ea15a1536d46b7190ad6fff8ce7        4       19       60\n",
       "7b72c92c2f6c40268628ec5f14c6d590        0        1        9\n",
       "64d5d4a258243731dc7bbb1eef49ad74        0        1        9\n",
       "d4684dcdc759dd9cdf41504698d737d8        4        8       27\n",
       "6325b6870c54cd47be6ebfbffa620ec7        4        8       27\n",
       "...                                   ...      ...      ...\n",
       "958f54f4c46b53c8a0a9b8167d9140bc        0        0      201\n",
       "fd6cbcc22efb6b761bd564c28928483c        0        0      201\n",
       "5912e037d12774bb73a2048f35a00009        0        0      201\n",
       "c3edc504d1b4f0ba6224fa53a43a7ad6        0        0      201\n",
       "f2f027ad6a6df617c9f125173da71e44        0        0      201\n",
       "\n",
       "[1050 rows x 3 columns]"
      ]
     },
     "metadata": {},
     "output_type": "display_data"
    }
   ],
   "source": [
    "from flipkart_utils import get_class_labels\n",
    "display(get_class_labels(depth=3))"
   ]
  },
  {
   "cell_type": "code",
   "execution_count": 45,
   "metadata": {},
   "outputs": [
    {
     "data": {
      "text/plain": [
       "1050"
      ]
     },
     "metadata": {},
     "output_type": "display_data"
    }
   ],
   "source": [
    "from sklearn.preprocessing import LabelEncoder\n",
    "label_encoder = LabelEncoder()\n",
    "labels = label_encoder.fit_transform(cats[\"level_0\"])\n",
    "display(labels)"
   ]
  },
  {
   "cell_type": "code",
   "execution_count": 47,
   "metadata": {},
   "outputs": [
    {
     "name": "stdout",
     "output_type": "stream",
     "text": [
      "[0 1 2 0 1 2]\n",
      "['A']\n",
      "[[1 0 0]\n",
      " [0 1 0]\n",
      " [0 0 1]\n",
      " [1 0 0]\n",
      " [0 1 0]\n",
      " [0 0 1]]\n"
     ]
    }
   ],
   "source": [
    "import pandas as pd\n",
    "from sklearn.preprocessing import LabelEncoder, MultiLabelBinarizer\n",
    "\n",
    "# Exemple de données avec une colonne \"Catégorie\"\n",
    "df = pd.DataFrame({'Catégorie': ['A', 'B', 'C', 'A', 'B', 'C']})\n",
    "\n",
    "# Transformation en labels de classes réelles avec LabelEncoder\n",
    "label_encoder = LabelEncoder()\n",
    "labels = label_encoder.fit_transform(df['Catégorie'])\n",
    "\n",
    "# Affichage des labels\n",
    "print(labels)\n",
    "\n",
    "print(label_encoder.inverse_transform([0]))\n",
    "\n",
    "# Regroupement en tuples avec MultiLabelBinarizer\n",
    "multi_label_binarizer = MultiLabelBinarizer()\n",
    "tuples = multi_label_binarizer.fit_transform([list(label_encoder.inverse_transform([label])) for label in labels])\n",
    "\n",
    "# Affichage des tuples\n",
    "print(tuples)"
   ]
  }
 ],
 "metadata": {
  "kernelspec": {
   "display_name": "Python 3",
   "language": "python",
   "name": "python3"
  },
  "language_info": {
   "codemirror_mode": {
    "name": "ipython",
    "version": 3
   },
   "file_extension": ".py",
   "mimetype": "text/x-python",
   "name": "python",
   "nbconvert_exporter": "python",
   "pygments_lexer": "ipython3",
   "version": "3.10.10"
  },
  "orig_nbformat": 4
 },
 "nbformat": 4,
 "nbformat_minor": 2
}
